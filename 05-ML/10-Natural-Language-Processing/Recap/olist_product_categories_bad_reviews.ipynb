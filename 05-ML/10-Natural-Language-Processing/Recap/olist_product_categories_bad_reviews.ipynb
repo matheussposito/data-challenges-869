{
 "cells": [
  {
   "cell_type": "markdown",
   "metadata": {},
   "source": [
    "# Olist product categories bad reviews analysis"
   ]
  },
  {
   "cell_type": "markdown",
   "metadata": {},
   "source": [
    "## The dataset\n",
    "\n",
    "Welcome back to the [Olist dataset](https://kitt.lewagon.com/karr/data-lectures.kitt/04-Decision-Science_01-Project-Setup.slides.html?title=Project+Setup&program_id=10#/2/6) from the Decision Science module!"
   ]
  },
  {
   "cell_type": "markdown",
   "metadata": {},
   "source": [
    "## The task\n",
    "\n",
    "We would like to study some particular categories of product which have more bad reviews than other and understand why?"
   ]
  },
  {
   "cell_type": "markdown",
   "metadata": {},
   "source": [
    "## Setup\n",
    "\n",
    "If you followed the Decision Science module, you already have the `olist` package installed and importable. YOU CAN SKIP THIS SECTION and move to the **Data collection** section."
   ]
  },
  {
   "cell_type": "markdown",
   "metadata": {},
   "source": [
    "### 1. Import `olist` package\n",
    "\n",
    "Download a fresh version of the `olist` package:\n",
    "\n",
    "```bash\n",
    "mkdir ~/code/lewagon\n",
    "cd ~/code/lewagon\n",
    "git clone git@github.com:lewagon/olist.git\n",
    "cd olist\n",
    "git fetch\n",
    "git checkout full-package\n",
    "```"
   ]
  },
  {
   "cell_type": "markdown",
   "metadata": {},
   "source": [
    "### 2.  Download the datasets\n",
    "\n",
    "- Download the datasets from Kaggle https://www.kaggle.com/olistbr/brazilian-ecommerce\n",
    "- Unzip them into the `/data/csv` directory of the `olist` package:\n",
    "\n",
    "```bash\n",
    ".\n",
    "├── README.md\n",
    "├── data\n",
    "│   └── csv\n",
    "│       ├── olist_customers_dataset.csv\n",
    "│       ├── olist_geolocation_dataset.csv\n",
    "│       ├── olist_order_items_dataset.csv\n",
    "│       ├── olist_order_payments_dataset.csv\n",
    "│       ├── olist_order_reviews_dataset.csv\n",
    "│       ├── olist_orders_dataset.csv\n",
    "│       ├── olist_products_dataset.csv\n",
    "│       ├── olist_sellers_dataset.csv\n",
    "│       └── product_category_name_translation.csv\n",
    "├── notebooks\n",
    "├── olist\n",
    "│   ├── README.md\n",
    "│   ├── __init__.py\n",
    "│   ├── data.py\n",
    "│   ├── order.py\n",
    "│   ├── product.py\n",
    "│   ├── product_updated.py\n",
    "│   ├── review.py\n",
    "│   ├── seller.py\n",
    "│   ├── seller_updated.py\n",
    "│   └── utils.py\n",
    "├── requirements.txt\n",
    "└── setup.p\n",
    "```"
   ]
  },
  {
   "cell_type": "markdown",
   "metadata": {},
   "source": [
    "### Install the `olist` package\n",
    "\n",
    "```bash\n",
    "pip install -e .\n",
    "```\n",
    "\n",
    "⚠️ Restart the kernel."
   ]
  },
  {
   "cell_type": "markdown",
   "metadata": {},
   "source": [
    "## Data collection"
   ]
  },
  {
   "cell_type": "code",
   "execution_count": null,
   "metadata": {},
   "outputs": [],
   "source": [
    "from olist.review import Review\n",
    "from olist.data import Olist\n",
    "\n",
    "# Get dataset with product category name\n"
   ]
  },
  {
   "cell_type": "code",
   "execution_count": null,
   "metadata": {},
   "outputs": [],
   "source": [
    "# Get dataset with reviews\n"
   ]
  },
  {
   "cell_type": "code",
   "execution_count": null,
   "metadata": {},
   "outputs": [],
   "source": [
    "# Get dataset with estimated delivery date\n"
   ]
  },
  {
   "cell_type": "code",
   "execution_count": null,
   "metadata": {},
   "outputs": [],
   "source": [
    "# Build a dataset merging the 3 datasets\n"
   ]
  },
  {
   "cell_type": "markdown",
   "metadata": {},
   "source": [
    "## Data cleaning"
   ]
  },
  {
   "cell_type": "code",
   "execution_count": null,
   "metadata": {},
   "outputs": [],
   "source": [
    "# Remove reviews for orders delivered before expected\n",
    "\n",
    "\n",
    "# Remove undelivered reviews\n"
   ]
  },
  {
   "cell_type": "code",
   "execution_count": null,
   "metadata": {},
   "outputs": [],
   "source": [
    "# Keep only text columns and review score\n"
   ]
  },
  {
   "cell_type": "code",
   "execution_count": null,
   "metadata": {},
   "outputs": [],
   "source": [
    "# combine review title and review message\n"
   ]
  },
  {
   "cell_type": "code",
   "execution_count": null,
   "metadata": {},
   "outputs": [],
   "source": [
    "# Clean reviews text\n"
   ]
  },
  {
   "cell_type": "markdown",
   "metadata": {},
   "source": [
    "## Bad reviews analysis per category"
   ]
  },
  {
   "cell_type": "code",
   "execution_count": null,
   "metadata": {},
   "outputs": [],
   "source": [
    "# Groupby product category and aggregate mean, min, max review scores\n"
   ]
  },
  {
   "cell_type": "code",
   "execution_count": null,
   "metadata": {},
   "outputs": [],
   "source": [
    "# Keep categories that have more than 100 reviews\n"
   ]
  },
  {
   "cell_type": "code",
   "execution_count": null,
   "metadata": {},
   "outputs": [],
   "source": [
    "# Filter the relogios_presentes category\n"
   ]
  },
  {
   "cell_type": "code",
   "execution_count": null,
   "metadata": {},
   "outputs": [],
   "source": [
    "# Filter the bad reviews\n"
   ]
  },
  {
   "cell_type": "code",
   "execution_count": null,
   "metadata": {},
   "outputs": [],
   "source": [
    "from sklearn.feature_extraction.text import TfidfVectorizer\n",
    "\n",
    "# Encode bad reviews text\n",
    "\n",
    "# Tuned TFidfvectorizer\n",
    "\n",
    "\n",
    "# Transform text to vectors\n",
    "\n",
    "\n",
    "# Sum of tfidf weighting by word\n",
    "\n",
    "\n",
    "# Get the word and associated weight\n",
    "\n",
    "\n",
    "# Sort\n",
    "\n",
    "\n",
    "# Display the sorted list\n"
   ]
  },
  {
   "cell_type": "markdown",
   "metadata": {},
   "source": [
    "## Tracking sellers of counterfeit products"
   ]
  },
  {
   "cell_type": "code",
   "execution_count": null,
   "metadata": {},
   "outputs": [],
   "source": [
    "# Get seller ID\n"
   ]
  },
  {
   "cell_type": "code",
   "execution_count": null,
   "metadata": {},
   "outputs": [],
   "source": [
    "# Filter the reviews with words associated with conterfeit watches\n"
   ]
  },
  {
   "cell_type": "code",
   "execution_count": null,
   "metadata": {},
   "outputs": [],
   "source": [
    "# Groupby seller id \n"
   ]
  },
  {
   "cell_type": "code",
   "execution_count": null,
   "metadata": {},
   "outputs": [],
   "source": [
    "# Filter the one seller with 11 counterfeit related reviews\n"
   ]
  },
  {
   "cell_type": "code",
   "execution_count": null,
   "metadata": {},
   "outputs": [],
   "source": []
  }
 ],
 "metadata": {
  "kernelspec": {
   "display_name": "Python 3",
   "language": "python",
   "name": "python3"
  }
 },
 "nbformat": 4,
 "nbformat_minor": 2
}
