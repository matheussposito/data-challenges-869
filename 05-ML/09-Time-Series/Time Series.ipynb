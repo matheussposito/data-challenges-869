{
 "cells": [
  {
   "cell_type": "markdown",
   "id": "integral-potato",
   "metadata": {},
   "source": [
    "# Introduction to the problem and basic approach"
   ]
  },
  {
   "cell_type": "markdown",
   "id": "basic-fleece",
   "metadata": {},
   "source": [
    "## Introduction (Data + Basic Imports)"
   ]
  },
  {
   "cell_type": "code",
   "execution_count": null,
   "id": "brief-hurricane",
   "metadata": {},
   "outputs": [],
   "source": [
    "from dateutil.parser import parse \n",
    "import matplotlib as mpl\n",
    "import matplotlib.pyplot as plt\n",
    "import seaborn as sns\n",
    "import numpy as np\n",
    "import pandas as pd\n",
    "\n",
    "# Import as Dataframe\n",
    "df = pd.read_csv('https://raw.githubusercontent.com/selva86/datasets/master/a10.csv', parse_dates=['date'], index_col='date')\n",
    "df.head()"
   ]
  },
  {
   "cell_type": "code",
   "execution_count": null,
   "id": "broken-termination",
   "metadata": {},
   "outputs": [],
   "source": [
    "len(df)"
   ]
  },
  {
   "cell_type": "code",
   "execution_count": null,
   "id": "unusual-joint",
   "metadata": {},
   "outputs": [],
   "source": [
    "df.plot()"
   ]
  },
  {
   "cell_type": "markdown",
   "id": "ac965ebd",
   "metadata": {},
   "source": [
    "# Classical ML Approach"
   ]
  },
  {
   "cell_type": "markdown",
   "id": "f9fe205c",
   "metadata": {},
   "source": [
    "## Train / Test split"
   ]
  },
  {
   "cell_type": "code",
   "execution_count": null,
   "id": "f8b5bd12",
   "metadata": {},
   "outputs": [],
   "source": [
    "# let's keep the last 40% values out for test purposes\n",
    "train_size = 0.6\n",
    "index = round(train_size*df.shape[0])\n",
    "df_train = df.iloc[:index]\n",
    "df_test = df.iloc[index:]"
   ]
  },
  {
   "cell_type": "markdown",
   "id": "ed184d3d",
   "metadata": {},
   "source": [
    "## Baseline model"
   ]
  },
  {
   "cell_type": "markdown",
   "id": "f0972c91",
   "metadata": {},
   "source": [
    "- 1 feature only: X[t] = y[t-1]\n",
    "- Predict the previous value!"
   ]
  },
  {
   "cell_type": "code",
   "execution_count": null,
   "id": "27e34d7f",
   "metadata": {},
   "outputs": [],
   "source": [
    "y_pred = df_test.shift(1)\n",
    "y_pred"
   ]
  },
  {
   "cell_type": "code",
   "execution_count": null,
   "id": "8520716d",
   "metadata": {
    "scrolled": true
   },
   "outputs": [],
   "source": [
    "from sklearn.metrics import r2_score\n",
    "\n",
    "y_pred = df_test.shift(1).dropna()\n",
    "y_true = df_test[1:]\n",
    "print(f\"R2:{r2_score(y_true, y_pred)}\")"
   ]
  },
  {
   "cell_type": "markdown",
   "id": "53bcc8c6",
   "metadata": {},
   "source": [
    "## Linear Model"
   ]
  },
  {
   "cell_type": "markdown",
   "id": "ecf2274d",
   "metadata": {},
   "source": [
    "Let's build our dataset X with 12 auto-regressive features"
   ]
  },
  {
   "cell_type": "code",
   "execution_count": null,
   "id": "71e2bc50",
   "metadata": {},
   "outputs": [],
   "source": [
    "df2 = df.copy(); df2_train = df_train.copy(); df2_test = df_test.copy()\n",
    "\n",
    "for i in range(1, 13):\n",
    "    df2_train[f't - {i}'] = df_train['value'].shift(i)\n",
    "    df2_test[f't - {i}'] = df_test['value'].shift(i)\n",
    "\n",
    "df2_train.dropna(inplace=True)    \n",
    "df2_test.dropna(inplace=True)    \n",
    "df2_train.head()"
   ]
  },
  {
   "cell_type": "code",
   "execution_count": null,
   "id": "446bbebe",
   "metadata": {},
   "outputs": [],
   "source": [
    "# Feature and target definition\n",
    "X2_train = df2_train.drop(columns = ['value'])\n",
    "y2_train = df2_train['value']\n",
    "\n",
    "X2_test = df2_test.drop(columns = ['value'])\n",
    "y2_test = df2_test['value']"
   ]
  },
  {
   "cell_type": "code",
   "execution_count": null,
   "id": "49e91b84",
   "metadata": {},
   "outputs": [],
   "source": [
    "# Predict and measure R2\n",
    "from sklearn.linear_model import LinearRegression\n",
    "model = LinearRegression()\n",
    "model = model.fit(X2_train, y2_train)\n",
    "\n",
    "print('R2: ', r2_score(y2_test, model.predict(X2_test)))"
   ]
  },
  {
   "cell_type": "code",
   "execution_count": null,
   "id": "37e06660",
   "metadata": {},
   "outputs": [],
   "source": [
    "model.coef_"
   ]
  },
  {
   "cell_type": "code",
   "execution_count": null,
   "id": "a9dc1e9d",
   "metadata": {},
   "outputs": [],
   "source": [
    "pd.Series(model.coef_).plot(kind='bar')\n",
    "plt.title('partial regression coefficients');"
   ]
  },
  {
   "cell_type": "markdown",
   "id": "altered-flower",
   "metadata": {},
   "source": [
    "# Exploratory visualization of a Time Series"
   ]
  },
  {
   "cell_type": "markdown",
   "id": "prepared-satellite",
   "metadata": {},
   "source": [
    "## Decomposing"
   ]
  },
  {
   "cell_type": "markdown",
   "id": "novel-washington",
   "metadata": {},
   "source": [
    "When thinking about time series, there are 3 things we can look out for:\n",
    "- **trend** (is the value increasing/decreasing over time?)\n",
    "- **seasonality** (is the value repeating a pattern over time?)\n",
    "- **residuals** (what is the thing that time cannot explain in our data?)\n",
    "\n",
    "With the right combination of those 3, we can get our real value by either adding them up (additive approach) or by multiplying them (multiplicative approach)"
   ]
  },
  {
   "cell_type": "code",
   "execution_count": null,
   "id": "a1d6f94b",
   "metadata": {},
   "outputs": [],
   "source": [
    "df.plot();"
   ]
  },
  {
   "cell_type": "markdown",
   "id": "instructional-myanmar",
   "metadata": {},
   "source": [
    "### Additive Approach"
   ]
  },
  {
   "cell_type": "code",
   "execution_count": null,
   "id": "coordinated-tragedy",
   "metadata": {
    "scrolled": true
   },
   "outputs": [],
   "source": [
    "from statsmodels.tsa.seasonal import seasonal_decompose\n",
    "\n",
    "# Let's get our values by finding a trend, season and residual that and suming them (value = trend + season + residual)\n",
    "results_add = seasonal_decompose(df.value, model='aditive', extrapolate_trend='freq')\n",
    "results_add.plot();"
   ]
  },
  {
   "cell_type": "markdown",
   "id": "charming-poultry",
   "metadata": {},
   "source": [
    "### Multiplicative Approach"
   ]
  },
  {
   "cell_type": "code",
   "execution_count": null,
   "id": "typical-matrix",
   "metadata": {},
   "outputs": [],
   "source": [
    "# Let's get our values by finding a trend, season and residual that and multiplying them (value = trend * season * residual)\n",
    "results_mul = seasonal_decompose(df.value, model='multiplicative', extrapolate_trend='freq')\n",
    "results_mul.plot();"
   ]
  },
  {
   "cell_type": "code",
   "execution_count": null,
   "id": "surprised-threshold",
   "metadata": {},
   "outputs": [],
   "source": [
    "print(df.head(1).value)\n",
    "print(results_add.trend[0] + results_add.seasonal[0] + results_add.resid[0])\n",
    "print(results_mul.trend[0] * results_mul.seasonal[0] * results_mul.resid[0])"
   ]
  },
  {
   "cell_type": "markdown",
   "id": "driven-month",
   "metadata": {},
   "source": [
    "Besides the scale, there doesn't seem to be much of a difference between each strategy...\n",
    "\n",
    "... but there is. Let's take a closer look at the residuals computed for each approach"
   ]
  },
  {
   "cell_type": "markdown",
   "id": "historic-pontiac",
   "metadata": {},
   "source": [
    "### Stationarity"
   ]
  },
  {
   "cell_type": "code",
   "execution_count": null,
   "id": "hungarian-surveillance",
   "metadata": {},
   "outputs": [],
   "source": [
    "f, (ax1, ax2) = plt.subplots(1,2, figsize=(16,4))\n",
    "ax1.plot(results_add.resid); ax1.set_title(\"Additive model residuals\")\n",
    "ax2.plot(results_mul.resid); ax2.set_title(\"Multiplicative model residuals\");"
   ]
  },
  {
   "cell_type": "markdown",
   "id": "nutritional-contrary",
   "metadata": {},
   "source": [
    "<details>\n",
    "    <summary>Which residual is better? (click here to find the answer)</summary>\n",
    "\n",
    "When looking through both graphs, we can observe that the Additive approach has some pattern in its residuals. Whenever we see a pattern (could be a trend, a seasonality or both), we say that the data is **non-stationary**, meaning it depends on time to get its values.\n",
    "\n",
    "Counter intuitively, however, when working with Time Series **we want to get rid of the time factor**! That's because time itself cannot be used as a feature, and therefore will just make our lives harder when trying to predict new values.\n",
    "\n",
    "In other words, we'll try to find the patterns in our data without taking into consideration time itself. Pretty crazy huh?\n",
    "\n",
    "In conclusion, the multiplicative approach is actually better, since it doesn't show a pattern over time (aka it's **stationary**)\n",
    "</details>"
   ]
  },
  {
   "cell_type": "markdown",
   "id": "9a6df1ca",
   "metadata": {},
   "source": [
    "### ADF Test"
   ]
  },
  {
   "cell_type": "markdown",
   "id": "expected-three",
   "metadata": {},
   "source": [
    "Another way to check for stationarity (instead of just looking at the data) is through a method called **Augmented Dickey Fuller - ADF Tests**.\n",
    "\n",
    "It makes an hypothesis testing on the data, where \\$h_0$ is the hypothesis of it being, in fact, non-stationary. If the result is below 0.05 (our p-value), it means that the probability of the hypothesis being true is very low, and therefore we can assume the opposite (the data is stationary)."
   ]
  },
  {
   "cell_type": "code",
   "execution_count": null,
   "id": "double-commerce",
   "metadata": {},
   "outputs": [],
   "source": [
    "from statsmodels.tsa.stattools import adfuller\n",
    "\n",
    "# calculate the adf for the original values. the p-value should be high!\n",
    "adfuller(df.value)[1]"
   ]
  },
  {
   "cell_type": "code",
   "execution_count": null,
   "id": "asian-monitor",
   "metadata": {},
   "outputs": [],
   "source": [
    "# now calculate the adf for both the additive and multiplicative residuals. The lowest p-value will be the best one to use later\n",
    "print('Additive approach: ', adfuller(results_add.resid)[1])\n",
    "print('Multiplicative approach: ', adfuller(results_mul.resid)[1])"
   ]
  },
  {
   "cell_type": "markdown",
   "id": "regulated-butterfly",
   "metadata": {},
   "source": [
    "Just to keep track of things, after choosing one of the approaches, we might store the given values into the DataFrame for later use"
   ]
  },
  {
   "cell_type": "code",
   "execution_count": null,
   "id": "insured-breath",
   "metadata": {},
   "outputs": [],
   "source": [
    "df['trend'] = results_mul.trend\n",
    "df['season'] = results_mul.seasonal\n",
    "df['resid'] = results_mul.resid\n",
    "df.head()"
   ]
  },
  {
   "cell_type": "markdown",
   "id": "pleased-emerald",
   "metadata": {},
   "source": [
    "### Differencing"
   ]
  },
  {
   "cell_type": "markdown",
   "id": "persistent-vatican",
   "metadata": {},
   "source": [
    "One problem that we still have is that our original value (which is the one we'll try to predict) is non-stationary. We need to make it stationary (to train a model), but in a way that we'll be able to revert later (as to get the real values after we make our predictions). This is what differencing does by simply subtracting the previous value from the actual one. Here's a quick example:"
   ]
  },
  {
   "cell_type": "code",
   "execution_count": null,
   "id": "steady-manner",
   "metadata": {},
   "outputs": [],
   "source": [
    "df.value.plot()"
   ]
  },
  {
   "cell_type": "code",
   "execution_count": null,
   "id": "chemical-raleigh",
   "metadata": {},
   "outputs": [],
   "source": [
    "non_differenced_data = pd.Series([7, 4, 4, 6, 8, 6])\n",
    "differenced_1 = non_differenced_data.diff()\n",
    "differenced_1.dropna(inplace=True)\n",
    "print(differenced_1)"
   ]
  },
  {
   "cell_type": "markdown",
   "id": "tested-meter",
   "metadata": {},
   "source": [
    "In our case, all we need to do is to `diff` our values until they are stationary"
   ]
  },
  {
   "cell_type": "code",
   "execution_count": null,
   "id": "hidden-theory",
   "metadata": {},
   "outputs": [],
   "source": [
    "diffed_values = df.value.diff()\n",
    "diffed_values.plot()"
   ]
  },
  {
   "cell_type": "markdown",
   "id": "little-hampshire",
   "metadata": {},
   "source": [
    "It does look like we still have the seasonality in the data, though...\n",
    "\n",
    "Oh well, might as well diff it again!"
   ]
  },
  {
   "cell_type": "code",
   "execution_count": null,
   "id": "parallel-avatar",
   "metadata": {},
   "outputs": [],
   "source": [
    "diffed_values2 = diffed_values.diff()\n",
    "diffed_values2.plot()"
   ]
  },
  {
   "cell_type": "markdown",
   "id": "intellectual-screw",
   "metadata": {},
   "source": [
    "We could try as many times as we'd like, but in this case, the seasonality won't vanish. The trick here will be to first get the seasonality out of our values and only them \"diffing\" them."
   ]
  },
  {
   "cell_type": "code",
   "execution_count": null,
   "id": "every-cleaner",
   "metadata": {},
   "outputs": [],
   "source": [
    "# desason the values\n",
    "df['deseasonalized'] = df.value.values/df.season\n",
    "df['deseasonalized'].plot()"
   ]
  },
  {
   "cell_type": "markdown",
   "id": "heavy-horror",
   "metadata": {},
   "source": [
    "Here we see another problem: the values are growing exponentially. We need to convert that into a linear growth."
   ]
  },
  {
   "cell_type": "code",
   "execution_count": null,
   "id": "better-publicity",
   "metadata": {},
   "outputs": [],
   "source": [
    "# convert the desasonalized values (how to convert an exponential curve into a linear one?)\n",
    "df['linearized'] = np.log(df.deseasonalized)\n",
    "df['linearized'].plot()"
   ]
  },
  {
   "cell_type": "code",
   "execution_count": null,
   "id": "orange-insight",
   "metadata": {},
   "outputs": [],
   "source": [
    "df['diffed_one'] = df.linearized.diff()\n",
    "df['diffed_one'].plot()"
   ]
  },
  {
   "cell_type": "code",
   "execution_count": null,
   "id": "cordless-grocery",
   "metadata": {},
   "outputs": [],
   "source": [
    "adfuller(df.diffed_one.dropna())[1]"
   ]
  },
  {
   "cell_type": "code",
   "execution_count": null,
   "id": "9f847ded",
   "metadata": {},
   "outputs": [],
   "source": [
    "df['diffed_two'] = df.diffed_one.diff()\n",
    "df['diffed_two'].plot()"
   ]
  },
  {
   "cell_type": "code",
   "execution_count": null,
   "id": "54ee12dc",
   "metadata": {},
   "outputs": [],
   "source": [
    "adfuller(df.diffed_two.dropna())[1]"
   ]
  },
  {
   "cell_type": "markdown",
   "id": "3b57e5a5",
   "metadata": {},
   "source": [
    "No need to over-differenciate\n",
    "\n",
    "Usually, 1-diff is enough! If not, you might have exponential behavior and might want to use a log transformation instead! Alternatively, we can de-trend and work with the detrended series without differencing."
   ]
  },
  {
   "cell_type": "markdown",
   "id": "valued-knock",
   "metadata": {},
   "source": [
    "Finally, we have a stationary version of our values and we can move on."
   ]
  },
  {
   "cell_type": "code",
   "execution_count": null,
   "id": "boring-shame",
   "metadata": {},
   "outputs": [],
   "source": [
    "df"
   ]
  },
  {
   "cell_type": "markdown",
   "id": "monetary-single",
   "metadata": {},
   "source": [
    "## Autocorrelation (ACF) and Partial Autocorrelation (AR / PACF)"
   ]
  },
  {
   "cell_type": "markdown",
   "id": "extensive-presentation",
   "metadata": {},
   "source": [
    "### Autocorrelation - Direct and Indirect impact of previous values against the present one"
   ]
  },
  {
   "attachments": {
    "image.png": {
     "image/png": "[encoded data removed]"
    }
   },
   "cell_type": "markdown",
   "id": "innovative-australian",
   "metadata": {},
   "source": [
    "The autocorrelation statistic measures how much does a value that is $n$ moments (hours, days, months, years, etc.) impacts the present value, both directly and indirectly.\n",
    "<img width=\"700\" src='attachment:image.png'>"
   ]
  },
  {
   "cell_type": "code",
   "execution_count": null,
   "id": "optical-remains",
   "metadata": {},
   "outputs": [],
   "source": [
    "df.head(10)[['value']]"
   ]
  },
  {
   "cell_type": "code",
   "execution_count": null,
   "id": "requested-ecology",
   "metadata": {
    "scrolled": true
   },
   "outputs": [],
   "source": [
    "from statsmodels.graphics.tsaplots import plot_acf\n",
    "\n",
    "# let's see the acf for every value from 1 up to 50 \"lags\" before the actual one\n",
    "plot_acf(df.value, lags=50)\n",
    "plt.show()"
   ]
  },
  {
   "cell_type": "markdown",
   "id": "chinese-coverage",
   "metadata": {},
   "source": [
    "The graph shows that the actual value (lag=0) has 100% correlation with... the actual value (obviously!)\n",
    "\n",
    "But it also shows that the value immediately before the actual one also has a high correlation with the actual value. And as we look further and further away, each correlation gets weaker and weaker, with some peaks every 12 values."
   ]
  },
  {
   "cell_type": "markdown",
   "id": "every-classroom",
   "metadata": {},
   "source": [
    "<details>\n",
    "    <summary>Wait a minute, why the peaks? 🤔 (click here after taking a guess)</summary>\n",
    "    \n",
    "Seasonality. The pattern repeats itself every 12 months, aka yearly. So the correlation between this year's January will be stronger with last year's January as well (not as much as last December, though) 😉\n",
    "</details>"
   ]
  },
  {
   "cell_type": "markdown",
   "id": "junior-retail",
   "metadata": {},
   "source": [
    "### Partial Autocorrelation - Direct impact only"
   ]
  },
  {
   "cell_type": "markdown",
   "id": "british-baking",
   "metadata": {},
   "source": [
    "It might get hard for us to actually get a sense on how much does a past value actually impacts the present one, since we have the Domino effect which makes it also impacts indirectly. So, how can we actually know how important are past values to predict the right one?\n",
    "\n",
    "Answer: Partial Autocorrelation (ACF), also known as Auto Regression (AR). This strategy can be seen as a linear regression of previous months in order to get the actual one, where the coefficients are the direct correlations each previous month has to the actual.\n",
    "\n",
    "<center>\n",
    "$\n",
    "\\large Y_t = \\alpha + \\color{red}{\\beta_1} Y_{t-1} + \\color{red}{\\beta_2} Y_{t-2} + \\dots + \\color{red}{\\beta_p} Y_{t-p} + \\epsilon_t\n",
    "$\n",
    "</center>"
   ]
  },
  {
   "cell_type": "code",
   "execution_count": null,
   "id": "positive-reform",
   "metadata": {},
   "outputs": [],
   "source": [
    "from statsmodels.graphics.tsaplots import plot_pacf\n",
    "plot_pacf(df.value, lags=50, c='r')\n",
    "plt.show()"
   ]
  },
  {
   "cell_type": "markdown",
   "id": "steady-mexican",
   "metadata": {},
   "source": [
    "The values shown in the graph above are the same as the ACF ones: they are correlations. However, AR removes the indirect correlation that past values might have between each other. So now, we can see that the month before the actual has a great correlation, but looking at two months before won't give us as much information. Looking 12 months behind, as expected, will also give us a high correlation by itself because of the seasonality"
   ]
  },
  {
   "cell_type": "markdown",
   "id": "veterinary-senior",
   "metadata": {},
   "source": [
    "## Moving Average (MA)"
   ]
  },
  {
   "attachments": {
    "image.png": {
     "image/png": "[encoded data removed]"
    }
   },
   "cell_type": "markdown",
   "id": "sitting-platinum",
   "metadata": {},
   "source": [
    "One last info that we need to look at before running some Time Series models is the Moving Average. In this approach, we look at the average of a certain amount of values prior to the actual one and check the absolute difference between that average and the actual value, like illustrated below\n",
    "<img width=\"500\" src='attachment:image.png'>"
   ]
  },
  {
   "cell_type": "markdown",
   "id": "approved-pollution",
   "metadata": {},
   "source": [
    "Although we could try to make this computation by hand, we won't have to. So no code is needed here 😁"
   ]
  },
  {
   "cell_type": "markdown",
   "id": "disciplinary-neutral",
   "metadata": {},
   "source": [
    "# ARIMA - Auto Regressive Integrated Moving Average"
   ]
  },
  {
   "cell_type": "markdown",
   "id": "operational-intersection",
   "metadata": {},
   "source": [
    "To recap things, so far we've seen how:\n",
    "- a value in a Time Series can be caculated by a combination of trend, seasonality and residuals\n",
    "- we need to difference our data in order to make it stationary (and we can diff it as many times as needed)\n",
    "- Auto Regression (AR) shows how much does values prior to the actual one **directly** impact it\n",
    "- Moving Averages (MA) shows how far is the actual value to an average of some values prior to it"
   ]
  },
  {
   "cell_type": "markdown",
   "id": "maritime-triumph",
   "metadata": {},
   "source": [
    "<details>\n",
    "    <summary>Can you explain what we'd be trying to predict if we had a model with each approach? 🤔 (click here for an answer)</summary>\n",
    "\n",
    "- A Differencing model would try to predict the actual value based on a pattern in the residuals between the actual value and it's past value\n",
    "- An AR model would try to predict the actual value based on the direct impact (correlation) previous months have\n",
    "- A MA model would try to predict the actual value based on the average value of $n$ values before it\n",
    "</details>"
   ]
  },
  {
   "cell_type": "markdown",
   "id": "relevant-newspaper",
   "metadata": {},
   "source": [
    "## Model Parameters"
   ]
  },
  {
   "cell_type": "markdown",
   "id": "initial-supply",
   "metadata": {},
   "source": [
    "By combining these informations, clever people got to an interesting model called ARIMA. In it, we need to decide three parameters:\n",
    "- The amount of months prior the actual one to auto regress (which we'll call $p$)\n",
    "- The amount of times we'll diff our values to make them stationary (which we'll call $i$)\n",
    "- The amount of months to get the average and test against the actual one (which we'll call $q$)\n",
    "\n",
    "It's not hard to get a good guess! Here's an example:"
   ]
  },
  {
   "cell_type": "code",
   "execution_count": null,
   "id": "circular-transcript",
   "metadata": {},
   "outputs": [],
   "source": [
    "# ACF / PACF analysis of y_diff linearized\n",
    "fig, axes = plt.subplots(1,3, figsize=(16,2.5))\n",
    "plot_pacf(df['diffed_one'].dropna(), ax=axes[0], c='r');\n",
    "axes[1].plot(df['diffed_one']); axes[1].set_title('1st Order Differencing')\n",
    "plot_acf(df['diffed_one'].dropna(), ax=axes[2]);"
   ]
  },
  {
   "cell_type": "markdown",
   "id": "consolidated-verse",
   "metadata": {},
   "source": [
    "- With PACF, you'll be able to find $p$ by looking at how many dots you have **before the first one reaches the confidence area**\n",
    "- With 1st Order Differencing, you'll be able to check if your data is stationary. If not, diff it again (**but not too much**)\n",
    "- With ACF, you'll be able to find $q$ by looking at how many dots you have **before the first one reaches the confidence area**\n",
    "\n",
    "In our case, $p = 2, i = 1, q = 1$"
   ]
  },
  {
   "cell_type": "code",
   "execution_count": null,
   "id": "3e0b4a29",
   "metadata": {},
   "outputs": [],
   "source": [
    "df.head(3)"
   ]
  },
  {
   "cell_type": "code",
   "execution_count": null,
   "id": "variable-charity",
   "metadata": {},
   "outputs": [],
   "source": [
    "#from statsmodels.tsa.arima_model import ARIMA #statsmodels 0.11\n",
    "from statsmodels.tsa.arima.model import ARIMA #statsmodels 0.12\n",
    "\n",
    "arima = ARIMA(df['linearized'], order=(2,1,1))\n",
    "arima = arima.fit()\n",
    "arima.summary()"
   ]
  },
  {
   "cell_type": "markdown",
   "id": "secret-minneapolis",
   "metadata": {},
   "source": [
    "## Grid searching $p$, $i$ and $q$"
   ]
  },
  {
   "cell_type": "code",
   "execution_count": null,
   "id": "military-publication",
   "metadata": {},
   "outputs": [],
   "source": [
    "#!pip install --quiet pmdarima"
   ]
  },
  {
   "cell_type": "code",
   "execution_count": null,
   "id": "capable-welding",
   "metadata": {},
   "outputs": [],
   "source": [
    "import pmdarima as pm\n",
    "smodel = pm.auto_arima(df['linearized'],\n",
    "                       start_p=1, max_p=2,\n",
    "                       start_q=1, max_q=2,\n",
    "                       seasonal=False,\n",
    "                       trace=True)"
   ]
  },
  {
   "cell_type": "markdown",
   "id": "functional-criminal",
   "metadata": {},
   "source": [
    "Although (1,1,1) holds the best score, (0,1,1) gets pretty close and takes less time (trade-off)."
   ]
  },
  {
   "cell_type": "markdown",
   "id": "spectacular-fabric",
   "metadata": {},
   "source": [
    "## Predicting new values"
   ]
  },
  {
   "cell_type": "code",
   "execution_count": null,
   "id": "passive-hamburg",
   "metadata": {},
   "outputs": [],
   "source": [
    "from statsmodels.graphics.tsaplots import plot_predict\n",
    "\n",
    "fig, axs = plt.subplots(1, 1, figsize=(12, 5))\n",
    "axs.plot(df['linearized'], label='linearized')\n",
    "plot_predict(arima, start=1, end=250, ax=axs);"
   ]
  },
  {
   "cell_type": "code",
   "execution_count": null,
   "id": "robust-judges",
   "metadata": {},
   "outputs": [],
   "source": [
    "# Create a correct Training/Test split to predict the last 50 points\n",
    "train = df['linearized'][0:150]\n",
    "test = df['linearized'][150:]\n",
    "\n",
    "# Build Model\n",
    "arima = ARIMA(train, order=(2, 1, 0), trend='t')  \n",
    "arima = arima.fit()\n",
    "\n",
    "# Forecast\n",
    "# Forecast values\n",
    "forecast = arima.forecast(len(test), alpha=0.05)  # 95% confidence\n",
    "\n",
    "# Forecast values and confidence intervals\n",
    "forecast_results = arima.get_forecast(len(test), alpha=0.05)\n",
    "forecast = forecast_results.predicted_mean\n",
    "confidence_int = forecast_results.conf_int().values"
   ]
  },
  {
   "cell_type": "code",
   "execution_count": null,
   "id": "deluxe-humanitarian",
   "metadata": {},
   "outputs": [],
   "source": [
    "# We define here a \"Plot forecast vs. real\", which also shows historical train set\n",
    "\n",
    "def plot_forecast(fc, train, test, upper=None, lower=None):\n",
    "    is_confidence_int = isinstance(upper, np.ndarray) and isinstance(lower, np.ndarray)\n",
    "    # Prepare plot series\n",
    "    fc_series = pd.Series(fc, index=test.index)\n",
    "    lower_series = pd.Series(upper, index=test.index) if is_confidence_int else None\n",
    "    upper_series = pd.Series(lower, index=test.index) if is_confidence_int else None\n",
    "\n",
    "    # Plot\n",
    "    plt.figure(figsize=(10,4), dpi=100)\n",
    "    plt.plot(train, label='training', color='black')\n",
    "    plt.plot(test, label='actual', color='blue')\n",
    "    plt.plot(fc_series, label='forecast', color='orange')\n",
    "    if is_confidence_int:\n",
    "        plt.fill_between(lower_series.index, lower_series, upper_series, color='k', alpha=.15)\n",
    "    plt.title('Forecast vs Actuals')\n",
    "    plt.legend(loc='upper left', fontsize=8);"
   ]
  },
  {
   "cell_type": "code",
   "execution_count": null,
   "id": "quiet-minneapolis",
   "metadata": {},
   "outputs": [],
   "source": [
    "plot_forecast(forecast, train, test, confidence_int[:,0], confidence_int[:,1])"
   ]
  },
  {
   "cell_type": "markdown",
   "id": "valued-meeting",
   "metadata": {},
   "source": [
    "### Don't forget to re-scale your values!"
   ]
  },
  {
   "cell_type": "markdown",
   "id": "nasty-management",
   "metadata": {},
   "source": [
    "Remember that we deseasonalized and log'd our actual values? After predicting a forecast, we can revert the transformation by exponentiating the results and multiplying them back with the seasonality."
   ]
  },
  {
   "cell_type": "code",
   "execution_count": null,
   "id": "assured-version",
   "metadata": {},
   "outputs": [],
   "source": [
    "# get back the actual values\n",
    "train_recons = np.exp(train) * df.season[0:150]\n",
    "test_recons = np.exp(test) * df.season[150:]\n",
    "\n",
    "# convert the predict values the same way\n",
    "forecast_recons = np.exp(forecast) * df.season[150:]\n",
    "lower_recons = np.exp(confidence_int)[:,0] * df.season[150:]\n",
    "upper_recons = np.exp(confidence_int)[:,1] * df.season[150:]\n",
    "\n",
    "# plt \n",
    "plot_forecast(forecast_recons, train_recons, test_recons, lower_recons.values, upper_recons.values)"
   ]
  },
  {
   "cell_type": "code",
   "execution_count": null,
   "id": "hydraulic-windows",
   "metadata": {},
   "outputs": [],
   "source": [
    "residuals = pd.DataFrame(arima.resid)\n",
    "\n",
    "fig, ax = plt.subplots(1,2, figsize=(16,3))\n",
    "residuals.plot(title=\"Residuals\", ax=ax[0])\n",
    "residuals.plot(kind='kde', title='Density', ax=ax[1]);"
   ]
  },
  {
   "cell_type": "markdown",
   "id": "11f6b5f6",
   "metadata": {},
   "source": [
    "# SARIMA - Seasonal Auto Regressive Integrated Moving Average"
   ]
  },
  {
   "cell_type": "markdown",
   "id": "99f95225",
   "metadata": {},
   "source": [
    "Removes the need to deseasonalize our data"
   ]
  },
  {
   "cell_type": "code",
   "execution_count": null,
   "id": "1d357877",
   "metadata": {},
   "outputs": [],
   "source": [
    "fig, axs = plt.subplots(2, 2, figsize=(18,8))\n",
    "# keeping just log transform to stay ~ linear\n",
    "df['log'] = np.log(df.value)\n",
    "\n",
    "# linearized series\n",
    "axs[0,0].plot(df.log); axs[0,0].set_title('linearized Series')\n",
    "\n",
    "# Normal differencing\n",
    "axs[0,1].plot(df.log.diff(1)); axs[0,1].set_title('1st Order Differencing')\n",
    "\n",
    "# Seasonal differencing\n",
    "axs[1,0].plot(df.log.diff(12))\n",
    "axs[1,0].set_title('Seasonal differencing of period 12')\n",
    "\n",
    "# Sesonal + Normal differencing\n",
    "axs[1,1].plot(df.log.diff(12).diff(1))\n",
    "axs[1,1].set_title('First order diff of seasonal differencing 12');"
   ]
  },
  {
   "cell_type": "code",
   "execution_count": null,
   "id": "9747845c",
   "metadata": {},
   "outputs": [],
   "source": [
    "# Create a correct Training/Test split to predict the last 50 points\n",
    "train = df.log[0:150]\n",
    "test = df.log[150:]"
   ]
  },
  {
   "cell_type": "code",
   "execution_count": null,
   "id": "b360ca5a",
   "metadata": {},
   "outputs": [],
   "source": [
    "smodel = pm.auto_arima(train, seasonal=True, m=12, \n",
    "                       start_p=0, max_p=1, max_d=1, start_q=0, max_q=1,\n",
    "                       start_P=0, max_P=2, max_D=1, start_Q=0, max_Q=2, \n",
    "                       trace=True, error_action='ignore', suppress_warnings=True)"
   ]
  },
  {
   "cell_type": "code",
   "execution_count": null,
   "id": "de5796f3",
   "metadata": {},
   "outputs": [],
   "source": [
    "from statsmodels.tsa.statespace.sarimax import SARIMAX\n",
    "\n",
    "# Build Model\n",
    "sarima = SARIMAX(train, order=(0, 1, 1), seasonal_order=(1, 0, 2, 12))\n",
    "sarima = sarima.fit(maxiter=75)\n",
    "\n",
    "# Forecast\n",
    "results = sarima.get_forecast(len(test), alpha=0.05)\n",
    "forecast = results.predicted_mean\n",
    "confidence_int = results.conf_int()"
   ]
  },
  {
   "cell_type": "code",
   "execution_count": null,
   "id": "585fbbf5",
   "metadata": {},
   "outputs": [],
   "source": [
    "# Reconstruct by taking exponential\n",
    "forecast_recons = pd.Series(np.exp(forecast), index=test.index)\n",
    "lower_recons = np.exp(confidence_int['lower log']).values\n",
    "upper_recons = np.exp(confidence_int['upper log']).values\n",
    "\n",
    "plot_forecast(forecast_recons, np.exp(train), np.exp(test), upper = upper_recons, lower=lower_recons)"
   ]
  },
  {
   "cell_type": "code",
   "execution_count": null,
   "id": "0798e9f9",
   "metadata": {},
   "outputs": [],
   "source": [
    "sarima.summary()"
   ]
  }
 ],
 "metadata": {
  "kernelspec": {
   "display_name": "Python 3 (ipykernel)",
   "language": "python",
   "name": "python3"
  },
  "language_info": {
   "codemirror_mode": {
    "name": "ipython",
    "version": 3
   },
   "file_extension": ".py",
   "mimetype": "text/x-python",
   "name": "python",
   "nbconvert_exporter": "python",
   "pygments_lexer": "ipython3",
   "version": "3.8.12"
  },
  "toc": {
   "base_numbering": 1,
   "nav_menu": {},
   "number_sections": true,
   "sideBar": true,
   "skip_h1_title": false,
   "title_cell": "Table of Contents",
   "title_sidebar": "Contents",
   "toc_cell": false,
   "toc_position": {},
   "toc_section_display": true,
   "toc_window_display": false
  },
  "varInspector": {
   "cols": {
    "lenName": 16,
    "lenType": 16,
    "lenVar": 40
   },
   "kernels_config": {
    "python": {
     "delete_cmd_postfix": "",
     "delete_cmd_prefix": "del ",
     "library": "var_list.py",
     "varRefreshCmd": "print(var_dic_list())"
    },
    "r": {
     "delete_cmd_postfix": ") ",
     "delete_cmd_prefix": "rm(",
     "library": "var_list.r",
     "varRefreshCmd": "cat(var_dic_list()) "
    }
   },
   "types_to_exclude": [
    "module",
    "function",
    "builtin_function_or_method",
    "instance",
    "_Feature"
   ],
   "window_display": false
  }
 },
 "nbformat": 4,
 "nbformat_minor": 5
}
