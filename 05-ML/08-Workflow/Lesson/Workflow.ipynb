{
 "cells": [
  {
   "cell_type": "markdown",
   "id": "896433e4",
   "metadata": {},
   "source": [
    "# Machine Learning Workflow"
   ]
  },
  {
   "cell_type": "markdown",
   "id": "3d60e00f",
   "metadata": {},
   "source": [
    "## Imports"
   ]
  },
  {
   "cell_type": "code",
   "execution_count": null,
   "id": "d0ceb290",
   "metadata": {},
   "outputs": [],
   "source": [
    "import numpy as np\n",
    "import pandas as pd\n",
    "import pickle\n",
    "from sklearn import set_config; set_config(display='diagram')\n",
    "\n",
    "from sklearn.compose import ColumnTransformer, make_column_transformer, make_column_selector\n",
    "from sklearn.impute import SimpleImputer\n",
    "from sklearn.linear_model import Ridge\n",
    "from sklearn.model_selection import cross_val_score, GridSearchCV\n",
    "from sklearn.pipeline import Pipeline, FeatureUnion, make_pipeline, make_union\n",
    "from sklearn.preprocessing import StandardScaler, OneHotEncoder, FunctionTransformer"
   ]
  },
  {
   "cell_type": "markdown",
   "id": "52f03801",
   "metadata": {},
   "source": [
    "## Data"
   ]
  },
  {
   "cell_type": "markdown",
   "id": "54ac3822",
   "metadata": {},
   "source": [
    "**We are going to predict the charges of health insurance as a function of various features using the following datatest**"
   ]
  },
  {
   "cell_type": "code",
   "execution_count": null,
   "id": "754d5527",
   "metadata": {},
   "outputs": [],
   "source": [
    "data = pd.read_csv('data.csv')\n",
    "data.head()"
   ]
  },
  {
   "cell_type": "code",
   "execution_count": null,
   "id": "b2c7b22a",
   "metadata": {},
   "outputs": [],
   "source": [
    "X = data.drop(columns='charges')\n",
    "y = data['charges']\n",
    "\n",
    "X_train = X[:1100]\n",
    "y_train = y[:1100]\n",
    "X_test = X[1100:]\n",
    "y_test = y[1100:]"
   ]
  },
  {
   "cell_type": "markdown",
   "id": "fa691d97",
   "metadata": {},
   "source": [
    "✏️ Today's challenge:\n",
    "\n",
    "    impute missing values\n",
    "    scale numerical features\n",
    "    encode categorical features\n",
    "    fine tune model and preprocessing\n",
    "\n",
    "In one cell 💪"
   ]
  },
  {
   "cell_type": "markdown",
   "id": "49474337",
   "metadata": {},
   "source": [
    "## Pipelines"
   ]
  },
  {
   "cell_type": "markdown",
   "id": "e28c4ece",
   "metadata": {},
   "source": [
    "### **a) Pipeline → → →**"
   ]
  },
  {
   "cell_type": "markdown",
   "id": "20646aad",
   "metadata": {},
   "source": [
    "chains together multiple steps in sequence"
   ]
  },
  {
   "cell_type": "code",
   "execution_count": null,
   "id": "88460669",
   "metadata": {},
   "outputs": [],
   "source": [
    "# from sklearn.pipeline import Pipeline\n",
    "# from sklearn.impute import SimpleImputer\n",
    "# from sklearn.preprocessing import StandardScaler\n",
    "\n",
    "# Preprocess \"age\"\n",
    "pipe = Pipeline([\n",
    "    ('imputer', SimpleImputer()),\n",
    "    ('scaler', StandardScaler())\n",
    "])\n",
    "\n",
    "pipe.fit(X_train[['age']])\n",
    "pipe.transform(X_train[['age']])"
   ]
  },
  {
   "cell_type": "code",
   "execution_count": null,
   "id": "9aad9ac1",
   "metadata": {
    "scrolled": true
   },
   "outputs": [],
   "source": [
    "# access steps\n",
    "pipe[1]\n",
    "pipe['scaler']"
   ]
  },
  {
   "cell_type": "markdown",
   "id": "d2ed374d",
   "metadata": {},
   "source": [
    "### **b) Column Transformer ⑂**"
   ]
  },
  {
   "cell_type": "markdown",
   "id": "98fd5127",
   "metadata": {},
   "source": [
    "Apply specific changes to specific columns in parallel"
   ]
  },
  {
   "cell_type": "code",
   "execution_count": null,
   "id": "fadca641",
   "metadata": {},
   "outputs": [],
   "source": [
    "# from sklearn.preprocessing import OneHotEncoder\n",
    "# from sklearn.compose import ColumnTransformer\n",
    "\n",
    "# Impute then Scale for numerical variables: \n",
    "num_transformer = Pipeline([\n",
    "    ('imputer', SimpleImputer()),\n",
    "    ('scaler', StandardScaler())])\n",
    "\n",
    "# Encode categorical variables\n",
    "cat_transformer = OneHotEncoder(handle_unknown='ignore')\n",
    "\n",
    "# Paralellize \"num_transformer\" and \"One hot encoder\"\n",
    "preprocessor = ColumnTransformer([\n",
    "    ('num_tr', num_transformer, ['age','bmi']),\n",
    "    ('cat_tr', cat_transformer, ['smoker', 'region'])])"
   ]
  },
  {
   "cell_type": "code",
   "execution_count": null,
   "id": "13763cd7",
   "metadata": {
    "scrolled": true
   },
   "outputs": [],
   "source": [
    "# from sklearn import set_config; set_config(display='diagram')\n",
    "\n",
    "# visualizing pipelines in HTML\n",
    "preprocessor"
   ]
  },
  {
   "cell_type": "code",
   "execution_count": null,
   "id": "e7b382c3",
   "metadata": {},
   "outputs": [],
   "source": [
    "X_train_transformed = preprocessor.fit_transform(X_train)\n",
    "\n",
    "display(X_train.head(3))\n",
    "display(pd.DataFrame(X_train_transformed).head(3))"
   ]
  },
  {
   "cell_type": "markdown",
   "id": "0b15f99b",
   "metadata": {},
   "source": [
    "🤔 Where are the column names?"
   ]
  },
  {
   "cell_type": "markdown",
   "id": "1a5b0c27",
   "metadata": {},
   "source": [
    "👉 get_feature_names_out()"
   ]
  },
  {
   "cell_type": "code",
   "execution_count": null,
   "id": "069784fe",
   "metadata": {},
   "outputs": [],
   "source": [
    "# This should be fixed in Scikit-Learn 1.0.2: all transformers will have this method.\n",
    "# SimpleImputer does not have a get_feature_names_out, so we need to add it manually.\n",
    "SimpleImputer.get_feature_names_out = (lambda self, names=None: self.feature_names_in_)"
   ]
  },
  {
   "cell_type": "code",
   "execution_count": null,
   "id": "e6deb81d",
   "metadata": {},
   "outputs": [],
   "source": [
    "preprocessor.get_feature_names_out()"
   ]
  },
  {
   "cell_type": "code",
   "execution_count": null,
   "id": "0a6fe9d1",
   "metadata": {},
   "outputs": [],
   "source": [
    "pd.DataFrame(X_train_transformed, \n",
    "             columns=preprocessor.get_feature_names_out()\n",
    "            ).head()"
   ]
  },
  {
   "cell_type": "markdown",
   "id": "58a834e5",
   "metadata": {},
   "source": [
    "🤔 What happened to children column ? What if we want to keep it untouched?"
   ]
  },
  {
   "cell_type": "markdown",
   "id": "675cbf3e",
   "metadata": {},
   "source": [
    "👉 remainder=passthrough"
   ]
  },
  {
   "cell_type": "code",
   "execution_count": null,
   "id": "011f91a7",
   "metadata": {
    "scrolled": true
   },
   "outputs": [],
   "source": [
    "preprocessor = ColumnTransformer([\n",
    "    ('num_tr', num_transformer, ['age','bmi']),\n",
    "    ('cat_tr', cat_transformer, ['region','smoker'])],\n",
    "    remainder='passthrough')\n",
    "preprocessor"
   ]
  },
  {
   "cell_type": "code",
   "execution_count": null,
   "id": "e958dd06",
   "metadata": {
    "scrolled": true
   },
   "outputs": [],
   "source": [
    "X_new = preprocessor.fit_transform(X_train)\n",
    "pd.DataFrame(X_new).head(3)"
   ]
  },
  {
   "cell_type": "code",
   "execution_count": null,
   "id": "d06c6235",
   "metadata": {},
   "outputs": [],
   "source": [
    "pd.DataFrame(X_new, \n",
    "             columns=preprocessor.get_feature_names_out()\n",
    "            ).head(3)"
   ]
  },
  {
   "cell_type": "markdown",
   "id": "cbc30660",
   "metadata": {},
   "source": [
    "### **c) Custom: Function Transformer →**"
   ]
  },
  {
   "cell_type": "markdown",
   "id": "e9d71d3c",
   "metadata": {},
   "source": [
    "- Encapsulates a python function into a scikit transformer (→) object\n",
    "\n",
    "- Can work with Pipelines (→ →) or with ColumnTransformers (⑂)"
   ]
  },
  {
   "cell_type": "code",
   "execution_count": null,
   "id": "86dd43f1",
   "metadata": {},
   "outputs": [],
   "source": [
    "# from sklearn.preprocessing import FunctionTransformer\n",
    "\n",
    "# Create a transformer that compresses data to 2 digits (for instance!)\n",
    "rounder = FunctionTransformer(np.round)\n",
    "rounder = FunctionTransformer(lambda array: np.round(array, decimals=2))"
   ]
  },
  {
   "cell_type": "code",
   "execution_count": null,
   "id": "a8c91a07",
   "metadata": {},
   "outputs": [],
   "source": [
    "# Add it at the end of our numerical transformer\n",
    "num_transformer = Pipeline([\n",
    "    ('imputer', SimpleImputer()),\n",
    "    ('scaler', StandardScaler()),\n",
    "    ('rounder', rounder)])\n",
    "\n",
    "preprocessor = ColumnTransformer([\n",
    "    ('num_tr', num_transformer, ['bmi', 'age']),\n",
    "    ('cat_tr', cat_transformer, ['region', 'smoker'])],\n",
    "    remainder='passthrough')\n",
    "preprocessor"
   ]
  },
  {
   "cell_type": "code",
   "execution_count": null,
   "id": "a863bb39",
   "metadata": {},
   "outputs": [],
   "source": [
    "pd.DataFrame(preprocessor.fit_transform(X_train)).head(2)"
   ]
  },
  {
   "cell_type": "markdown",
   "id": "a4aaa32b",
   "metadata": {},
   "source": [
    "### **d) FeatureUnion | |**"
   ]
  },
  {
   "cell_type": "markdown",
   "id": "65ac854c",
   "metadata": {},
   "source": [
    "- Applies transformers in paralell\n",
    "\n",
    "- Concatenate feature matrices outputs of each transformer\n",
    "\n",
    "👉 Usefull to create whole new features\n",
    "\n",
    "ex: let's build and add a new bmi_age_ratio feature"
   ]
  },
  {
   "cell_type": "code",
   "execution_count": null,
   "id": "6ac72a99",
   "metadata": {},
   "outputs": [],
   "source": [
    "# from sklearn.pipeline import FeatureUnion\n",
    "\n",
    "# Create a custom transformer that multiplies two columns\n",
    "bmi_age_ratio_constructor = FunctionTransformer(lambda df: pd.DataFrame(df[\"bmi\"] / df[\"age\"]))\n",
    "\n",
    "union = FeatureUnion([\n",
    "    ('preprocess', preprocessor), # columns 0-8\n",
    "    ('bmi_age_ratio', bmi_age_ratio_constructor) # new colums 9\n",
    "])\n",
    "union"
   ]
  },
  {
   "cell_type": "code",
   "execution_count": null,
   "id": "8ddad62b",
   "metadata": {},
   "outputs": [],
   "source": [
    "pd.DataFrame(union.fit_transform(X_train)).head(1)"
   ]
  },
  {
   "cell_type": "markdown",
   "id": "cfab8412",
   "metadata": {},
   "source": [
    "### **Summary with make_*** shortcuts ⚡️**"
   ]
  },
  {
   "cell_type": "code",
   "execution_count": null,
   "id": "790c0859",
   "metadata": {},
   "outputs": [],
   "source": [
    "# from sklearn.pipeline import make_pipeline\n",
    "# from sklearn.pipeline import make_union\n",
    "# from sklearn.compose import make_column_transformer\n",
    "\n",
    "Pipeline([\n",
    "    ('my_name_for_imputer', SimpleImputer()),\n",
    "    ('my_name_for_scaler', StandardScaler())\n",
    "])\n",
    "\n",
    "# Equivalent to\n",
    "make_pipeline(SimpleImputer(), StandardScaler())"
   ]
  },
  {
   "cell_type": "code",
   "execution_count": null,
   "id": "8420612a",
   "metadata": {},
   "outputs": [],
   "source": [
    "num_transformer = make_pipeline(SimpleImputer(), StandardScaler())\n",
    "cat_transformer = OneHotEncoder()\n",
    "\n",
    "preproc_basic = make_column_transformer((num_transformer, ['age', 'bmi']),\n",
    "                                       (cat_transformer, ['smoker', 'region']),\n",
    "                                       remainder='passthrough')\n",
    "\n",
    "preproc_full = make_union(preproc_basic, bmi_age_ratio_constructor)\n",
    "preproc_full"
   ]
  },
  {
   "cell_type": "markdown",
   "id": "d5a2ca17",
   "metadata": {},
   "source": [
    "**make_column_selector select features automatically based on dtype**"
   ]
  },
  {
   "cell_type": "code",
   "execution_count": null,
   "id": "9b157622",
   "metadata": {},
   "outputs": [],
   "source": [
    "X_train.dtypes"
   ]
  },
  {
   "cell_type": "code",
   "execution_count": null,
   "id": "825ec176",
   "metadata": {},
   "outputs": [],
   "source": [
    "# from sklearn.compose import make_column_selector\n",
    "\n",
    "num_col = make_column_selector(dtype_include=['float64'])\n",
    "cat_col = make_column_selector(dtype_include=['object','bool'])"
   ]
  },
  {
   "cell_type": "markdown",
   "id": "97f7e853",
   "metadata": {},
   "source": [
    "**🎉 Complete preprocessing pipeline 🎉**"
   ]
  },
  {
   "cell_type": "code",
   "execution_count": null,
   "id": "653d28f6",
   "metadata": {},
   "outputs": [],
   "source": [
    "num_transformer = make_pipeline(SimpleImputer(), StandardScaler())\n",
    "\n",
    "cat_transformer = OneHotEncoder()\n",
    "\n",
    "preproc_basic = make_column_transformer(\n",
    "    (num_transformer, num_col),\n",
    "    (cat_transformer, cat_col),\n",
    "    remainder='passthrough')\n",
    "\n",
    "preproc_full = make_union(preproc_basic, bmi_age_ratio_constructor)\n",
    "preproc_full"
   ]
  },
  {
   "cell_type": "markdown",
   "id": "a96720f1",
   "metadata": {},
   "source": [
    "## Including Models to Pipelines"
   ]
  },
  {
   "cell_type": "markdown",
   "id": "8fd4c0be",
   "metadata": {},
   "source": [
    "- Model objects can be plugged into pipelines\n",
    "- Pipelines inherit the methods of the last object in the sequence\n",
    "    - Transformers: ***fit*** and ***transform***\n",
    "    - Models: ***fit, score, predict***, etc..."
   ]
  },
  {
   "cell_type": "markdown",
   "id": "9739e925",
   "metadata": {},
   "source": [
    "### a) Full pipe"
   ]
  },
  {
   "cell_type": "code",
   "execution_count": null,
   "id": "437d488d",
   "metadata": {},
   "outputs": [],
   "source": [
    "# from sklearn.linear_model import Ridge\n",
    "\n",
    "# Preprocessor\n",
    "num_transformer = make_pipeline(SimpleImputer(), StandardScaler())\n",
    "cat_transformer = OneHotEncoder()\n",
    "\n",
    "preproc = make_column_transformer(\n",
    "    (num_transformer, make_column_selector(dtype_include=['float64'])),\n",
    "    (cat_transformer, make_column_selector(dtype_include=['object','bool'])),\n",
    "    remainder='passthrough')\n",
    "\n",
    "# Add Estimator\n",
    "pipe = make_pipeline(preproc, Ridge())\n",
    "pipe"
   ]
  },
  {
   "cell_type": "code",
   "execution_count": null,
   "id": "a91e1020",
   "metadata": {},
   "outputs": [],
   "source": [
    "# Train pipeline\n",
    "pipe.fit(X_train,y_train)\n",
    "\n",
    "# Make predictions\n",
    "pipe.predict(X_test.iloc[0:2])\n",
    "\n",
    "# Score model\n",
    "pipe.score(X_test,y_test)"
   ]
  },
  {
   "cell_type": "markdown",
   "id": "08f24cd0",
   "metadata": {},
   "source": [
    "### b) Cross validate a pipeline"
   ]
  },
  {
   "cell_type": "code",
   "execution_count": null,
   "id": "43968cfa",
   "metadata": {},
   "outputs": [],
   "source": [
    "# from sklearn.model_selection import cross_val_score\n",
    "\n",
    "# Cross validate pipeline\n",
    "cross_val_score(pipe, X_train, y_train, cv=5, scoring='r2').mean()"
   ]
  },
  {
   "cell_type": "markdown",
   "id": "813c015b",
   "metadata": {},
   "source": [
    "### c) Grid search a pipeline"
   ]
  },
  {
   "cell_type": "markdown",
   "id": "7de08f03",
   "metadata": {},
   "source": [
    "- Check which combination of preprocessing/modelling hyperparameters work best\n",
    "- It is possible to grid search hyperparameters of any component of the pipeline\n",
    "- Sklearn Syntax: step_name__transformer_name__hyperparam_name\n",
    "- Check available hyperparameters pipe.get_params()"
   ]
  },
  {
   "cell_type": "code",
   "execution_count": null,
   "id": "410d2abd",
   "metadata": {},
   "outputs": [],
   "source": [
    "# Inspect all pipe components parameters to find the one you want to gridsearch\n",
    "pipe.get_params()"
   ]
  },
  {
   "cell_type": "code",
   "execution_count": null,
   "id": "18e30d98",
   "metadata": {
    "scrolled": true
   },
   "outputs": [],
   "source": [
    "# from sklearn.model_selection import GridSearchCV\n",
    "\n",
    "# Instanciate grid search\n",
    "grid_search = GridSearchCV(\n",
    "    pipe, \n",
    "    param_grid={\n",
    "        # Access any component of the pipeline, as far back as you want\n",
    "        'columntransformer__pipeline__simpleimputer__strategy': ['mean', 'median'],\n",
    "        'ridge__alpha': [0.1, 0.5, 1, 5, 10]},\n",
    "    cv=5,\n",
    "    scoring=\"r2\")\n",
    "\n",
    "grid_search.fit(X_train, y_train)\n",
    "grid_search.best_params_"
   ]
  },
  {
   "cell_type": "code",
   "execution_count": null,
   "id": "98afc352",
   "metadata": {},
   "outputs": [],
   "source": [
    "pipe_tuned = grid_search.best_estimator_"
   ]
  },
  {
   "cell_type": "markdown",
   "id": "710b0dd2",
   "metadata": {},
   "source": [
    "## Debug your pipe"
   ]
  },
  {
   "cell_type": "code",
   "execution_count": null,
   "id": "d244b61f",
   "metadata": {},
   "outputs": [],
   "source": [
    "# Access component of pipeline with `name_steps`\n",
    "pipe_tuned.named_steps.keys()"
   ]
  },
  {
   "cell_type": "code",
   "execution_count": null,
   "id": "a112cfbc",
   "metadata": {},
   "outputs": [],
   "source": [
    "# Check intermediate steps\n",
    "pipe_tuned.named_steps[\"columntransformer\"].fit_transform(X_train).shape"
   ]
  },
  {
   "cell_type": "markdown",
   "id": "bc10843a",
   "metadata": {},
   "source": [
    "## Exporting models/pipelines"
   ]
  },
  {
   "cell_type": "code",
   "execution_count": null,
   "id": "d16e4892",
   "metadata": {},
   "outputs": [],
   "source": [
    "# import pickle\n",
    "\n",
    "# Export pipeline as pickle file\n",
    "with open(\"pipeline.pkl\", \"wb\") as file:\n",
    "    pickle.dump(pipe_tuned, file)\n",
    "\n",
    "# Load pipeline from pickle file\n",
    "my_pipeline = pickle.load(open(\"pipeline.pkl\",\"rb\"))\n",
    "\n",
    "my_pipeline.score(X_test, y_test)"
   ]
  },
  {
   "cell_type": "markdown",
   "id": "84cf4f18",
   "metadata": {},
   "source": [
    "## Auto ML"
   ]
  },
  {
   "cell_type": "code",
   "execution_count": null,
   "id": "3dab1f9d",
   "metadata": {},
   "outputs": [],
   "source": [
    "#!pip install TPOT\n",
    "#!pip install torch"
   ]
  },
  {
   "cell_type": "code",
   "execution_count": null,
   "id": "950282bc",
   "metadata": {},
   "outputs": [],
   "source": [
    "import os\n",
    "from tpot import TPOTRegressor\n",
    "\n",
    "X_train_preproc = preproc_basic.fit_transform(X_train)\n",
    "X_test_preproc = preproc_basic.transform(X_test)"
   ]
  },
  {
   "cell_type": "code",
   "execution_count": null,
   "id": "7d0f5a8f",
   "metadata": {},
   "outputs": [],
   "source": [
    "# instanciate TPOTClassifier\n",
    "tpot = TPOTRegressor(generations=4, population_size=20, verbosity=2, scoring='r2', n_jobs=-1, cv=2)\n",
    "# process autoML with TPOT\n",
    "tpot.fit(X_train_preproc, y_train)\n",
    "\n",
    "# print score\n",
    "print(tpot.score(X_test_preproc, y_test))"
   ]
  },
  {
   "cell_type": "code",
   "execution_count": null,
   "id": "2eb41708",
   "metadata": {},
   "outputs": [],
   "source": [
    "# export TPOT pipeline to a python file\n",
    "tpot.export(os.path.join(os.getcwd(),'tpot_iris_pipeline.py'))\n",
    "\n",
    "! cat 'tpot_iris_pipeline.py'"
   ]
  }
 ],
 "metadata": {
  "kernelspec": {
   "display_name": "Python 3 (ipykernel)",
   "language": "python",
   "name": "python3"
  },
  "language_info": {
   "codemirror_mode": {
    "name": "ipython",
    "version": 3
   },
   "file_extension": ".py",
   "mimetype": "text/x-python",
   "name": "python",
   "nbconvert_exporter": "python",
   "pygments_lexer": "ipython3",
   "version": "3.8.12"
  },
  "toc": {
   "base_numbering": 1,
   "nav_menu": {},
   "number_sections": true,
   "sideBar": true,
   "skip_h1_title": false,
   "title_cell": "Table of Contents",
   "title_sidebar": "Contents",
   "toc_cell": false,
   "toc_position": {
    "height": "calc(100% - 180px)",
    "left": "10px",
    "top": "150px",
    "width": "273.188px"
   },
   "toc_section_display": true,
   "toc_window_display": false
  }
 },
 "nbformat": 4,
 "nbformat_minor": 5
}
