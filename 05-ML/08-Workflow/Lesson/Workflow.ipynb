{
 "cells": [
  {
   "cell_type": "markdown",
   "id": "896433e4",
   "metadata": {},
   "source": [
    "# Machine Learning Workflow"
   ]
  },
  {
   "cell_type": "markdown",
   "id": "3d60e00f",
   "metadata": {},
   "source": [
    "## Imports"
   ]
  },
  {
   "cell_type": "code",
   "execution_count": 1,
   "id": "d0ceb290",
   "metadata": {},
   "outputs": [],
   "source": [
    "import numpy as np\n",
    "import pandas as pd\n",
    "import pickle\n",
    "from sklearn import set_config; set_config(display='diagram')\n",
    "\n",
    "from sklearn.compose import ColumnTransformer, make_column_transformer, make_column_selector\n",
    "from sklearn.impute import SimpleImputer\n",
    "from sklearn.linear_model import Ridge\n",
    "from sklearn.model_selection import cross_val_score, GridSearchCV\n",
    "from sklearn.pipeline import Pipeline, FeatureUnion, make_pipeline, make_union\n",
    "from sklearn.preprocessing import StandardScaler, OneHotEncoder, FunctionTransformer"
   ]
  },
  {
   "cell_type": "markdown",
   "id": "52f03801",
   "metadata": {},
   "source": [
    "## Data"
   ]
  },
  {
   "cell_type": "markdown",
   "id": "54ac3822",
   "metadata": {},
   "source": [
    "**We are going to predict the charges of health insurance as a function of various features using the following datatest**"
   ]
  },
  {
   "cell_type": "code",
   "execution_count": 2,
   "id": "754d5527",
   "metadata": {},
   "outputs": [
    {
     "data": {
      "text/html": [
       "<div>\n",
       "<style scoped>\n",
       "    .dataframe tbody tr th:only-of-type {\n",
       "        vertical-align: middle;\n",
       "    }\n",
       "\n",
       "    .dataframe tbody tr th {\n",
       "        vertical-align: top;\n",
       "    }\n",
       "\n",
       "    .dataframe thead th {\n",
       "        text-align: right;\n",
       "    }\n",
       "</style>\n",
       "<table border=\"1\" class=\"dataframe\">\n",
       "  <thead>\n",
       "    <tr style=\"text-align: right;\">\n",
       "      <th></th>\n",
       "      <th>age</th>\n",
       "      <th>bmi</th>\n",
       "      <th>children</th>\n",
       "      <th>smoker</th>\n",
       "      <th>region</th>\n",
       "      <th>charges</th>\n",
       "    </tr>\n",
       "  </thead>\n",
       "  <tbody>\n",
       "    <tr>\n",
       "      <th>0</th>\n",
       "      <td>19.0</td>\n",
       "      <td>27.900</td>\n",
       "      <td>0</td>\n",
       "      <td>True</td>\n",
       "      <td>southwest</td>\n",
       "      <td>16884.92400</td>\n",
       "    </tr>\n",
       "    <tr>\n",
       "      <th>1</th>\n",
       "      <td>18.0</td>\n",
       "      <td>33.770</td>\n",
       "      <td>1</td>\n",
       "      <td>False</td>\n",
       "      <td>southeast</td>\n",
       "      <td>1725.55230</td>\n",
       "    </tr>\n",
       "    <tr>\n",
       "      <th>2</th>\n",
       "      <td>NaN</td>\n",
       "      <td>33.000</td>\n",
       "      <td>3</td>\n",
       "      <td>False</td>\n",
       "      <td>southeast</td>\n",
       "      <td>4449.46200</td>\n",
       "    </tr>\n",
       "    <tr>\n",
       "      <th>3</th>\n",
       "      <td>33.0</td>\n",
       "      <td>22.705</td>\n",
       "      <td>0</td>\n",
       "      <td>False</td>\n",
       "      <td>northwest</td>\n",
       "      <td>21984.47061</td>\n",
       "    </tr>\n",
       "    <tr>\n",
       "      <th>4</th>\n",
       "      <td>32.0</td>\n",
       "      <td>28.880</td>\n",
       "      <td>0</td>\n",
       "      <td>False</td>\n",
       "      <td>northwest</td>\n",
       "      <td>3866.85520</td>\n",
       "    </tr>\n",
       "  </tbody>\n",
       "</table>\n",
       "</div>"
      ],
      "text/plain": [
       "    age     bmi  children  smoker     region      charges\n",
       "0  19.0  27.900         0    True  southwest  16884.92400\n",
       "1  18.0  33.770         1   False  southeast   1725.55230\n",
       "2   NaN  33.000         3   False  southeast   4449.46200\n",
       "3  33.0  22.705         0   False  northwest  21984.47061\n",
       "4  32.0  28.880         0   False  northwest   3866.85520"
      ]
     },
     "execution_count": 2,
     "metadata": {},
     "output_type": "execute_result"
    }
   ],
   "source": [
    "data = pd.read_csv('data.csv')\n",
    "data.head()"
   ]
  },
  {
   "cell_type": "code",
   "execution_count": 29,
   "id": "83c43852",
   "metadata": {},
   "outputs": [
    {
     "data": {
      "text/plain": [
       "(1338, 6)"
      ]
     },
     "execution_count": 29,
     "metadata": {},
     "output_type": "execute_result"
    }
   ],
   "source": [
    "data.shape"
   ]
  },
  {
   "cell_type": "code",
   "execution_count": 3,
   "id": "b2c7b22a",
   "metadata": {},
   "outputs": [],
   "source": [
    "X = data.drop(columns='charges')\n",
    "y = data['charges']\n",
    "\n",
    "X_train = X[:1100]\n",
    "y_train = y[:1100]\n",
    "X_test = X[1100:]\n",
    "y_test = y[1100:]"
   ]
  },
  {
   "cell_type": "markdown",
   "id": "fa691d97",
   "metadata": {},
   "source": [
    "✏️ Today's challenge:\n",
    "\n",
    "    impute missing values\n",
    "    scale numerical features\n",
    "    encode categorical features\n",
    "    fine tune model and preprocessing\n",
    "\n",
    "In one cell 💪"
   ]
  },
  {
   "cell_type": "markdown",
   "id": "49474337",
   "metadata": {},
   "source": [
    "## Pipelines"
   ]
  },
  {
   "cell_type": "markdown",
   "id": "e28c4ece",
   "metadata": {},
   "source": [
    "### **a) Pipeline → → →**"
   ]
  },
  {
   "cell_type": "markdown",
   "id": "20646aad",
   "metadata": {},
   "source": [
    "chains together multiple steps in sequence"
   ]
  },
  {
   "cell_type": "code",
   "execution_count": 4,
   "id": "88460669",
   "metadata": {},
   "outputs": [
    {
     "data": {
      "text/plain": [
       "array([[-1.45565969],\n",
       "       [-1.52644066],\n",
       "       [ 0.        ],\n",
       "       ...,\n",
       "       [-1.24331678],\n",
       "       [ 0.88011225],\n",
       "       [-1.03097388]])"
      ]
     },
     "execution_count": 4,
     "metadata": {},
     "output_type": "execute_result"
    }
   ],
   "source": [
    "# from sklearn.pipeline import Pipeline\n",
    "# from sklearn.impute import SimpleImputer\n",
    "# from sklearn.preprocessing import StandardScaler\n",
    "\n",
    "# Preprocess \"age\"\n",
    "pipe = Pipeline([\n",
    "    ('my_imputer', SimpleImputer()),\n",
    "    ('scaler', StandardScaler())\n",
    "])\n",
    "\n",
    "pipe.fit(X_train[['age']])\n",
    "pipe.transform(X_train[['age']])"
   ]
  },
  {
   "cell_type": "code",
   "execution_count": 7,
   "id": "de713cb2",
   "metadata": {},
   "outputs": [
    {
     "data": {
      "text/html": [
       "<style>#sk-2c0f8b4a-fca5-471d-8ae9-b9a14e0c437d {color: black;background-color: white;}#sk-2c0f8b4a-fca5-471d-8ae9-b9a14e0c437d pre{padding: 0;}#sk-2c0f8b4a-fca5-471d-8ae9-b9a14e0c437d div.sk-toggleable {background-color: white;}#sk-2c0f8b4a-fca5-471d-8ae9-b9a14e0c437d label.sk-toggleable__label {cursor: pointer;display: block;width: 100%;margin-bottom: 0;padding: 0.3em;box-sizing: border-box;text-align: center;}#sk-2c0f8b4a-fca5-471d-8ae9-b9a14e0c437d label.sk-toggleable__label-arrow:before {content: \"▸\";float: left;margin-right: 0.25em;color: #696969;}#sk-2c0f8b4a-fca5-471d-8ae9-b9a14e0c437d label.sk-toggleable__label-arrow:hover:before {color: black;}#sk-2c0f8b4a-fca5-471d-8ae9-b9a14e0c437d div.sk-estimator:hover label.sk-toggleable__label-arrow:before {color: black;}#sk-2c0f8b4a-fca5-471d-8ae9-b9a14e0c437d div.sk-toggleable__content {max-height: 0;max-width: 0;overflow: hidden;text-align: left;background-color: #f0f8ff;}#sk-2c0f8b4a-fca5-471d-8ae9-b9a14e0c437d div.sk-toggleable__content pre {margin: 0.2em;color: black;border-radius: 0.25em;background-color: #f0f8ff;}#sk-2c0f8b4a-fca5-471d-8ae9-b9a14e0c437d input.sk-toggleable__control:checked~div.sk-toggleable__content {max-height: 200px;max-width: 100%;overflow: auto;}#sk-2c0f8b4a-fca5-471d-8ae9-b9a14e0c437d input.sk-toggleable__control:checked~label.sk-toggleable__label-arrow:before {content: \"▾\";}#sk-2c0f8b4a-fca5-471d-8ae9-b9a14e0c437d div.sk-estimator input.sk-toggleable__control:checked~label.sk-toggleable__label {background-color: #d4ebff;}#sk-2c0f8b4a-fca5-471d-8ae9-b9a14e0c437d div.sk-label input.sk-toggleable__control:checked~label.sk-toggleable__label {background-color: #d4ebff;}#sk-2c0f8b4a-fca5-471d-8ae9-b9a14e0c437d input.sk-hidden--visually {border: 0;clip: rect(1px 1px 1px 1px);clip: rect(1px, 1px, 1px, 1px);height: 1px;margin: -1px;overflow: hidden;padding: 0;position: absolute;width: 1px;}#sk-2c0f8b4a-fca5-471d-8ae9-b9a14e0c437d div.sk-estimator {font-family: monospace;background-color: #f0f8ff;border: 1px dotted black;border-radius: 0.25em;box-sizing: border-box;margin-bottom: 0.5em;}#sk-2c0f8b4a-fca5-471d-8ae9-b9a14e0c437d div.sk-estimator:hover {background-color: #d4ebff;}#sk-2c0f8b4a-fca5-471d-8ae9-b9a14e0c437d div.sk-parallel-item::after {content: \"\";width: 100%;border-bottom: 1px solid gray;flex-grow: 1;}#sk-2c0f8b4a-fca5-471d-8ae9-b9a14e0c437d div.sk-label:hover label.sk-toggleable__label {background-color: #d4ebff;}#sk-2c0f8b4a-fca5-471d-8ae9-b9a14e0c437d div.sk-serial::before {content: \"\";position: absolute;border-left: 1px solid gray;box-sizing: border-box;top: 2em;bottom: 0;left: 50%;}#sk-2c0f8b4a-fca5-471d-8ae9-b9a14e0c437d div.sk-serial {display: flex;flex-direction: column;align-items: center;background-color: white;padding-right: 0.2em;padding-left: 0.2em;}#sk-2c0f8b4a-fca5-471d-8ae9-b9a14e0c437d div.sk-item {z-index: 1;}#sk-2c0f8b4a-fca5-471d-8ae9-b9a14e0c437d div.sk-parallel {display: flex;align-items: stretch;justify-content: center;background-color: white;}#sk-2c0f8b4a-fca5-471d-8ae9-b9a14e0c437d div.sk-parallel::before {content: \"\";position: absolute;border-left: 1px solid gray;box-sizing: border-box;top: 2em;bottom: 0;left: 50%;}#sk-2c0f8b4a-fca5-471d-8ae9-b9a14e0c437d div.sk-parallel-item {display: flex;flex-direction: column;position: relative;background-color: white;}#sk-2c0f8b4a-fca5-471d-8ae9-b9a14e0c437d div.sk-parallel-item:first-child::after {align-self: flex-end;width: 50%;}#sk-2c0f8b4a-fca5-471d-8ae9-b9a14e0c437d div.sk-parallel-item:last-child::after {align-self: flex-start;width: 50%;}#sk-2c0f8b4a-fca5-471d-8ae9-b9a14e0c437d div.sk-parallel-item:only-child::after {width: 0;}#sk-2c0f8b4a-fca5-471d-8ae9-b9a14e0c437d div.sk-dashed-wrapped {border: 1px dashed gray;margin: 0 0.4em 0.5em 0.4em;box-sizing: border-box;padding-bottom: 0.4em;background-color: white;position: relative;}#sk-2c0f8b4a-fca5-471d-8ae9-b9a14e0c437d div.sk-label label {font-family: monospace;font-weight: bold;background-color: white;display: inline-block;line-height: 1.2em;}#sk-2c0f8b4a-fca5-471d-8ae9-b9a14e0c437d div.sk-label-container {position: relative;z-index: 2;text-align: center;}#sk-2c0f8b4a-fca5-471d-8ae9-b9a14e0c437d div.sk-container {/* jupyter's `normalize.less` sets `[hidden] { display: none; }` but bootstrap.min.css set `[hidden] { display: none !important; }` so we also need the `!important` here to be able to override the default hidden behavior on the sphinx rendered scikit-learn.org. See: https://github.com/scikit-learn/scikit-learn/issues/21755 */display: inline-block !important;position: relative;}#sk-2c0f8b4a-fca5-471d-8ae9-b9a14e0c437d div.sk-text-repr-fallback {display: none;}</style><div id=\"sk-2c0f8b4a-fca5-471d-8ae9-b9a14e0c437d\" class=\"sk-top-container\"><div class=\"sk-text-repr-fallback\"><pre>Pipeline(steps=[(&#x27;my_imputer&#x27;, SimpleImputer()), (&#x27;scaler&#x27;, StandardScaler())])</pre><b>Please rerun this cell to show the HTML repr or trust the notebook.</b></div><div class=\"sk-container\" hidden><div class=\"sk-item sk-dashed-wrapped\"><div class=\"sk-label-container\"><div class=\"sk-label sk-toggleable\"><input class=\"sk-toggleable__control sk-hidden--visually\" id=\"b8226fbf-cff0-48f4-9deb-2c13baabe5bc\" type=\"checkbox\" ><label for=\"b8226fbf-cff0-48f4-9deb-2c13baabe5bc\" class=\"sk-toggleable__label sk-toggleable__label-arrow\">Pipeline</label><div class=\"sk-toggleable__content\"><pre>Pipeline(steps=[(&#x27;my_imputer&#x27;, SimpleImputer()), (&#x27;scaler&#x27;, StandardScaler())])</pre></div></div></div><div class=\"sk-serial\"><div class=\"sk-item\"><div class=\"sk-estimator sk-toggleable\"><input class=\"sk-toggleable__control sk-hidden--visually\" id=\"afd16d93-66b1-47a9-9e62-3d874526d597\" type=\"checkbox\" ><label for=\"afd16d93-66b1-47a9-9e62-3d874526d597\" class=\"sk-toggleable__label sk-toggleable__label-arrow\">SimpleImputer</label><div class=\"sk-toggleable__content\"><pre>SimpleImputer()</pre></div></div></div><div class=\"sk-item\"><div class=\"sk-estimator sk-toggleable\"><input class=\"sk-toggleable__control sk-hidden--visually\" id=\"bfbb8527-4cfe-4fab-ac82-3faf30b5b3ad\" type=\"checkbox\" ><label for=\"bfbb8527-4cfe-4fab-ac82-3faf30b5b3ad\" class=\"sk-toggleable__label sk-toggleable__label-arrow\">StandardScaler</label><div class=\"sk-toggleable__content\"><pre>StandardScaler()</pre></div></div></div></div></div></div></div>"
      ],
      "text/plain": [
       "Pipeline(steps=[('my_imputer', SimpleImputer()), ('scaler', StandardScaler())])"
      ]
     },
     "execution_count": 7,
     "metadata": {},
     "output_type": "execute_result"
    }
   ],
   "source": [
    "pipe"
   ]
  },
  {
   "cell_type": "code",
   "execution_count": 6,
   "id": "9aad9ac1",
   "metadata": {
    "scrolled": true
   },
   "outputs": [
    {
     "data": {
      "text/html": [
       "<style>#sk-76d4376d-b821-4c0a-80be-da747317c340 {color: black;background-color: white;}#sk-76d4376d-b821-4c0a-80be-da747317c340 pre{padding: 0;}#sk-76d4376d-b821-4c0a-80be-da747317c340 div.sk-toggleable {background-color: white;}#sk-76d4376d-b821-4c0a-80be-da747317c340 label.sk-toggleable__label {cursor: pointer;display: block;width: 100%;margin-bottom: 0;padding: 0.3em;box-sizing: border-box;text-align: center;}#sk-76d4376d-b821-4c0a-80be-da747317c340 label.sk-toggleable__label-arrow:before {content: \"▸\";float: left;margin-right: 0.25em;color: #696969;}#sk-76d4376d-b821-4c0a-80be-da747317c340 label.sk-toggleable__label-arrow:hover:before {color: black;}#sk-76d4376d-b821-4c0a-80be-da747317c340 div.sk-estimator:hover label.sk-toggleable__label-arrow:before {color: black;}#sk-76d4376d-b821-4c0a-80be-da747317c340 div.sk-toggleable__content {max-height: 0;max-width: 0;overflow: hidden;text-align: left;background-color: #f0f8ff;}#sk-76d4376d-b821-4c0a-80be-da747317c340 div.sk-toggleable__content pre {margin: 0.2em;color: black;border-radius: 0.25em;background-color: #f0f8ff;}#sk-76d4376d-b821-4c0a-80be-da747317c340 input.sk-toggleable__control:checked~div.sk-toggleable__content {max-height: 200px;max-width: 100%;overflow: auto;}#sk-76d4376d-b821-4c0a-80be-da747317c340 input.sk-toggleable__control:checked~label.sk-toggleable__label-arrow:before {content: \"▾\";}#sk-76d4376d-b821-4c0a-80be-da747317c340 div.sk-estimator input.sk-toggleable__control:checked~label.sk-toggleable__label {background-color: #d4ebff;}#sk-76d4376d-b821-4c0a-80be-da747317c340 div.sk-label input.sk-toggleable__control:checked~label.sk-toggleable__label {background-color: #d4ebff;}#sk-76d4376d-b821-4c0a-80be-da747317c340 input.sk-hidden--visually {border: 0;clip: rect(1px 1px 1px 1px);clip: rect(1px, 1px, 1px, 1px);height: 1px;margin: -1px;overflow: hidden;padding: 0;position: absolute;width: 1px;}#sk-76d4376d-b821-4c0a-80be-da747317c340 div.sk-estimator {font-family: monospace;background-color: #f0f8ff;border: 1px dotted black;border-radius: 0.25em;box-sizing: border-box;margin-bottom: 0.5em;}#sk-76d4376d-b821-4c0a-80be-da747317c340 div.sk-estimator:hover {background-color: #d4ebff;}#sk-76d4376d-b821-4c0a-80be-da747317c340 div.sk-parallel-item::after {content: \"\";width: 100%;border-bottom: 1px solid gray;flex-grow: 1;}#sk-76d4376d-b821-4c0a-80be-da747317c340 div.sk-label:hover label.sk-toggleable__label {background-color: #d4ebff;}#sk-76d4376d-b821-4c0a-80be-da747317c340 div.sk-serial::before {content: \"\";position: absolute;border-left: 1px solid gray;box-sizing: border-box;top: 2em;bottom: 0;left: 50%;}#sk-76d4376d-b821-4c0a-80be-da747317c340 div.sk-serial {display: flex;flex-direction: column;align-items: center;background-color: white;padding-right: 0.2em;padding-left: 0.2em;}#sk-76d4376d-b821-4c0a-80be-da747317c340 div.sk-item {z-index: 1;}#sk-76d4376d-b821-4c0a-80be-da747317c340 div.sk-parallel {display: flex;align-items: stretch;justify-content: center;background-color: white;}#sk-76d4376d-b821-4c0a-80be-da747317c340 div.sk-parallel::before {content: \"\";position: absolute;border-left: 1px solid gray;box-sizing: border-box;top: 2em;bottom: 0;left: 50%;}#sk-76d4376d-b821-4c0a-80be-da747317c340 div.sk-parallel-item {display: flex;flex-direction: column;position: relative;background-color: white;}#sk-76d4376d-b821-4c0a-80be-da747317c340 div.sk-parallel-item:first-child::after {align-self: flex-end;width: 50%;}#sk-76d4376d-b821-4c0a-80be-da747317c340 div.sk-parallel-item:last-child::after {align-self: flex-start;width: 50%;}#sk-76d4376d-b821-4c0a-80be-da747317c340 div.sk-parallel-item:only-child::after {width: 0;}#sk-76d4376d-b821-4c0a-80be-da747317c340 div.sk-dashed-wrapped {border: 1px dashed gray;margin: 0 0.4em 0.5em 0.4em;box-sizing: border-box;padding-bottom: 0.4em;background-color: white;position: relative;}#sk-76d4376d-b821-4c0a-80be-da747317c340 div.sk-label label {font-family: monospace;font-weight: bold;background-color: white;display: inline-block;line-height: 1.2em;}#sk-76d4376d-b821-4c0a-80be-da747317c340 div.sk-label-container {position: relative;z-index: 2;text-align: center;}#sk-76d4376d-b821-4c0a-80be-da747317c340 div.sk-container {/* jupyter's `normalize.less` sets `[hidden] { display: none; }` but bootstrap.min.css set `[hidden] { display: none !important; }` so we also need the `!important` here to be able to override the default hidden behavior on the sphinx rendered scikit-learn.org. See: https://github.com/scikit-learn/scikit-learn/issues/21755 */display: inline-block !important;position: relative;}#sk-76d4376d-b821-4c0a-80be-da747317c340 div.sk-text-repr-fallback {display: none;}</style><div id=\"sk-76d4376d-b821-4c0a-80be-da747317c340\" class=\"sk-top-container\"><div class=\"sk-text-repr-fallback\"><pre>SimpleImputer()</pre><b>Please rerun this cell to show the HTML repr or trust the notebook.</b></div><div class=\"sk-container\" hidden><div class=\"sk-item\"><div class=\"sk-estimator sk-toggleable\"><input class=\"sk-toggleable__control sk-hidden--visually\" id=\"eae51f4b-065d-4884-bc18-c7b3c50b9f1f\" type=\"checkbox\" checked><label for=\"eae51f4b-065d-4884-bc18-c7b3c50b9f1f\" class=\"sk-toggleable__label sk-toggleable__label-arrow\">SimpleImputer</label><div class=\"sk-toggleable__content\"><pre>SimpleImputer()</pre></div></div></div></div></div>"
      ],
      "text/plain": [
       "SimpleImputer()"
      ]
     },
     "execution_count": 6,
     "metadata": {},
     "output_type": "execute_result"
    }
   ],
   "source": [
    "# access steps\n",
    "pipe[1]\n",
    "pipe['my_imputer']"
   ]
  },
  {
   "cell_type": "markdown",
   "id": "d2ed374d",
   "metadata": {},
   "source": [
    "### **b) Column Transformer ⑂**"
   ]
  },
  {
   "cell_type": "markdown",
   "id": "98fd5127",
   "metadata": {},
   "source": [
    "Apply specific changes to specific columns in parallel"
   ]
  },
  {
   "cell_type": "code",
   "execution_count": 8,
   "id": "fadca641",
   "metadata": {},
   "outputs": [],
   "source": [
    "# from sklearn.preprocessing import OneHotEncoder\n",
    "# from sklearn.compose import ColumnTransformer\n",
    "\n",
    "# Impute then Scale for numerical variables: \n",
    "num_transformer = Pipeline([\n",
    "    ('imputer', SimpleImputer()),\n",
    "    ('scaler', StandardScaler())])\n",
    "\n",
    "# Encode categorical variables\n",
    "cat_transformer = OneHotEncoder(handle_unknown='ignore')\n",
    "\n",
    "# Paralellize \"num_transformer\" and \"One hot encoder\"\n",
    "preprocessor = ColumnTransformer([\n",
    "    ('num_tr', num_transformer, ['age','bmi']),\n",
    "    ('cat_tr', cat_transformer, ['smoker', 'region'])])"
   ]
  },
  {
   "cell_type": "code",
   "execution_count": 9,
   "id": "13763cd7",
   "metadata": {
    "scrolled": true
   },
   "outputs": [
    {
     "data": {
      "text/html": [
       "<style>#sk-bdc03b51-be31-4c1f-858c-5ebdd4f5469a {color: black;background-color: white;}#sk-bdc03b51-be31-4c1f-858c-5ebdd4f5469a pre{padding: 0;}#sk-bdc03b51-be31-4c1f-858c-5ebdd4f5469a div.sk-toggleable {background-color: white;}#sk-bdc03b51-be31-4c1f-858c-5ebdd4f5469a label.sk-toggleable__label {cursor: pointer;display: block;width: 100%;margin-bottom: 0;padding: 0.3em;box-sizing: border-box;text-align: center;}#sk-bdc03b51-be31-4c1f-858c-5ebdd4f5469a label.sk-toggleable__label-arrow:before {content: \"▸\";float: left;margin-right: 0.25em;color: #696969;}#sk-bdc03b51-be31-4c1f-858c-5ebdd4f5469a label.sk-toggleable__label-arrow:hover:before {color: black;}#sk-bdc03b51-be31-4c1f-858c-5ebdd4f5469a div.sk-estimator:hover label.sk-toggleable__label-arrow:before {color: black;}#sk-bdc03b51-be31-4c1f-858c-5ebdd4f5469a div.sk-toggleable__content {max-height: 0;max-width: 0;overflow: hidden;text-align: left;background-color: #f0f8ff;}#sk-bdc03b51-be31-4c1f-858c-5ebdd4f5469a div.sk-toggleable__content pre {margin: 0.2em;color: black;border-radius: 0.25em;background-color: #f0f8ff;}#sk-bdc03b51-be31-4c1f-858c-5ebdd4f5469a input.sk-toggleable__control:checked~div.sk-toggleable__content {max-height: 200px;max-width: 100%;overflow: auto;}#sk-bdc03b51-be31-4c1f-858c-5ebdd4f5469a input.sk-toggleable__control:checked~label.sk-toggleable__label-arrow:before {content: \"▾\";}#sk-bdc03b51-be31-4c1f-858c-5ebdd4f5469a div.sk-estimator input.sk-toggleable__control:checked~label.sk-toggleable__label {background-color: #d4ebff;}#sk-bdc03b51-be31-4c1f-858c-5ebdd4f5469a div.sk-label input.sk-toggleable__control:checked~label.sk-toggleable__label {background-color: #d4ebff;}#sk-bdc03b51-be31-4c1f-858c-5ebdd4f5469a input.sk-hidden--visually {border: 0;clip: rect(1px 1px 1px 1px);clip: rect(1px, 1px, 1px, 1px);height: 1px;margin: -1px;overflow: hidden;padding: 0;position: absolute;width: 1px;}#sk-bdc03b51-be31-4c1f-858c-5ebdd4f5469a div.sk-estimator {font-family: monospace;background-color: #f0f8ff;border: 1px dotted black;border-radius: 0.25em;box-sizing: border-box;margin-bottom: 0.5em;}#sk-bdc03b51-be31-4c1f-858c-5ebdd4f5469a div.sk-estimator:hover {background-color: #d4ebff;}#sk-bdc03b51-be31-4c1f-858c-5ebdd4f5469a div.sk-parallel-item::after {content: \"\";width: 100%;border-bottom: 1px solid gray;flex-grow: 1;}#sk-bdc03b51-be31-4c1f-858c-5ebdd4f5469a div.sk-label:hover label.sk-toggleable__label {background-color: #d4ebff;}#sk-bdc03b51-be31-4c1f-858c-5ebdd4f5469a div.sk-serial::before {content: \"\";position: absolute;border-left: 1px solid gray;box-sizing: border-box;top: 2em;bottom: 0;left: 50%;}#sk-bdc03b51-be31-4c1f-858c-5ebdd4f5469a div.sk-serial {display: flex;flex-direction: column;align-items: center;background-color: white;padding-right: 0.2em;padding-left: 0.2em;}#sk-bdc03b51-be31-4c1f-858c-5ebdd4f5469a div.sk-item {z-index: 1;}#sk-bdc03b51-be31-4c1f-858c-5ebdd4f5469a div.sk-parallel {display: flex;align-items: stretch;justify-content: center;background-color: white;}#sk-bdc03b51-be31-4c1f-858c-5ebdd4f5469a div.sk-parallel::before {content: \"\";position: absolute;border-left: 1px solid gray;box-sizing: border-box;top: 2em;bottom: 0;left: 50%;}#sk-bdc03b51-be31-4c1f-858c-5ebdd4f5469a div.sk-parallel-item {display: flex;flex-direction: column;position: relative;background-color: white;}#sk-bdc03b51-be31-4c1f-858c-5ebdd4f5469a div.sk-parallel-item:first-child::after {align-self: flex-end;width: 50%;}#sk-bdc03b51-be31-4c1f-858c-5ebdd4f5469a div.sk-parallel-item:last-child::after {align-self: flex-start;width: 50%;}#sk-bdc03b51-be31-4c1f-858c-5ebdd4f5469a div.sk-parallel-item:only-child::after {width: 0;}#sk-bdc03b51-be31-4c1f-858c-5ebdd4f5469a div.sk-dashed-wrapped {border: 1px dashed gray;margin: 0 0.4em 0.5em 0.4em;box-sizing: border-box;padding-bottom: 0.4em;background-color: white;position: relative;}#sk-bdc03b51-be31-4c1f-858c-5ebdd4f5469a div.sk-label label {font-family: monospace;font-weight: bold;background-color: white;display: inline-block;line-height: 1.2em;}#sk-bdc03b51-be31-4c1f-858c-5ebdd4f5469a div.sk-label-container {position: relative;z-index: 2;text-align: center;}#sk-bdc03b51-be31-4c1f-858c-5ebdd4f5469a div.sk-container {/* jupyter's `normalize.less` sets `[hidden] { display: none; }` but bootstrap.min.css set `[hidden] { display: none !important; }` so we also need the `!important` here to be able to override the default hidden behavior on the sphinx rendered scikit-learn.org. See: https://github.com/scikit-learn/scikit-learn/issues/21755 */display: inline-block !important;position: relative;}#sk-bdc03b51-be31-4c1f-858c-5ebdd4f5469a div.sk-text-repr-fallback {display: none;}</style><div id=\"sk-bdc03b51-be31-4c1f-858c-5ebdd4f5469a\" class=\"sk-top-container\"><div class=\"sk-text-repr-fallback\"><pre>ColumnTransformer(transformers=[(&#x27;num_tr&#x27;,\n",
       "                                 Pipeline(steps=[(&#x27;imputer&#x27;, SimpleImputer()),\n",
       "                                                 (&#x27;scaler&#x27;, StandardScaler())]),\n",
       "                                 [&#x27;age&#x27;, &#x27;bmi&#x27;]),\n",
       "                                (&#x27;cat_tr&#x27;,\n",
       "                                 OneHotEncoder(handle_unknown=&#x27;ignore&#x27;),\n",
       "                                 [&#x27;smoker&#x27;, &#x27;region&#x27;])])</pre><b>Please rerun this cell to show the HTML repr or trust the notebook.</b></div><div class=\"sk-container\" hidden><div class=\"sk-item sk-dashed-wrapped\"><div class=\"sk-label-container\"><div class=\"sk-label sk-toggleable\"><input class=\"sk-toggleable__control sk-hidden--visually\" id=\"fb27ceb2-4e69-4c3f-8d43-c8858cf4414d\" type=\"checkbox\" ><label for=\"fb27ceb2-4e69-4c3f-8d43-c8858cf4414d\" class=\"sk-toggleable__label sk-toggleable__label-arrow\">ColumnTransformer</label><div class=\"sk-toggleable__content\"><pre>ColumnTransformer(transformers=[(&#x27;num_tr&#x27;,\n",
       "                                 Pipeline(steps=[(&#x27;imputer&#x27;, SimpleImputer()),\n",
       "                                                 (&#x27;scaler&#x27;, StandardScaler())]),\n",
       "                                 [&#x27;age&#x27;, &#x27;bmi&#x27;]),\n",
       "                                (&#x27;cat_tr&#x27;,\n",
       "                                 OneHotEncoder(handle_unknown=&#x27;ignore&#x27;),\n",
       "                                 [&#x27;smoker&#x27;, &#x27;region&#x27;])])</pre></div></div></div><div class=\"sk-parallel\"><div class=\"sk-parallel-item\"><div class=\"sk-item\"><div class=\"sk-label-container\"><div class=\"sk-label sk-toggleable\"><input class=\"sk-toggleable__control sk-hidden--visually\" id=\"d0328c73-db6c-4692-ba52-daada2c779f2\" type=\"checkbox\" ><label for=\"d0328c73-db6c-4692-ba52-daada2c779f2\" class=\"sk-toggleable__label sk-toggleable__label-arrow\">num_tr</label><div class=\"sk-toggleable__content\"><pre>[&#x27;age&#x27;, &#x27;bmi&#x27;]</pre></div></div></div><div class=\"sk-serial\"><div class=\"sk-item\"><div class=\"sk-serial\"><div class=\"sk-item\"><div class=\"sk-estimator sk-toggleable\"><input class=\"sk-toggleable__control sk-hidden--visually\" id=\"b148c0d7-a120-4bd5-8e52-81fbb417f1da\" type=\"checkbox\" ><label for=\"b148c0d7-a120-4bd5-8e52-81fbb417f1da\" class=\"sk-toggleable__label sk-toggleable__label-arrow\">SimpleImputer</label><div class=\"sk-toggleable__content\"><pre>SimpleImputer()</pre></div></div></div><div class=\"sk-item\"><div class=\"sk-estimator sk-toggleable\"><input class=\"sk-toggleable__control sk-hidden--visually\" id=\"7e8edffd-a4c6-4d21-80d2-18a59411574e\" type=\"checkbox\" ><label for=\"7e8edffd-a4c6-4d21-80d2-18a59411574e\" class=\"sk-toggleable__label sk-toggleable__label-arrow\">StandardScaler</label><div class=\"sk-toggleable__content\"><pre>StandardScaler()</pre></div></div></div></div></div></div></div></div><div class=\"sk-parallel-item\"><div class=\"sk-item\"><div class=\"sk-label-container\"><div class=\"sk-label sk-toggleable\"><input class=\"sk-toggleable__control sk-hidden--visually\" id=\"b388d142-45aa-43c6-89cd-5c372c965af6\" type=\"checkbox\" ><label for=\"b388d142-45aa-43c6-89cd-5c372c965af6\" class=\"sk-toggleable__label sk-toggleable__label-arrow\">cat_tr</label><div class=\"sk-toggleable__content\"><pre>[&#x27;smoker&#x27;, &#x27;region&#x27;]</pre></div></div></div><div class=\"sk-serial\"><div class=\"sk-item\"><div class=\"sk-estimator sk-toggleable\"><input class=\"sk-toggleable__control sk-hidden--visually\" id=\"a2db750c-8fc7-45fb-bb07-482f3aaecbca\" type=\"checkbox\" ><label for=\"a2db750c-8fc7-45fb-bb07-482f3aaecbca\" class=\"sk-toggleable__label sk-toggleable__label-arrow\">OneHotEncoder</label><div class=\"sk-toggleable__content\"><pre>OneHotEncoder(handle_unknown=&#x27;ignore&#x27;)</pre></div></div></div></div></div></div></div></div></div></div>"
      ],
      "text/plain": [
       "ColumnTransformer(transformers=[('num_tr',\n",
       "                                 Pipeline(steps=[('imputer', SimpleImputer()),\n",
       "                                                 ('scaler', StandardScaler())]),\n",
       "                                 ['age', 'bmi']),\n",
       "                                ('cat_tr',\n",
       "                                 OneHotEncoder(handle_unknown='ignore'),\n",
       "                                 ['smoker', 'region'])])"
      ]
     },
     "execution_count": 9,
     "metadata": {},
     "output_type": "execute_result"
    }
   ],
   "source": [
    "# from sklearn import set_config; set_config(display='diagram')\n",
    "\n",
    "# visualizing pipelines in HTML\n",
    "preprocessor"
   ]
  },
  {
   "cell_type": "code",
   "execution_count": 10,
   "id": "e7b382c3",
   "metadata": {},
   "outputs": [
    {
     "data": {
      "text/html": [
       "<div>\n",
       "<style scoped>\n",
       "    .dataframe tbody tr th:only-of-type {\n",
       "        vertical-align: middle;\n",
       "    }\n",
       "\n",
       "    .dataframe tbody tr th {\n",
       "        vertical-align: top;\n",
       "    }\n",
       "\n",
       "    .dataframe thead th {\n",
       "        text-align: right;\n",
       "    }\n",
       "</style>\n",
       "<table border=\"1\" class=\"dataframe\">\n",
       "  <thead>\n",
       "    <tr style=\"text-align: right;\">\n",
       "      <th></th>\n",
       "      <th>age</th>\n",
       "      <th>bmi</th>\n",
       "      <th>children</th>\n",
       "      <th>smoker</th>\n",
       "      <th>region</th>\n",
       "    </tr>\n",
       "  </thead>\n",
       "  <tbody>\n",
       "    <tr>\n",
       "      <th>0</th>\n",
       "      <td>19.0</td>\n",
       "      <td>27.90</td>\n",
       "      <td>0</td>\n",
       "      <td>True</td>\n",
       "      <td>southwest</td>\n",
       "    </tr>\n",
       "    <tr>\n",
       "      <th>1</th>\n",
       "      <td>18.0</td>\n",
       "      <td>33.77</td>\n",
       "      <td>1</td>\n",
       "      <td>False</td>\n",
       "      <td>southeast</td>\n",
       "    </tr>\n",
       "    <tr>\n",
       "      <th>2</th>\n",
       "      <td>NaN</td>\n",
       "      <td>33.00</td>\n",
       "      <td>3</td>\n",
       "      <td>False</td>\n",
       "      <td>southeast</td>\n",
       "    </tr>\n",
       "  </tbody>\n",
       "</table>\n",
       "</div>"
      ],
      "text/plain": [
       "    age    bmi  children  smoker     region\n",
       "0  19.0  27.90         0    True  southwest\n",
       "1  18.0  33.77         1   False  southeast\n",
       "2   NaN  33.00         3   False  southeast"
      ]
     },
     "metadata": {},
     "output_type": "display_data"
    },
    {
     "data": {
      "text/html": [
       "<div>\n",
       "<style scoped>\n",
       "    .dataframe tbody tr th:only-of-type {\n",
       "        vertical-align: middle;\n",
       "    }\n",
       "\n",
       "    .dataframe tbody tr th {\n",
       "        vertical-align: top;\n",
       "    }\n",
       "\n",
       "    .dataframe thead th {\n",
       "        text-align: right;\n",
       "    }\n",
       "</style>\n",
       "<table border=\"1\" class=\"dataframe\">\n",
       "  <thead>\n",
       "    <tr style=\"text-align: right;\">\n",
       "      <th></th>\n",
       "      <th>0</th>\n",
       "      <th>1</th>\n",
       "      <th>2</th>\n",
       "      <th>3</th>\n",
       "      <th>4</th>\n",
       "      <th>5</th>\n",
       "      <th>6</th>\n",
       "      <th>7</th>\n",
       "    </tr>\n",
       "  </thead>\n",
       "  <tbody>\n",
       "    <tr>\n",
       "      <th>0</th>\n",
       "      <td>-1.455660</td>\n",
       "      <td>-0.479092</td>\n",
       "      <td>0.0</td>\n",
       "      <td>1.0</td>\n",
       "      <td>0.0</td>\n",
       "      <td>0.0</td>\n",
       "      <td>0.0</td>\n",
       "      <td>1.0</td>\n",
       "    </tr>\n",
       "    <tr>\n",
       "      <th>1</th>\n",
       "      <td>-1.526441</td>\n",
       "      <td>0.492337</td>\n",
       "      <td>1.0</td>\n",
       "      <td>0.0</td>\n",
       "      <td>0.0</td>\n",
       "      <td>0.0</td>\n",
       "      <td>1.0</td>\n",
       "      <td>0.0</td>\n",
       "    </tr>\n",
       "    <tr>\n",
       "      <th>2</th>\n",
       "      <td>0.000000</td>\n",
       "      <td>0.364910</td>\n",
       "      <td>1.0</td>\n",
       "      <td>0.0</td>\n",
       "      <td>0.0</td>\n",
       "      <td>0.0</td>\n",
       "      <td>1.0</td>\n",
       "      <td>0.0</td>\n",
       "    </tr>\n",
       "  </tbody>\n",
       "</table>\n",
       "</div>"
      ],
      "text/plain": [
       "          0         1    2    3    4    5    6    7\n",
       "0 -1.455660 -0.479092  0.0  1.0  0.0  0.0  0.0  1.0\n",
       "1 -1.526441  0.492337  1.0  0.0  0.0  0.0  1.0  0.0\n",
       "2  0.000000  0.364910  1.0  0.0  0.0  0.0  1.0  0.0"
      ]
     },
     "metadata": {},
     "output_type": "display_data"
    }
   ],
   "source": [
    "X_train_transformed = preprocessor.fit_transform(X_train)\n",
    "\n",
    "display(X_train.head(3))\n",
    "display(pd.DataFrame(X_train_transformed).head(3))"
   ]
  },
  {
   "cell_type": "markdown",
   "id": "0b15f99b",
   "metadata": {},
   "source": [
    "🤔 Where are the column names?"
   ]
  },
  {
   "cell_type": "markdown",
   "id": "1a5b0c27",
   "metadata": {},
   "source": [
    "👉 get_feature_names_out()"
   ]
  },
  {
   "cell_type": "code",
   "execution_count": 11,
   "id": "069784fe",
   "metadata": {},
   "outputs": [],
   "source": [
    "# This should be fixed in Scikit-Learn 1.0.2: all transformers will have this method.\n",
    "# SimpleImputer does not have a get_feature_names_out, so we need to add it manually.\n",
    "SimpleImputer.get_feature_names_out = (lambda self, names=None: self.feature_names_in_)"
   ]
  },
  {
   "cell_type": "code",
   "execution_count": 12,
   "id": "e6deb81d",
   "metadata": {},
   "outputs": [
    {
     "data": {
      "text/plain": [
       "array(['num_tr__age', 'num_tr__bmi', 'cat_tr__smoker_False',\n",
       "       'cat_tr__smoker_True', 'cat_tr__region_northeast',\n",
       "       'cat_tr__region_northwest', 'cat_tr__region_southeast',\n",
       "       'cat_tr__region_southwest'], dtype=object)"
      ]
     },
     "execution_count": 12,
     "metadata": {},
     "output_type": "execute_result"
    }
   ],
   "source": [
    "preprocessor.get_feature_names_out()"
   ]
  },
  {
   "cell_type": "code",
   "execution_count": 13,
   "id": "0a6fe9d1",
   "metadata": {},
   "outputs": [
    {
     "data": {
      "text/html": [
       "<div>\n",
       "<style scoped>\n",
       "    .dataframe tbody tr th:only-of-type {\n",
       "        vertical-align: middle;\n",
       "    }\n",
       "\n",
       "    .dataframe tbody tr th {\n",
       "        vertical-align: top;\n",
       "    }\n",
       "\n",
       "    .dataframe thead th {\n",
       "        text-align: right;\n",
       "    }\n",
       "</style>\n",
       "<table border=\"1\" class=\"dataframe\">\n",
       "  <thead>\n",
       "    <tr style=\"text-align: right;\">\n",
       "      <th></th>\n",
       "      <th>num_tr__age</th>\n",
       "      <th>num_tr__bmi</th>\n",
       "      <th>cat_tr__smoker_False</th>\n",
       "      <th>cat_tr__smoker_True</th>\n",
       "      <th>cat_tr__region_northeast</th>\n",
       "      <th>cat_tr__region_northwest</th>\n",
       "      <th>cat_tr__region_southeast</th>\n",
       "      <th>cat_tr__region_southwest</th>\n",
       "    </tr>\n",
       "  </thead>\n",
       "  <tbody>\n",
       "    <tr>\n",
       "      <th>0</th>\n",
       "      <td>-1.455660</td>\n",
       "      <td>-0.479092</td>\n",
       "      <td>0.0</td>\n",
       "      <td>1.0</td>\n",
       "      <td>0.0</td>\n",
       "      <td>0.0</td>\n",
       "      <td>0.0</td>\n",
       "      <td>1.0</td>\n",
       "    </tr>\n",
       "    <tr>\n",
       "      <th>1</th>\n",
       "      <td>-1.526441</td>\n",
       "      <td>0.492337</td>\n",
       "      <td>1.0</td>\n",
       "      <td>0.0</td>\n",
       "      <td>0.0</td>\n",
       "      <td>0.0</td>\n",
       "      <td>1.0</td>\n",
       "      <td>0.0</td>\n",
       "    </tr>\n",
       "    <tr>\n",
       "      <th>2</th>\n",
       "      <td>0.000000</td>\n",
       "      <td>0.364910</td>\n",
       "      <td>1.0</td>\n",
       "      <td>0.0</td>\n",
       "      <td>0.0</td>\n",
       "      <td>0.0</td>\n",
       "      <td>1.0</td>\n",
       "      <td>0.0</td>\n",
       "    </tr>\n",
       "    <tr>\n",
       "      <th>3</th>\n",
       "      <td>-0.464726</td>\n",
       "      <td>-1.338815</td>\n",
       "      <td>1.0</td>\n",
       "      <td>0.0</td>\n",
       "      <td>0.0</td>\n",
       "      <td>1.0</td>\n",
       "      <td>0.0</td>\n",
       "      <td>0.0</td>\n",
       "    </tr>\n",
       "    <tr>\n",
       "      <th>4</th>\n",
       "      <td>-0.535507</td>\n",
       "      <td>-0.316911</td>\n",
       "      <td>1.0</td>\n",
       "      <td>0.0</td>\n",
       "      <td>0.0</td>\n",
       "      <td>1.0</td>\n",
       "      <td>0.0</td>\n",
       "      <td>0.0</td>\n",
       "    </tr>\n",
       "  </tbody>\n",
       "</table>\n",
       "</div>"
      ],
      "text/plain": [
       "   num_tr__age  num_tr__bmi  cat_tr__smoker_False  cat_tr__smoker_True  \\\n",
       "0    -1.455660    -0.479092                   0.0                  1.0   \n",
       "1    -1.526441     0.492337                   1.0                  0.0   \n",
       "2     0.000000     0.364910                   1.0                  0.0   \n",
       "3    -0.464726    -1.338815                   1.0                  0.0   \n",
       "4    -0.535507    -0.316911                   1.0                  0.0   \n",
       "\n",
       "   cat_tr__region_northeast  cat_tr__region_northwest  \\\n",
       "0                       0.0                       0.0   \n",
       "1                       0.0                       0.0   \n",
       "2                       0.0                       0.0   \n",
       "3                       0.0                       1.0   \n",
       "4                       0.0                       1.0   \n",
       "\n",
       "   cat_tr__region_southeast  cat_tr__region_southwest  \n",
       "0                       0.0                       1.0  \n",
       "1                       1.0                       0.0  \n",
       "2                       1.0                       0.0  \n",
       "3                       0.0                       0.0  \n",
       "4                       0.0                       0.0  "
      ]
     },
     "execution_count": 13,
     "metadata": {},
     "output_type": "execute_result"
    }
   ],
   "source": [
    "pd.DataFrame(X_train_transformed, \n",
    "             columns=preprocessor.get_feature_names_out()\n",
    "            ).head()"
   ]
  },
  {
   "cell_type": "markdown",
   "id": "58a834e5",
   "metadata": {},
   "source": [
    "🤔 What happened to children column ? What if we want to keep it untouched?"
   ]
  },
  {
   "cell_type": "markdown",
   "id": "675cbf3e",
   "metadata": {},
   "source": [
    "👉 remainder=passthrough"
   ]
  },
  {
   "cell_type": "code",
   "execution_count": 14,
   "id": "011f91a7",
   "metadata": {
    "scrolled": true
   },
   "outputs": [
    {
     "data": {
      "text/html": [
       "<style>#sk-e075cac8-cfc7-44cb-b03b-a4b4eca13850 {color: black;background-color: white;}#sk-e075cac8-cfc7-44cb-b03b-a4b4eca13850 pre{padding: 0;}#sk-e075cac8-cfc7-44cb-b03b-a4b4eca13850 div.sk-toggleable {background-color: white;}#sk-e075cac8-cfc7-44cb-b03b-a4b4eca13850 label.sk-toggleable__label {cursor: pointer;display: block;width: 100%;margin-bottom: 0;padding: 0.3em;box-sizing: border-box;text-align: center;}#sk-e075cac8-cfc7-44cb-b03b-a4b4eca13850 label.sk-toggleable__label-arrow:before {content: \"▸\";float: left;margin-right: 0.25em;color: #696969;}#sk-e075cac8-cfc7-44cb-b03b-a4b4eca13850 label.sk-toggleable__label-arrow:hover:before {color: black;}#sk-e075cac8-cfc7-44cb-b03b-a4b4eca13850 div.sk-estimator:hover label.sk-toggleable__label-arrow:before {color: black;}#sk-e075cac8-cfc7-44cb-b03b-a4b4eca13850 div.sk-toggleable__content {max-height: 0;max-width: 0;overflow: hidden;text-align: left;background-color: #f0f8ff;}#sk-e075cac8-cfc7-44cb-b03b-a4b4eca13850 div.sk-toggleable__content pre {margin: 0.2em;color: black;border-radius: 0.25em;background-color: #f0f8ff;}#sk-e075cac8-cfc7-44cb-b03b-a4b4eca13850 input.sk-toggleable__control:checked~div.sk-toggleable__content {max-height: 200px;max-width: 100%;overflow: auto;}#sk-e075cac8-cfc7-44cb-b03b-a4b4eca13850 input.sk-toggleable__control:checked~label.sk-toggleable__label-arrow:before {content: \"▾\";}#sk-e075cac8-cfc7-44cb-b03b-a4b4eca13850 div.sk-estimator input.sk-toggleable__control:checked~label.sk-toggleable__label {background-color: #d4ebff;}#sk-e075cac8-cfc7-44cb-b03b-a4b4eca13850 div.sk-label input.sk-toggleable__control:checked~label.sk-toggleable__label {background-color: #d4ebff;}#sk-e075cac8-cfc7-44cb-b03b-a4b4eca13850 input.sk-hidden--visually {border: 0;clip: rect(1px 1px 1px 1px);clip: rect(1px, 1px, 1px, 1px);height: 1px;margin: -1px;overflow: hidden;padding: 0;position: absolute;width: 1px;}#sk-e075cac8-cfc7-44cb-b03b-a4b4eca13850 div.sk-estimator {font-family: monospace;background-color: #f0f8ff;border: 1px dotted black;border-radius: 0.25em;box-sizing: border-box;margin-bottom: 0.5em;}#sk-e075cac8-cfc7-44cb-b03b-a4b4eca13850 div.sk-estimator:hover {background-color: #d4ebff;}#sk-e075cac8-cfc7-44cb-b03b-a4b4eca13850 div.sk-parallel-item::after {content: \"\";width: 100%;border-bottom: 1px solid gray;flex-grow: 1;}#sk-e075cac8-cfc7-44cb-b03b-a4b4eca13850 div.sk-label:hover label.sk-toggleable__label {background-color: #d4ebff;}#sk-e075cac8-cfc7-44cb-b03b-a4b4eca13850 div.sk-serial::before {content: \"\";position: absolute;border-left: 1px solid gray;box-sizing: border-box;top: 2em;bottom: 0;left: 50%;}#sk-e075cac8-cfc7-44cb-b03b-a4b4eca13850 div.sk-serial {display: flex;flex-direction: column;align-items: center;background-color: white;padding-right: 0.2em;padding-left: 0.2em;}#sk-e075cac8-cfc7-44cb-b03b-a4b4eca13850 div.sk-item {z-index: 1;}#sk-e075cac8-cfc7-44cb-b03b-a4b4eca13850 div.sk-parallel {display: flex;align-items: stretch;justify-content: center;background-color: white;}#sk-e075cac8-cfc7-44cb-b03b-a4b4eca13850 div.sk-parallel::before {content: \"\";position: absolute;border-left: 1px solid gray;box-sizing: border-box;top: 2em;bottom: 0;left: 50%;}#sk-e075cac8-cfc7-44cb-b03b-a4b4eca13850 div.sk-parallel-item {display: flex;flex-direction: column;position: relative;background-color: white;}#sk-e075cac8-cfc7-44cb-b03b-a4b4eca13850 div.sk-parallel-item:first-child::after {align-self: flex-end;width: 50%;}#sk-e075cac8-cfc7-44cb-b03b-a4b4eca13850 div.sk-parallel-item:last-child::after {align-self: flex-start;width: 50%;}#sk-e075cac8-cfc7-44cb-b03b-a4b4eca13850 div.sk-parallel-item:only-child::after {width: 0;}#sk-e075cac8-cfc7-44cb-b03b-a4b4eca13850 div.sk-dashed-wrapped {border: 1px dashed gray;margin: 0 0.4em 0.5em 0.4em;box-sizing: border-box;padding-bottom: 0.4em;background-color: white;position: relative;}#sk-e075cac8-cfc7-44cb-b03b-a4b4eca13850 div.sk-label label {font-family: monospace;font-weight: bold;background-color: white;display: inline-block;line-height: 1.2em;}#sk-e075cac8-cfc7-44cb-b03b-a4b4eca13850 div.sk-label-container {position: relative;z-index: 2;text-align: center;}#sk-e075cac8-cfc7-44cb-b03b-a4b4eca13850 div.sk-container {/* jupyter's `normalize.less` sets `[hidden] { display: none; }` but bootstrap.min.css set `[hidden] { display: none !important; }` so we also need the `!important` here to be able to override the default hidden behavior on the sphinx rendered scikit-learn.org. See: https://github.com/scikit-learn/scikit-learn/issues/21755 */display: inline-block !important;position: relative;}#sk-e075cac8-cfc7-44cb-b03b-a4b4eca13850 div.sk-text-repr-fallback {display: none;}</style><div id=\"sk-e075cac8-cfc7-44cb-b03b-a4b4eca13850\" class=\"sk-top-container\"><div class=\"sk-text-repr-fallback\"><pre>ColumnTransformer(remainder=&#x27;passthrough&#x27;,\n",
       "                  transformers=[(&#x27;num_tr&#x27;,\n",
       "                                 Pipeline(steps=[(&#x27;imputer&#x27;, SimpleImputer()),\n",
       "                                                 (&#x27;scaler&#x27;, StandardScaler())]),\n",
       "                                 [&#x27;age&#x27;, &#x27;bmi&#x27;]),\n",
       "                                (&#x27;cat_tr&#x27;,\n",
       "                                 OneHotEncoder(handle_unknown=&#x27;ignore&#x27;),\n",
       "                                 [&#x27;region&#x27;, &#x27;smoker&#x27;])])</pre><b>Please rerun this cell to show the HTML repr or trust the notebook.</b></div><div class=\"sk-container\" hidden><div class=\"sk-item sk-dashed-wrapped\"><div class=\"sk-label-container\"><div class=\"sk-label sk-toggleable\"><input class=\"sk-toggleable__control sk-hidden--visually\" id=\"517d1e9c-6194-4dc2-ae7d-8d7b396cd869\" type=\"checkbox\" ><label for=\"517d1e9c-6194-4dc2-ae7d-8d7b396cd869\" class=\"sk-toggleable__label sk-toggleable__label-arrow\">ColumnTransformer</label><div class=\"sk-toggleable__content\"><pre>ColumnTransformer(remainder=&#x27;passthrough&#x27;,\n",
       "                  transformers=[(&#x27;num_tr&#x27;,\n",
       "                                 Pipeline(steps=[(&#x27;imputer&#x27;, SimpleImputer()),\n",
       "                                                 (&#x27;scaler&#x27;, StandardScaler())]),\n",
       "                                 [&#x27;age&#x27;, &#x27;bmi&#x27;]),\n",
       "                                (&#x27;cat_tr&#x27;,\n",
       "                                 OneHotEncoder(handle_unknown=&#x27;ignore&#x27;),\n",
       "                                 [&#x27;region&#x27;, &#x27;smoker&#x27;])])</pre></div></div></div><div class=\"sk-parallel\"><div class=\"sk-parallel-item\"><div class=\"sk-item\"><div class=\"sk-label-container\"><div class=\"sk-label sk-toggleable\"><input class=\"sk-toggleable__control sk-hidden--visually\" id=\"ca293bbe-de3e-4384-a8c3-fc693a57bc3b\" type=\"checkbox\" ><label for=\"ca293bbe-de3e-4384-a8c3-fc693a57bc3b\" class=\"sk-toggleable__label sk-toggleable__label-arrow\">num_tr</label><div class=\"sk-toggleable__content\"><pre>[&#x27;age&#x27;, &#x27;bmi&#x27;]</pre></div></div></div><div class=\"sk-serial\"><div class=\"sk-item\"><div class=\"sk-serial\"><div class=\"sk-item\"><div class=\"sk-estimator sk-toggleable\"><input class=\"sk-toggleable__control sk-hidden--visually\" id=\"e7d7eba9-4799-4e8c-8d7a-0b21a6f7ac98\" type=\"checkbox\" ><label for=\"e7d7eba9-4799-4e8c-8d7a-0b21a6f7ac98\" class=\"sk-toggleable__label sk-toggleable__label-arrow\">SimpleImputer</label><div class=\"sk-toggleable__content\"><pre>SimpleImputer()</pre></div></div></div><div class=\"sk-item\"><div class=\"sk-estimator sk-toggleable\"><input class=\"sk-toggleable__control sk-hidden--visually\" id=\"f4df87dc-9fac-4aa5-980d-072a64e69670\" type=\"checkbox\" ><label for=\"f4df87dc-9fac-4aa5-980d-072a64e69670\" class=\"sk-toggleable__label sk-toggleable__label-arrow\">StandardScaler</label><div class=\"sk-toggleable__content\"><pre>StandardScaler()</pre></div></div></div></div></div></div></div></div><div class=\"sk-parallel-item\"><div class=\"sk-item\"><div class=\"sk-label-container\"><div class=\"sk-label sk-toggleable\"><input class=\"sk-toggleable__control sk-hidden--visually\" id=\"6900e67f-873f-42bf-bd7e-c1bf80e008cc\" type=\"checkbox\" ><label for=\"6900e67f-873f-42bf-bd7e-c1bf80e008cc\" class=\"sk-toggleable__label sk-toggleable__label-arrow\">cat_tr</label><div class=\"sk-toggleable__content\"><pre>[&#x27;region&#x27;, &#x27;smoker&#x27;]</pre></div></div></div><div class=\"sk-serial\"><div class=\"sk-item\"><div class=\"sk-estimator sk-toggleable\"><input class=\"sk-toggleable__control sk-hidden--visually\" id=\"a06c80b1-cc4a-4189-b4e6-9aa1f678907d\" type=\"checkbox\" ><label for=\"a06c80b1-cc4a-4189-b4e6-9aa1f678907d\" class=\"sk-toggleable__label sk-toggleable__label-arrow\">OneHotEncoder</label><div class=\"sk-toggleable__content\"><pre>OneHotEncoder(handle_unknown=&#x27;ignore&#x27;)</pre></div></div></div></div></div></div><div class=\"sk-parallel-item\"><div class=\"sk-item\"><div class=\"sk-label-container\"><div class=\"sk-label sk-toggleable\"><input class=\"sk-toggleable__control sk-hidden--visually\" id=\"0042ee58-b843-4cc2-a7ba-8dba5a66ad31\" type=\"checkbox\" ><label for=\"0042ee58-b843-4cc2-a7ba-8dba5a66ad31\" class=\"sk-toggleable__label sk-toggleable__label-arrow\">remainder</label><div class=\"sk-toggleable__content\"><pre></pre></div></div></div><div class=\"sk-serial\"><div class=\"sk-item\"><div class=\"sk-estimator sk-toggleable\"><input class=\"sk-toggleable__control sk-hidden--visually\" id=\"66b6a81e-3844-4183-a869-9d2ad56c2e76\" type=\"checkbox\" ><label for=\"66b6a81e-3844-4183-a869-9d2ad56c2e76\" class=\"sk-toggleable__label sk-toggleable__label-arrow\">passthrough</label><div class=\"sk-toggleable__content\"><pre>passthrough</pre></div></div></div></div></div></div></div></div></div></div>"
      ],
      "text/plain": [
       "ColumnTransformer(remainder='passthrough',\n",
       "                  transformers=[('num_tr',\n",
       "                                 Pipeline(steps=[('imputer', SimpleImputer()),\n",
       "                                                 ('scaler', StandardScaler())]),\n",
       "                                 ['age', 'bmi']),\n",
       "                                ('cat_tr',\n",
       "                                 OneHotEncoder(handle_unknown='ignore'),\n",
       "                                 ['region', 'smoker'])])"
      ]
     },
     "execution_count": 14,
     "metadata": {},
     "output_type": "execute_result"
    }
   ],
   "source": [
    "preprocessor = ColumnTransformer([\n",
    "    ('num_tr', num_transformer, ['age','bmi']),\n",
    "    ('cat_tr', cat_transformer, ['region','smoker'])],\n",
    "    remainder='passthrough')\n",
    "preprocessor"
   ]
  },
  {
   "cell_type": "code",
   "execution_count": 15,
   "id": "e958dd06",
   "metadata": {
    "scrolled": true
   },
   "outputs": [
    {
     "data": {
      "text/html": [
       "<div>\n",
       "<style scoped>\n",
       "    .dataframe tbody tr th:only-of-type {\n",
       "        vertical-align: middle;\n",
       "    }\n",
       "\n",
       "    .dataframe tbody tr th {\n",
       "        vertical-align: top;\n",
       "    }\n",
       "\n",
       "    .dataframe thead th {\n",
       "        text-align: right;\n",
       "    }\n",
       "</style>\n",
       "<table border=\"1\" class=\"dataframe\">\n",
       "  <thead>\n",
       "    <tr style=\"text-align: right;\">\n",
       "      <th></th>\n",
       "      <th>0</th>\n",
       "      <th>1</th>\n",
       "      <th>2</th>\n",
       "      <th>3</th>\n",
       "      <th>4</th>\n",
       "      <th>5</th>\n",
       "      <th>6</th>\n",
       "      <th>7</th>\n",
       "      <th>8</th>\n",
       "    </tr>\n",
       "  </thead>\n",
       "  <tbody>\n",
       "    <tr>\n",
       "      <th>0</th>\n",
       "      <td>-1.455660</td>\n",
       "      <td>-0.479092</td>\n",
       "      <td>0.0</td>\n",
       "      <td>0.0</td>\n",
       "      <td>0.0</td>\n",
       "      <td>1.0</td>\n",
       "      <td>0.0</td>\n",
       "      <td>1.0</td>\n",
       "      <td>0.0</td>\n",
       "    </tr>\n",
       "    <tr>\n",
       "      <th>1</th>\n",
       "      <td>-1.526441</td>\n",
       "      <td>0.492337</td>\n",
       "      <td>0.0</td>\n",
       "      <td>0.0</td>\n",
       "      <td>1.0</td>\n",
       "      <td>0.0</td>\n",
       "      <td>1.0</td>\n",
       "      <td>0.0</td>\n",
       "      <td>1.0</td>\n",
       "    </tr>\n",
       "    <tr>\n",
       "      <th>2</th>\n",
       "      <td>0.000000</td>\n",
       "      <td>0.364910</td>\n",
       "      <td>0.0</td>\n",
       "      <td>0.0</td>\n",
       "      <td>1.0</td>\n",
       "      <td>0.0</td>\n",
       "      <td>1.0</td>\n",
       "      <td>0.0</td>\n",
       "      <td>3.0</td>\n",
       "    </tr>\n",
       "  </tbody>\n",
       "</table>\n",
       "</div>"
      ],
      "text/plain": [
       "          0         1    2    3    4    5    6    7    8\n",
       "0 -1.455660 -0.479092  0.0  0.0  0.0  1.0  0.0  1.0  0.0\n",
       "1 -1.526441  0.492337  0.0  0.0  1.0  0.0  1.0  0.0  1.0\n",
       "2  0.000000  0.364910  0.0  0.0  1.0  0.0  1.0  0.0  3.0"
      ]
     },
     "execution_count": 15,
     "metadata": {},
     "output_type": "execute_result"
    }
   ],
   "source": [
    "X_new = preprocessor.fit_transform(X_train)\n",
    "pd.DataFrame(X_new).head(3)"
   ]
  },
  {
   "cell_type": "code",
   "execution_count": 16,
   "id": "d06c6235",
   "metadata": {},
   "outputs": [
    {
     "data": {
      "text/html": [
       "<div>\n",
       "<style scoped>\n",
       "    .dataframe tbody tr th:only-of-type {\n",
       "        vertical-align: middle;\n",
       "    }\n",
       "\n",
       "    .dataframe tbody tr th {\n",
       "        vertical-align: top;\n",
       "    }\n",
       "\n",
       "    .dataframe thead th {\n",
       "        text-align: right;\n",
       "    }\n",
       "</style>\n",
       "<table border=\"1\" class=\"dataframe\">\n",
       "  <thead>\n",
       "    <tr style=\"text-align: right;\">\n",
       "      <th></th>\n",
       "      <th>num_tr__age</th>\n",
       "      <th>num_tr__bmi</th>\n",
       "      <th>cat_tr__region_northeast</th>\n",
       "      <th>cat_tr__region_northwest</th>\n",
       "      <th>cat_tr__region_southeast</th>\n",
       "      <th>cat_tr__region_southwest</th>\n",
       "      <th>cat_tr__smoker_False</th>\n",
       "      <th>cat_tr__smoker_True</th>\n",
       "      <th>remainder__children</th>\n",
       "    </tr>\n",
       "  </thead>\n",
       "  <tbody>\n",
       "    <tr>\n",
       "      <th>0</th>\n",
       "      <td>-1.455660</td>\n",
       "      <td>-0.479092</td>\n",
       "      <td>0.0</td>\n",
       "      <td>0.0</td>\n",
       "      <td>0.0</td>\n",
       "      <td>1.0</td>\n",
       "      <td>0.0</td>\n",
       "      <td>1.0</td>\n",
       "      <td>0.0</td>\n",
       "    </tr>\n",
       "    <tr>\n",
       "      <th>1</th>\n",
       "      <td>-1.526441</td>\n",
       "      <td>0.492337</td>\n",
       "      <td>0.0</td>\n",
       "      <td>0.0</td>\n",
       "      <td>1.0</td>\n",
       "      <td>0.0</td>\n",
       "      <td>1.0</td>\n",
       "      <td>0.0</td>\n",
       "      <td>1.0</td>\n",
       "    </tr>\n",
       "    <tr>\n",
       "      <th>2</th>\n",
       "      <td>0.000000</td>\n",
       "      <td>0.364910</td>\n",
       "      <td>0.0</td>\n",
       "      <td>0.0</td>\n",
       "      <td>1.0</td>\n",
       "      <td>0.0</td>\n",
       "      <td>1.0</td>\n",
       "      <td>0.0</td>\n",
       "      <td>3.0</td>\n",
       "    </tr>\n",
       "  </tbody>\n",
       "</table>\n",
       "</div>"
      ],
      "text/plain": [
       "   num_tr__age  num_tr__bmi  cat_tr__region_northeast  \\\n",
       "0    -1.455660    -0.479092                       0.0   \n",
       "1    -1.526441     0.492337                       0.0   \n",
       "2     0.000000     0.364910                       0.0   \n",
       "\n",
       "   cat_tr__region_northwest  cat_tr__region_southeast  \\\n",
       "0                       0.0                       0.0   \n",
       "1                       0.0                       1.0   \n",
       "2                       0.0                       1.0   \n",
       "\n",
       "   cat_tr__region_southwest  cat_tr__smoker_False  cat_tr__smoker_True  \\\n",
       "0                       1.0                   0.0                  1.0   \n",
       "1                       0.0                   1.0                  0.0   \n",
       "2                       0.0                   1.0                  0.0   \n",
       "\n",
       "   remainder__children  \n",
       "0                  0.0  \n",
       "1                  1.0  \n",
       "2                  3.0  "
      ]
     },
     "execution_count": 16,
     "metadata": {},
     "output_type": "execute_result"
    }
   ],
   "source": [
    "pd.DataFrame(X_new, \n",
    "             columns=preprocessor.get_feature_names_out()\n",
    "            ).head(3)"
   ]
  },
  {
   "cell_type": "markdown",
   "id": "cbc30660",
   "metadata": {},
   "source": [
    "### **c) Custom: Function Transformer →**"
   ]
  },
  {
   "cell_type": "markdown",
   "id": "e9d71d3c",
   "metadata": {},
   "source": [
    "- Encapsulates a python function into a scikit transformer (→) object\n",
    "\n",
    "- Can work with Pipelines (→ →) or with ColumnTransformers (⑂)"
   ]
  },
  {
   "cell_type": "code",
   "execution_count": 17,
   "id": "86dd43f1",
   "metadata": {},
   "outputs": [],
   "source": [
    "# from sklearn.preprocessing import FunctionTransformer\n",
    "\n",
    "# Create a transformer that compresses data to 2 digits (for instance!)\n",
    "# rounder = FunctionTransformer(np.round)\n",
    "rounder = FunctionTransformer(lambda array: np.round(array, decimals=2))"
   ]
  },
  {
   "cell_type": "code",
   "execution_count": 18,
   "id": "a8c91a07",
   "metadata": {},
   "outputs": [
    {
     "data": {
      "text/html": [
       "<style>#sk-2e1d3b27-6cbe-4455-ba4e-6c482a2ad390 {color: black;background-color: white;}#sk-2e1d3b27-6cbe-4455-ba4e-6c482a2ad390 pre{padding: 0;}#sk-2e1d3b27-6cbe-4455-ba4e-6c482a2ad390 div.sk-toggleable {background-color: white;}#sk-2e1d3b27-6cbe-4455-ba4e-6c482a2ad390 label.sk-toggleable__label {cursor: pointer;display: block;width: 100%;margin-bottom: 0;padding: 0.3em;box-sizing: border-box;text-align: center;}#sk-2e1d3b27-6cbe-4455-ba4e-6c482a2ad390 label.sk-toggleable__label-arrow:before {content: \"▸\";float: left;margin-right: 0.25em;color: #696969;}#sk-2e1d3b27-6cbe-4455-ba4e-6c482a2ad390 label.sk-toggleable__label-arrow:hover:before {color: black;}#sk-2e1d3b27-6cbe-4455-ba4e-6c482a2ad390 div.sk-estimator:hover label.sk-toggleable__label-arrow:before {color: black;}#sk-2e1d3b27-6cbe-4455-ba4e-6c482a2ad390 div.sk-toggleable__content {max-height: 0;max-width: 0;overflow: hidden;text-align: left;background-color: #f0f8ff;}#sk-2e1d3b27-6cbe-4455-ba4e-6c482a2ad390 div.sk-toggleable__content pre {margin: 0.2em;color: black;border-radius: 0.25em;background-color: #f0f8ff;}#sk-2e1d3b27-6cbe-4455-ba4e-6c482a2ad390 input.sk-toggleable__control:checked~div.sk-toggleable__content {max-height: 200px;max-width: 100%;overflow: auto;}#sk-2e1d3b27-6cbe-4455-ba4e-6c482a2ad390 input.sk-toggleable__control:checked~label.sk-toggleable__label-arrow:before {content: \"▾\";}#sk-2e1d3b27-6cbe-4455-ba4e-6c482a2ad390 div.sk-estimator input.sk-toggleable__control:checked~label.sk-toggleable__label {background-color: #d4ebff;}#sk-2e1d3b27-6cbe-4455-ba4e-6c482a2ad390 div.sk-label input.sk-toggleable__control:checked~label.sk-toggleable__label {background-color: #d4ebff;}#sk-2e1d3b27-6cbe-4455-ba4e-6c482a2ad390 input.sk-hidden--visually {border: 0;clip: rect(1px 1px 1px 1px);clip: rect(1px, 1px, 1px, 1px);height: 1px;margin: -1px;overflow: hidden;padding: 0;position: absolute;width: 1px;}#sk-2e1d3b27-6cbe-4455-ba4e-6c482a2ad390 div.sk-estimator {font-family: monospace;background-color: #f0f8ff;border: 1px dotted black;border-radius: 0.25em;box-sizing: border-box;margin-bottom: 0.5em;}#sk-2e1d3b27-6cbe-4455-ba4e-6c482a2ad390 div.sk-estimator:hover {background-color: #d4ebff;}#sk-2e1d3b27-6cbe-4455-ba4e-6c482a2ad390 div.sk-parallel-item::after {content: \"\";width: 100%;border-bottom: 1px solid gray;flex-grow: 1;}#sk-2e1d3b27-6cbe-4455-ba4e-6c482a2ad390 div.sk-label:hover label.sk-toggleable__label {background-color: #d4ebff;}#sk-2e1d3b27-6cbe-4455-ba4e-6c482a2ad390 div.sk-serial::before {content: \"\";position: absolute;border-left: 1px solid gray;box-sizing: border-box;top: 2em;bottom: 0;left: 50%;}#sk-2e1d3b27-6cbe-4455-ba4e-6c482a2ad390 div.sk-serial {display: flex;flex-direction: column;align-items: center;background-color: white;padding-right: 0.2em;padding-left: 0.2em;}#sk-2e1d3b27-6cbe-4455-ba4e-6c482a2ad390 div.sk-item {z-index: 1;}#sk-2e1d3b27-6cbe-4455-ba4e-6c482a2ad390 div.sk-parallel {display: flex;align-items: stretch;justify-content: center;background-color: white;}#sk-2e1d3b27-6cbe-4455-ba4e-6c482a2ad390 div.sk-parallel::before {content: \"\";position: absolute;border-left: 1px solid gray;box-sizing: border-box;top: 2em;bottom: 0;left: 50%;}#sk-2e1d3b27-6cbe-4455-ba4e-6c482a2ad390 div.sk-parallel-item {display: flex;flex-direction: column;position: relative;background-color: white;}#sk-2e1d3b27-6cbe-4455-ba4e-6c482a2ad390 div.sk-parallel-item:first-child::after {align-self: flex-end;width: 50%;}#sk-2e1d3b27-6cbe-4455-ba4e-6c482a2ad390 div.sk-parallel-item:last-child::after {align-self: flex-start;width: 50%;}#sk-2e1d3b27-6cbe-4455-ba4e-6c482a2ad390 div.sk-parallel-item:only-child::after {width: 0;}#sk-2e1d3b27-6cbe-4455-ba4e-6c482a2ad390 div.sk-dashed-wrapped {border: 1px dashed gray;margin: 0 0.4em 0.5em 0.4em;box-sizing: border-box;padding-bottom: 0.4em;background-color: white;position: relative;}#sk-2e1d3b27-6cbe-4455-ba4e-6c482a2ad390 div.sk-label label {font-family: monospace;font-weight: bold;background-color: white;display: inline-block;line-height: 1.2em;}#sk-2e1d3b27-6cbe-4455-ba4e-6c482a2ad390 div.sk-label-container {position: relative;z-index: 2;text-align: center;}#sk-2e1d3b27-6cbe-4455-ba4e-6c482a2ad390 div.sk-container {/* jupyter's `normalize.less` sets `[hidden] { display: none; }` but bootstrap.min.css set `[hidden] { display: none !important; }` so we also need the `!important` here to be able to override the default hidden behavior on the sphinx rendered scikit-learn.org. See: https://github.com/scikit-learn/scikit-learn/issues/21755 */display: inline-block !important;position: relative;}#sk-2e1d3b27-6cbe-4455-ba4e-6c482a2ad390 div.sk-text-repr-fallback {display: none;}</style><div id=\"sk-2e1d3b27-6cbe-4455-ba4e-6c482a2ad390\" class=\"sk-top-container\"><div class=\"sk-text-repr-fallback\"><pre>ColumnTransformer(remainder=&#x27;passthrough&#x27;,\n",
       "                  transformers=[(&#x27;num_tr&#x27;,\n",
       "                                 Pipeline(steps=[(&#x27;imputer&#x27;, SimpleImputer()),\n",
       "                                                 (&#x27;scaler&#x27;, StandardScaler()),\n",
       "                                                 (&#x27;rounder&#x27;,\n",
       "                                                  FunctionTransformer(func=&lt;function &lt;lambda&gt; at 0x7fb40b6beca0&gt;))]),\n",
       "                                 [&#x27;bmi&#x27;, &#x27;age&#x27;]),\n",
       "                                (&#x27;cat_tr&#x27;,\n",
       "                                 OneHotEncoder(handle_unknown=&#x27;ignore&#x27;),\n",
       "                                 [&#x27;region&#x27;, &#x27;smoker&#x27;])])</pre><b>Please rerun this cell to show the HTML repr or trust the notebook.</b></div><div class=\"sk-container\" hidden><div class=\"sk-item sk-dashed-wrapped\"><div class=\"sk-label-container\"><div class=\"sk-label sk-toggleable\"><input class=\"sk-toggleable__control sk-hidden--visually\" id=\"815f651e-d6ae-414a-a32d-3aa22b27c91c\" type=\"checkbox\" ><label for=\"815f651e-d6ae-414a-a32d-3aa22b27c91c\" class=\"sk-toggleable__label sk-toggleable__label-arrow\">ColumnTransformer</label><div class=\"sk-toggleable__content\"><pre>ColumnTransformer(remainder=&#x27;passthrough&#x27;,\n",
       "                  transformers=[(&#x27;num_tr&#x27;,\n",
       "                                 Pipeline(steps=[(&#x27;imputer&#x27;, SimpleImputer()),\n",
       "                                                 (&#x27;scaler&#x27;, StandardScaler()),\n",
       "                                                 (&#x27;rounder&#x27;,\n",
       "                                                  FunctionTransformer(func=&lt;function &lt;lambda&gt; at 0x7fb40b6beca0&gt;))]),\n",
       "                                 [&#x27;bmi&#x27;, &#x27;age&#x27;]),\n",
       "                                (&#x27;cat_tr&#x27;,\n",
       "                                 OneHotEncoder(handle_unknown=&#x27;ignore&#x27;),\n",
       "                                 [&#x27;region&#x27;, &#x27;smoker&#x27;])])</pre></div></div></div><div class=\"sk-parallel\"><div class=\"sk-parallel-item\"><div class=\"sk-item\"><div class=\"sk-label-container\"><div class=\"sk-label sk-toggleable\"><input class=\"sk-toggleable__control sk-hidden--visually\" id=\"91e68cd8-7e40-4e2d-9935-25f05aa97ef1\" type=\"checkbox\" ><label for=\"91e68cd8-7e40-4e2d-9935-25f05aa97ef1\" class=\"sk-toggleable__label sk-toggleable__label-arrow\">num_tr</label><div class=\"sk-toggleable__content\"><pre>[&#x27;bmi&#x27;, &#x27;age&#x27;]</pre></div></div></div><div class=\"sk-serial\"><div class=\"sk-item\"><div class=\"sk-serial\"><div class=\"sk-item\"><div class=\"sk-estimator sk-toggleable\"><input class=\"sk-toggleable__control sk-hidden--visually\" id=\"fd1da0fe-b082-4568-a974-d101c4224925\" type=\"checkbox\" ><label for=\"fd1da0fe-b082-4568-a974-d101c4224925\" class=\"sk-toggleable__label sk-toggleable__label-arrow\">SimpleImputer</label><div class=\"sk-toggleable__content\"><pre>SimpleImputer()</pre></div></div></div><div class=\"sk-item\"><div class=\"sk-estimator sk-toggleable\"><input class=\"sk-toggleable__control sk-hidden--visually\" id=\"ede3a1ff-d7eb-4684-9b5a-55d4b205696d\" type=\"checkbox\" ><label for=\"ede3a1ff-d7eb-4684-9b5a-55d4b205696d\" class=\"sk-toggleable__label sk-toggleable__label-arrow\">StandardScaler</label><div class=\"sk-toggleable__content\"><pre>StandardScaler()</pre></div></div></div><div class=\"sk-item\"><div class=\"sk-estimator sk-toggleable\"><input class=\"sk-toggleable__control sk-hidden--visually\" id=\"437fd924-1f2c-4226-b13e-be94b8d471bb\" type=\"checkbox\" ><label for=\"437fd924-1f2c-4226-b13e-be94b8d471bb\" class=\"sk-toggleable__label sk-toggleable__label-arrow\">FunctionTransformer</label><div class=\"sk-toggleable__content\"><pre>FunctionTransformer(func=&lt;function &lt;lambda&gt; at 0x7fb40b6beca0&gt;)</pre></div></div></div></div></div></div></div></div><div class=\"sk-parallel-item\"><div class=\"sk-item\"><div class=\"sk-label-container\"><div class=\"sk-label sk-toggleable\"><input class=\"sk-toggleable__control sk-hidden--visually\" id=\"2cb50da8-d665-430e-a309-14dae480ffbe\" type=\"checkbox\" ><label for=\"2cb50da8-d665-430e-a309-14dae480ffbe\" class=\"sk-toggleable__label sk-toggleable__label-arrow\">cat_tr</label><div class=\"sk-toggleable__content\"><pre>[&#x27;region&#x27;, &#x27;smoker&#x27;]</pre></div></div></div><div class=\"sk-serial\"><div class=\"sk-item\"><div class=\"sk-estimator sk-toggleable\"><input class=\"sk-toggleable__control sk-hidden--visually\" id=\"4f4ca837-079b-446a-b4de-d0b62dc442d1\" type=\"checkbox\" ><label for=\"4f4ca837-079b-446a-b4de-d0b62dc442d1\" class=\"sk-toggleable__label sk-toggleable__label-arrow\">OneHotEncoder</label><div class=\"sk-toggleable__content\"><pre>OneHotEncoder(handle_unknown=&#x27;ignore&#x27;)</pre></div></div></div></div></div></div><div class=\"sk-parallel-item\"><div class=\"sk-item\"><div class=\"sk-label-container\"><div class=\"sk-label sk-toggleable\"><input class=\"sk-toggleable__control sk-hidden--visually\" id=\"95100021-7f68-46b1-ab4c-a757926b1400\" type=\"checkbox\" ><label for=\"95100021-7f68-46b1-ab4c-a757926b1400\" class=\"sk-toggleable__label sk-toggleable__label-arrow\">remainder</label><div class=\"sk-toggleable__content\"><pre></pre></div></div></div><div class=\"sk-serial\"><div class=\"sk-item\"><div class=\"sk-estimator sk-toggleable\"><input class=\"sk-toggleable__control sk-hidden--visually\" id=\"f3676d33-b120-4392-b5ae-b4b1d20c9642\" type=\"checkbox\" ><label for=\"f3676d33-b120-4392-b5ae-b4b1d20c9642\" class=\"sk-toggleable__label sk-toggleable__label-arrow\">passthrough</label><div class=\"sk-toggleable__content\"><pre>passthrough</pre></div></div></div></div></div></div></div></div></div></div>"
      ],
      "text/plain": [
       "ColumnTransformer(remainder='passthrough',\n",
       "                  transformers=[('num_tr',\n",
       "                                 Pipeline(steps=[('imputer', SimpleImputer()),\n",
       "                                                 ('scaler', StandardScaler()),\n",
       "                                                 ('rounder',\n",
       "                                                  FunctionTransformer(func=<function <lambda> at 0x7fb40b6beca0>))]),\n",
       "                                 ['bmi', 'age']),\n",
       "                                ('cat_tr',\n",
       "                                 OneHotEncoder(handle_unknown='ignore'),\n",
       "                                 ['region', 'smoker'])])"
      ]
     },
     "execution_count": 18,
     "metadata": {},
     "output_type": "execute_result"
    }
   ],
   "source": [
    "# Add it at the end of our numerical transformer\n",
    "num_transformer = Pipeline([\n",
    "    ('imputer', SimpleImputer()),\n",
    "    ('scaler', StandardScaler()),\n",
    "    ('rounder', rounder)])\n",
    "\n",
    "preprocessor = ColumnTransformer([\n",
    "    ('num_tr', num_transformer, ['bmi', 'age']),\n",
    "    ('cat_tr', cat_transformer, ['region', 'smoker'])],\n",
    "    remainder='passthrough')\n",
    "preprocessor"
   ]
  },
  {
   "cell_type": "code",
   "execution_count": 19,
   "id": "a863bb39",
   "metadata": {},
   "outputs": [
    {
     "data": {
      "text/html": [
       "<div>\n",
       "<style scoped>\n",
       "    .dataframe tbody tr th:only-of-type {\n",
       "        vertical-align: middle;\n",
       "    }\n",
       "\n",
       "    .dataframe tbody tr th {\n",
       "        vertical-align: top;\n",
       "    }\n",
       "\n",
       "    .dataframe thead th {\n",
       "        text-align: right;\n",
       "    }\n",
       "</style>\n",
       "<table border=\"1\" class=\"dataframe\">\n",
       "  <thead>\n",
       "    <tr style=\"text-align: right;\">\n",
       "      <th></th>\n",
       "      <th>0</th>\n",
       "      <th>1</th>\n",
       "      <th>2</th>\n",
       "      <th>3</th>\n",
       "      <th>4</th>\n",
       "      <th>5</th>\n",
       "      <th>6</th>\n",
       "      <th>7</th>\n",
       "      <th>8</th>\n",
       "    </tr>\n",
       "  </thead>\n",
       "  <tbody>\n",
       "    <tr>\n",
       "      <th>0</th>\n",
       "      <td>-0.48</td>\n",
       "      <td>-1.46</td>\n",
       "      <td>0.0</td>\n",
       "      <td>0.0</td>\n",
       "      <td>0.0</td>\n",
       "      <td>1.0</td>\n",
       "      <td>0.0</td>\n",
       "      <td>1.0</td>\n",
       "      <td>0.0</td>\n",
       "    </tr>\n",
       "    <tr>\n",
       "      <th>1</th>\n",
       "      <td>0.49</td>\n",
       "      <td>-1.53</td>\n",
       "      <td>0.0</td>\n",
       "      <td>0.0</td>\n",
       "      <td>1.0</td>\n",
       "      <td>0.0</td>\n",
       "      <td>1.0</td>\n",
       "      <td>0.0</td>\n",
       "      <td>1.0</td>\n",
       "    </tr>\n",
       "  </tbody>\n",
       "</table>\n",
       "</div>"
      ],
      "text/plain": [
       "      0     1    2    3    4    5    6    7    8\n",
       "0 -0.48 -1.46  0.0  0.0  0.0  1.0  0.0  1.0  0.0\n",
       "1  0.49 -1.53  0.0  0.0  1.0  0.0  1.0  0.0  1.0"
      ]
     },
     "execution_count": 19,
     "metadata": {},
     "output_type": "execute_result"
    }
   ],
   "source": [
    "pd.DataFrame(preprocessor.fit_transform(X_train)).head(2)"
   ]
  },
  {
   "cell_type": "code",
   "execution_count": null,
   "id": "ca3892b0",
   "metadata": {},
   "outputs": [],
   "source": [
    "from sklearn.base import TransformerMixin, BaseEstimator\n",
    "\n",
    "class MyCustomTranformer(TransformerMixin, BaseEstimator): \n",
    "    # BaseEstimator generates get_params() and set_params() methods that all pipelines require\n",
    "    # TransformerMixin creates fit_transform() method from fit() and transform()\n",
    "    \n",
    "    def __init__(self):\n",
    "        pass\n",
    "    \n",
    "    def fit(self, X, y=None):\n",
    "        # Store here what needs to be stored during .fit(X_train) as instance attributes.\n",
    "        # Return \"self\" to allow chaining .fit().transform()\n",
    "        self.mymean = X.mean()\n",
    "        self.mystd = X.std()\n",
    "        return self\n",
    "    \n",
    "    def transform(self, X, y=None):\n",
    "        # Return result as dataframe for integration into ColumnTransformer\n",
    "        pass"
   ]
  },
  {
   "cell_type": "markdown",
   "id": "a4aaa32b",
   "metadata": {},
   "source": [
    "### **d) FeatureUnion | |**"
   ]
  },
  {
   "cell_type": "markdown",
   "id": "65ac854c",
   "metadata": {},
   "source": [
    "- Applies transformers in paralell\n",
    "\n",
    "- Concatenate feature matrices outputs of each transformer\n",
    "\n",
    "👉 Usefull to create whole new features\n",
    "\n",
    "ex: let's build and add a new bmi_age_ratio feature"
   ]
  },
  {
   "cell_type": "code",
   "execution_count": 21,
   "id": "6ac72a99",
   "metadata": {},
   "outputs": [
    {
     "data": {
      "text/html": [
       "<style>#sk-7a0e1861-720c-4c3c-a5fc-713b4266556a {color: black;background-color: white;}#sk-7a0e1861-720c-4c3c-a5fc-713b4266556a pre{padding: 0;}#sk-7a0e1861-720c-4c3c-a5fc-713b4266556a div.sk-toggleable {background-color: white;}#sk-7a0e1861-720c-4c3c-a5fc-713b4266556a label.sk-toggleable__label {cursor: pointer;display: block;width: 100%;margin-bottom: 0;padding: 0.3em;box-sizing: border-box;text-align: center;}#sk-7a0e1861-720c-4c3c-a5fc-713b4266556a label.sk-toggleable__label-arrow:before {content: \"▸\";float: left;margin-right: 0.25em;color: #696969;}#sk-7a0e1861-720c-4c3c-a5fc-713b4266556a label.sk-toggleable__label-arrow:hover:before {color: black;}#sk-7a0e1861-720c-4c3c-a5fc-713b4266556a div.sk-estimator:hover label.sk-toggleable__label-arrow:before {color: black;}#sk-7a0e1861-720c-4c3c-a5fc-713b4266556a div.sk-toggleable__content {max-height: 0;max-width: 0;overflow: hidden;text-align: left;background-color: #f0f8ff;}#sk-7a0e1861-720c-4c3c-a5fc-713b4266556a div.sk-toggleable__content pre {margin: 0.2em;color: black;border-radius: 0.25em;background-color: #f0f8ff;}#sk-7a0e1861-720c-4c3c-a5fc-713b4266556a input.sk-toggleable__control:checked~div.sk-toggleable__content {max-height: 200px;max-width: 100%;overflow: auto;}#sk-7a0e1861-720c-4c3c-a5fc-713b4266556a input.sk-toggleable__control:checked~label.sk-toggleable__label-arrow:before {content: \"▾\";}#sk-7a0e1861-720c-4c3c-a5fc-713b4266556a div.sk-estimator input.sk-toggleable__control:checked~label.sk-toggleable__label {background-color: #d4ebff;}#sk-7a0e1861-720c-4c3c-a5fc-713b4266556a div.sk-label input.sk-toggleable__control:checked~label.sk-toggleable__label {background-color: #d4ebff;}#sk-7a0e1861-720c-4c3c-a5fc-713b4266556a input.sk-hidden--visually {border: 0;clip: rect(1px 1px 1px 1px);clip: rect(1px, 1px, 1px, 1px);height: 1px;margin: -1px;overflow: hidden;padding: 0;position: absolute;width: 1px;}#sk-7a0e1861-720c-4c3c-a5fc-713b4266556a div.sk-estimator {font-family: monospace;background-color: #f0f8ff;border: 1px dotted black;border-radius: 0.25em;box-sizing: border-box;margin-bottom: 0.5em;}#sk-7a0e1861-720c-4c3c-a5fc-713b4266556a div.sk-estimator:hover {background-color: #d4ebff;}#sk-7a0e1861-720c-4c3c-a5fc-713b4266556a div.sk-parallel-item::after {content: \"\";width: 100%;border-bottom: 1px solid gray;flex-grow: 1;}#sk-7a0e1861-720c-4c3c-a5fc-713b4266556a div.sk-label:hover label.sk-toggleable__label {background-color: #d4ebff;}#sk-7a0e1861-720c-4c3c-a5fc-713b4266556a div.sk-serial::before {content: \"\";position: absolute;border-left: 1px solid gray;box-sizing: border-box;top: 2em;bottom: 0;left: 50%;}#sk-7a0e1861-720c-4c3c-a5fc-713b4266556a div.sk-serial {display: flex;flex-direction: column;align-items: center;background-color: white;padding-right: 0.2em;padding-left: 0.2em;}#sk-7a0e1861-720c-4c3c-a5fc-713b4266556a div.sk-item {z-index: 1;}#sk-7a0e1861-720c-4c3c-a5fc-713b4266556a div.sk-parallel {display: flex;align-items: stretch;justify-content: center;background-color: white;}#sk-7a0e1861-720c-4c3c-a5fc-713b4266556a div.sk-parallel::before {content: \"\";position: absolute;border-left: 1px solid gray;box-sizing: border-box;top: 2em;bottom: 0;left: 50%;}#sk-7a0e1861-720c-4c3c-a5fc-713b4266556a div.sk-parallel-item {display: flex;flex-direction: column;position: relative;background-color: white;}#sk-7a0e1861-720c-4c3c-a5fc-713b4266556a div.sk-parallel-item:first-child::after {align-self: flex-end;width: 50%;}#sk-7a0e1861-720c-4c3c-a5fc-713b4266556a div.sk-parallel-item:last-child::after {align-self: flex-start;width: 50%;}#sk-7a0e1861-720c-4c3c-a5fc-713b4266556a div.sk-parallel-item:only-child::after {width: 0;}#sk-7a0e1861-720c-4c3c-a5fc-713b4266556a div.sk-dashed-wrapped {border: 1px dashed gray;margin: 0 0.4em 0.5em 0.4em;box-sizing: border-box;padding-bottom: 0.4em;background-color: white;position: relative;}#sk-7a0e1861-720c-4c3c-a5fc-713b4266556a div.sk-label label {font-family: monospace;font-weight: bold;background-color: white;display: inline-block;line-height: 1.2em;}#sk-7a0e1861-720c-4c3c-a5fc-713b4266556a div.sk-label-container {position: relative;z-index: 2;text-align: center;}#sk-7a0e1861-720c-4c3c-a5fc-713b4266556a div.sk-container {/* jupyter's `normalize.less` sets `[hidden] { display: none; }` but bootstrap.min.css set `[hidden] { display: none !important; }` so we also need the `!important` here to be able to override the default hidden behavior on the sphinx rendered scikit-learn.org. See: https://github.com/scikit-learn/scikit-learn/issues/21755 */display: inline-block !important;position: relative;}#sk-7a0e1861-720c-4c3c-a5fc-713b4266556a div.sk-text-repr-fallback {display: none;}</style><div id=\"sk-7a0e1861-720c-4c3c-a5fc-713b4266556a\" class=\"sk-top-container\"><div class=\"sk-text-repr-fallback\"><pre>FeatureUnion(transformer_list=[(&#x27;preprocess&#x27;,\n",
       "                                ColumnTransformer(remainder=&#x27;passthrough&#x27;,\n",
       "                                                  transformers=[(&#x27;num_tr&#x27;,\n",
       "                                                                 Pipeline(steps=[(&#x27;imputer&#x27;,\n",
       "                                                                                  SimpleImputer()),\n",
       "                                                                                 (&#x27;scaler&#x27;,\n",
       "                                                                                  StandardScaler()),\n",
       "                                                                                 (&#x27;rounder&#x27;,\n",
       "                                                                                  FunctionTransformer(func=&lt;function &lt;lambda&gt; at 0x7fb40b6beca0&gt;))]),\n",
       "                                                                 [&#x27;bmi&#x27;,\n",
       "                                                                  &#x27;age&#x27;]),\n",
       "                                                                (&#x27;cat_tr&#x27;,\n",
       "                                                                 OneHotEncoder(handle_unknown=&#x27;ignore&#x27;),\n",
       "                                                                 [&#x27;region&#x27;,\n",
       "                                                                  &#x27;smoker&#x27;])])),\n",
       "                               (&#x27;bmi_age_ratio&#x27;,\n",
       "                                FunctionTransformer(func=&lt;function &lt;lambda&gt; at 0x7fb468704940&gt;))])</pre><b>Please rerun this cell to show the HTML repr or trust the notebook.</b></div><div class=\"sk-container\" hidden><div class=\"sk-item sk-dashed-wrapped\"><div class=\"sk-label-container\"><div class=\"sk-label sk-toggleable\"><input class=\"sk-toggleable__control sk-hidden--visually\" id=\"40a65a38-58f0-43cb-b3de-f7710cd69de6\" type=\"checkbox\" ><label for=\"40a65a38-58f0-43cb-b3de-f7710cd69de6\" class=\"sk-toggleable__label sk-toggleable__label-arrow\">FeatureUnion</label><div class=\"sk-toggleable__content\"><pre>FeatureUnion(transformer_list=[(&#x27;preprocess&#x27;,\n",
       "                                ColumnTransformer(remainder=&#x27;passthrough&#x27;,\n",
       "                                                  transformers=[(&#x27;num_tr&#x27;,\n",
       "                                                                 Pipeline(steps=[(&#x27;imputer&#x27;,\n",
       "                                                                                  SimpleImputer()),\n",
       "                                                                                 (&#x27;scaler&#x27;,\n",
       "                                                                                  StandardScaler()),\n",
       "                                                                                 (&#x27;rounder&#x27;,\n",
       "                                                                                  FunctionTransformer(func=&lt;function &lt;lambda&gt; at 0x7fb40b6beca0&gt;))]),\n",
       "                                                                 [&#x27;bmi&#x27;,\n",
       "                                                                  &#x27;age&#x27;]),\n",
       "                                                                (&#x27;cat_tr&#x27;,\n",
       "                                                                 OneHotEncoder(handle_unknown=&#x27;ignore&#x27;),\n",
       "                                                                 [&#x27;region&#x27;,\n",
       "                                                                  &#x27;smoker&#x27;])])),\n",
       "                               (&#x27;bmi_age_ratio&#x27;,\n",
       "                                FunctionTransformer(func=&lt;function &lt;lambda&gt; at 0x7fb468704940&gt;))])</pre></div></div></div><div class=\"sk-parallel\"><div class=\"sk-parallel-item\"><div class=\"sk-item\"><div class=\"sk-label-container\"><div class=\"sk-label sk-toggleable\"><label>preprocess</label></div></div><div class=\"sk-serial\"><div class=\"sk-item sk-dashed-wrapped\"><div class=\"sk-parallel\"><div class=\"sk-parallel-item\"><div class=\"sk-item\"><div class=\"sk-label-container\"><div class=\"sk-label sk-toggleable\"><input class=\"sk-toggleable__control sk-hidden--visually\" id=\"fdcb4822-f7af-406a-a782-88d46aad2935\" type=\"checkbox\" ><label for=\"fdcb4822-f7af-406a-a782-88d46aad2935\" class=\"sk-toggleable__label sk-toggleable__label-arrow\">num_tr</label><div class=\"sk-toggleable__content\"><pre>[&#x27;bmi&#x27;, &#x27;age&#x27;]</pre></div></div></div><div class=\"sk-serial\"><div class=\"sk-item\"><div class=\"sk-serial\"><div class=\"sk-item\"><div class=\"sk-estimator sk-toggleable\"><input class=\"sk-toggleable__control sk-hidden--visually\" id=\"27916ec1-b682-4501-a18e-416ea426b6d7\" type=\"checkbox\" ><label for=\"27916ec1-b682-4501-a18e-416ea426b6d7\" class=\"sk-toggleable__label sk-toggleable__label-arrow\">SimpleImputer</label><div class=\"sk-toggleable__content\"><pre>SimpleImputer()</pre></div></div></div><div class=\"sk-item\"><div class=\"sk-estimator sk-toggleable\"><input class=\"sk-toggleable__control sk-hidden--visually\" id=\"c8142cc2-fb87-4837-a41a-e3b17a23bbe3\" type=\"checkbox\" ><label for=\"c8142cc2-fb87-4837-a41a-e3b17a23bbe3\" class=\"sk-toggleable__label sk-toggleable__label-arrow\">StandardScaler</label><div class=\"sk-toggleable__content\"><pre>StandardScaler()</pre></div></div></div><div class=\"sk-item\"><div class=\"sk-estimator sk-toggleable\"><input class=\"sk-toggleable__control sk-hidden--visually\" id=\"26307eed-2f1b-492f-9f86-c257f7a9426d\" type=\"checkbox\" ><label for=\"26307eed-2f1b-492f-9f86-c257f7a9426d\" class=\"sk-toggleable__label sk-toggleable__label-arrow\">FunctionTransformer</label><div class=\"sk-toggleable__content\"><pre>FunctionTransformer(func=&lt;function &lt;lambda&gt; at 0x7fb40b6beca0&gt;)</pre></div></div></div></div></div></div></div></div><div class=\"sk-parallel-item\"><div class=\"sk-item\"><div class=\"sk-label-container\"><div class=\"sk-label sk-toggleable\"><input class=\"sk-toggleable__control sk-hidden--visually\" id=\"680cd81e-64ec-4587-84bf-155df892b86c\" type=\"checkbox\" ><label for=\"680cd81e-64ec-4587-84bf-155df892b86c\" class=\"sk-toggleable__label sk-toggleable__label-arrow\">cat_tr</label><div class=\"sk-toggleable__content\"><pre>[&#x27;region&#x27;, &#x27;smoker&#x27;]</pre></div></div></div><div class=\"sk-serial\"><div class=\"sk-item\"><div class=\"sk-estimator sk-toggleable\"><input class=\"sk-toggleable__control sk-hidden--visually\" id=\"0adf104c-4549-4793-905d-96bb6de8fc70\" type=\"checkbox\" ><label for=\"0adf104c-4549-4793-905d-96bb6de8fc70\" class=\"sk-toggleable__label sk-toggleable__label-arrow\">OneHotEncoder</label><div class=\"sk-toggleable__content\"><pre>OneHotEncoder(handle_unknown=&#x27;ignore&#x27;)</pre></div></div></div></div></div></div><div class=\"sk-parallel-item\"><div class=\"sk-item\"><div class=\"sk-label-container\"><div class=\"sk-label sk-toggleable\"><input class=\"sk-toggleable__control sk-hidden--visually\" id=\"1e8090fb-2619-4568-b032-2610a3f3c25d\" type=\"checkbox\" ><label for=\"1e8090fb-2619-4568-b032-2610a3f3c25d\" class=\"sk-toggleable__label sk-toggleable__label-arrow\">remainder</label><div class=\"sk-toggleable__content\"><pre>[&#x27;children&#x27;]</pre></div></div></div><div class=\"sk-serial\"><div class=\"sk-item\"><div class=\"sk-estimator sk-toggleable\"><input class=\"sk-toggleable__control sk-hidden--visually\" id=\"771c0017-6667-4126-aa95-c3b67dca3fb4\" type=\"checkbox\" ><label for=\"771c0017-6667-4126-aa95-c3b67dca3fb4\" class=\"sk-toggleable__label sk-toggleable__label-arrow\">passthrough</label><div class=\"sk-toggleable__content\"><pre>passthrough</pre></div></div></div></div></div></div></div></div></div></div></div><div class=\"sk-parallel-item\"><div class=\"sk-item\"><div class=\"sk-label-container\"><div class=\"sk-label sk-toggleable\"><label>bmi_age_ratio</label></div></div><div class=\"sk-serial\"><div class=\"sk-item\"><div class=\"sk-estimator sk-toggleable\"><input class=\"sk-toggleable__control sk-hidden--visually\" id=\"05426182-78c5-4ce1-9557-4eab3908bffb\" type=\"checkbox\" ><label for=\"05426182-78c5-4ce1-9557-4eab3908bffb\" class=\"sk-toggleable__label sk-toggleable__label-arrow\">FunctionTransformer</label><div class=\"sk-toggleable__content\"><pre>FunctionTransformer(func=&lt;function &lt;lambda&gt; at 0x7fb468704940&gt;)</pre></div></div></div></div></div></div></div></div></div></div>"
      ],
      "text/plain": [
       "FeatureUnion(transformer_list=[('preprocess',\n",
       "                                ColumnTransformer(remainder='passthrough',\n",
       "                                                  transformers=[('num_tr',\n",
       "                                                                 Pipeline(steps=[('imputer',\n",
       "                                                                                  SimpleImputer()),\n",
       "                                                                                 ('scaler',\n",
       "                                                                                  StandardScaler()),\n",
       "                                                                                 ('rounder',\n",
       "                                                                                  FunctionTransformer(func=<function <lambda> at 0x7fb40b6beca0>))]),\n",
       "                                                                 ['bmi',\n",
       "                                                                  'age']),\n",
       "                                                                ('cat_tr',\n",
       "                                                                 OneHotEncoder(handle_unknown='ignore'),\n",
       "                                                                 ['region',\n",
       "                                                                  'smoker'])])),\n",
       "                               ('bmi_age_ratio',\n",
       "                                FunctionTransformer(func=<function <lambda> at 0x7fb468704940>))])"
      ]
     },
     "execution_count": 21,
     "metadata": {},
     "output_type": "execute_result"
    }
   ],
   "source": [
    "# from sklearn.pipeline import FeatureUnion\n",
    "\n",
    "# Create a custom transformer that multiplies two columns\n",
    "bmi_age_ratio_constructor = FunctionTransformer(lambda df: pd.DataFrame(df[\"bmi\"] / df[\"age\"]))\n",
    "\n",
    "union = FeatureUnion([\n",
    "    ('preprocess', preprocessor), # columns 0-8\n",
    "    ('bmi_age_ratio', bmi_age_ratio_constructor) # new colums 9\n",
    "])\n",
    "union"
   ]
  },
  {
   "cell_type": "code",
   "execution_count": 22,
   "id": "8ddad62b",
   "metadata": {},
   "outputs": [
    {
     "data": {
      "text/html": [
       "<div>\n",
       "<style scoped>\n",
       "    .dataframe tbody tr th:only-of-type {\n",
       "        vertical-align: middle;\n",
       "    }\n",
       "\n",
       "    .dataframe tbody tr th {\n",
       "        vertical-align: top;\n",
       "    }\n",
       "\n",
       "    .dataframe thead th {\n",
       "        text-align: right;\n",
       "    }\n",
       "</style>\n",
       "<table border=\"1\" class=\"dataframe\">\n",
       "  <thead>\n",
       "    <tr style=\"text-align: right;\">\n",
       "      <th></th>\n",
       "      <th>0</th>\n",
       "      <th>1</th>\n",
       "      <th>2</th>\n",
       "      <th>3</th>\n",
       "      <th>4</th>\n",
       "      <th>5</th>\n",
       "      <th>6</th>\n",
       "      <th>7</th>\n",
       "      <th>8</th>\n",
       "      <th>9</th>\n",
       "    </tr>\n",
       "  </thead>\n",
       "  <tbody>\n",
       "    <tr>\n",
       "      <th>0</th>\n",
       "      <td>-0.48</td>\n",
       "      <td>-1.46</td>\n",
       "      <td>0.0</td>\n",
       "      <td>0.0</td>\n",
       "      <td>0.0</td>\n",
       "      <td>1.0</td>\n",
       "      <td>0.0</td>\n",
       "      <td>1.0</td>\n",
       "      <td>0.0</td>\n",
       "      <td>1.468421</td>\n",
       "    </tr>\n",
       "  </tbody>\n",
       "</table>\n",
       "</div>"
      ],
      "text/plain": [
       "      0     1    2    3    4    5    6    7    8         9\n",
       "0 -0.48 -1.46  0.0  0.0  0.0  1.0  0.0  1.0  0.0  1.468421"
      ]
     },
     "execution_count": 22,
     "metadata": {},
     "output_type": "execute_result"
    }
   ],
   "source": [
    "pd.DataFrame(union.fit_transform(X_train)).head(1)"
   ]
  },
  {
   "cell_type": "markdown",
   "id": "cfab8412",
   "metadata": {},
   "source": [
    "### **Summary with make_*** shortcuts ⚡️**"
   ]
  },
  {
   "cell_type": "code",
   "execution_count": 20,
   "id": "790c0859",
   "metadata": {},
   "outputs": [
    {
     "data": {
      "text/html": [
       "<style>#sk-cc9a597d-897c-4cfb-b10b-31289152b2af {color: black;background-color: white;}#sk-cc9a597d-897c-4cfb-b10b-31289152b2af pre{padding: 0;}#sk-cc9a597d-897c-4cfb-b10b-31289152b2af div.sk-toggleable {background-color: white;}#sk-cc9a597d-897c-4cfb-b10b-31289152b2af label.sk-toggleable__label {cursor: pointer;display: block;width: 100%;margin-bottom: 0;padding: 0.3em;box-sizing: border-box;text-align: center;}#sk-cc9a597d-897c-4cfb-b10b-31289152b2af label.sk-toggleable__label-arrow:before {content: \"▸\";float: left;margin-right: 0.25em;color: #696969;}#sk-cc9a597d-897c-4cfb-b10b-31289152b2af label.sk-toggleable__label-arrow:hover:before {color: black;}#sk-cc9a597d-897c-4cfb-b10b-31289152b2af div.sk-estimator:hover label.sk-toggleable__label-arrow:before {color: black;}#sk-cc9a597d-897c-4cfb-b10b-31289152b2af div.sk-toggleable__content {max-height: 0;max-width: 0;overflow: hidden;text-align: left;background-color: #f0f8ff;}#sk-cc9a597d-897c-4cfb-b10b-31289152b2af div.sk-toggleable__content pre {margin: 0.2em;color: black;border-radius: 0.25em;background-color: #f0f8ff;}#sk-cc9a597d-897c-4cfb-b10b-31289152b2af input.sk-toggleable__control:checked~div.sk-toggleable__content {max-height: 200px;max-width: 100%;overflow: auto;}#sk-cc9a597d-897c-4cfb-b10b-31289152b2af input.sk-toggleable__control:checked~label.sk-toggleable__label-arrow:before {content: \"▾\";}#sk-cc9a597d-897c-4cfb-b10b-31289152b2af div.sk-estimator input.sk-toggleable__control:checked~label.sk-toggleable__label {background-color: #d4ebff;}#sk-cc9a597d-897c-4cfb-b10b-31289152b2af div.sk-label input.sk-toggleable__control:checked~label.sk-toggleable__label {background-color: #d4ebff;}#sk-cc9a597d-897c-4cfb-b10b-31289152b2af input.sk-hidden--visually {border: 0;clip: rect(1px 1px 1px 1px);clip: rect(1px, 1px, 1px, 1px);height: 1px;margin: -1px;overflow: hidden;padding: 0;position: absolute;width: 1px;}#sk-cc9a597d-897c-4cfb-b10b-31289152b2af div.sk-estimator {font-family: monospace;background-color: #f0f8ff;border: 1px dotted black;border-radius: 0.25em;box-sizing: border-box;margin-bottom: 0.5em;}#sk-cc9a597d-897c-4cfb-b10b-31289152b2af div.sk-estimator:hover {background-color: #d4ebff;}#sk-cc9a597d-897c-4cfb-b10b-31289152b2af div.sk-parallel-item::after {content: \"\";width: 100%;border-bottom: 1px solid gray;flex-grow: 1;}#sk-cc9a597d-897c-4cfb-b10b-31289152b2af div.sk-label:hover label.sk-toggleable__label {background-color: #d4ebff;}#sk-cc9a597d-897c-4cfb-b10b-31289152b2af div.sk-serial::before {content: \"\";position: absolute;border-left: 1px solid gray;box-sizing: border-box;top: 2em;bottom: 0;left: 50%;}#sk-cc9a597d-897c-4cfb-b10b-31289152b2af div.sk-serial {display: flex;flex-direction: column;align-items: center;background-color: white;padding-right: 0.2em;padding-left: 0.2em;}#sk-cc9a597d-897c-4cfb-b10b-31289152b2af div.sk-item {z-index: 1;}#sk-cc9a597d-897c-4cfb-b10b-31289152b2af div.sk-parallel {display: flex;align-items: stretch;justify-content: center;background-color: white;}#sk-cc9a597d-897c-4cfb-b10b-31289152b2af div.sk-parallel::before {content: \"\";position: absolute;border-left: 1px solid gray;box-sizing: border-box;top: 2em;bottom: 0;left: 50%;}#sk-cc9a597d-897c-4cfb-b10b-31289152b2af div.sk-parallel-item {display: flex;flex-direction: column;position: relative;background-color: white;}#sk-cc9a597d-897c-4cfb-b10b-31289152b2af div.sk-parallel-item:first-child::after {align-self: flex-end;width: 50%;}#sk-cc9a597d-897c-4cfb-b10b-31289152b2af div.sk-parallel-item:last-child::after {align-self: flex-start;width: 50%;}#sk-cc9a597d-897c-4cfb-b10b-31289152b2af div.sk-parallel-item:only-child::after {width: 0;}#sk-cc9a597d-897c-4cfb-b10b-31289152b2af div.sk-dashed-wrapped {border: 1px dashed gray;margin: 0 0.4em 0.5em 0.4em;box-sizing: border-box;padding-bottom: 0.4em;background-color: white;position: relative;}#sk-cc9a597d-897c-4cfb-b10b-31289152b2af div.sk-label label {font-family: monospace;font-weight: bold;background-color: white;display: inline-block;line-height: 1.2em;}#sk-cc9a597d-897c-4cfb-b10b-31289152b2af div.sk-label-container {position: relative;z-index: 2;text-align: center;}#sk-cc9a597d-897c-4cfb-b10b-31289152b2af div.sk-container {/* jupyter's `normalize.less` sets `[hidden] { display: none; }` but bootstrap.min.css set `[hidden] { display: none !important; }` so we also need the `!important` here to be able to override the default hidden behavior on the sphinx rendered scikit-learn.org. See: https://github.com/scikit-learn/scikit-learn/issues/21755 */display: inline-block !important;position: relative;}#sk-cc9a597d-897c-4cfb-b10b-31289152b2af div.sk-text-repr-fallback {display: none;}</style><div id=\"sk-cc9a597d-897c-4cfb-b10b-31289152b2af\" class=\"sk-top-container\"><div class=\"sk-text-repr-fallback\"><pre>Pipeline(steps=[(&#x27;simpleimputer&#x27;, SimpleImputer()),\n",
       "                (&#x27;standardscaler&#x27;, StandardScaler())])</pre><b>Please rerun this cell to show the HTML repr or trust the notebook.</b></div><div class=\"sk-container\" hidden><div class=\"sk-item sk-dashed-wrapped\"><div class=\"sk-label-container\"><div class=\"sk-label sk-toggleable\"><input class=\"sk-toggleable__control sk-hidden--visually\" id=\"3181fb67-c381-4e56-9a49-c4fd0558ae23\" type=\"checkbox\" ><label for=\"3181fb67-c381-4e56-9a49-c4fd0558ae23\" class=\"sk-toggleable__label sk-toggleable__label-arrow\">Pipeline</label><div class=\"sk-toggleable__content\"><pre>Pipeline(steps=[(&#x27;simpleimputer&#x27;, SimpleImputer()),\n",
       "                (&#x27;standardscaler&#x27;, StandardScaler())])</pre></div></div></div><div class=\"sk-serial\"><div class=\"sk-item\"><div class=\"sk-estimator sk-toggleable\"><input class=\"sk-toggleable__control sk-hidden--visually\" id=\"cbe87b22-af91-4dc2-8b6c-62869d8d3b59\" type=\"checkbox\" ><label for=\"cbe87b22-af91-4dc2-8b6c-62869d8d3b59\" class=\"sk-toggleable__label sk-toggleable__label-arrow\">SimpleImputer</label><div class=\"sk-toggleable__content\"><pre>SimpleImputer()</pre></div></div></div><div class=\"sk-item\"><div class=\"sk-estimator sk-toggleable\"><input class=\"sk-toggleable__control sk-hidden--visually\" id=\"f2d7c477-5b4d-46b7-a0b1-3a14d2626f5e\" type=\"checkbox\" ><label for=\"f2d7c477-5b4d-46b7-a0b1-3a14d2626f5e\" class=\"sk-toggleable__label sk-toggleable__label-arrow\">StandardScaler</label><div class=\"sk-toggleable__content\"><pre>StandardScaler()</pre></div></div></div></div></div></div></div>"
      ],
      "text/plain": [
       "Pipeline(steps=[('simpleimputer', SimpleImputer()),\n",
       "                ('standardscaler', StandardScaler())])"
      ]
     },
     "execution_count": 20,
     "metadata": {},
     "output_type": "execute_result"
    }
   ],
   "source": [
    "# from sklearn.pipeline import make_pipeline\n",
    "# from sklearn.pipeline import make_union\n",
    "# from sklearn.compose import make_column_transformer\n",
    "\n",
    "Pipeline([\n",
    "    ('my_name_for_imputer', SimpleImputer()),\n",
    "    ('my_name_for_scaler', StandardScaler())\n",
    "])\n",
    "\n",
    "# Equivalent to\n",
    "make_pipeline(SimpleImputer(), StandardScaler())"
   ]
  },
  {
   "cell_type": "code",
   "execution_count": 23,
   "id": "8420612a",
   "metadata": {},
   "outputs": [
    {
     "data": {
      "text/html": [
       "<style>#sk-dc4c8bf8-47c6-4aba-ac9b-e3b303a14ca3 {color: black;background-color: white;}#sk-dc4c8bf8-47c6-4aba-ac9b-e3b303a14ca3 pre{padding: 0;}#sk-dc4c8bf8-47c6-4aba-ac9b-e3b303a14ca3 div.sk-toggleable {background-color: white;}#sk-dc4c8bf8-47c6-4aba-ac9b-e3b303a14ca3 label.sk-toggleable__label {cursor: pointer;display: block;width: 100%;margin-bottom: 0;padding: 0.3em;box-sizing: border-box;text-align: center;}#sk-dc4c8bf8-47c6-4aba-ac9b-e3b303a14ca3 label.sk-toggleable__label-arrow:before {content: \"▸\";float: left;margin-right: 0.25em;color: #696969;}#sk-dc4c8bf8-47c6-4aba-ac9b-e3b303a14ca3 label.sk-toggleable__label-arrow:hover:before {color: black;}#sk-dc4c8bf8-47c6-4aba-ac9b-e3b303a14ca3 div.sk-estimator:hover label.sk-toggleable__label-arrow:before {color: black;}#sk-dc4c8bf8-47c6-4aba-ac9b-e3b303a14ca3 div.sk-toggleable__content {max-height: 0;max-width: 0;overflow: hidden;text-align: left;background-color: #f0f8ff;}#sk-dc4c8bf8-47c6-4aba-ac9b-e3b303a14ca3 div.sk-toggleable__content pre {margin: 0.2em;color: black;border-radius: 0.25em;background-color: #f0f8ff;}#sk-dc4c8bf8-47c6-4aba-ac9b-e3b303a14ca3 input.sk-toggleable__control:checked~div.sk-toggleable__content {max-height: 200px;max-width: 100%;overflow: auto;}#sk-dc4c8bf8-47c6-4aba-ac9b-e3b303a14ca3 input.sk-toggleable__control:checked~label.sk-toggleable__label-arrow:before {content: \"▾\";}#sk-dc4c8bf8-47c6-4aba-ac9b-e3b303a14ca3 div.sk-estimator input.sk-toggleable__control:checked~label.sk-toggleable__label {background-color: #d4ebff;}#sk-dc4c8bf8-47c6-4aba-ac9b-e3b303a14ca3 div.sk-label input.sk-toggleable__control:checked~label.sk-toggleable__label {background-color: #d4ebff;}#sk-dc4c8bf8-47c6-4aba-ac9b-e3b303a14ca3 input.sk-hidden--visually {border: 0;clip: rect(1px 1px 1px 1px);clip: rect(1px, 1px, 1px, 1px);height: 1px;margin: -1px;overflow: hidden;padding: 0;position: absolute;width: 1px;}#sk-dc4c8bf8-47c6-4aba-ac9b-e3b303a14ca3 div.sk-estimator {font-family: monospace;background-color: #f0f8ff;border: 1px dotted black;border-radius: 0.25em;box-sizing: border-box;margin-bottom: 0.5em;}#sk-dc4c8bf8-47c6-4aba-ac9b-e3b303a14ca3 div.sk-estimator:hover {background-color: #d4ebff;}#sk-dc4c8bf8-47c6-4aba-ac9b-e3b303a14ca3 div.sk-parallel-item::after {content: \"\";width: 100%;border-bottom: 1px solid gray;flex-grow: 1;}#sk-dc4c8bf8-47c6-4aba-ac9b-e3b303a14ca3 div.sk-label:hover label.sk-toggleable__label {background-color: #d4ebff;}#sk-dc4c8bf8-47c6-4aba-ac9b-e3b303a14ca3 div.sk-serial::before {content: \"\";position: absolute;border-left: 1px solid gray;box-sizing: border-box;top: 2em;bottom: 0;left: 50%;}#sk-dc4c8bf8-47c6-4aba-ac9b-e3b303a14ca3 div.sk-serial {display: flex;flex-direction: column;align-items: center;background-color: white;padding-right: 0.2em;padding-left: 0.2em;}#sk-dc4c8bf8-47c6-4aba-ac9b-e3b303a14ca3 div.sk-item {z-index: 1;}#sk-dc4c8bf8-47c6-4aba-ac9b-e3b303a14ca3 div.sk-parallel {display: flex;align-items: stretch;justify-content: center;background-color: white;}#sk-dc4c8bf8-47c6-4aba-ac9b-e3b303a14ca3 div.sk-parallel::before {content: \"\";position: absolute;border-left: 1px solid gray;box-sizing: border-box;top: 2em;bottom: 0;left: 50%;}#sk-dc4c8bf8-47c6-4aba-ac9b-e3b303a14ca3 div.sk-parallel-item {display: flex;flex-direction: column;position: relative;background-color: white;}#sk-dc4c8bf8-47c6-4aba-ac9b-e3b303a14ca3 div.sk-parallel-item:first-child::after {align-self: flex-end;width: 50%;}#sk-dc4c8bf8-47c6-4aba-ac9b-e3b303a14ca3 div.sk-parallel-item:last-child::after {align-self: flex-start;width: 50%;}#sk-dc4c8bf8-47c6-4aba-ac9b-e3b303a14ca3 div.sk-parallel-item:only-child::after {width: 0;}#sk-dc4c8bf8-47c6-4aba-ac9b-e3b303a14ca3 div.sk-dashed-wrapped {border: 1px dashed gray;margin: 0 0.4em 0.5em 0.4em;box-sizing: border-box;padding-bottom: 0.4em;background-color: white;position: relative;}#sk-dc4c8bf8-47c6-4aba-ac9b-e3b303a14ca3 div.sk-label label {font-family: monospace;font-weight: bold;background-color: white;display: inline-block;line-height: 1.2em;}#sk-dc4c8bf8-47c6-4aba-ac9b-e3b303a14ca3 div.sk-label-container {position: relative;z-index: 2;text-align: center;}#sk-dc4c8bf8-47c6-4aba-ac9b-e3b303a14ca3 div.sk-container {/* jupyter's `normalize.less` sets `[hidden] { display: none; }` but bootstrap.min.css set `[hidden] { display: none !important; }` so we also need the `!important` here to be able to override the default hidden behavior on the sphinx rendered scikit-learn.org. See: https://github.com/scikit-learn/scikit-learn/issues/21755 */display: inline-block !important;position: relative;}#sk-dc4c8bf8-47c6-4aba-ac9b-e3b303a14ca3 div.sk-text-repr-fallback {display: none;}</style><div id=\"sk-dc4c8bf8-47c6-4aba-ac9b-e3b303a14ca3\" class=\"sk-top-container\"><div class=\"sk-text-repr-fallback\"><pre>FeatureUnion(transformer_list=[(&#x27;columntransformer&#x27;,\n",
       "                                ColumnTransformer(remainder=&#x27;passthrough&#x27;,\n",
       "                                                  transformers=[(&#x27;pipeline&#x27;,\n",
       "                                                                 Pipeline(steps=[(&#x27;simpleimputer&#x27;,\n",
       "                                                                                  SimpleImputer()),\n",
       "                                                                                 (&#x27;standardscaler&#x27;,\n",
       "                                                                                  StandardScaler())]),\n",
       "                                                                 [&#x27;age&#x27;,\n",
       "                                                                  &#x27;bmi&#x27;]),\n",
       "                                                                (&#x27;onehotencoder&#x27;,\n",
       "                                                                 OneHotEncoder(),\n",
       "                                                                 [&#x27;smoker&#x27;,\n",
       "                                                                  &#x27;region&#x27;])])),\n",
       "                               (&#x27;functiontransformer&#x27;,\n",
       "                                FunctionTransformer(func=&lt;function &lt;lambda&gt; at 0x7fb468704940&gt;))])</pre><b>Please rerun this cell to show the HTML repr or trust the notebook.</b></div><div class=\"sk-container\" hidden><div class=\"sk-item sk-dashed-wrapped\"><div class=\"sk-label-container\"><div class=\"sk-label sk-toggleable\"><input class=\"sk-toggleable__control sk-hidden--visually\" id=\"5f8a5dd3-3dd3-4b38-99b4-676cd7e2bc8f\" type=\"checkbox\" ><label for=\"5f8a5dd3-3dd3-4b38-99b4-676cd7e2bc8f\" class=\"sk-toggleable__label sk-toggleable__label-arrow\">FeatureUnion</label><div class=\"sk-toggleable__content\"><pre>FeatureUnion(transformer_list=[(&#x27;columntransformer&#x27;,\n",
       "                                ColumnTransformer(remainder=&#x27;passthrough&#x27;,\n",
       "                                                  transformers=[(&#x27;pipeline&#x27;,\n",
       "                                                                 Pipeline(steps=[(&#x27;simpleimputer&#x27;,\n",
       "                                                                                  SimpleImputer()),\n",
       "                                                                                 (&#x27;standardscaler&#x27;,\n",
       "                                                                                  StandardScaler())]),\n",
       "                                                                 [&#x27;age&#x27;,\n",
       "                                                                  &#x27;bmi&#x27;]),\n",
       "                                                                (&#x27;onehotencoder&#x27;,\n",
       "                                                                 OneHotEncoder(),\n",
       "                                                                 [&#x27;smoker&#x27;,\n",
       "                                                                  &#x27;region&#x27;])])),\n",
       "                               (&#x27;functiontransformer&#x27;,\n",
       "                                FunctionTransformer(func=&lt;function &lt;lambda&gt; at 0x7fb468704940&gt;))])</pre></div></div></div><div class=\"sk-parallel\"><div class=\"sk-parallel-item\"><div class=\"sk-item\"><div class=\"sk-label-container\"><div class=\"sk-label sk-toggleable\"><label>columntransformer</label></div></div><div class=\"sk-serial\"><div class=\"sk-item sk-dashed-wrapped\"><div class=\"sk-parallel\"><div class=\"sk-parallel-item\"><div class=\"sk-item\"><div class=\"sk-label-container\"><div class=\"sk-label sk-toggleable\"><input class=\"sk-toggleable__control sk-hidden--visually\" id=\"9d3ac305-9df5-4133-af74-180b8d061082\" type=\"checkbox\" ><label for=\"9d3ac305-9df5-4133-af74-180b8d061082\" class=\"sk-toggleable__label sk-toggleable__label-arrow\">pipeline</label><div class=\"sk-toggleable__content\"><pre>[&#x27;age&#x27;, &#x27;bmi&#x27;]</pre></div></div></div><div class=\"sk-serial\"><div class=\"sk-item\"><div class=\"sk-serial\"><div class=\"sk-item\"><div class=\"sk-estimator sk-toggleable\"><input class=\"sk-toggleable__control sk-hidden--visually\" id=\"dcfaae2e-663d-424f-a5a8-c30635514936\" type=\"checkbox\" ><label for=\"dcfaae2e-663d-424f-a5a8-c30635514936\" class=\"sk-toggleable__label sk-toggleable__label-arrow\">SimpleImputer</label><div class=\"sk-toggleable__content\"><pre>SimpleImputer()</pre></div></div></div><div class=\"sk-item\"><div class=\"sk-estimator sk-toggleable\"><input class=\"sk-toggleable__control sk-hidden--visually\" id=\"84f952dd-a8b5-44b7-93db-2b2cac312027\" type=\"checkbox\" ><label for=\"84f952dd-a8b5-44b7-93db-2b2cac312027\" class=\"sk-toggleable__label sk-toggleable__label-arrow\">StandardScaler</label><div class=\"sk-toggleable__content\"><pre>StandardScaler()</pre></div></div></div></div></div></div></div></div><div class=\"sk-parallel-item\"><div class=\"sk-item\"><div class=\"sk-label-container\"><div class=\"sk-label sk-toggleable\"><input class=\"sk-toggleable__control sk-hidden--visually\" id=\"3df39eb9-0d8d-4087-a599-5720de97a9e8\" type=\"checkbox\" ><label for=\"3df39eb9-0d8d-4087-a599-5720de97a9e8\" class=\"sk-toggleable__label sk-toggleable__label-arrow\">onehotencoder</label><div class=\"sk-toggleable__content\"><pre>[&#x27;smoker&#x27;, &#x27;region&#x27;]</pre></div></div></div><div class=\"sk-serial\"><div class=\"sk-item\"><div class=\"sk-estimator sk-toggleable\"><input class=\"sk-toggleable__control sk-hidden--visually\" id=\"adda4c3e-ea5a-4ee9-aeaa-1d4b8b2d64fd\" type=\"checkbox\" ><label for=\"adda4c3e-ea5a-4ee9-aeaa-1d4b8b2d64fd\" class=\"sk-toggleable__label sk-toggleable__label-arrow\">OneHotEncoder</label><div class=\"sk-toggleable__content\"><pre>OneHotEncoder()</pre></div></div></div></div></div></div><div class=\"sk-parallel-item\"><div class=\"sk-item\"><div class=\"sk-label-container\"><div class=\"sk-label sk-toggleable\"><input class=\"sk-toggleable__control sk-hidden--visually\" id=\"c87e3725-5951-4f1b-99a1-fd492ca5cc75\" type=\"checkbox\" ><label for=\"c87e3725-5951-4f1b-99a1-fd492ca5cc75\" class=\"sk-toggleable__label sk-toggleable__label-arrow\">remainder</label><div class=\"sk-toggleable__content\"><pre></pre></div></div></div><div class=\"sk-serial\"><div class=\"sk-item\"><div class=\"sk-estimator sk-toggleable\"><input class=\"sk-toggleable__control sk-hidden--visually\" id=\"7d6d4bc8-9df0-4414-aa66-948db860066b\" type=\"checkbox\" ><label for=\"7d6d4bc8-9df0-4414-aa66-948db860066b\" class=\"sk-toggleable__label sk-toggleable__label-arrow\">passthrough</label><div class=\"sk-toggleable__content\"><pre>passthrough</pre></div></div></div></div></div></div></div></div></div></div></div><div class=\"sk-parallel-item\"><div class=\"sk-item\"><div class=\"sk-label-container\"><div class=\"sk-label sk-toggleable\"><label>functiontransformer</label></div></div><div class=\"sk-serial\"><div class=\"sk-item\"><div class=\"sk-estimator sk-toggleable\"><input class=\"sk-toggleable__control sk-hidden--visually\" id=\"4c0a1a93-fd47-47ee-be3b-ef04b9811f92\" type=\"checkbox\" ><label for=\"4c0a1a93-fd47-47ee-be3b-ef04b9811f92\" class=\"sk-toggleable__label sk-toggleable__label-arrow\">FunctionTransformer</label><div class=\"sk-toggleable__content\"><pre>FunctionTransformer(func=&lt;function &lt;lambda&gt; at 0x7fb468704940&gt;)</pre></div></div></div></div></div></div></div></div></div></div>"
      ],
      "text/plain": [
       "FeatureUnion(transformer_list=[('columntransformer',\n",
       "                                ColumnTransformer(remainder='passthrough',\n",
       "                                                  transformers=[('pipeline',\n",
       "                                                                 Pipeline(steps=[('simpleimputer',\n",
       "                                                                                  SimpleImputer()),\n",
       "                                                                                 ('standardscaler',\n",
       "                                                                                  StandardScaler())]),\n",
       "                                                                 ['age',\n",
       "                                                                  'bmi']),\n",
       "                                                                ('onehotencoder',\n",
       "                                                                 OneHotEncoder(),\n",
       "                                                                 ['smoker',\n",
       "                                                                  'region'])])),\n",
       "                               ('functiontransformer',\n",
       "                                FunctionTransformer(func=<function <lambda> at 0x7fb468704940>))])"
      ]
     },
     "execution_count": 23,
     "metadata": {},
     "output_type": "execute_result"
    }
   ],
   "source": [
    "num_transformer = make_pipeline(SimpleImputer(), StandardScaler())\n",
    "cat_transformer = OneHotEncoder()\n",
    "\n",
    "preproc_basic = make_column_transformer((num_transformer, ['age', 'bmi']),\n",
    "                                       (cat_transformer, ['smoker', 'region']),\n",
    "                                       remainder='passthrough')\n",
    "\n",
    "preproc_full = make_union(preproc_basic, bmi_age_ratio_constructor)\n",
    "preproc_full"
   ]
  },
  {
   "cell_type": "markdown",
   "id": "d5a2ca17",
   "metadata": {},
   "source": [
    "**make_column_selector select features automatically based on dtype**"
   ]
  },
  {
   "cell_type": "code",
   "execution_count": 24,
   "id": "9b157622",
   "metadata": {},
   "outputs": [
    {
     "data": {
      "text/plain": [
       "age         float64\n",
       "bmi         float64\n",
       "children      int64\n",
       "smoker         bool\n",
       "region       object\n",
       "dtype: object"
      ]
     },
     "execution_count": 24,
     "metadata": {},
     "output_type": "execute_result"
    }
   ],
   "source": [
    "X_train.dtypes"
   ]
  },
  {
   "cell_type": "code",
   "execution_count": 25,
   "id": "825ec176",
   "metadata": {},
   "outputs": [],
   "source": [
    "# from sklearn.compose import make_column_selector\n",
    "\n",
    "num_col = make_column_selector(dtype_include=['float64'])\n",
    "cat_col = make_column_selector(dtype_include=['object','bool'])"
   ]
  },
  {
   "cell_type": "markdown",
   "id": "97f7e853",
   "metadata": {},
   "source": [
    "**🎉 Complete preprocessing pipeline 🎉**"
   ]
  },
  {
   "cell_type": "code",
   "execution_count": 26,
   "id": "653d28f6",
   "metadata": {},
   "outputs": [
    {
     "data": {
      "text/html": [
       "<style>#sk-fb160205-7cfd-4e6f-a337-3f39eba288ec {color: black;background-color: white;}#sk-fb160205-7cfd-4e6f-a337-3f39eba288ec pre{padding: 0;}#sk-fb160205-7cfd-4e6f-a337-3f39eba288ec div.sk-toggleable {background-color: white;}#sk-fb160205-7cfd-4e6f-a337-3f39eba288ec label.sk-toggleable__label {cursor: pointer;display: block;width: 100%;margin-bottom: 0;padding: 0.3em;box-sizing: border-box;text-align: center;}#sk-fb160205-7cfd-4e6f-a337-3f39eba288ec label.sk-toggleable__label-arrow:before {content: \"▸\";float: left;margin-right: 0.25em;color: #696969;}#sk-fb160205-7cfd-4e6f-a337-3f39eba288ec label.sk-toggleable__label-arrow:hover:before {color: black;}#sk-fb160205-7cfd-4e6f-a337-3f39eba288ec div.sk-estimator:hover label.sk-toggleable__label-arrow:before {color: black;}#sk-fb160205-7cfd-4e6f-a337-3f39eba288ec div.sk-toggleable__content {max-height: 0;max-width: 0;overflow: hidden;text-align: left;background-color: #f0f8ff;}#sk-fb160205-7cfd-4e6f-a337-3f39eba288ec div.sk-toggleable__content pre {margin: 0.2em;color: black;border-radius: 0.25em;background-color: #f0f8ff;}#sk-fb160205-7cfd-4e6f-a337-3f39eba288ec input.sk-toggleable__control:checked~div.sk-toggleable__content {max-height: 200px;max-width: 100%;overflow: auto;}#sk-fb160205-7cfd-4e6f-a337-3f39eba288ec input.sk-toggleable__control:checked~label.sk-toggleable__label-arrow:before {content: \"▾\";}#sk-fb160205-7cfd-4e6f-a337-3f39eba288ec div.sk-estimator input.sk-toggleable__control:checked~label.sk-toggleable__label {background-color: #d4ebff;}#sk-fb160205-7cfd-4e6f-a337-3f39eba288ec div.sk-label input.sk-toggleable__control:checked~label.sk-toggleable__label {background-color: #d4ebff;}#sk-fb160205-7cfd-4e6f-a337-3f39eba288ec input.sk-hidden--visually {border: 0;clip: rect(1px 1px 1px 1px);clip: rect(1px, 1px, 1px, 1px);height: 1px;margin: -1px;overflow: hidden;padding: 0;position: absolute;width: 1px;}#sk-fb160205-7cfd-4e6f-a337-3f39eba288ec div.sk-estimator {font-family: monospace;background-color: #f0f8ff;border: 1px dotted black;border-radius: 0.25em;box-sizing: border-box;margin-bottom: 0.5em;}#sk-fb160205-7cfd-4e6f-a337-3f39eba288ec div.sk-estimator:hover {background-color: #d4ebff;}#sk-fb160205-7cfd-4e6f-a337-3f39eba288ec div.sk-parallel-item::after {content: \"\";width: 100%;border-bottom: 1px solid gray;flex-grow: 1;}#sk-fb160205-7cfd-4e6f-a337-3f39eba288ec div.sk-label:hover label.sk-toggleable__label {background-color: #d4ebff;}#sk-fb160205-7cfd-4e6f-a337-3f39eba288ec div.sk-serial::before {content: \"\";position: absolute;border-left: 1px solid gray;box-sizing: border-box;top: 2em;bottom: 0;left: 50%;}#sk-fb160205-7cfd-4e6f-a337-3f39eba288ec div.sk-serial {display: flex;flex-direction: column;align-items: center;background-color: white;padding-right: 0.2em;padding-left: 0.2em;}#sk-fb160205-7cfd-4e6f-a337-3f39eba288ec div.sk-item {z-index: 1;}#sk-fb160205-7cfd-4e6f-a337-3f39eba288ec div.sk-parallel {display: flex;align-items: stretch;justify-content: center;background-color: white;}#sk-fb160205-7cfd-4e6f-a337-3f39eba288ec div.sk-parallel::before {content: \"\";position: absolute;border-left: 1px solid gray;box-sizing: border-box;top: 2em;bottom: 0;left: 50%;}#sk-fb160205-7cfd-4e6f-a337-3f39eba288ec div.sk-parallel-item {display: flex;flex-direction: column;position: relative;background-color: white;}#sk-fb160205-7cfd-4e6f-a337-3f39eba288ec div.sk-parallel-item:first-child::after {align-self: flex-end;width: 50%;}#sk-fb160205-7cfd-4e6f-a337-3f39eba288ec div.sk-parallel-item:last-child::after {align-self: flex-start;width: 50%;}#sk-fb160205-7cfd-4e6f-a337-3f39eba288ec div.sk-parallel-item:only-child::after {width: 0;}#sk-fb160205-7cfd-4e6f-a337-3f39eba288ec div.sk-dashed-wrapped {border: 1px dashed gray;margin: 0 0.4em 0.5em 0.4em;box-sizing: border-box;padding-bottom: 0.4em;background-color: white;position: relative;}#sk-fb160205-7cfd-4e6f-a337-3f39eba288ec div.sk-label label {font-family: monospace;font-weight: bold;background-color: white;display: inline-block;line-height: 1.2em;}#sk-fb160205-7cfd-4e6f-a337-3f39eba288ec div.sk-label-container {position: relative;z-index: 2;text-align: center;}#sk-fb160205-7cfd-4e6f-a337-3f39eba288ec div.sk-container {/* jupyter's `normalize.less` sets `[hidden] { display: none; }` but bootstrap.min.css set `[hidden] { display: none !important; }` so we also need the `!important` here to be able to override the default hidden behavior on the sphinx rendered scikit-learn.org. See: https://github.com/scikit-learn/scikit-learn/issues/21755 */display: inline-block !important;position: relative;}#sk-fb160205-7cfd-4e6f-a337-3f39eba288ec div.sk-text-repr-fallback {display: none;}</style><div id=\"sk-fb160205-7cfd-4e6f-a337-3f39eba288ec\" class=\"sk-top-container\"><div class=\"sk-text-repr-fallback\"><pre>FeatureUnion(transformer_list=[(&#x27;columntransformer&#x27;,\n",
       "                                ColumnTransformer(remainder=&#x27;passthrough&#x27;,\n",
       "                                                  transformers=[(&#x27;pipeline&#x27;,\n",
       "                                                                 Pipeline(steps=[(&#x27;simpleimputer&#x27;,\n",
       "                                                                                  SimpleImputer()),\n",
       "                                                                                 (&#x27;standardscaler&#x27;,\n",
       "                                                                                  StandardScaler())]),\n",
       "                                                                 &lt;sklearn.compose._column_transformer.make_column_selector object at 0x7fb40b6ad2b0&gt;),\n",
       "                                                                (&#x27;onehotencoder&#x27;,\n",
       "                                                                 OneHotEncoder(),\n",
       "                                                                 &lt;sklearn.compose._column_transformer.make_column_selector object at 0x7fb40b6adf70&gt;)])),\n",
       "                               (&#x27;functiontransformer&#x27;,\n",
       "                                FunctionTransformer(func=&lt;function &lt;lambda&gt; at 0x7fb468704940&gt;))])</pre><b>Please rerun this cell to show the HTML repr or trust the notebook.</b></div><div class=\"sk-container\" hidden><div class=\"sk-item sk-dashed-wrapped\"><div class=\"sk-label-container\"><div class=\"sk-label sk-toggleable\"><input class=\"sk-toggleable__control sk-hidden--visually\" id=\"7c71f55e-036e-4d2b-a567-8fdec8df82bd\" type=\"checkbox\" ><label for=\"7c71f55e-036e-4d2b-a567-8fdec8df82bd\" class=\"sk-toggleable__label sk-toggleable__label-arrow\">FeatureUnion</label><div class=\"sk-toggleable__content\"><pre>FeatureUnion(transformer_list=[(&#x27;columntransformer&#x27;,\n",
       "                                ColumnTransformer(remainder=&#x27;passthrough&#x27;,\n",
       "                                                  transformers=[(&#x27;pipeline&#x27;,\n",
       "                                                                 Pipeline(steps=[(&#x27;simpleimputer&#x27;,\n",
       "                                                                                  SimpleImputer()),\n",
       "                                                                                 (&#x27;standardscaler&#x27;,\n",
       "                                                                                  StandardScaler())]),\n",
       "                                                                 &lt;sklearn.compose._column_transformer.make_column_selector object at 0x7fb40b6ad2b0&gt;),\n",
       "                                                                (&#x27;onehotencoder&#x27;,\n",
       "                                                                 OneHotEncoder(),\n",
       "                                                                 &lt;sklearn.compose._column_transformer.make_column_selector object at 0x7fb40b6adf70&gt;)])),\n",
       "                               (&#x27;functiontransformer&#x27;,\n",
       "                                FunctionTransformer(func=&lt;function &lt;lambda&gt; at 0x7fb468704940&gt;))])</pre></div></div></div><div class=\"sk-parallel\"><div class=\"sk-parallel-item\"><div class=\"sk-item\"><div class=\"sk-label-container\"><div class=\"sk-label sk-toggleable\"><label>columntransformer</label></div></div><div class=\"sk-serial\"><div class=\"sk-item sk-dashed-wrapped\"><div class=\"sk-parallel\"><div class=\"sk-parallel-item\"><div class=\"sk-item\"><div class=\"sk-label-container\"><div class=\"sk-label sk-toggleable\"><input class=\"sk-toggleable__control sk-hidden--visually\" id=\"1d0f8569-9d77-4936-8fbe-5572cb125f1d\" type=\"checkbox\" ><label for=\"1d0f8569-9d77-4936-8fbe-5572cb125f1d\" class=\"sk-toggleable__label sk-toggleable__label-arrow\">pipeline</label><div class=\"sk-toggleable__content\"><pre>&lt;sklearn.compose._column_transformer.make_column_selector object at 0x7fb40b6ad2b0&gt;</pre></div></div></div><div class=\"sk-serial\"><div class=\"sk-item\"><div class=\"sk-serial\"><div class=\"sk-item\"><div class=\"sk-estimator sk-toggleable\"><input class=\"sk-toggleable__control sk-hidden--visually\" id=\"7f3cfae8-1e85-429e-90fd-fe54f480a051\" type=\"checkbox\" ><label for=\"7f3cfae8-1e85-429e-90fd-fe54f480a051\" class=\"sk-toggleable__label sk-toggleable__label-arrow\">SimpleImputer</label><div class=\"sk-toggleable__content\"><pre>SimpleImputer()</pre></div></div></div><div class=\"sk-item\"><div class=\"sk-estimator sk-toggleable\"><input class=\"sk-toggleable__control sk-hidden--visually\" id=\"87d05a52-c349-4380-a076-2b6ba44b5810\" type=\"checkbox\" ><label for=\"87d05a52-c349-4380-a076-2b6ba44b5810\" class=\"sk-toggleable__label sk-toggleable__label-arrow\">StandardScaler</label><div class=\"sk-toggleable__content\"><pre>StandardScaler()</pre></div></div></div></div></div></div></div></div><div class=\"sk-parallel-item\"><div class=\"sk-item\"><div class=\"sk-label-container\"><div class=\"sk-label sk-toggleable\"><input class=\"sk-toggleable__control sk-hidden--visually\" id=\"0b3b6819-7076-4c04-b3af-c11078590506\" type=\"checkbox\" ><label for=\"0b3b6819-7076-4c04-b3af-c11078590506\" class=\"sk-toggleable__label sk-toggleable__label-arrow\">onehotencoder</label><div class=\"sk-toggleable__content\"><pre>&lt;sklearn.compose._column_transformer.make_column_selector object at 0x7fb40b6adf70&gt;</pre></div></div></div><div class=\"sk-serial\"><div class=\"sk-item\"><div class=\"sk-estimator sk-toggleable\"><input class=\"sk-toggleable__control sk-hidden--visually\" id=\"45d84a43-1d94-48b9-a6e2-ab97905baa27\" type=\"checkbox\" ><label for=\"45d84a43-1d94-48b9-a6e2-ab97905baa27\" class=\"sk-toggleable__label sk-toggleable__label-arrow\">OneHotEncoder</label><div class=\"sk-toggleable__content\"><pre>OneHotEncoder()</pre></div></div></div></div></div></div><div class=\"sk-parallel-item\"><div class=\"sk-item\"><div class=\"sk-label-container\"><div class=\"sk-label sk-toggleable\"><input class=\"sk-toggleable__control sk-hidden--visually\" id=\"7e6385de-9e4f-43a8-9791-6c2fa67d1d3a\" type=\"checkbox\" ><label for=\"7e6385de-9e4f-43a8-9791-6c2fa67d1d3a\" class=\"sk-toggleable__label sk-toggleable__label-arrow\">remainder</label><div class=\"sk-toggleable__content\"><pre></pre></div></div></div><div class=\"sk-serial\"><div class=\"sk-item\"><div class=\"sk-estimator sk-toggleable\"><input class=\"sk-toggleable__control sk-hidden--visually\" id=\"6b9b3d46-77cd-4322-9feb-cce49919a578\" type=\"checkbox\" ><label for=\"6b9b3d46-77cd-4322-9feb-cce49919a578\" class=\"sk-toggleable__label sk-toggleable__label-arrow\">passthrough</label><div class=\"sk-toggleable__content\"><pre>passthrough</pre></div></div></div></div></div></div></div></div></div></div></div><div class=\"sk-parallel-item\"><div class=\"sk-item\"><div class=\"sk-label-container\"><div class=\"sk-label sk-toggleable\"><label>functiontransformer</label></div></div><div class=\"sk-serial\"><div class=\"sk-item\"><div class=\"sk-estimator sk-toggleable\"><input class=\"sk-toggleable__control sk-hidden--visually\" id=\"5d78c5b0-1352-409e-9fae-40d6c50c9bd1\" type=\"checkbox\" ><label for=\"5d78c5b0-1352-409e-9fae-40d6c50c9bd1\" class=\"sk-toggleable__label sk-toggleable__label-arrow\">FunctionTransformer</label><div class=\"sk-toggleable__content\"><pre>FunctionTransformer(func=&lt;function &lt;lambda&gt; at 0x7fb468704940&gt;)</pre></div></div></div></div></div></div></div></div></div></div>"
      ],
      "text/plain": [
       "FeatureUnion(transformer_list=[('columntransformer',\n",
       "                                ColumnTransformer(remainder='passthrough',\n",
       "                                                  transformers=[('pipeline',\n",
       "                                                                 Pipeline(steps=[('simpleimputer',\n",
       "                                                                                  SimpleImputer()),\n",
       "                                                                                 ('standardscaler',\n",
       "                                                                                  StandardScaler())]),\n",
       "                                                                 <sklearn.compose._column_transformer.make_column_selector object at 0x7fb40b6ad2b0>),\n",
       "                                                                ('onehotencoder',\n",
       "                                                                 OneHotEncoder(),\n",
       "                                                                 <sklearn.compose._column_transformer.make_column_selector object at 0x7fb40b6adf70>)])),\n",
       "                               ('functiontransformer',\n",
       "                                FunctionTransformer(func=<function <lambda> at 0x7fb468704940>))])"
      ]
     },
     "execution_count": 26,
     "metadata": {},
     "output_type": "execute_result"
    }
   ],
   "source": [
    "num_transformer = make_pipeline(SimpleImputer(), StandardScaler())\n",
    "\n",
    "cat_transformer = OneHotEncoder()\n",
    "\n",
    "preproc_basic = make_column_transformer(\n",
    "    (num_transformer, num_col),\n",
    "    (cat_transformer, cat_col),\n",
    "    remainder='passthrough')\n",
    "\n",
    "preproc_full = make_union(preproc_basic, bmi_age_ratio_constructor)\n",
    "preproc_full"
   ]
  },
  {
   "cell_type": "markdown",
   "id": "a96720f1",
   "metadata": {},
   "source": [
    "## Including Models to Pipelines"
   ]
  },
  {
   "cell_type": "markdown",
   "id": "8fd4c0be",
   "metadata": {},
   "source": [
    "- Model objects can be plugged into pipelines\n",
    "- Pipelines inherit the methods of the last object in the sequence\n",
    "    - Transformers: ***fit*** and ***transform***\n",
    "    - Models: ***fit, score, predict***, etc..."
   ]
  },
  {
   "cell_type": "markdown",
   "id": "9739e925",
   "metadata": {},
   "source": [
    "### a) Full pipe"
   ]
  },
  {
   "cell_type": "code",
   "execution_count": 27,
   "id": "437d488d",
   "metadata": {},
   "outputs": [
    {
     "data": {
      "text/html": [
       "<style>#sk-97e85b25-c09c-4527-9c7b-73ef42bf9695 {color: black;background-color: white;}#sk-97e85b25-c09c-4527-9c7b-73ef42bf9695 pre{padding: 0;}#sk-97e85b25-c09c-4527-9c7b-73ef42bf9695 div.sk-toggleable {background-color: white;}#sk-97e85b25-c09c-4527-9c7b-73ef42bf9695 label.sk-toggleable__label {cursor: pointer;display: block;width: 100%;margin-bottom: 0;padding: 0.3em;box-sizing: border-box;text-align: center;}#sk-97e85b25-c09c-4527-9c7b-73ef42bf9695 label.sk-toggleable__label-arrow:before {content: \"▸\";float: left;margin-right: 0.25em;color: #696969;}#sk-97e85b25-c09c-4527-9c7b-73ef42bf9695 label.sk-toggleable__label-arrow:hover:before {color: black;}#sk-97e85b25-c09c-4527-9c7b-73ef42bf9695 div.sk-estimator:hover label.sk-toggleable__label-arrow:before {color: black;}#sk-97e85b25-c09c-4527-9c7b-73ef42bf9695 div.sk-toggleable__content {max-height: 0;max-width: 0;overflow: hidden;text-align: left;background-color: #f0f8ff;}#sk-97e85b25-c09c-4527-9c7b-73ef42bf9695 div.sk-toggleable__content pre {margin: 0.2em;color: black;border-radius: 0.25em;background-color: #f0f8ff;}#sk-97e85b25-c09c-4527-9c7b-73ef42bf9695 input.sk-toggleable__control:checked~div.sk-toggleable__content {max-height: 200px;max-width: 100%;overflow: auto;}#sk-97e85b25-c09c-4527-9c7b-73ef42bf9695 input.sk-toggleable__control:checked~label.sk-toggleable__label-arrow:before {content: \"▾\";}#sk-97e85b25-c09c-4527-9c7b-73ef42bf9695 div.sk-estimator input.sk-toggleable__control:checked~label.sk-toggleable__label {background-color: #d4ebff;}#sk-97e85b25-c09c-4527-9c7b-73ef42bf9695 div.sk-label input.sk-toggleable__control:checked~label.sk-toggleable__label {background-color: #d4ebff;}#sk-97e85b25-c09c-4527-9c7b-73ef42bf9695 input.sk-hidden--visually {border: 0;clip: rect(1px 1px 1px 1px);clip: rect(1px, 1px, 1px, 1px);height: 1px;margin: -1px;overflow: hidden;padding: 0;position: absolute;width: 1px;}#sk-97e85b25-c09c-4527-9c7b-73ef42bf9695 div.sk-estimator {font-family: monospace;background-color: #f0f8ff;border: 1px dotted black;border-radius: 0.25em;box-sizing: border-box;margin-bottom: 0.5em;}#sk-97e85b25-c09c-4527-9c7b-73ef42bf9695 div.sk-estimator:hover {background-color: #d4ebff;}#sk-97e85b25-c09c-4527-9c7b-73ef42bf9695 div.sk-parallel-item::after {content: \"\";width: 100%;border-bottom: 1px solid gray;flex-grow: 1;}#sk-97e85b25-c09c-4527-9c7b-73ef42bf9695 div.sk-label:hover label.sk-toggleable__label {background-color: #d4ebff;}#sk-97e85b25-c09c-4527-9c7b-73ef42bf9695 div.sk-serial::before {content: \"\";position: absolute;border-left: 1px solid gray;box-sizing: border-box;top: 2em;bottom: 0;left: 50%;}#sk-97e85b25-c09c-4527-9c7b-73ef42bf9695 div.sk-serial {display: flex;flex-direction: column;align-items: center;background-color: white;padding-right: 0.2em;padding-left: 0.2em;}#sk-97e85b25-c09c-4527-9c7b-73ef42bf9695 div.sk-item {z-index: 1;}#sk-97e85b25-c09c-4527-9c7b-73ef42bf9695 div.sk-parallel {display: flex;align-items: stretch;justify-content: center;background-color: white;}#sk-97e85b25-c09c-4527-9c7b-73ef42bf9695 div.sk-parallel::before {content: \"\";position: absolute;border-left: 1px solid gray;box-sizing: border-box;top: 2em;bottom: 0;left: 50%;}#sk-97e85b25-c09c-4527-9c7b-73ef42bf9695 div.sk-parallel-item {display: flex;flex-direction: column;position: relative;background-color: white;}#sk-97e85b25-c09c-4527-9c7b-73ef42bf9695 div.sk-parallel-item:first-child::after {align-self: flex-end;width: 50%;}#sk-97e85b25-c09c-4527-9c7b-73ef42bf9695 div.sk-parallel-item:last-child::after {align-self: flex-start;width: 50%;}#sk-97e85b25-c09c-4527-9c7b-73ef42bf9695 div.sk-parallel-item:only-child::after {width: 0;}#sk-97e85b25-c09c-4527-9c7b-73ef42bf9695 div.sk-dashed-wrapped {border: 1px dashed gray;margin: 0 0.4em 0.5em 0.4em;box-sizing: border-box;padding-bottom: 0.4em;background-color: white;position: relative;}#sk-97e85b25-c09c-4527-9c7b-73ef42bf9695 div.sk-label label {font-family: monospace;font-weight: bold;background-color: white;display: inline-block;line-height: 1.2em;}#sk-97e85b25-c09c-4527-9c7b-73ef42bf9695 div.sk-label-container {position: relative;z-index: 2;text-align: center;}#sk-97e85b25-c09c-4527-9c7b-73ef42bf9695 div.sk-container {/* jupyter's `normalize.less` sets `[hidden] { display: none; }` but bootstrap.min.css set `[hidden] { display: none !important; }` so we also need the `!important` here to be able to override the default hidden behavior on the sphinx rendered scikit-learn.org. See: https://github.com/scikit-learn/scikit-learn/issues/21755 */display: inline-block !important;position: relative;}#sk-97e85b25-c09c-4527-9c7b-73ef42bf9695 div.sk-text-repr-fallback {display: none;}</style><div id=\"sk-97e85b25-c09c-4527-9c7b-73ef42bf9695\" class=\"sk-top-container\"><div class=\"sk-text-repr-fallback\"><pre>Pipeline(steps=[(&#x27;columntransformer&#x27;,\n",
       "                 ColumnTransformer(remainder=&#x27;passthrough&#x27;,\n",
       "                                   transformers=[(&#x27;pipeline&#x27;,\n",
       "                                                  Pipeline(steps=[(&#x27;simpleimputer&#x27;,\n",
       "                                                                   SimpleImputer()),\n",
       "                                                                  (&#x27;standardscaler&#x27;,\n",
       "                                                                   StandardScaler())]),\n",
       "                                                  &lt;sklearn.compose._column_transformer.make_column_selector object at 0x7fb4686fd8b0&gt;),\n",
       "                                                 (&#x27;onehotencoder&#x27;,\n",
       "                                                  OneHotEncoder(),\n",
       "                                                  &lt;sklearn.compose._column_transformer.make_column_selector object at 0x7fb46b71e490&gt;)])),\n",
       "                (&#x27;ridge&#x27;, Ridge())])</pre><b>Please rerun this cell to show the HTML repr or trust the notebook.</b></div><div class=\"sk-container\" hidden><div class=\"sk-item sk-dashed-wrapped\"><div class=\"sk-label-container\"><div class=\"sk-label sk-toggleable\"><input class=\"sk-toggleable__control sk-hidden--visually\" id=\"51828efe-f187-4584-8a4c-87dd5b0b3613\" type=\"checkbox\" ><label for=\"51828efe-f187-4584-8a4c-87dd5b0b3613\" class=\"sk-toggleable__label sk-toggleable__label-arrow\">Pipeline</label><div class=\"sk-toggleable__content\"><pre>Pipeline(steps=[(&#x27;columntransformer&#x27;,\n",
       "                 ColumnTransformer(remainder=&#x27;passthrough&#x27;,\n",
       "                                   transformers=[(&#x27;pipeline&#x27;,\n",
       "                                                  Pipeline(steps=[(&#x27;simpleimputer&#x27;,\n",
       "                                                                   SimpleImputer()),\n",
       "                                                                  (&#x27;standardscaler&#x27;,\n",
       "                                                                   StandardScaler())]),\n",
       "                                                  &lt;sklearn.compose._column_transformer.make_column_selector object at 0x7fb4686fd8b0&gt;),\n",
       "                                                 (&#x27;onehotencoder&#x27;,\n",
       "                                                  OneHotEncoder(),\n",
       "                                                  &lt;sklearn.compose._column_transformer.make_column_selector object at 0x7fb46b71e490&gt;)])),\n",
       "                (&#x27;ridge&#x27;, Ridge())])</pre></div></div></div><div class=\"sk-serial\"><div class=\"sk-item sk-dashed-wrapped\"><div class=\"sk-label-container\"><div class=\"sk-label sk-toggleable\"><input class=\"sk-toggleable__control sk-hidden--visually\" id=\"6ef5ee12-5154-4773-a4ba-1078ff055972\" type=\"checkbox\" ><label for=\"6ef5ee12-5154-4773-a4ba-1078ff055972\" class=\"sk-toggleable__label sk-toggleable__label-arrow\">columntransformer: ColumnTransformer</label><div class=\"sk-toggleable__content\"><pre>ColumnTransformer(remainder=&#x27;passthrough&#x27;,\n",
       "                  transformers=[(&#x27;pipeline&#x27;,\n",
       "                                 Pipeline(steps=[(&#x27;simpleimputer&#x27;,\n",
       "                                                  SimpleImputer()),\n",
       "                                                 (&#x27;standardscaler&#x27;,\n",
       "                                                  StandardScaler())]),\n",
       "                                 &lt;sklearn.compose._column_transformer.make_column_selector object at 0x7fb4686fd8b0&gt;),\n",
       "                                (&#x27;onehotencoder&#x27;, OneHotEncoder(),\n",
       "                                 &lt;sklearn.compose._column_transformer.make_column_selector object at 0x7fb46b71e490&gt;)])</pre></div></div></div><div class=\"sk-parallel\"><div class=\"sk-parallel-item\"><div class=\"sk-item\"><div class=\"sk-label-container\"><div class=\"sk-label sk-toggleable\"><input class=\"sk-toggleable__control sk-hidden--visually\" id=\"66713446-076c-4549-8c32-afd786692f99\" type=\"checkbox\" ><label for=\"66713446-076c-4549-8c32-afd786692f99\" class=\"sk-toggleable__label sk-toggleable__label-arrow\">pipeline</label><div class=\"sk-toggleable__content\"><pre>&lt;sklearn.compose._column_transformer.make_column_selector object at 0x7fb4686fd8b0&gt;</pre></div></div></div><div class=\"sk-serial\"><div class=\"sk-item\"><div class=\"sk-serial\"><div class=\"sk-item\"><div class=\"sk-estimator sk-toggleable\"><input class=\"sk-toggleable__control sk-hidden--visually\" id=\"bc246cd9-d132-442a-880b-8c190bb4744b\" type=\"checkbox\" ><label for=\"bc246cd9-d132-442a-880b-8c190bb4744b\" class=\"sk-toggleable__label sk-toggleable__label-arrow\">SimpleImputer</label><div class=\"sk-toggleable__content\"><pre>SimpleImputer()</pre></div></div></div><div class=\"sk-item\"><div class=\"sk-estimator sk-toggleable\"><input class=\"sk-toggleable__control sk-hidden--visually\" id=\"663642c8-844c-4ef0-9b1e-d35c0fef543f\" type=\"checkbox\" ><label for=\"663642c8-844c-4ef0-9b1e-d35c0fef543f\" class=\"sk-toggleable__label sk-toggleable__label-arrow\">StandardScaler</label><div class=\"sk-toggleable__content\"><pre>StandardScaler()</pre></div></div></div></div></div></div></div></div><div class=\"sk-parallel-item\"><div class=\"sk-item\"><div class=\"sk-label-container\"><div class=\"sk-label sk-toggleable\"><input class=\"sk-toggleable__control sk-hidden--visually\" id=\"a14dc3ef-fb0a-45b1-93c1-3ca0a99e4a93\" type=\"checkbox\" ><label for=\"a14dc3ef-fb0a-45b1-93c1-3ca0a99e4a93\" class=\"sk-toggleable__label sk-toggleable__label-arrow\">onehotencoder</label><div class=\"sk-toggleable__content\"><pre>&lt;sklearn.compose._column_transformer.make_column_selector object at 0x7fb46b71e490&gt;</pre></div></div></div><div class=\"sk-serial\"><div class=\"sk-item\"><div class=\"sk-estimator sk-toggleable\"><input class=\"sk-toggleable__control sk-hidden--visually\" id=\"f3e8c177-3b3d-4a42-b7ac-cd86f680a337\" type=\"checkbox\" ><label for=\"f3e8c177-3b3d-4a42-b7ac-cd86f680a337\" class=\"sk-toggleable__label sk-toggleable__label-arrow\">OneHotEncoder</label><div class=\"sk-toggleable__content\"><pre>OneHotEncoder()</pre></div></div></div></div></div></div><div class=\"sk-parallel-item\"><div class=\"sk-item\"><div class=\"sk-label-container\"><div class=\"sk-label sk-toggleable\"><input class=\"sk-toggleable__control sk-hidden--visually\" id=\"311b2e78-dad4-403b-957c-6620c0ff6d39\" type=\"checkbox\" ><label for=\"311b2e78-dad4-403b-957c-6620c0ff6d39\" class=\"sk-toggleable__label sk-toggleable__label-arrow\">remainder</label><div class=\"sk-toggleable__content\"><pre></pre></div></div></div><div class=\"sk-serial\"><div class=\"sk-item\"><div class=\"sk-estimator sk-toggleable\"><input class=\"sk-toggleable__control sk-hidden--visually\" id=\"cdef650c-26cb-441f-8e0e-0eee5e56e809\" type=\"checkbox\" ><label for=\"cdef650c-26cb-441f-8e0e-0eee5e56e809\" class=\"sk-toggleable__label sk-toggleable__label-arrow\">passthrough</label><div class=\"sk-toggleable__content\"><pre>passthrough</pre></div></div></div></div></div></div></div></div><div class=\"sk-item\"><div class=\"sk-estimator sk-toggleable\"><input class=\"sk-toggleable__control sk-hidden--visually\" id=\"cec4d9cf-c3f9-47f0-a8f3-6b46c842e2b6\" type=\"checkbox\" ><label for=\"cec4d9cf-c3f9-47f0-a8f3-6b46c842e2b6\" class=\"sk-toggleable__label sk-toggleable__label-arrow\">Ridge</label><div class=\"sk-toggleable__content\"><pre>Ridge()</pre></div></div></div></div></div></div></div>"
      ],
      "text/plain": [
       "Pipeline(steps=[('columntransformer',\n",
       "                 ColumnTransformer(remainder='passthrough',\n",
       "                                   transformers=[('pipeline',\n",
       "                                                  Pipeline(steps=[('simpleimputer',\n",
       "                                                                   SimpleImputer()),\n",
       "                                                                  ('standardscaler',\n",
       "                                                                   StandardScaler())]),\n",
       "                                                  <sklearn.compose._column_transformer.make_column_selector object at 0x7fb4686fd8b0>),\n",
       "                                                 ('onehotencoder',\n",
       "                                                  OneHotEncoder(),\n",
       "                                                  <sklearn.compose._column_transformer.make_column_selector object at 0x7fb46b71e490>)])),\n",
       "                ('ridge', Ridge())])"
      ]
     },
     "execution_count": 27,
     "metadata": {},
     "output_type": "execute_result"
    }
   ],
   "source": [
    "# from sklearn.linear_model import Ridge\n",
    "\n",
    "# Preprocessor\n",
    "num_transformer = make_pipeline(SimpleImputer(), StandardScaler())\n",
    "cat_transformer = OneHotEncoder()\n",
    "\n",
    "preproc = make_column_transformer(\n",
    "    (num_transformer, make_column_selector(dtype_include=['float64'])),\n",
    "    (cat_transformer, make_column_selector(dtype_include=['object','bool'])),\n",
    "    remainder='passthrough')\n",
    "\n",
    "# Add Estimator\n",
    "pipe = make_pipeline(preproc, Ridge())\n",
    "pipe"
   ]
  },
  {
   "cell_type": "code",
   "execution_count": 28,
   "id": "a91e1020",
   "metadata": {},
   "outputs": [
    {
     "data": {
      "text/plain": [
       "0.7472459359430912"
      ]
     },
     "execution_count": 28,
     "metadata": {},
     "output_type": "execute_result"
    }
   ],
   "source": [
    "# Train pipeline\n",
    "pipe.fit(X_train,y_train)\n",
    "\n",
    "# Make predictions\n",
    "pipe.predict(X_test.iloc[0:2])\n",
    "\n",
    "# Score model\n",
    "pipe.score(X_test,y_test)"
   ]
  },
  {
   "cell_type": "markdown",
   "id": "08f24cd0",
   "metadata": {},
   "source": [
    "### b) Cross validate a pipeline"
   ]
  },
  {
   "cell_type": "code",
   "execution_count": 30,
   "id": "43968cfa",
   "metadata": {},
   "outputs": [
    {
     "data": {
      "text/plain": [
       "0.7463235584349777"
      ]
     },
     "execution_count": 30,
     "metadata": {},
     "output_type": "execute_result"
    }
   ],
   "source": [
    "# from sklearn.model_selection import cross_val_score\n",
    "\n",
    "# Cross validate pipeline\n",
    "cross_val_score(pipe, X_train, y_train, cv=5, scoring='r2').mean()"
   ]
  },
  {
   "cell_type": "markdown",
   "id": "813c015b",
   "metadata": {},
   "source": [
    "### c) Grid search a pipeline"
   ]
  },
  {
   "cell_type": "markdown",
   "id": "7de08f03",
   "metadata": {},
   "source": [
    "- Check which combination of preprocessing/modelling hyperparameters work best\n",
    "- It is possible to grid search hyperparameters of any component of the pipeline\n",
    "- Sklearn Syntax: step_name__transformer_name__hyperparam_name\n",
    "- Check available hyperparameters pipe.get_params()"
   ]
  },
  {
   "cell_type": "code",
   "execution_count": 31,
   "id": "410d2abd",
   "metadata": {
    "collapsed": true
   },
   "outputs": [
    {
     "data": {
      "text/plain": [
       "{'memory': None,\n",
       " 'steps': [('columntransformer',\n",
       "   ColumnTransformer(remainder='passthrough',\n",
       "                     transformers=[('pipeline',\n",
       "                                    Pipeline(steps=[('simpleimputer',\n",
       "                                                     SimpleImputer()),\n",
       "                                                    ('standardscaler',\n",
       "                                                     StandardScaler())]),\n",
       "                                    <sklearn.compose._column_transformer.make_column_selector object at 0x7fb4686fd8b0>),\n",
       "                                   ('onehotencoder', OneHotEncoder(),\n",
       "                                    <sklearn.compose._column_transformer.make_column_selector object at 0x7fb46b71e490>)])),\n",
       "  ('ridge', Ridge())],\n",
       " 'verbose': False,\n",
       " 'columntransformer': ColumnTransformer(remainder='passthrough',\n",
       "                   transformers=[('pipeline',\n",
       "                                  Pipeline(steps=[('simpleimputer',\n",
       "                                                   SimpleImputer()),\n",
       "                                                  ('standardscaler',\n",
       "                                                   StandardScaler())]),\n",
       "                                  <sklearn.compose._column_transformer.make_column_selector object at 0x7fb4686fd8b0>),\n",
       "                                 ('onehotencoder', OneHotEncoder(),\n",
       "                                  <sklearn.compose._column_transformer.make_column_selector object at 0x7fb46b71e490>)]),\n",
       " 'ridge': Ridge(),\n",
       " 'columntransformer__n_jobs': None,\n",
       " 'columntransformer__remainder': 'passthrough',\n",
       " 'columntransformer__sparse_threshold': 0.3,\n",
       " 'columntransformer__transformer_weights': None,\n",
       " 'columntransformer__transformers': [('pipeline',\n",
       "   Pipeline(steps=[('simpleimputer', SimpleImputer()),\n",
       "                   ('standardscaler', StandardScaler())]),\n",
       "   <sklearn.compose._column_transformer.make_column_selector at 0x7fb4686fd8b0>),\n",
       "  ('onehotencoder',\n",
       "   OneHotEncoder(),\n",
       "   <sklearn.compose._column_transformer.make_column_selector at 0x7fb46b71e490>)],\n",
       " 'columntransformer__verbose': False,\n",
       " 'columntransformer__verbose_feature_names_out': True,\n",
       " 'columntransformer__pipeline': Pipeline(steps=[('simpleimputer', SimpleImputer()),\n",
       "                 ('standardscaler', StandardScaler())]),\n",
       " 'columntransformer__onehotencoder': OneHotEncoder(),\n",
       " 'columntransformer__pipeline__memory': None,\n",
       " 'columntransformer__pipeline__steps': [('simpleimputer', SimpleImputer()),\n",
       "  ('standardscaler', StandardScaler())],\n",
       " 'columntransformer__pipeline__verbose': False,\n",
       " 'columntransformer__pipeline__simpleimputer': SimpleImputer(),\n",
       " 'columntransformer__pipeline__standardscaler': StandardScaler(),\n",
       " 'columntransformer__pipeline__simpleimputer__add_indicator': False,\n",
       " 'columntransformer__pipeline__simpleimputer__copy': True,\n",
       " 'columntransformer__pipeline__simpleimputer__fill_value': None,\n",
       " 'columntransformer__pipeline__simpleimputer__missing_values': nan,\n",
       " 'columntransformer__pipeline__simpleimputer__strategy': 'mean',\n",
       " 'columntransformer__pipeline__simpleimputer__verbose': 0,\n",
       " 'columntransformer__pipeline__standardscaler__copy': True,\n",
       " 'columntransformer__pipeline__standardscaler__with_mean': True,\n",
       " 'columntransformer__pipeline__standardscaler__with_std': True,\n",
       " 'columntransformer__onehotencoder__categories': 'auto',\n",
       " 'columntransformer__onehotencoder__drop': None,\n",
       " 'columntransformer__onehotencoder__dtype': numpy.float64,\n",
       " 'columntransformer__onehotencoder__handle_unknown': 'error',\n",
       " 'columntransformer__onehotencoder__sparse': True,\n",
       " 'ridge__alpha': 1.0,\n",
       " 'ridge__copy_X': True,\n",
       " 'ridge__fit_intercept': True,\n",
       " 'ridge__max_iter': None,\n",
       " 'ridge__normalize': 'deprecated',\n",
       " 'ridge__positive': False,\n",
       " 'ridge__random_state': None,\n",
       " 'ridge__solver': 'auto',\n",
       " 'ridge__tol': 0.001}"
      ]
     },
     "execution_count": 31,
     "metadata": {},
     "output_type": "execute_result"
    }
   ],
   "source": [
    "# Inspect all pipe components parameters to find the one you want to gridsearch\n",
    "pipe.get_params()"
   ]
  },
  {
   "cell_type": "code",
   "execution_count": 32,
   "id": "18e30d98",
   "metadata": {
    "scrolled": true
   },
   "outputs": [
    {
     "data": {
      "text/plain": [
       "{'columntransformer__pipeline__simpleimputer__strategy': 'median',\n",
       " 'ridge__alpha': 1}"
      ]
     },
     "execution_count": 32,
     "metadata": {},
     "output_type": "execute_result"
    }
   ],
   "source": [
    "# from sklearn.model_selection import GridSearchCV\n",
    "\n",
    "# Instanciate grid search\n",
    "grid_search = GridSearchCV(\n",
    "    pipe, \n",
    "    param_grid={\n",
    "        # Access any component of the pipeline, as far back as you want\n",
    "        'columntransformer__pipeline__simpleimputer__strategy': ['mean', 'median'],\n",
    "        'ridge__alpha': [0.1, 0.5, 1, 5, 10]},\n",
    "    cv=5,\n",
    "    scoring=\"r2\")\n",
    "\n",
    "grid_search.fit(X_train, y_train)\n",
    "grid_search.best_params_"
   ]
  },
  {
   "cell_type": "code",
   "execution_count": 33,
   "id": "98afc352",
   "metadata": {},
   "outputs": [],
   "source": [
    "pipe_tuned = grid_search.best_estimator_"
   ]
  },
  {
   "cell_type": "code",
   "execution_count": 34,
   "id": "8f40bfd7",
   "metadata": {},
   "outputs": [
    {
     "data": {
      "text/html": [
       "<style>#sk-b1999955-fc01-47b0-9e84-1da184d0798d {color: black;background-color: white;}#sk-b1999955-fc01-47b0-9e84-1da184d0798d pre{padding: 0;}#sk-b1999955-fc01-47b0-9e84-1da184d0798d div.sk-toggleable {background-color: white;}#sk-b1999955-fc01-47b0-9e84-1da184d0798d label.sk-toggleable__label {cursor: pointer;display: block;width: 100%;margin-bottom: 0;padding: 0.3em;box-sizing: border-box;text-align: center;}#sk-b1999955-fc01-47b0-9e84-1da184d0798d label.sk-toggleable__label-arrow:before {content: \"▸\";float: left;margin-right: 0.25em;color: #696969;}#sk-b1999955-fc01-47b0-9e84-1da184d0798d label.sk-toggleable__label-arrow:hover:before {color: black;}#sk-b1999955-fc01-47b0-9e84-1da184d0798d div.sk-estimator:hover label.sk-toggleable__label-arrow:before {color: black;}#sk-b1999955-fc01-47b0-9e84-1da184d0798d div.sk-toggleable__content {max-height: 0;max-width: 0;overflow: hidden;text-align: left;background-color: #f0f8ff;}#sk-b1999955-fc01-47b0-9e84-1da184d0798d div.sk-toggleable__content pre {margin: 0.2em;color: black;border-radius: 0.25em;background-color: #f0f8ff;}#sk-b1999955-fc01-47b0-9e84-1da184d0798d input.sk-toggleable__control:checked~div.sk-toggleable__content {max-height: 200px;max-width: 100%;overflow: auto;}#sk-b1999955-fc01-47b0-9e84-1da184d0798d input.sk-toggleable__control:checked~label.sk-toggleable__label-arrow:before {content: \"▾\";}#sk-b1999955-fc01-47b0-9e84-1da184d0798d div.sk-estimator input.sk-toggleable__control:checked~label.sk-toggleable__label {background-color: #d4ebff;}#sk-b1999955-fc01-47b0-9e84-1da184d0798d div.sk-label input.sk-toggleable__control:checked~label.sk-toggleable__label {background-color: #d4ebff;}#sk-b1999955-fc01-47b0-9e84-1da184d0798d input.sk-hidden--visually {border: 0;clip: rect(1px 1px 1px 1px);clip: rect(1px, 1px, 1px, 1px);height: 1px;margin: -1px;overflow: hidden;padding: 0;position: absolute;width: 1px;}#sk-b1999955-fc01-47b0-9e84-1da184d0798d div.sk-estimator {font-family: monospace;background-color: #f0f8ff;border: 1px dotted black;border-radius: 0.25em;box-sizing: border-box;margin-bottom: 0.5em;}#sk-b1999955-fc01-47b0-9e84-1da184d0798d div.sk-estimator:hover {background-color: #d4ebff;}#sk-b1999955-fc01-47b0-9e84-1da184d0798d div.sk-parallel-item::after {content: \"\";width: 100%;border-bottom: 1px solid gray;flex-grow: 1;}#sk-b1999955-fc01-47b0-9e84-1da184d0798d div.sk-label:hover label.sk-toggleable__label {background-color: #d4ebff;}#sk-b1999955-fc01-47b0-9e84-1da184d0798d div.sk-serial::before {content: \"\";position: absolute;border-left: 1px solid gray;box-sizing: border-box;top: 2em;bottom: 0;left: 50%;}#sk-b1999955-fc01-47b0-9e84-1da184d0798d div.sk-serial {display: flex;flex-direction: column;align-items: center;background-color: white;padding-right: 0.2em;padding-left: 0.2em;}#sk-b1999955-fc01-47b0-9e84-1da184d0798d div.sk-item {z-index: 1;}#sk-b1999955-fc01-47b0-9e84-1da184d0798d div.sk-parallel {display: flex;align-items: stretch;justify-content: center;background-color: white;}#sk-b1999955-fc01-47b0-9e84-1da184d0798d div.sk-parallel::before {content: \"\";position: absolute;border-left: 1px solid gray;box-sizing: border-box;top: 2em;bottom: 0;left: 50%;}#sk-b1999955-fc01-47b0-9e84-1da184d0798d div.sk-parallel-item {display: flex;flex-direction: column;position: relative;background-color: white;}#sk-b1999955-fc01-47b0-9e84-1da184d0798d div.sk-parallel-item:first-child::after {align-self: flex-end;width: 50%;}#sk-b1999955-fc01-47b0-9e84-1da184d0798d div.sk-parallel-item:last-child::after {align-self: flex-start;width: 50%;}#sk-b1999955-fc01-47b0-9e84-1da184d0798d div.sk-parallel-item:only-child::after {width: 0;}#sk-b1999955-fc01-47b0-9e84-1da184d0798d div.sk-dashed-wrapped {border: 1px dashed gray;margin: 0 0.4em 0.5em 0.4em;box-sizing: border-box;padding-bottom: 0.4em;background-color: white;position: relative;}#sk-b1999955-fc01-47b0-9e84-1da184d0798d div.sk-label label {font-family: monospace;font-weight: bold;background-color: white;display: inline-block;line-height: 1.2em;}#sk-b1999955-fc01-47b0-9e84-1da184d0798d div.sk-label-container {position: relative;z-index: 2;text-align: center;}#sk-b1999955-fc01-47b0-9e84-1da184d0798d div.sk-container {/* jupyter's `normalize.less` sets `[hidden] { display: none; }` but bootstrap.min.css set `[hidden] { display: none !important; }` so we also need the `!important` here to be able to override the default hidden behavior on the sphinx rendered scikit-learn.org. See: https://github.com/scikit-learn/scikit-learn/issues/21755 */display: inline-block !important;position: relative;}#sk-b1999955-fc01-47b0-9e84-1da184d0798d div.sk-text-repr-fallback {display: none;}</style><div id=\"sk-b1999955-fc01-47b0-9e84-1da184d0798d\" class=\"sk-top-container\"><div class=\"sk-text-repr-fallback\"><pre>Pipeline(steps=[(&#x27;columntransformer&#x27;,\n",
       "                 ColumnTransformer(remainder=&#x27;passthrough&#x27;,\n",
       "                                   transformers=[(&#x27;pipeline&#x27;,\n",
       "                                                  Pipeline(steps=[(&#x27;simpleimputer&#x27;,\n",
       "                                                                   SimpleImputer(strategy=&#x27;median&#x27;)),\n",
       "                                                                  (&#x27;standardscaler&#x27;,\n",
       "                                                                   StandardScaler())]),\n",
       "                                                  &lt;sklearn.compose._column_transformer.make_column_selector object at 0x7fb40b6ad520&gt;),\n",
       "                                                 (&#x27;onehotencoder&#x27;,\n",
       "                                                  OneHotEncoder(),\n",
       "                                                  &lt;sklearn.compose._column_transformer.make_column_selector object at 0x7fb40b658610&gt;)])),\n",
       "                (&#x27;ridge&#x27;, Ridge(alpha=1))])</pre><b>Please rerun this cell to show the HTML repr or trust the notebook.</b></div><div class=\"sk-container\" hidden><div class=\"sk-item sk-dashed-wrapped\"><div class=\"sk-label-container\"><div class=\"sk-label sk-toggleable\"><input class=\"sk-toggleable__control sk-hidden--visually\" id=\"f28aa446-5eda-4901-b475-10355f946335\" type=\"checkbox\" ><label for=\"f28aa446-5eda-4901-b475-10355f946335\" class=\"sk-toggleable__label sk-toggleable__label-arrow\">Pipeline</label><div class=\"sk-toggleable__content\"><pre>Pipeline(steps=[(&#x27;columntransformer&#x27;,\n",
       "                 ColumnTransformer(remainder=&#x27;passthrough&#x27;,\n",
       "                                   transformers=[(&#x27;pipeline&#x27;,\n",
       "                                                  Pipeline(steps=[(&#x27;simpleimputer&#x27;,\n",
       "                                                                   SimpleImputer(strategy=&#x27;median&#x27;)),\n",
       "                                                                  (&#x27;standardscaler&#x27;,\n",
       "                                                                   StandardScaler())]),\n",
       "                                                  &lt;sklearn.compose._column_transformer.make_column_selector object at 0x7fb40b6ad520&gt;),\n",
       "                                                 (&#x27;onehotencoder&#x27;,\n",
       "                                                  OneHotEncoder(),\n",
       "                                                  &lt;sklearn.compose._column_transformer.make_column_selector object at 0x7fb40b658610&gt;)])),\n",
       "                (&#x27;ridge&#x27;, Ridge(alpha=1))])</pre></div></div></div><div class=\"sk-serial\"><div class=\"sk-item sk-dashed-wrapped\"><div class=\"sk-label-container\"><div class=\"sk-label sk-toggleable\"><input class=\"sk-toggleable__control sk-hidden--visually\" id=\"c547d3a8-f97a-4bc0-8859-77f7c7c019ff\" type=\"checkbox\" ><label for=\"c547d3a8-f97a-4bc0-8859-77f7c7c019ff\" class=\"sk-toggleable__label sk-toggleable__label-arrow\">columntransformer: ColumnTransformer</label><div class=\"sk-toggleable__content\"><pre>ColumnTransformer(remainder=&#x27;passthrough&#x27;,\n",
       "                  transformers=[(&#x27;pipeline&#x27;,\n",
       "                                 Pipeline(steps=[(&#x27;simpleimputer&#x27;,\n",
       "                                                  SimpleImputer(strategy=&#x27;median&#x27;)),\n",
       "                                                 (&#x27;standardscaler&#x27;,\n",
       "                                                  StandardScaler())]),\n",
       "                                 &lt;sklearn.compose._column_transformer.make_column_selector object at 0x7fb40b6ad520&gt;),\n",
       "                                (&#x27;onehotencoder&#x27;, OneHotEncoder(),\n",
       "                                 &lt;sklearn.compose._column_transformer.make_column_selector object at 0x7fb40b658610&gt;)])</pre></div></div></div><div class=\"sk-parallel\"><div class=\"sk-parallel-item\"><div class=\"sk-item\"><div class=\"sk-label-container\"><div class=\"sk-label sk-toggleable\"><input class=\"sk-toggleable__control sk-hidden--visually\" id=\"92d02a21-6dbc-4aef-9c88-860dfc26db84\" type=\"checkbox\" ><label for=\"92d02a21-6dbc-4aef-9c88-860dfc26db84\" class=\"sk-toggleable__label sk-toggleable__label-arrow\">pipeline</label><div class=\"sk-toggleable__content\"><pre>&lt;sklearn.compose._column_transformer.make_column_selector object at 0x7fb40b6ad520&gt;</pre></div></div></div><div class=\"sk-serial\"><div class=\"sk-item\"><div class=\"sk-serial\"><div class=\"sk-item\"><div class=\"sk-estimator sk-toggleable\"><input class=\"sk-toggleable__control sk-hidden--visually\" id=\"a1dbc3a5-514e-4560-95b1-cb61bb6f60e6\" type=\"checkbox\" ><label for=\"a1dbc3a5-514e-4560-95b1-cb61bb6f60e6\" class=\"sk-toggleable__label sk-toggleable__label-arrow\">SimpleImputer</label><div class=\"sk-toggleable__content\"><pre>SimpleImputer(strategy=&#x27;median&#x27;)</pre></div></div></div><div class=\"sk-item\"><div class=\"sk-estimator sk-toggleable\"><input class=\"sk-toggleable__control sk-hidden--visually\" id=\"05bb28ed-9b64-4fc8-930b-2ea2bb465228\" type=\"checkbox\" ><label for=\"05bb28ed-9b64-4fc8-930b-2ea2bb465228\" class=\"sk-toggleable__label sk-toggleable__label-arrow\">StandardScaler</label><div class=\"sk-toggleable__content\"><pre>StandardScaler()</pre></div></div></div></div></div></div></div></div><div class=\"sk-parallel-item\"><div class=\"sk-item\"><div class=\"sk-label-container\"><div class=\"sk-label sk-toggleable\"><input class=\"sk-toggleable__control sk-hidden--visually\" id=\"605068b7-5344-4ffb-b122-d67103df31ba\" type=\"checkbox\" ><label for=\"605068b7-5344-4ffb-b122-d67103df31ba\" class=\"sk-toggleable__label sk-toggleable__label-arrow\">onehotencoder</label><div class=\"sk-toggleable__content\"><pre>&lt;sklearn.compose._column_transformer.make_column_selector object at 0x7fb40b658610&gt;</pre></div></div></div><div class=\"sk-serial\"><div class=\"sk-item\"><div class=\"sk-estimator sk-toggleable\"><input class=\"sk-toggleable__control sk-hidden--visually\" id=\"205eb8c3-9f16-47c3-8e52-e3f01c55f71a\" type=\"checkbox\" ><label for=\"205eb8c3-9f16-47c3-8e52-e3f01c55f71a\" class=\"sk-toggleable__label sk-toggleable__label-arrow\">OneHotEncoder</label><div class=\"sk-toggleable__content\"><pre>OneHotEncoder()</pre></div></div></div></div></div></div><div class=\"sk-parallel-item\"><div class=\"sk-item\"><div class=\"sk-label-container\"><div class=\"sk-label sk-toggleable\"><input class=\"sk-toggleable__control sk-hidden--visually\" id=\"9fe57225-752a-49b8-8fa1-4d46a3d7c14a\" type=\"checkbox\" ><label for=\"9fe57225-752a-49b8-8fa1-4d46a3d7c14a\" class=\"sk-toggleable__label sk-toggleable__label-arrow\">remainder</label><div class=\"sk-toggleable__content\"><pre>[&#x27;children&#x27;]</pre></div></div></div><div class=\"sk-serial\"><div class=\"sk-item\"><div class=\"sk-estimator sk-toggleable\"><input class=\"sk-toggleable__control sk-hidden--visually\" id=\"e37c3617-9758-4b89-9066-c61bf6e85e3b\" type=\"checkbox\" ><label for=\"e37c3617-9758-4b89-9066-c61bf6e85e3b\" class=\"sk-toggleable__label sk-toggleable__label-arrow\">passthrough</label><div class=\"sk-toggleable__content\"><pre>passthrough</pre></div></div></div></div></div></div></div></div><div class=\"sk-item\"><div class=\"sk-estimator sk-toggleable\"><input class=\"sk-toggleable__control sk-hidden--visually\" id=\"f8ef50cd-9ac1-40ce-9564-21591ffadd5b\" type=\"checkbox\" ><label for=\"f8ef50cd-9ac1-40ce-9564-21591ffadd5b\" class=\"sk-toggleable__label sk-toggleable__label-arrow\">Ridge</label><div class=\"sk-toggleable__content\"><pre>Ridge(alpha=1)</pre></div></div></div></div></div></div></div>"
      ],
      "text/plain": [
       "Pipeline(steps=[('columntransformer',\n",
       "                 ColumnTransformer(remainder='passthrough',\n",
       "                                   transformers=[('pipeline',\n",
       "                                                  Pipeline(steps=[('simpleimputer',\n",
       "                                                                   SimpleImputer(strategy='median')),\n",
       "                                                                  ('standardscaler',\n",
       "                                                                   StandardScaler())]),\n",
       "                                                  <sklearn.compose._column_transformer.make_column_selector object at 0x7fb40b6ad520>),\n",
       "                                                 ('onehotencoder',\n",
       "                                                  OneHotEncoder(),\n",
       "                                                  <sklearn.compose._column_transformer.make_column_selector object at 0x7fb40b658610>)])),\n",
       "                ('ridge', Ridge(alpha=1))])"
      ]
     },
     "execution_count": 34,
     "metadata": {},
     "output_type": "execute_result"
    }
   ],
   "source": [
    "pipe_tuned"
   ]
  },
  {
   "cell_type": "markdown",
   "id": "710b0dd2",
   "metadata": {},
   "source": [
    "## Debug your pipe"
   ]
  },
  {
   "cell_type": "code",
   "execution_count": 35,
   "id": "d244b61f",
   "metadata": {},
   "outputs": [
    {
     "data": {
      "text/plain": [
       "dict_keys(['columntransformer', 'ridge'])"
      ]
     },
     "execution_count": 35,
     "metadata": {},
     "output_type": "execute_result"
    }
   ],
   "source": [
    "# Access component of pipeline with `name_steps`\n",
    "pipe_tuned.named_steps.keys()"
   ]
  },
  {
   "cell_type": "code",
   "execution_count": 38,
   "id": "a112cfbc",
   "metadata": {},
   "outputs": [
    {
     "data": {
      "text/plain": [
       "(1100, 9)"
      ]
     },
     "execution_count": 38,
     "metadata": {},
     "output_type": "execute_result"
    }
   ],
   "source": [
    "# Check intermediate steps\n",
    "pipe_tuned.named_steps[\"columntransformer\"].fit_transform(X_train).shape"
   ]
  },
  {
   "cell_type": "markdown",
   "id": "bc10843a",
   "metadata": {},
   "source": [
    "## Exporting models/pipelines"
   ]
  },
  {
   "cell_type": "code",
   "execution_count": 39,
   "id": "d16e4892",
   "metadata": {},
   "outputs": [
    {
     "data": {
      "text/plain": [
       "0.7472449607503218"
      ]
     },
     "execution_count": 39,
     "metadata": {},
     "output_type": "execute_result"
    }
   ],
   "source": [
    "# import pickle\n",
    "\n",
    "# Export pipeline as pickle file\n",
    "with open(\"pipeline.pkl\", \"wb\") as file:\n",
    "    pickle.dump(pipe_tuned, file)\n",
    "\n",
    "# Load pipeline from pickle file\n",
    "my_pipeline = pickle.load(open(\"pipeline.pkl\",\"rb\"))\n",
    "\n",
    "my_pipeline.score(X_test, y_test)"
   ]
  },
  {
   "cell_type": "markdown",
   "id": "84cf4f18",
   "metadata": {},
   "source": [
    "## Auto ML"
   ]
  },
  {
   "cell_type": "code",
   "execution_count": null,
   "id": "3dab1f9d",
   "metadata": {},
   "outputs": [],
   "source": [
    "#!pip install TPOT\n",
    "#!pip install torch"
   ]
  },
  {
   "cell_type": "code",
   "execution_count": 40,
   "id": "da3d3b79",
   "metadata": {},
   "outputs": [
    {
     "data": {
      "text/html": [
       "<style>#sk-094fdaa7-0e8e-4e89-8dba-b51a7f3ecd4a {color: black;background-color: white;}#sk-094fdaa7-0e8e-4e89-8dba-b51a7f3ecd4a pre{padding: 0;}#sk-094fdaa7-0e8e-4e89-8dba-b51a7f3ecd4a div.sk-toggleable {background-color: white;}#sk-094fdaa7-0e8e-4e89-8dba-b51a7f3ecd4a label.sk-toggleable__label {cursor: pointer;display: block;width: 100%;margin-bottom: 0;padding: 0.3em;box-sizing: border-box;text-align: center;}#sk-094fdaa7-0e8e-4e89-8dba-b51a7f3ecd4a label.sk-toggleable__label-arrow:before {content: \"▸\";float: left;margin-right: 0.25em;color: #696969;}#sk-094fdaa7-0e8e-4e89-8dba-b51a7f3ecd4a label.sk-toggleable__label-arrow:hover:before {color: black;}#sk-094fdaa7-0e8e-4e89-8dba-b51a7f3ecd4a div.sk-estimator:hover label.sk-toggleable__label-arrow:before {color: black;}#sk-094fdaa7-0e8e-4e89-8dba-b51a7f3ecd4a div.sk-toggleable__content {max-height: 0;max-width: 0;overflow: hidden;text-align: left;background-color: #f0f8ff;}#sk-094fdaa7-0e8e-4e89-8dba-b51a7f3ecd4a div.sk-toggleable__content pre {margin: 0.2em;color: black;border-radius: 0.25em;background-color: #f0f8ff;}#sk-094fdaa7-0e8e-4e89-8dba-b51a7f3ecd4a input.sk-toggleable__control:checked~div.sk-toggleable__content {max-height: 200px;max-width: 100%;overflow: auto;}#sk-094fdaa7-0e8e-4e89-8dba-b51a7f3ecd4a input.sk-toggleable__control:checked~label.sk-toggleable__label-arrow:before {content: \"▾\";}#sk-094fdaa7-0e8e-4e89-8dba-b51a7f3ecd4a div.sk-estimator input.sk-toggleable__control:checked~label.sk-toggleable__label {background-color: #d4ebff;}#sk-094fdaa7-0e8e-4e89-8dba-b51a7f3ecd4a div.sk-label input.sk-toggleable__control:checked~label.sk-toggleable__label {background-color: #d4ebff;}#sk-094fdaa7-0e8e-4e89-8dba-b51a7f3ecd4a input.sk-hidden--visually {border: 0;clip: rect(1px 1px 1px 1px);clip: rect(1px, 1px, 1px, 1px);height: 1px;margin: -1px;overflow: hidden;padding: 0;position: absolute;width: 1px;}#sk-094fdaa7-0e8e-4e89-8dba-b51a7f3ecd4a div.sk-estimator {font-family: monospace;background-color: #f0f8ff;border: 1px dotted black;border-radius: 0.25em;box-sizing: border-box;margin-bottom: 0.5em;}#sk-094fdaa7-0e8e-4e89-8dba-b51a7f3ecd4a div.sk-estimator:hover {background-color: #d4ebff;}#sk-094fdaa7-0e8e-4e89-8dba-b51a7f3ecd4a div.sk-parallel-item::after {content: \"\";width: 100%;border-bottom: 1px solid gray;flex-grow: 1;}#sk-094fdaa7-0e8e-4e89-8dba-b51a7f3ecd4a div.sk-label:hover label.sk-toggleable__label {background-color: #d4ebff;}#sk-094fdaa7-0e8e-4e89-8dba-b51a7f3ecd4a div.sk-serial::before {content: \"\";position: absolute;border-left: 1px solid gray;box-sizing: border-box;top: 2em;bottom: 0;left: 50%;}#sk-094fdaa7-0e8e-4e89-8dba-b51a7f3ecd4a div.sk-serial {display: flex;flex-direction: column;align-items: center;background-color: white;padding-right: 0.2em;padding-left: 0.2em;}#sk-094fdaa7-0e8e-4e89-8dba-b51a7f3ecd4a div.sk-item {z-index: 1;}#sk-094fdaa7-0e8e-4e89-8dba-b51a7f3ecd4a div.sk-parallel {display: flex;align-items: stretch;justify-content: center;background-color: white;}#sk-094fdaa7-0e8e-4e89-8dba-b51a7f3ecd4a div.sk-parallel::before {content: \"\";position: absolute;border-left: 1px solid gray;box-sizing: border-box;top: 2em;bottom: 0;left: 50%;}#sk-094fdaa7-0e8e-4e89-8dba-b51a7f3ecd4a div.sk-parallel-item {display: flex;flex-direction: column;position: relative;background-color: white;}#sk-094fdaa7-0e8e-4e89-8dba-b51a7f3ecd4a div.sk-parallel-item:first-child::after {align-self: flex-end;width: 50%;}#sk-094fdaa7-0e8e-4e89-8dba-b51a7f3ecd4a div.sk-parallel-item:last-child::after {align-self: flex-start;width: 50%;}#sk-094fdaa7-0e8e-4e89-8dba-b51a7f3ecd4a div.sk-parallel-item:only-child::after {width: 0;}#sk-094fdaa7-0e8e-4e89-8dba-b51a7f3ecd4a div.sk-dashed-wrapped {border: 1px dashed gray;margin: 0 0.4em 0.5em 0.4em;box-sizing: border-box;padding-bottom: 0.4em;background-color: white;position: relative;}#sk-094fdaa7-0e8e-4e89-8dba-b51a7f3ecd4a div.sk-label label {font-family: monospace;font-weight: bold;background-color: white;display: inline-block;line-height: 1.2em;}#sk-094fdaa7-0e8e-4e89-8dba-b51a7f3ecd4a div.sk-label-container {position: relative;z-index: 2;text-align: center;}#sk-094fdaa7-0e8e-4e89-8dba-b51a7f3ecd4a div.sk-container {/* jupyter's `normalize.less` sets `[hidden] { display: none; }` but bootstrap.min.css set `[hidden] { display: none !important; }` so we also need the `!important` here to be able to override the default hidden behavior on the sphinx rendered scikit-learn.org. See: https://github.com/scikit-learn/scikit-learn/issues/21755 */display: inline-block !important;position: relative;}#sk-094fdaa7-0e8e-4e89-8dba-b51a7f3ecd4a div.sk-text-repr-fallback {display: none;}</style><div id=\"sk-094fdaa7-0e8e-4e89-8dba-b51a7f3ecd4a\" class=\"sk-top-container\"><div class=\"sk-text-repr-fallback\"><pre>ColumnTransformer(remainder=&#x27;passthrough&#x27;,\n",
       "                  transformers=[(&#x27;pipeline&#x27;,\n",
       "                                 Pipeline(steps=[(&#x27;simpleimputer&#x27;,\n",
       "                                                  SimpleImputer()),\n",
       "                                                 (&#x27;standardscaler&#x27;,\n",
       "                                                  StandardScaler())]),\n",
       "                                 &lt;sklearn.compose._column_transformer.make_column_selector object at 0x7fb40b6ad2b0&gt;),\n",
       "                                (&#x27;onehotencoder&#x27;, OneHotEncoder(),\n",
       "                                 &lt;sklearn.compose._column_transformer.make_column_selector object at 0x7fb40b6adf70&gt;)])</pre><b>Please rerun this cell to show the HTML repr or trust the notebook.</b></div><div class=\"sk-container\" hidden><div class=\"sk-item sk-dashed-wrapped\"><div class=\"sk-label-container\"><div class=\"sk-label sk-toggleable\"><input class=\"sk-toggleable__control sk-hidden--visually\" id=\"ac8b4209-8daf-475d-a933-2c33828474c6\" type=\"checkbox\" ><label for=\"ac8b4209-8daf-475d-a933-2c33828474c6\" class=\"sk-toggleable__label sk-toggleable__label-arrow\">ColumnTransformer</label><div class=\"sk-toggleable__content\"><pre>ColumnTransformer(remainder=&#x27;passthrough&#x27;,\n",
       "                  transformers=[(&#x27;pipeline&#x27;,\n",
       "                                 Pipeline(steps=[(&#x27;simpleimputer&#x27;,\n",
       "                                                  SimpleImputer()),\n",
       "                                                 (&#x27;standardscaler&#x27;,\n",
       "                                                  StandardScaler())]),\n",
       "                                 &lt;sklearn.compose._column_transformer.make_column_selector object at 0x7fb40b6ad2b0&gt;),\n",
       "                                (&#x27;onehotencoder&#x27;, OneHotEncoder(),\n",
       "                                 &lt;sklearn.compose._column_transformer.make_column_selector object at 0x7fb40b6adf70&gt;)])</pre></div></div></div><div class=\"sk-parallel\"><div class=\"sk-parallel-item\"><div class=\"sk-item\"><div class=\"sk-label-container\"><div class=\"sk-label sk-toggleable\"><input class=\"sk-toggleable__control sk-hidden--visually\" id=\"30bd34b5-2820-452b-a557-2221596a7a61\" type=\"checkbox\" ><label for=\"30bd34b5-2820-452b-a557-2221596a7a61\" class=\"sk-toggleable__label sk-toggleable__label-arrow\">pipeline</label><div class=\"sk-toggleable__content\"><pre>&lt;sklearn.compose._column_transformer.make_column_selector object at 0x7fb40b6ad2b0&gt;</pre></div></div></div><div class=\"sk-serial\"><div class=\"sk-item\"><div class=\"sk-serial\"><div class=\"sk-item\"><div class=\"sk-estimator sk-toggleable\"><input class=\"sk-toggleable__control sk-hidden--visually\" id=\"9e45fd6d-4267-4b89-85bb-bd2dde69135a\" type=\"checkbox\" ><label for=\"9e45fd6d-4267-4b89-85bb-bd2dde69135a\" class=\"sk-toggleable__label sk-toggleable__label-arrow\">SimpleImputer</label><div class=\"sk-toggleable__content\"><pre>SimpleImputer()</pre></div></div></div><div class=\"sk-item\"><div class=\"sk-estimator sk-toggleable\"><input class=\"sk-toggleable__control sk-hidden--visually\" id=\"08d251ff-2e3e-4ed5-8fe5-94675a254a04\" type=\"checkbox\" ><label for=\"08d251ff-2e3e-4ed5-8fe5-94675a254a04\" class=\"sk-toggleable__label sk-toggleable__label-arrow\">StandardScaler</label><div class=\"sk-toggleable__content\"><pre>StandardScaler()</pre></div></div></div></div></div></div></div></div><div class=\"sk-parallel-item\"><div class=\"sk-item\"><div class=\"sk-label-container\"><div class=\"sk-label sk-toggleable\"><input class=\"sk-toggleable__control sk-hidden--visually\" id=\"d65da79b-b6f2-421f-a6e6-30b6f93b90e6\" type=\"checkbox\" ><label for=\"d65da79b-b6f2-421f-a6e6-30b6f93b90e6\" class=\"sk-toggleable__label sk-toggleable__label-arrow\">onehotencoder</label><div class=\"sk-toggleable__content\"><pre>&lt;sklearn.compose._column_transformer.make_column_selector object at 0x7fb40b6adf70&gt;</pre></div></div></div><div class=\"sk-serial\"><div class=\"sk-item\"><div class=\"sk-estimator sk-toggleable\"><input class=\"sk-toggleable__control sk-hidden--visually\" id=\"91a9eb86-557b-4a1b-8c38-0fac96e97953\" type=\"checkbox\" ><label for=\"91a9eb86-557b-4a1b-8c38-0fac96e97953\" class=\"sk-toggleable__label sk-toggleable__label-arrow\">OneHotEncoder</label><div class=\"sk-toggleable__content\"><pre>OneHotEncoder()</pre></div></div></div></div></div></div><div class=\"sk-parallel-item\"><div class=\"sk-item\"><div class=\"sk-label-container\"><div class=\"sk-label sk-toggleable\"><input class=\"sk-toggleable__control sk-hidden--visually\" id=\"436e99da-a69a-4182-8bb6-ea0140eaa698\" type=\"checkbox\" ><label for=\"436e99da-a69a-4182-8bb6-ea0140eaa698\" class=\"sk-toggleable__label sk-toggleable__label-arrow\">remainder</label><div class=\"sk-toggleable__content\"><pre></pre></div></div></div><div class=\"sk-serial\"><div class=\"sk-item\"><div class=\"sk-estimator sk-toggleable\"><input class=\"sk-toggleable__control sk-hidden--visually\" id=\"3de63d11-39d4-433e-a099-cea439e886f6\" type=\"checkbox\" ><label for=\"3de63d11-39d4-433e-a099-cea439e886f6\" class=\"sk-toggleable__label sk-toggleable__label-arrow\">passthrough</label><div class=\"sk-toggleable__content\"><pre>passthrough</pre></div></div></div></div></div></div></div></div></div></div>"
      ],
      "text/plain": [
       "ColumnTransformer(remainder='passthrough',\n",
       "                  transformers=[('pipeline',\n",
       "                                 Pipeline(steps=[('simpleimputer',\n",
       "                                                  SimpleImputer()),\n",
       "                                                 ('standardscaler',\n",
       "                                                  StandardScaler())]),\n",
       "                                 <sklearn.compose._column_transformer.make_column_selector object at 0x7fb40b6ad2b0>),\n",
       "                                ('onehotencoder', OneHotEncoder(),\n",
       "                                 <sklearn.compose._column_transformer.make_column_selector object at 0x7fb40b6adf70>)])"
      ]
     },
     "execution_count": 40,
     "metadata": {},
     "output_type": "execute_result"
    }
   ],
   "source": [
    "preproc_basic"
   ]
  },
  {
   "cell_type": "code",
   "execution_count": 41,
   "id": "950282bc",
   "metadata": {},
   "outputs": [
    {
     "name": "stderr",
     "output_type": "stream",
     "text": [
      "/home/matheus/.pyenv/versions/3.8.12/envs/lewagon/lib/python3.8/site-packages/tpot/builtins/__init__.py:36: UserWarning: Warning: optional dependency `torch` is not available. - skipping import of NN models.\n",
      "  warnings.warn(\"Warning: optional dependency `torch` is not available. - skipping import of NN models.\")\n"
     ]
    }
   ],
   "source": [
    "import os\n",
    "from tpot import TPOTRegressor\n",
    "\n",
    "X_train_preproc = preproc_basic.fit_transform(X_train)\n",
    "X_test_preproc = preproc_basic.transform(X_test)"
   ]
  },
  {
   "cell_type": "code",
   "execution_count": 42,
   "id": "7d0f5a8f",
   "metadata": {},
   "outputs": [
    {
     "data": {
      "application/vnd.jupyter.widget-view+json": {
       "model_id": "",
       "version_major": 2,
       "version_minor": 0
      },
      "text/plain": [
       "Optimization Progress:   0%|          | 0/100 [00:00<?, ?pipeline/s]"
      ]
     },
     "metadata": {},
     "output_type": "display_data"
    },
    {
     "name": "stdout",
     "output_type": "stream",
     "text": [
      "\n",
      "Generation 1 - Current best internal CV score: 0.8484712148914415\n",
      "\n",
      "Generation 2 - Current best internal CV score: 0.8486540720593998\n",
      "\n",
      "Generation 3 - Current best internal CV score: 0.8486540720593998\n",
      "\n",
      "Generation 4 - Current best internal CV score: 0.8496492302216051\n",
      "\n",
      "Best pipeline: RandomForestRegressor(input_matrix, bootstrap=True, max_features=0.7000000000000001, min_samples_leaf=11, min_samples_split=12, n_estimators=100)\n",
      "0.8632426171819684\n"
     ]
    }
   ],
   "source": [
    "# instanciate TPOTClassifier\n",
    "tpot = TPOTRegressor(generations=4, population_size=20, verbosity=2, scoring='r2', n_jobs=-1, cv=2)\n",
    "# process autoML with TPOT\n",
    "tpot.fit(X_train_preproc, y_train)\n",
    "\n",
    "# print score\n",
    "print(tpot.score(X_test_preproc, y_test))"
   ]
  },
  {
   "cell_type": "code",
   "execution_count": 43,
   "id": "2eb41708",
   "metadata": {},
   "outputs": [
    {
     "name": "stdout",
     "output_type": "stream",
     "text": [
      "import numpy as np\r\n",
      "import pandas as pd\r\n",
      "from sklearn.ensemble import RandomForestRegressor\r\n",
      "from sklearn.model_selection import train_test_split\r\n",
      "\r\n",
      "# NOTE: Make sure that the outcome column is labeled 'target' in the data file\r\n",
      "tpot_data = pd.read_csv('PATH/TO/DATA/FILE', sep='COLUMN_SEPARATOR', dtype=np.float64)\r\n",
      "features = tpot_data.drop('target', axis=1)\r\n",
      "training_features, testing_features, training_target, testing_target = \\\r\n",
      "            train_test_split(features, tpot_data['target'], random_state=None)\r\n",
      "\r\n",
      "# Average CV score on the training set was: 0.8496492302216051\r\n",
      "exported_pipeline = RandomForestRegressor(bootstrap=True, max_features=0.7000000000000001, min_samples_leaf=11, min_samples_split=12, n_estimators=100)\r\n",
      "\r\n",
      "exported_pipeline.fit(training_features, training_target)\r\n",
      "results = exported_pipeline.predict(testing_features)\r\n"
     ]
    },
    {
     "name": "stderr",
     "output_type": "stream",
     "text": [
      "/home/matheus/.pyenv/versions/3.8.12/envs/lewagon/lib/python3.8/site-packages/tpot/builtins/__init__.py:36: UserWarning: Warning: optional dependency `torch` is not available. - skipping import of NN models.\n",
      "  warnings.warn(\"Warning: optional dependency `torch` is not available. - skipping import of NN models.\")\n",
      "/home/matheus/.pyenv/versions/3.8.12/envs/lewagon/lib/python3.8/site-packages/tpot/builtins/__init__.py:36: UserWarning: Warning: optional dependency `torch` is not available. - skipping import of NN models.\n",
      "  warnings.warn(\"Warning: optional dependency `torch` is not available. - skipping import of NN models.\")\n",
      "/home/matheus/.pyenv/versions/3.8.12/envs/lewagon/lib/python3.8/site-packages/tpot/builtins/__init__.py:36: UserWarning: Warning: optional dependency `torch` is not available. - skipping import of NN models.\n",
      "  warnings.warn(\"Warning: optional dependency `torch` is not available. - skipping import of NN models.\")\n",
      "/home/matheus/.pyenv/versions/3.8.12/envs/lewagon/lib/python3.8/site-packages/tpot/builtins/__init__.py:36: UserWarning: Warning: optional dependency `torch` is not available. - skipping import of NN models.\n",
      "  warnings.warn(\"Warning: optional dependency `torch` is not available. - skipping import of NN models.\")\n",
      "/home/matheus/.pyenv/versions/3.8.12/envs/lewagon/lib/python3.8/site-packages/tpot/builtins/__init__.py:36: UserWarning: Warning: optional dependency `torch` is not available. - skipping import of NN models.\n",
      "  warnings.warn(\"Warning: optional dependency `torch` is not available. - skipping import of NN models.\")\n",
      "/home/matheus/.pyenv/versions/3.8.12/envs/lewagon/lib/python3.8/site-packages/tpot/builtins/__init__.py:36: UserWarning: Warning: optional dependency `torch` is not available. - skipping import of NN models.\n",
      "  warnings.warn(\"Warning: optional dependency `torch` is not available. - skipping import of NN models.\")\n",
      "/home/matheus/.pyenv/versions/3.8.12/envs/lewagon/lib/python3.8/site-packages/tpot/builtins/__init__.py:36: UserWarning: Warning: optional dependency `torch` is not available. - skipping import of NN models.\n",
      "  warnings.warn(\"Warning: optional dependency `torch` is not available. - skipping import of NN models.\")\n",
      "/home/matheus/.pyenv/versions/3.8.12/envs/lewagon/lib/python3.8/site-packages/tpot/builtins/__init__.py:36: UserWarning: Warning: optional dependency `torch` is not available. - skipping import of NN models.\n",
      "  warnings.warn(\"Warning: optional dependency `torch` is not available. - skipping import of NN models.\")\n"
     ]
    }
   ],
   "source": [
    "# export TPOT pipeline to a python file\n",
    "tpot.export(os.path.join(os.getcwd(),'tpot_iris_pipeline.py'))\n",
    "\n",
    "! cat 'tpot_iris_pipeline.py'"
   ]
  }
 ],
 "metadata": {
  "kernelspec": {
   "display_name": "Python 3 (ipykernel)",
   "language": "python",
   "name": "python3"
  },
  "language_info": {
   "codemirror_mode": {
    "name": "ipython",
    "version": 3
   },
   "file_extension": ".py",
   "mimetype": "text/x-python",
   "name": "python",
   "nbconvert_exporter": "python",
   "pygments_lexer": "ipython3",
   "version": "3.8.12"
  },
  "toc": {
   "base_numbering": 1,
   "nav_menu": {},
   "number_sections": true,
   "sideBar": true,
   "skip_h1_title": false,
   "title_cell": "Table of Contents",
   "title_sidebar": "Contents",
   "toc_cell": false,
   "toc_position": {
    "height": "calc(100% - 180px)",
    "left": "10px",
    "top": "150px",
    "width": "273.188px"
   },
   "toc_section_display": true,
   "toc_window_display": false
  }
 },
 "nbformat": 4,
 "nbformat_minor": 5
}
