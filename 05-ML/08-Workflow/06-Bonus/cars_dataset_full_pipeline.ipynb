{
 "cells": [
  {
   "cell_type": "markdown",
   "metadata": {},
   "source": [
    "# Bonus: The `Cars Price` dataset revisited"
   ]
  },
  {
   "cell_type": "markdown",
   "metadata": {},
   "source": [
    "🧑🏻‍🍳 During **`Machine Learning > 02 - Prepare the Dataset`**, we discovered that to run Machine Learning Algorithms properly, you need to feed them with ***cleaned datasets***."
   ]
  },
  {
   "cell_type": "markdown",
   "metadata": {},
   "source": [
    "<details>\n",
    "    <summary>📝 <i>Reminders about the Data Preprocessing Workflow</i> 📝</summary>\n",
    "\n",
    "1. 🧭 ***Exploratory Data Analysis***\n",
    "2. 👥 Remove ***Duplicates***\n",
    "3. 🤕 Impute or Remove ***Missing Values***\n",
    "4. 🕵🏻‍♂️ Check for ***Outliers***\n",
    "5. 📏 ***Scaling*** Numerical Features\n",
    "6. 🏷 ***One-Hot-Encoder*** for Categorical Features \n",
    "7. 👻 ***Label-Encoder*** for a Categorical Target\n",
    "8. 🍰 ***Feature Engineering*** will squeeze out better signals for your model to learn\n",
    "feature instead_\n",
    "9. 🍰 ***Target Engineering***: might be easier to predict a transformed target\n",
    "    \n",
    "10. ☠️ Not all features are our friends. Remove the \"noisy\" features using ***Feature Permutation*** (or ***VIF Analysis*** for Linear models)\n",
    "\n",
    "<u> Additional Notes</u>    \n",
    "    \n",
    "- _Example of Feature Engineering: if you have the length and the width of a flat, you would maybe create the surface by multiplying the length by the width_\n",
    "\n",
    "- _Example of Target Engineering: if you look to predict the price of a stock in the next day, it might be easier to predict the %increase rather than the absolute value. If you look at house prices, you may want to predict the logarithm of their values and then exponentiate the predictions_\n",
    "\n",
    "- By \"noisy\" features, we mean :\n",
    "    - either a feature that doesn't bring anything to the prediction in a sense that when you shuffle this feature, it doesn't affect the performance of your model\n",
    "    - or a feature that is built using other features (strong linear relationship)\n",
    "    \n",
    "</details>"
   ]
  },
  {
   "cell_type": "markdown",
   "metadata": {},
   "source": [
    "🚗 We had  already worked on a simplified version of the *Cars' Price* dataset. \n",
    "\n",
    "🎯 The goal of this recap is to build an optimal pipeline to ***predict the price of cars according to their specificities***:\n",
    "\n",
    "1. We will need a *Preprocessing Pipeline*...\n",
    "2. ... that we can *chain with a Scikit-Learn Estimator*\n",
    "3. And go further by:\n",
    "    - running a *FeaturePermutation*\n",
    "    - optimizing the hyperparameters with a *GridSearchCV* or a *RandomizedSearchCV*"
   ]
  },
  {
   "cell_type": "code",
   "execution_count": 1,
   "metadata": {},
   "outputs": [],
   "source": [
    "# DATA MANIPULATION\n",
    "import numpy as np\n",
    "import pandas as pd\n",
    "pd.set_option(\"max_columns\",None) # Show all columns of a Pandas DataFrame\n",
    "\n",
    "# DATA VISUALISATION\n",
    "import matplotlib.pyplot as plt\n",
    "import seaborn as sns\n",
    "\n",
    "# STATISTICS\n",
    "from statsmodels.graphics.gofplots import qqplot\n",
    "# This function plots your sample distribution against a Normal distribution, \n",
    "# to check whether your sample is normally distributed or not"
   ]
  },
  {
   "cell_type": "markdown",
   "metadata": {},
   "source": [
    "## (1) The dataset"
   ]
  },
  {
   "cell_type": "code",
   "execution_count": 2,
   "metadata": {},
   "outputs": [
    {
     "data": {
      "text/html": [
       "<div>\n",
       "<style scoped>\n",
       "    .dataframe tbody tr th:only-of-type {\n",
       "        vertical-align: middle;\n",
       "    }\n",
       "\n",
       "    .dataframe tbody tr th {\n",
       "        vertical-align: top;\n",
       "    }\n",
       "\n",
       "    .dataframe thead th {\n",
       "        text-align: right;\n",
       "    }\n",
       "</style>\n",
       "<table border=\"1\" class=\"dataframe\">\n",
       "  <thead>\n",
       "    <tr style=\"text-align: right;\">\n",
       "      <th></th>\n",
       "      <th>symboling</th>\n",
       "      <th>CarName</th>\n",
       "      <th>fueltype</th>\n",
       "      <th>aspiration</th>\n",
       "      <th>doornumber</th>\n",
       "      <th>carbody</th>\n",
       "      <th>drivewheel</th>\n",
       "      <th>enginelocation</th>\n",
       "      <th>wheelbase</th>\n",
       "      <th>carlength</th>\n",
       "      <th>carwidth</th>\n",
       "      <th>carheight</th>\n",
       "      <th>curbweight</th>\n",
       "      <th>enginetype</th>\n",
       "      <th>cylindernumber</th>\n",
       "      <th>enginesize</th>\n",
       "      <th>fuelsystem</th>\n",
       "      <th>boreratio</th>\n",
       "      <th>stroke</th>\n",
       "      <th>compressionratio</th>\n",
       "      <th>horsepower</th>\n",
       "      <th>peakrpm</th>\n",
       "      <th>citympg</th>\n",
       "      <th>highwaympg</th>\n",
       "      <th>price</th>\n",
       "    </tr>\n",
       "  </thead>\n",
       "  <tbody>\n",
       "    <tr>\n",
       "      <th>0</th>\n",
       "      <td>3</td>\n",
       "      <td>alfa-romero giulia</td>\n",
       "      <td>gas</td>\n",
       "      <td>std</td>\n",
       "      <td>two</td>\n",
       "      <td>convertible</td>\n",
       "      <td>rwd</td>\n",
       "      <td>front</td>\n",
       "      <td>88.6</td>\n",
       "      <td>168.8</td>\n",
       "      <td>64.1</td>\n",
       "      <td>48.8</td>\n",
       "      <td>2548</td>\n",
       "      <td>dohc</td>\n",
       "      <td>four</td>\n",
       "      <td>130</td>\n",
       "      <td>mpfi</td>\n",
       "      <td>3.47</td>\n",
       "      <td>2.68</td>\n",
       "      <td>9.0</td>\n",
       "      <td>111</td>\n",
       "      <td>5000</td>\n",
       "      <td>21</td>\n",
       "      <td>27</td>\n",
       "      <td>13495.0</td>\n",
       "    </tr>\n",
       "    <tr>\n",
       "      <th>1</th>\n",
       "      <td>3</td>\n",
       "      <td>alfa-romero stelvio</td>\n",
       "      <td>gas</td>\n",
       "      <td>std</td>\n",
       "      <td>two</td>\n",
       "      <td>convertible</td>\n",
       "      <td>rwd</td>\n",
       "      <td>front</td>\n",
       "      <td>88.6</td>\n",
       "      <td>168.8</td>\n",
       "      <td>64.1</td>\n",
       "      <td>48.8</td>\n",
       "      <td>2548</td>\n",
       "      <td>dohc</td>\n",
       "      <td>four</td>\n",
       "      <td>130</td>\n",
       "      <td>mpfi</td>\n",
       "      <td>3.47</td>\n",
       "      <td>2.68</td>\n",
       "      <td>9.0</td>\n",
       "      <td>111</td>\n",
       "      <td>5000</td>\n",
       "      <td>21</td>\n",
       "      <td>27</td>\n",
       "      <td>16500.0</td>\n",
       "    </tr>\n",
       "    <tr>\n",
       "      <th>2</th>\n",
       "      <td>1</td>\n",
       "      <td>alfa-romero Quadrifoglio</td>\n",
       "      <td>gas</td>\n",
       "      <td>std</td>\n",
       "      <td>two</td>\n",
       "      <td>hatchback</td>\n",
       "      <td>rwd</td>\n",
       "      <td>front</td>\n",
       "      <td>94.5</td>\n",
       "      <td>171.2</td>\n",
       "      <td>65.5</td>\n",
       "      <td>52.4</td>\n",
       "      <td>2823</td>\n",
       "      <td>ohcv</td>\n",
       "      <td>six</td>\n",
       "      <td>152</td>\n",
       "      <td>mpfi</td>\n",
       "      <td>2.68</td>\n",
       "      <td>3.47</td>\n",
       "      <td>9.0</td>\n",
       "      <td>154</td>\n",
       "      <td>5000</td>\n",
       "      <td>19</td>\n",
       "      <td>26</td>\n",
       "      <td>16500.0</td>\n",
       "    </tr>\n",
       "    <tr>\n",
       "      <th>3</th>\n",
       "      <td>2</td>\n",
       "      <td>audi 100 ls</td>\n",
       "      <td>gas</td>\n",
       "      <td>std</td>\n",
       "      <td>four</td>\n",
       "      <td>sedan</td>\n",
       "      <td>fwd</td>\n",
       "      <td>front</td>\n",
       "      <td>99.8</td>\n",
       "      <td>176.6</td>\n",
       "      <td>66.2</td>\n",
       "      <td>54.3</td>\n",
       "      <td>2337</td>\n",
       "      <td>ohc</td>\n",
       "      <td>four</td>\n",
       "      <td>109</td>\n",
       "      <td>mpfi</td>\n",
       "      <td>3.19</td>\n",
       "      <td>3.40</td>\n",
       "      <td>10.0</td>\n",
       "      <td>102</td>\n",
       "      <td>5500</td>\n",
       "      <td>24</td>\n",
       "      <td>30</td>\n",
       "      <td>13950.0</td>\n",
       "    </tr>\n",
       "    <tr>\n",
       "      <th>4</th>\n",
       "      <td>2</td>\n",
       "      <td>audi 100ls</td>\n",
       "      <td>gas</td>\n",
       "      <td>std</td>\n",
       "      <td>four</td>\n",
       "      <td>sedan</td>\n",
       "      <td>4wd</td>\n",
       "      <td>front</td>\n",
       "      <td>99.4</td>\n",
       "      <td>176.6</td>\n",
       "      <td>66.4</td>\n",
       "      <td>54.3</td>\n",
       "      <td>2824</td>\n",
       "      <td>ohc</td>\n",
       "      <td>five</td>\n",
       "      <td>136</td>\n",
       "      <td>mpfi</td>\n",
       "      <td>3.19</td>\n",
       "      <td>3.40</td>\n",
       "      <td>8.0</td>\n",
       "      <td>115</td>\n",
       "      <td>5500</td>\n",
       "      <td>18</td>\n",
       "      <td>22</td>\n",
       "      <td>17450.0</td>\n",
       "    </tr>\n",
       "  </tbody>\n",
       "</table>\n",
       "</div>"
      ],
      "text/plain": [
       "   symboling                   CarName fueltype aspiration doornumber  \\\n",
       "0          3        alfa-romero giulia      gas        std        two   \n",
       "1          3       alfa-romero stelvio      gas        std        two   \n",
       "2          1  alfa-romero Quadrifoglio      gas        std        two   \n",
       "3          2               audi 100 ls      gas        std       four   \n",
       "4          2                audi 100ls      gas        std       four   \n",
       "\n",
       "       carbody drivewheel enginelocation  wheelbase  carlength  carwidth  \\\n",
       "0  convertible        rwd          front       88.6      168.8      64.1   \n",
       "1  convertible        rwd          front       88.6      168.8      64.1   \n",
       "2    hatchback        rwd          front       94.5      171.2      65.5   \n",
       "3        sedan        fwd          front       99.8      176.6      66.2   \n",
       "4        sedan        4wd          front       99.4      176.6      66.4   \n",
       "\n",
       "   carheight  curbweight enginetype cylindernumber  enginesize fuelsystem  \\\n",
       "0       48.8        2548       dohc           four         130       mpfi   \n",
       "1       48.8        2548       dohc           four         130       mpfi   \n",
       "2       52.4        2823       ohcv            six         152       mpfi   \n",
       "3       54.3        2337        ohc           four         109       mpfi   \n",
       "4       54.3        2824        ohc           five         136       mpfi   \n",
       "\n",
       "   boreratio  stroke  compressionratio  horsepower  peakrpm  citympg  \\\n",
       "0       3.47    2.68               9.0         111     5000       21   \n",
       "1       3.47    2.68               9.0         111     5000       21   \n",
       "2       2.68    3.47               9.0         154     5000       19   \n",
       "3       3.19    3.40              10.0         102     5500       24   \n",
       "4       3.19    3.40               8.0         115     5500       18   \n",
       "\n",
       "   highwaympg    price  \n",
       "0          27  13495.0  \n",
       "1          27  16500.0  \n",
       "2          26  16500.0  \n",
       "3          30  13950.0  \n",
       "4          22  17450.0  "
      ]
     },
     "execution_count": 2,
     "metadata": {},
     "output_type": "execute_result"
    }
   ],
   "source": [
    "cars = pd.read_csv(\"https://wagon-public-datasets.s3.amazonaws.com/Machine%20Learning%20Datasets/ML_cars_dataset_26_columns.csv\")\n",
    "cars.drop(columns = ['car_ID'], inplace = True)\n",
    "cars.head()"
   ]
  },
  {
   "cell_type": "markdown",
   "metadata": {},
   "source": [
    "### (1.1) Basic Info"
   ]
  },
  {
   "cell_type": "markdown",
   "metadata": {},
   "source": [
    "❓ How many cars do we have ❓"
   ]
  },
  {
   "cell_type": "code",
   "execution_count": 3,
   "metadata": {
    "tags": [
     "challengify"
    ]
   },
   "outputs": [
    {
     "name": "stdout",
     "output_type": "stream",
     "text": [
      "There are 205 cars in the dataset\n"
     ]
    }
   ],
   "source": [
    "print(f\"There are {cars.shape[0]} cars in the dataset\")"
   ]
  },
  {
   "cell_type": "markdown",
   "metadata": {},
   "source": [
    "❓ Inspect the types of your columns ❓"
   ]
  },
  {
   "cell_type": "code",
   "execution_count": 4,
   "metadata": {
    "tags": [
     "challengify"
    ]
   },
   "outputs": [
    {
     "name": "stdout",
     "output_type": "stream",
     "text": [
      "<class 'pandas.core.frame.DataFrame'>\n",
      "RangeIndex: 205 entries, 0 to 204\n",
      "Data columns (total 25 columns):\n",
      " #   Column            Non-Null Count  Dtype  \n",
      "---  ------            --------------  -----  \n",
      " 0   symboling         205 non-null    int64  \n",
      " 1   CarName           205 non-null    object \n",
      " 2   fueltype          205 non-null    object \n",
      " 3   aspiration        205 non-null    object \n",
      " 4   doornumber        205 non-null    object \n",
      " 5   carbody           205 non-null    object \n",
      " 6   drivewheel        205 non-null    object \n",
      " 7   enginelocation    205 non-null    object \n",
      " 8   wheelbase         205 non-null    float64\n",
      " 9   carlength         205 non-null    float64\n",
      " 10  carwidth          205 non-null    float64\n",
      " 11  carheight         205 non-null    float64\n",
      " 12  curbweight        205 non-null    int64  \n",
      " 13  enginetype        205 non-null    object \n",
      " 14  cylindernumber    205 non-null    object \n",
      " 15  enginesize        205 non-null    int64  \n",
      " 16  fuelsystem        205 non-null    object \n",
      " 17  boreratio         205 non-null    float64\n",
      " 18  stroke            205 non-null    float64\n",
      " 19  compressionratio  205 non-null    float64\n",
      " 20  horsepower        205 non-null    int64  \n",
      " 21  peakrpm           205 non-null    int64  \n",
      " 22  citympg           205 non-null    int64  \n",
      " 23  highwaympg        205 non-null    int64  \n",
      " 24  price             205 non-null    float64\n",
      "dtypes: float64(8), int64(7), object(10)\n",
      "memory usage: 40.2+ KB\n"
     ]
    }
   ],
   "source": [
    "cars.info()"
   ]
  },
  {
   "cell_type": "markdown",
   "metadata": {},
   "source": [
    "### (1.2) Prerequisites"
   ]
  },
  {
   "cell_type": "markdown",
   "metadata": {},
   "source": [
    "#### (1.2.1) Anomalies in the dataset"
   ]
  },
  {
   "cell_type": "markdown",
   "metadata": {},
   "source": [
    "❓ If you carefully look at the columns with *object*, which columns could/should be converted to numerical columns  ❓ \n",
    "\n",
    "👉 Convert them.\n",
    "\n",
    "<details>\n",
    "    <summary><i>Hint</i></summary>\n",
    "\n",
    "* The _cylindernumber_ clearly needs to be converted to a numerical feature\n",
    "* As for the _doornumber_, it is up to you but we think that we can keep it as a categorical feature since most of the cars have either two or four doors, not one, three or five!\n",
    "</details>\n"
   ]
  },
  {
   "cell_type": "code",
   "execution_count": 5,
   "metadata": {
    "tags": [
     "challengify"
    ]
   },
   "outputs": [],
   "source": [
    "cars[\"cylindernumber\"] = cars[\"cylindernumber\"].map({\"four\":4,\n",
    "                                                 \"six\":6,\n",
    "                                                 \"five\":5,\n",
    "                                                 \"eight\":8,\n",
    "                                                 \"two\":2,\n",
    "                                                 \"twelve\":12,\n",
    "                                                 \"three\":3})"
   ]
  },
  {
   "cell_type": "code",
   "execution_count": 6,
   "metadata": {},
   "outputs": [
    {
     "data": {
      "text/plain": [
       "four    115\n",
       "two      90\n",
       "Name: doornumber, dtype: int64"
      ]
     },
     "execution_count": 6,
     "metadata": {},
     "output_type": "execute_result"
    }
   ],
   "source": [
    "cars[\"doornumber\"].value_counts()"
   ]
  },
  {
   "cell_type": "markdown",
   "metadata": {},
   "source": [
    "#### (1.2.2) Removing duplicates "
   ]
  },
  {
   "cell_type": "markdown",
   "metadata": {},
   "source": [
    "❓ How many duplicated rows do we have in this dataset (if so, get rid of any duplicated row) ❓"
   ]
  },
  {
   "cell_type": "code",
   "execution_count": 7,
   "metadata": {
    "tags": [
     "challengify"
    ]
   },
   "outputs": [
    {
     "name": "stdout",
     "output_type": "stream",
     "text": [
      "number of duplicated rows = 0\n",
      "--------------------------------------------------\n",
      "cars' shape before removing duplicates = (205, 25)\n",
      "--------------------------------------------------\n",
      "cars' shape after removing duplicates = (205, 25)\n"
     ]
    }
   ],
   "source": [
    "print(f\"number of duplicated rows = {cars.duplicated().sum()}\")\n",
    "print(\"-\"*50)\n",
    "\n",
    "print(f\"cars' shape before removing duplicates = {cars.shape}\")\n",
    "print(\"-\"*50)\n",
    "\n",
    "cars.drop_duplicates(inplace = True)\n",
    "print(f\"cars' shape after removing duplicates = {cars.shape}\")"
   ]
  },
  {
   "cell_type": "markdown",
   "metadata": {},
   "source": [
    "#### (1.2.3) Handling Missing Values"
   ]
  },
  {
   "cell_type": "markdown",
   "metadata": {},
   "source": [
    "❓ How many NaN do we have ❓"
   ]
  },
  {
   "cell_type": "code",
   "execution_count": 8,
   "metadata": {
    "tags": [
     "challengify"
    ]
   },
   "outputs": [
    {
     "data": {
      "text/plain": [
       "symboling           0\n",
       "CarName             0\n",
       "fueltype            0\n",
       "aspiration          0\n",
       "doornumber          0\n",
       "carbody             0\n",
       "drivewheel          0\n",
       "enginelocation      0\n",
       "wheelbase           0\n",
       "carlength           0\n",
       "carwidth            0\n",
       "carheight           0\n",
       "curbweight          0\n",
       "enginetype          0\n",
       "cylindernumber      0\n",
       "enginesize          0\n",
       "fuelsystem          0\n",
       "boreratio           0\n",
       "stroke              0\n",
       "compressionratio    0\n",
       "horsepower          0\n",
       "peakrpm             0\n",
       "citympg             0\n",
       "highwaympg          0\n",
       "price               0\n",
       "dtype: int64"
      ]
     },
     "execution_count": 8,
     "metadata": {},
     "output_type": "execute_result"
    }
   ],
   "source": [
    "cars.isna().sum()"
   ]
  },
  {
   "cell_type": "markdown",
   "metadata": {},
   "source": [
    "<details>\n",
    "    <summary><i>Answer</i></summary>\n",
    "\n",
    "* No NaN here, it's a miracle 😇 \n",
    "* If you have more than 30% of missing values in a row/column, drop the row/column 🚮\n",
    "* Otherwise, you could use a *SimpleImputer* or a *KNN Imputer* to impute these missing values 😉\n",
    "    \n",
    "</details>"
   ]
  },
  {
   "cell_type": "markdown",
   "metadata": {},
   "source": [
    "### (1.3) Having a glance at your target (`cars' price`)"
   ]
  },
  {
   "cell_type": "markdown",
   "metadata": {},
   "source": [
    "❓ How does your target look like in terms of _Distribution_, _Outliers_, _Gaussianity_  ❓\n",
    "\n",
    "<details>\n",
    "    <summary><i>Code answer</i></summary>\n",
    "\n",
    "Save this block of code for future use ;)\n",
    "```python\n",
    "variable = 'price'\n",
    "y = cars[f\"{variable}\"]\n",
    "\n",
    "fig, ax = plt.subplots(1,3,figsize=(15,5))\n",
    "\n",
    "ax[0].set_title(f\"Distribution of the {variable}\")\n",
    "sns.histplot(data = cars, x = f\"{variable}\", kde=True, ax = ax[0])\n",
    "\n",
    "ax[1].set_title(f\"Boxplot of the {variable}\")\n",
    "sns.boxplot(data = cars, x = f\"{variable}\", ax=ax[1])\n",
    "\n",
    "ax[2].set_title(f\"Gaussianity of:the {variable}\")\n",
    "qqplot(cars[f\"{variable}\"],line='s',ax=ax[2]);    \n",
    "```\n",
    "    \n",
    "- The histogram with the estimated density shows us that ***the distribution of the prices is quite skewed and non-Gaussian***\n",
    "- The boxplot indicates some potential outliers. You should check the values, and see, that these are just more expensive cars. But none of the values seems to be completely out of range, like a false measurement et cetera...! #BusinessKnowledge \n",
    "- The QQ-plot is another proof that the distribution of the prices is not Gaussian:\n",
    "    - Remember that the scatter dots of your signal should match the $ y = x $ (45-degree line) closely, if the signal is Gaussian distributed.\n",
    "\n",
    "</details>       "
   ]
  },
  {
   "cell_type": "code",
   "execution_count": 9,
   "metadata": {
    "tags": [
     "challengify"
    ]
   },
   "outputs": [
    {
     "data": {
      "image/png": "[encoded data removed]",
      "text/plain": [
       "<Figure size 1080x360 with 3 Axes>"
      ]
     },
     "metadata": {
      "needs_background": "light"
     },
     "output_type": "display_data"
    }
   ],
   "source": [
    "variable = 'price'\n",
    "y = cars[f\"{variable}\"]\n",
    "\n",
    "fig, ax = plt.subplots(1,3,figsize=(15,5))\n",
    "\n",
    "ax[0].set_title(f\"Distribution of the {variable}\")\n",
    "sns.histplot(data = cars, x = f\"{variable}\", kde=True, ax = ax[0])\n",
    "\n",
    "ax[1].set_title(f\"Boxplot of the {variable}\")\n",
    "sns.boxplot(data = cars, x = f\"{variable}\", ax=ax[1])\n",
    "\n",
    "ax[2].set_title(f\"Gaussianity of:the {variable}\")\n",
    "qqplot(cars[f\"{variable}\"],line='s',ax=ax[2]);"
   ]
  },
  {
   "cell_type": "markdown",
   "metadata": {},
   "source": [
    "## (2) Preprocessing the features with a Pipeline"
   ]
  },
  {
   "cell_type": "markdown",
   "metadata": {},
   "source": [
    "🎬 Great, you have an overview of how the cars are distributed. \n",
    "\n",
    "🔥 It's time to build a _preprocessing pipeline_ that we will, in a humble way, call the _preprocessor_."
   ]
  },
  {
   "cell_type": "markdown",
   "metadata": {},
   "source": [
    "<details>\n",
    "    <summary>🤔 How to deal with the <i>CarName</i> to predict the price of a car ? </summary>\n",
    "    \n",
    "1. You could extract the `CarBrand` using *Regex* techniques\n",
    "2. As we haven't studied yet how to handle ***textual data*** (cf. ***Machine Learning > Natural Language Processing***), let's ignore the `CarName` to predict the price for the moment.\n",
    "    \n",
    "</details>"
   ]
  },
  {
   "cell_type": "code",
   "execution_count": 11,
   "metadata": {},
   "outputs": [],
   "source": [
    "X = cars.drop(columns = [\"price\", \"CarName\"])"
   ]
  },
  {
   "cell_type": "code",
   "execution_count": 12,
   "metadata": {},
   "outputs": [],
   "source": [
    "# PIPELINE AND COLUMNTRANSFORMER\n",
    "from sklearn.pipeline import Pipeline, make_pipeline\n",
    "from sklearn.compose import ColumnTransformer, make_column_transformer, make_column_selector\n",
    "from sklearn import set_config; set_config(display=\"diagram\")  \n",
    "\n",
    "# IMPUTERS\n",
    "from sklearn.impute import SimpleImputer\n",
    "\n",
    "# SCALERS\n",
    "from sklearn.preprocessing import RobustScaler, StandardScaler, MinMaxScaler\n",
    "\n",
    "# ENCODER\n",
    "from sklearn.preprocessing import OneHotEncoder"
   ]
  },
  {
   "cell_type": "markdown",
   "metadata": {},
   "source": [
    "### (2.1) Numerical Pipeline"
   ]
  },
  {
   "cell_type": "markdown",
   "metadata": {},
   "source": [
    "❓ Store the numerical features in a `X_num` variable ❓"
   ]
  },
  {
   "cell_type": "code",
   "execution_count": 13,
   "metadata": {
    "tags": [
     "challengify"
    ]
   },
   "outputs": [
    {
     "data": {
      "text/html": [
       "<div>\n",
       "<style scoped>\n",
       "    .dataframe tbody tr th:only-of-type {\n",
       "        vertical-align: middle;\n",
       "    }\n",
       "\n",
       "    .dataframe tbody tr th {\n",
       "        vertical-align: top;\n",
       "    }\n",
       "\n",
       "    .dataframe thead th {\n",
       "        text-align: right;\n",
       "    }\n",
       "</style>\n",
       "<table border=\"1\" class=\"dataframe\">\n",
       "  <thead>\n",
       "    <tr style=\"text-align: right;\">\n",
       "      <th></th>\n",
       "      <th>symboling</th>\n",
       "      <th>wheelbase</th>\n",
       "      <th>carlength</th>\n",
       "      <th>carwidth</th>\n",
       "      <th>carheight</th>\n",
       "      <th>curbweight</th>\n",
       "      <th>cylindernumber</th>\n",
       "      <th>enginesize</th>\n",
       "      <th>boreratio</th>\n",
       "      <th>stroke</th>\n",
       "      <th>compressionratio</th>\n",
       "      <th>horsepower</th>\n",
       "      <th>peakrpm</th>\n",
       "      <th>citympg</th>\n",
       "      <th>highwaympg</th>\n",
       "    </tr>\n",
       "  </thead>\n",
       "  <tbody>\n",
       "    <tr>\n",
       "      <th>0</th>\n",
       "      <td>3</td>\n",
       "      <td>88.6</td>\n",
       "      <td>168.8</td>\n",
       "      <td>64.1</td>\n",
       "      <td>48.8</td>\n",
       "      <td>2548</td>\n",
       "      <td>4</td>\n",
       "      <td>130</td>\n",
       "      <td>3.47</td>\n",
       "      <td>2.68</td>\n",
       "      <td>9.0</td>\n",
       "      <td>111</td>\n",
       "      <td>5000</td>\n",
       "      <td>21</td>\n",
       "      <td>27</td>\n",
       "    </tr>\n",
       "    <tr>\n",
       "      <th>1</th>\n",
       "      <td>3</td>\n",
       "      <td>88.6</td>\n",
       "      <td>168.8</td>\n",
       "      <td>64.1</td>\n",
       "      <td>48.8</td>\n",
       "      <td>2548</td>\n",
       "      <td>4</td>\n",
       "      <td>130</td>\n",
       "      <td>3.47</td>\n",
       "      <td>2.68</td>\n",
       "      <td>9.0</td>\n",
       "      <td>111</td>\n",
       "      <td>5000</td>\n",
       "      <td>21</td>\n",
       "      <td>27</td>\n",
       "    </tr>\n",
       "    <tr>\n",
       "      <th>2</th>\n",
       "      <td>1</td>\n",
       "      <td>94.5</td>\n",
       "      <td>171.2</td>\n",
       "      <td>65.5</td>\n",
       "      <td>52.4</td>\n",
       "      <td>2823</td>\n",
       "      <td>6</td>\n",
       "      <td>152</td>\n",
       "      <td>2.68</td>\n",
       "      <td>3.47</td>\n",
       "      <td>9.0</td>\n",
       "      <td>154</td>\n",
       "      <td>5000</td>\n",
       "      <td>19</td>\n",
       "      <td>26</td>\n",
       "    </tr>\n",
       "    <tr>\n",
       "      <th>3</th>\n",
       "      <td>2</td>\n",
       "      <td>99.8</td>\n",
       "      <td>176.6</td>\n",
       "      <td>66.2</td>\n",
       "      <td>54.3</td>\n",
       "      <td>2337</td>\n",
       "      <td>4</td>\n",
       "      <td>109</td>\n",
       "      <td>3.19</td>\n",
       "      <td>3.40</td>\n",
       "      <td>10.0</td>\n",
       "      <td>102</td>\n",
       "      <td>5500</td>\n",
       "      <td>24</td>\n",
       "      <td>30</td>\n",
       "    </tr>\n",
       "    <tr>\n",
       "      <th>4</th>\n",
       "      <td>2</td>\n",
       "      <td>99.4</td>\n",
       "      <td>176.6</td>\n",
       "      <td>66.4</td>\n",
       "      <td>54.3</td>\n",
       "      <td>2824</td>\n",
       "      <td>5</td>\n",
       "      <td>136</td>\n",
       "      <td>3.19</td>\n",
       "      <td>3.40</td>\n",
       "      <td>8.0</td>\n",
       "      <td>115</td>\n",
       "      <td>5500</td>\n",
       "      <td>18</td>\n",
       "      <td>22</td>\n",
       "    </tr>\n",
       "  </tbody>\n",
       "</table>\n",
       "</div>"
      ],
      "text/plain": [
       "   symboling  wheelbase  carlength  carwidth  carheight  curbweight  \\\n",
       "0          3       88.6      168.8      64.1       48.8        2548   \n",
       "1          3       88.6      168.8      64.1       48.8        2548   \n",
       "2          1       94.5      171.2      65.5       52.4        2823   \n",
       "3          2       99.8      176.6      66.2       54.3        2337   \n",
       "4          2       99.4      176.6      66.4       54.3        2824   \n",
       "\n",
       "   cylindernumber  enginesize  boreratio  stroke  compressionratio  \\\n",
       "0               4         130       3.47    2.68               9.0   \n",
       "1               4         130       3.47    2.68               9.0   \n",
       "2               6         152       2.68    3.47               9.0   \n",
       "3               4         109       3.19    3.40              10.0   \n",
       "4               5         136       3.19    3.40               8.0   \n",
       "\n",
       "   horsepower  peakrpm  citympg  highwaympg  \n",
       "0         111     5000       21          27  \n",
       "1         111     5000       21          27  \n",
       "2         154     5000       19          26  \n",
       "3         102     5500       24          30  \n",
       "4         115     5500       18          22  "
      ]
     },
     "execution_count": 13,
     "metadata": {},
     "output_type": "execute_result"
    }
   ],
   "source": [
    "X_num = X.select_dtypes(exclude = ['object'])\n",
    "X_num.head()"
   ]
  },
  {
   "cell_type": "markdown",
   "metadata": {},
   "source": [
    "❓ Create a `num_transformer` pipeline to deal with numerical features ❓\n",
    "<details>\n",
    "    <summary>📚 <i>Reminder about scalers</i></summary>\n",
    "    \n",
    "👉 Great article <a href=\"https://towardsdatascience.com/scale-standardize-or-normalize-with-scikit-learn-6ccc7d176a02\">Scale, Standardize or Normalize with Scikit-Learn</a> written by Jeff Hale    \n",
    "\n",
    "</details>"
   ]
  },
  {
   "cell_type": "code",
   "execution_count": 14,
   "metadata": {},
   "outputs": [
    {
     "data": {
      "text/html": [
       "<style>#sk-d74b5f2a-39d4-4d1b-9dc8-ddde0bc57dfc {color: black;background-color: white;}#sk-d74b5f2a-39d4-4d1b-9dc8-ddde0bc57dfc pre{padding: 0;}#sk-d74b5f2a-39d4-4d1b-9dc8-ddde0bc57dfc div.sk-toggleable {background-color: white;}#sk-d74b5f2a-39d4-4d1b-9dc8-ddde0bc57dfc label.sk-toggleable__label {cursor: pointer;display: block;width: 100%;margin-bottom: 0;padding: 0.3em;box-sizing: border-box;text-align: center;}#sk-d74b5f2a-39d4-4d1b-9dc8-ddde0bc57dfc label.sk-toggleable__label-arrow:before {content: \"▸\";float: left;margin-right: 0.25em;color: #696969;}#sk-d74b5f2a-39d4-4d1b-9dc8-ddde0bc57dfc label.sk-toggleable__label-arrow:hover:before {color: black;}#sk-d74b5f2a-39d4-4d1b-9dc8-ddde0bc57dfc div.sk-estimator:hover label.sk-toggleable__label-arrow:before {color: black;}#sk-d74b5f2a-39d4-4d1b-9dc8-ddde0bc57dfc div.sk-toggleable__content {max-height: 0;max-width: 0;overflow: hidden;text-align: left;background-color: #f0f8ff;}#sk-d74b5f2a-39d4-4d1b-9dc8-ddde0bc57dfc div.sk-toggleable__content pre {margin: 0.2em;color: black;border-radius: 0.25em;background-color: #f0f8ff;}#sk-d74b5f2a-39d4-4d1b-9dc8-ddde0bc57dfc input.sk-toggleable__control:checked~div.sk-toggleable__content {max-height: 200px;max-width: 100%;overflow: auto;}#sk-d74b5f2a-39d4-4d1b-9dc8-ddde0bc57dfc input.sk-toggleable__control:checked~label.sk-toggleable__label-arrow:before {content: \"▾\";}#sk-d74b5f2a-39d4-4d1b-9dc8-ddde0bc57dfc div.sk-estimator input.sk-toggleable__control:checked~label.sk-toggleable__label {background-color: #d4ebff;}#sk-d74b5f2a-39d4-4d1b-9dc8-ddde0bc57dfc div.sk-label input.sk-toggleable__control:checked~label.sk-toggleable__label {background-color: #d4ebff;}#sk-d74b5f2a-39d4-4d1b-9dc8-ddde0bc57dfc input.sk-hidden--visually {border: 0;clip: rect(1px 1px 1px 1px);clip: rect(1px, 1px, 1px, 1px);height: 1px;margin: -1px;overflow: hidden;padding: 0;position: absolute;width: 1px;}#sk-d74b5f2a-39d4-4d1b-9dc8-ddde0bc57dfc div.sk-estimator {font-family: monospace;background-color: #f0f8ff;border: 1px dotted black;border-radius: 0.25em;box-sizing: border-box;margin-bottom: 0.5em;}#sk-d74b5f2a-39d4-4d1b-9dc8-ddde0bc57dfc div.sk-estimator:hover {background-color: #d4ebff;}#sk-d74b5f2a-39d4-4d1b-9dc8-ddde0bc57dfc div.sk-parallel-item::after {content: \"\";width: 100%;border-bottom: 1px solid gray;flex-grow: 1;}#sk-d74b5f2a-39d4-4d1b-9dc8-ddde0bc57dfc div.sk-label:hover label.sk-toggleable__label {background-color: #d4ebff;}#sk-d74b5f2a-39d4-4d1b-9dc8-ddde0bc57dfc div.sk-serial::before {content: \"\";position: absolute;border-left: 1px solid gray;box-sizing: border-box;top: 2em;bottom: 0;left: 50%;}#sk-d74b5f2a-39d4-4d1b-9dc8-ddde0bc57dfc div.sk-serial {display: flex;flex-direction: column;align-items: center;background-color: white;padding-right: 0.2em;padding-left: 0.2em;}#sk-d74b5f2a-39d4-4d1b-9dc8-ddde0bc57dfc div.sk-item {z-index: 1;}#sk-d74b5f2a-39d4-4d1b-9dc8-ddde0bc57dfc div.sk-parallel {display: flex;align-items: stretch;justify-content: center;background-color: white;}#sk-d74b5f2a-39d4-4d1b-9dc8-ddde0bc57dfc div.sk-parallel::before {content: \"\";position: absolute;border-left: 1px solid gray;box-sizing: border-box;top: 2em;bottom: 0;left: 50%;}#sk-d74b5f2a-39d4-4d1b-9dc8-ddde0bc57dfc div.sk-parallel-item {display: flex;flex-direction: column;position: relative;background-color: white;}#sk-d74b5f2a-39d4-4d1b-9dc8-ddde0bc57dfc div.sk-parallel-item:first-child::after {align-self: flex-end;width: 50%;}#sk-d74b5f2a-39d4-4d1b-9dc8-ddde0bc57dfc div.sk-parallel-item:last-child::after {align-self: flex-start;width: 50%;}#sk-d74b5f2a-39d4-4d1b-9dc8-ddde0bc57dfc div.sk-parallel-item:only-child::after {width: 0;}#sk-d74b5f2a-39d4-4d1b-9dc8-ddde0bc57dfc div.sk-dashed-wrapped {border: 1px dashed gray;margin: 0 0.4em 0.5em 0.4em;box-sizing: border-box;padding-bottom: 0.4em;background-color: white;position: relative;}#sk-d74b5f2a-39d4-4d1b-9dc8-ddde0bc57dfc div.sk-label label {font-family: monospace;font-weight: bold;background-color: white;display: inline-block;line-height: 1.2em;}#sk-d74b5f2a-39d4-4d1b-9dc8-ddde0bc57dfc div.sk-label-container {position: relative;z-index: 2;text-align: center;}#sk-d74b5f2a-39d4-4d1b-9dc8-ddde0bc57dfc div.sk-container {/* jupyter's `normalize.less` sets `[hidden] { display: none; }` but bootstrap.min.css set `[hidden] { display: none !important; }` so we also need the `!important` here to be able to override the default hidden behavior on the sphinx rendered scikit-learn.org. See: https://github.com/scikit-learn/scikit-learn/issues/21755 */display: inline-block !important;position: relative;}#sk-d74b5f2a-39d4-4d1b-9dc8-ddde0bc57dfc div.sk-text-repr-fallback {display: none;}</style><div id=\"sk-d74b5f2a-39d4-4d1b-9dc8-ddde0bc57dfc\" class=\"sk-top-container\"><div class=\"sk-text-repr-fallback\"><pre>Pipeline(steps=[(&#x27;simpleimputer&#x27;, SimpleImputer(strategy=&#x27;median&#x27;)),\n",
       "                (&#x27;robustscaler&#x27;, RobustScaler())])</pre><b>Please rerun this cell to show the HTML repr or trust the notebook.</b></div><div class=\"sk-container\" hidden><div class=\"sk-item sk-dashed-wrapped\"><div class=\"sk-label-container\"><div class=\"sk-label sk-toggleable\"><input class=\"sk-toggleable__control sk-hidden--visually\" id=\"2baae70a-3532-4117-b0af-065d17ac9ffa\" type=\"checkbox\" ><label for=\"2baae70a-3532-4117-b0af-065d17ac9ffa\" class=\"sk-toggleable__label sk-toggleable__label-arrow\">Pipeline</label><div class=\"sk-toggleable__content\"><pre>Pipeline(steps=[(&#x27;simpleimputer&#x27;, SimpleImputer(strategy=&#x27;median&#x27;)),\n",
       "                (&#x27;robustscaler&#x27;, RobustScaler())])</pre></div></div></div><div class=\"sk-serial\"><div class=\"sk-item\"><div class=\"sk-estimator sk-toggleable\"><input class=\"sk-toggleable__control sk-hidden--visually\" id=\"16ba33a5-c174-4088-8fef-21ecaa8995f2\" type=\"checkbox\" ><label for=\"16ba33a5-c174-4088-8fef-21ecaa8995f2\" class=\"sk-toggleable__label sk-toggleable__label-arrow\">SimpleImputer</label><div class=\"sk-toggleable__content\"><pre>SimpleImputer(strategy=&#x27;median&#x27;)</pre></div></div></div><div class=\"sk-item\"><div class=\"sk-estimator sk-toggleable\"><input class=\"sk-toggleable__control sk-hidden--visually\" id=\"d6aee915-30f3-424b-8e60-43330e051615\" type=\"checkbox\" ><label for=\"d6aee915-30f3-424b-8e60-43330e051615\" class=\"sk-toggleable__label sk-toggleable__label-arrow\">RobustScaler</label><div class=\"sk-toggleable__content\"><pre>RobustScaler()</pre></div></div></div></div></div></div></div>"
      ],
      "text/plain": [
       "Pipeline(steps=[('simpleimputer', SimpleImputer(strategy='median')),\n",
       "                ('robustscaler', RobustScaler())])"
      ]
     },
     "execution_count": 14,
     "metadata": {},
     "output_type": "execute_result"
    }
   ],
   "source": [
    "num_transformer_simplified = make_pipeline(\n",
    "                    SimpleImputer(strategy = \"median\"),\n",
    "                    RobustScaler()\n",
    "                )\n",
    "\n",
    "num_transformer_simplified"
   ]
  },
  {
   "cell_type": "code",
   "execution_count": 15,
   "metadata": {},
   "outputs": [
    {
     "data": {
      "text/html": [
       "<div>\n",
       "<style scoped>\n",
       "    .dataframe tbody tr th:only-of-type {\n",
       "        vertical-align: middle;\n",
       "    }\n",
       "\n",
       "    .dataframe tbody tr th {\n",
       "        vertical-align: top;\n",
       "    }\n",
       "\n",
       "    .dataframe thead th {\n",
       "        text-align: right;\n",
       "    }\n",
       "</style>\n",
       "<table border=\"1\" class=\"dataframe\">\n",
       "  <thead>\n",
       "    <tr style=\"text-align: right;\">\n",
       "      <th></th>\n",
       "      <th>symboling</th>\n",
       "      <th>wheelbase</th>\n",
       "      <th>carlength</th>\n",
       "      <th>carwidth</th>\n",
       "      <th>carheight</th>\n",
       "      <th>curbweight</th>\n",
       "      <th>cylindernumber</th>\n",
       "      <th>enginesize</th>\n",
       "      <th>boreratio</th>\n",
       "      <th>stroke</th>\n",
       "      <th>compressionratio</th>\n",
       "      <th>horsepower</th>\n",
       "      <th>peakrpm</th>\n",
       "      <th>citympg</th>\n",
       "      <th>highwaympg</th>\n",
       "    </tr>\n",
       "  </thead>\n",
       "  <tbody>\n",
       "    <tr>\n",
       "      <th>0</th>\n",
       "      <td>1.0</td>\n",
       "      <td>-1.063291</td>\n",
       "      <td>-0.261905</td>\n",
       "      <td>-0.500000</td>\n",
       "      <td>-1.514286</td>\n",
       "      <td>0.169620</td>\n",
       "      <td>0.0</td>\n",
       "      <td>0.227273</td>\n",
       "      <td>0.372093</td>\n",
       "      <td>-2.033333</td>\n",
       "      <td>0.00</td>\n",
       "      <td>0.347826</td>\n",
       "      <td>-0.285714</td>\n",
       "      <td>-0.272727</td>\n",
       "      <td>-0.333333</td>\n",
       "    </tr>\n",
       "    <tr>\n",
       "      <th>1</th>\n",
       "      <td>1.0</td>\n",
       "      <td>-1.063291</td>\n",
       "      <td>-0.261905</td>\n",
       "      <td>-0.500000</td>\n",
       "      <td>-1.514286</td>\n",
       "      <td>0.169620</td>\n",
       "      <td>0.0</td>\n",
       "      <td>0.227273</td>\n",
       "      <td>0.372093</td>\n",
       "      <td>-2.033333</td>\n",
       "      <td>0.00</td>\n",
       "      <td>0.347826</td>\n",
       "      <td>-0.285714</td>\n",
       "      <td>-0.272727</td>\n",
       "      <td>-0.333333</td>\n",
       "    </tr>\n",
       "    <tr>\n",
       "      <th>2</th>\n",
       "      <td>0.0</td>\n",
       "      <td>-0.316456</td>\n",
       "      <td>-0.119048</td>\n",
       "      <td>0.000000</td>\n",
       "      <td>-0.485714</td>\n",
       "      <td>0.517722</td>\n",
       "      <td>2.0</td>\n",
       "      <td>0.727273</td>\n",
       "      <td>-1.465116</td>\n",
       "      <td>0.600000</td>\n",
       "      <td>0.00</td>\n",
       "      <td>1.282609</td>\n",
       "      <td>-0.285714</td>\n",
       "      <td>-0.454545</td>\n",
       "      <td>-0.444444</td>\n",
       "    </tr>\n",
       "    <tr>\n",
       "      <th>3</th>\n",
       "      <td>0.5</td>\n",
       "      <td>0.354430</td>\n",
       "      <td>0.202381</td>\n",
       "      <td>0.250000</td>\n",
       "      <td>0.057143</td>\n",
       "      <td>-0.097468</td>\n",
       "      <td>0.0</td>\n",
       "      <td>-0.250000</td>\n",
       "      <td>-0.279070</td>\n",
       "      <td>0.366667</td>\n",
       "      <td>1.25</td>\n",
       "      <td>0.152174</td>\n",
       "      <td>0.428571</td>\n",
       "      <td>0.000000</td>\n",
       "      <td>0.000000</td>\n",
       "    </tr>\n",
       "    <tr>\n",
       "      <th>4</th>\n",
       "      <td>0.5</td>\n",
       "      <td>0.303797</td>\n",
       "      <td>0.202381</td>\n",
       "      <td>0.321429</td>\n",
       "      <td>0.057143</td>\n",
       "      <td>0.518987</td>\n",
       "      <td>1.0</td>\n",
       "      <td>0.363636</td>\n",
       "      <td>-0.279070</td>\n",
       "      <td>0.366667</td>\n",
       "      <td>-1.25</td>\n",
       "      <td>0.434783</td>\n",
       "      <td>0.428571</td>\n",
       "      <td>-0.545455</td>\n",
       "      <td>-0.888889</td>\n",
       "    </tr>\n",
       "  </tbody>\n",
       "</table>\n",
       "</div>"
      ],
      "text/plain": [
       "   symboling  wheelbase  carlength  carwidth  carheight  curbweight  \\\n",
       "0        1.0  -1.063291  -0.261905 -0.500000  -1.514286    0.169620   \n",
       "1        1.0  -1.063291  -0.261905 -0.500000  -1.514286    0.169620   \n",
       "2        0.0  -0.316456  -0.119048  0.000000  -0.485714    0.517722   \n",
       "3        0.5   0.354430   0.202381  0.250000   0.057143   -0.097468   \n",
       "4        0.5   0.303797   0.202381  0.321429   0.057143    0.518987   \n",
       "\n",
       "   cylindernumber  enginesize  boreratio    stroke  compressionratio  \\\n",
       "0             0.0    0.227273   0.372093 -2.033333              0.00   \n",
       "1             0.0    0.227273   0.372093 -2.033333              0.00   \n",
       "2             2.0    0.727273  -1.465116  0.600000              0.00   \n",
       "3             0.0   -0.250000  -0.279070  0.366667              1.25   \n",
       "4             1.0    0.363636  -0.279070  0.366667             -1.25   \n",
       "\n",
       "   horsepower   peakrpm   citympg  highwaympg  \n",
       "0    0.347826 -0.285714 -0.272727   -0.333333  \n",
       "1    0.347826 -0.285714 -0.272727   -0.333333  \n",
       "2    1.282609 -0.285714 -0.454545   -0.444444  \n",
       "3    0.152174  0.428571  0.000000    0.000000  \n",
       "4    0.434783  0.428571 -0.545455   -0.888889  "
      ]
     },
     "execution_count": 15,
     "metadata": {},
     "output_type": "execute_result"
    }
   ],
   "source": [
    "pd.DataFrame(num_transformer_simplified.fit_transform(X_num), columns=X_num.columns).head()"
   ]
  },
  {
   "cell_type": "markdown",
   "metadata": {
    "tags": []
   },
   "source": [
    "### (2.2) Categorical Pipeline"
   ]
  },
  {
   "cell_type": "markdown",
   "metadata": {},
   "source": [
    "❓ Store the categorical features in a variable called `cars_cat` ❓"
   ]
  },
  {
   "cell_type": "code",
   "execution_count": 16,
   "metadata": {
    "tags": [
     "challengify"
    ]
   },
   "outputs": [
    {
     "data": {
      "text/html": [
       "<div>\n",
       "<style scoped>\n",
       "    .dataframe tbody tr th:only-of-type {\n",
       "        vertical-align: middle;\n",
       "    }\n",
       "\n",
       "    .dataframe tbody tr th {\n",
       "        vertical-align: top;\n",
       "    }\n",
       "\n",
       "    .dataframe thead th {\n",
       "        text-align: right;\n",
       "    }\n",
       "</style>\n",
       "<table border=\"1\" class=\"dataframe\">\n",
       "  <thead>\n",
       "    <tr style=\"text-align: right;\">\n",
       "      <th></th>\n",
       "      <th>fueltype</th>\n",
       "      <th>aspiration</th>\n",
       "      <th>doornumber</th>\n",
       "      <th>carbody</th>\n",
       "      <th>drivewheel</th>\n",
       "      <th>enginelocation</th>\n",
       "      <th>enginetype</th>\n",
       "      <th>fuelsystem</th>\n",
       "    </tr>\n",
       "  </thead>\n",
       "  <tbody>\n",
       "    <tr>\n",
       "      <th>0</th>\n",
       "      <td>gas</td>\n",
       "      <td>std</td>\n",
       "      <td>two</td>\n",
       "      <td>convertible</td>\n",
       "      <td>rwd</td>\n",
       "      <td>front</td>\n",
       "      <td>dohc</td>\n",
       "      <td>mpfi</td>\n",
       "    </tr>\n",
       "    <tr>\n",
       "      <th>1</th>\n",
       "      <td>gas</td>\n",
       "      <td>std</td>\n",
       "      <td>two</td>\n",
       "      <td>convertible</td>\n",
       "      <td>rwd</td>\n",
       "      <td>front</td>\n",
       "      <td>dohc</td>\n",
       "      <td>mpfi</td>\n",
       "    </tr>\n",
       "    <tr>\n",
       "      <th>2</th>\n",
       "      <td>gas</td>\n",
       "      <td>std</td>\n",
       "      <td>two</td>\n",
       "      <td>hatchback</td>\n",
       "      <td>rwd</td>\n",
       "      <td>front</td>\n",
       "      <td>ohcv</td>\n",
       "      <td>mpfi</td>\n",
       "    </tr>\n",
       "    <tr>\n",
       "      <th>3</th>\n",
       "      <td>gas</td>\n",
       "      <td>std</td>\n",
       "      <td>four</td>\n",
       "      <td>sedan</td>\n",
       "      <td>fwd</td>\n",
       "      <td>front</td>\n",
       "      <td>ohc</td>\n",
       "      <td>mpfi</td>\n",
       "    </tr>\n",
       "    <tr>\n",
       "      <th>4</th>\n",
       "      <td>gas</td>\n",
       "      <td>std</td>\n",
       "      <td>four</td>\n",
       "      <td>sedan</td>\n",
       "      <td>4wd</td>\n",
       "      <td>front</td>\n",
       "      <td>ohc</td>\n",
       "      <td>mpfi</td>\n",
       "    </tr>\n",
       "  </tbody>\n",
       "</table>\n",
       "</div>"
      ],
      "text/plain": [
       "  fueltype aspiration doornumber      carbody drivewheel enginelocation  \\\n",
       "0      gas        std        two  convertible        rwd          front   \n",
       "1      gas        std        two  convertible        rwd          front   \n",
       "2      gas        std        two    hatchback        rwd          front   \n",
       "3      gas        std       four        sedan        fwd          front   \n",
       "4      gas        std       four        sedan        4wd          front   \n",
       "\n",
       "  enginetype fuelsystem  \n",
       "0       dohc       mpfi  \n",
       "1       dohc       mpfi  \n",
       "2       ohcv       mpfi  \n",
       "3        ohc       mpfi  \n",
       "4        ohc       mpfi  "
      ]
     },
     "execution_count": 16,
     "metadata": {},
     "output_type": "execute_result"
    }
   ],
   "source": [
    "X_cat = X.select_dtypes(include=['object'])\n",
    "X_cat.head()"
   ]
  },
  {
   "cell_type": "markdown",
   "metadata": {},
   "source": [
    "❓ Check how many columns you would end up with, if you decide to One Hot Encode them all. Is it a reasonable number ❓\n",
    "\n",
    "\n"
   ]
  },
  {
   "cell_type": "code",
   "execution_count": 17,
   "metadata": {
    "tags": [
     "challengify"
    ]
   },
   "outputs": [],
   "source": [
    "unique_occurences = {cat_feature:\n",
    "                                 len(X_cat[cat_feature].value_counts()) \n",
    "                                 for cat_feature in X_cat.columns}\n",
    "\n",
    "unique_occurences = pd.DataFrame.from_dict(unique_occurences,\n",
    "                                                       orient = \"index\",\n",
    "                                                       columns = [\"unique_occurences\"])\n",
    "\n",
    "unique_occurences = unique_occurences.sort_values(by = \"unique_occurences\",\n",
    "                                                  ascending = False)"
   ]
  },
  {
   "cell_type": "code",
   "execution_count": 18,
   "metadata": {},
   "outputs": [
    {
     "name": "stdout",
     "output_type": "stream",
     "text": [
      "                unique_occurences\n",
      "fuelsystem                      8\n",
      "enginetype                      7\n",
      "carbody                         5\n",
      "drivewheel                      3\n",
      "fueltype                        2\n",
      "aspiration                      2\n",
      "doornumber                      2\n",
      "enginelocation                  2\n"
     ]
    }
   ],
   "source": [
    "print(unique_occurences)"
   ]
  },
  {
   "cell_type": "markdown",
   "metadata": {},
   "source": [
    "❓ Create a `cat_transformer` pipeline to deal with categorical features ❓"
   ]
  },
  {
   "cell_type": "code",
   "execution_count": 19,
   "metadata": {
    "tags": [
     "challengify"
    ]
   },
   "outputs": [
    {
     "data": {
      "text/html": [
       "<style>#sk-5510b124-4797-4c51-ae43-e29857ff0e04 {color: black;background-color: white;}#sk-5510b124-4797-4c51-ae43-e29857ff0e04 pre{padding: 0;}#sk-5510b124-4797-4c51-ae43-e29857ff0e04 div.sk-toggleable {background-color: white;}#sk-5510b124-4797-4c51-ae43-e29857ff0e04 label.sk-toggleable__label {cursor: pointer;display: block;width: 100%;margin-bottom: 0;padding: 0.3em;box-sizing: border-box;text-align: center;}#sk-5510b124-4797-4c51-ae43-e29857ff0e04 label.sk-toggleable__label-arrow:before {content: \"▸\";float: left;margin-right: 0.25em;color: #696969;}#sk-5510b124-4797-4c51-ae43-e29857ff0e04 label.sk-toggleable__label-arrow:hover:before {color: black;}#sk-5510b124-4797-4c51-ae43-e29857ff0e04 div.sk-estimator:hover label.sk-toggleable__label-arrow:before {color: black;}#sk-5510b124-4797-4c51-ae43-e29857ff0e04 div.sk-toggleable__content {max-height: 0;max-width: 0;overflow: hidden;text-align: left;background-color: #f0f8ff;}#sk-5510b124-4797-4c51-ae43-e29857ff0e04 div.sk-toggleable__content pre {margin: 0.2em;color: black;border-radius: 0.25em;background-color: #f0f8ff;}#sk-5510b124-4797-4c51-ae43-e29857ff0e04 input.sk-toggleable__control:checked~div.sk-toggleable__content {max-height: 200px;max-width: 100%;overflow: auto;}#sk-5510b124-4797-4c51-ae43-e29857ff0e04 input.sk-toggleable__control:checked~label.sk-toggleable__label-arrow:before {content: \"▾\";}#sk-5510b124-4797-4c51-ae43-e29857ff0e04 div.sk-estimator input.sk-toggleable__control:checked~label.sk-toggleable__label {background-color: #d4ebff;}#sk-5510b124-4797-4c51-ae43-e29857ff0e04 div.sk-label input.sk-toggleable__control:checked~label.sk-toggleable__label {background-color: #d4ebff;}#sk-5510b124-4797-4c51-ae43-e29857ff0e04 input.sk-hidden--visually {border: 0;clip: rect(1px 1px 1px 1px);clip: rect(1px, 1px, 1px, 1px);height: 1px;margin: -1px;overflow: hidden;padding: 0;position: absolute;width: 1px;}#sk-5510b124-4797-4c51-ae43-e29857ff0e04 div.sk-estimator {font-family: monospace;background-color: #f0f8ff;border: 1px dotted black;border-radius: 0.25em;box-sizing: border-box;margin-bottom: 0.5em;}#sk-5510b124-4797-4c51-ae43-e29857ff0e04 div.sk-estimator:hover {background-color: #d4ebff;}#sk-5510b124-4797-4c51-ae43-e29857ff0e04 div.sk-parallel-item::after {content: \"\";width: 100%;border-bottom: 1px solid gray;flex-grow: 1;}#sk-5510b124-4797-4c51-ae43-e29857ff0e04 div.sk-label:hover label.sk-toggleable__label {background-color: #d4ebff;}#sk-5510b124-4797-4c51-ae43-e29857ff0e04 div.sk-serial::before {content: \"\";position: absolute;border-left: 1px solid gray;box-sizing: border-box;top: 2em;bottom: 0;left: 50%;}#sk-5510b124-4797-4c51-ae43-e29857ff0e04 div.sk-serial {display: flex;flex-direction: column;align-items: center;background-color: white;padding-right: 0.2em;padding-left: 0.2em;}#sk-5510b124-4797-4c51-ae43-e29857ff0e04 div.sk-item {z-index: 1;}#sk-5510b124-4797-4c51-ae43-e29857ff0e04 div.sk-parallel {display: flex;align-items: stretch;justify-content: center;background-color: white;}#sk-5510b124-4797-4c51-ae43-e29857ff0e04 div.sk-parallel::before {content: \"\";position: absolute;border-left: 1px solid gray;box-sizing: border-box;top: 2em;bottom: 0;left: 50%;}#sk-5510b124-4797-4c51-ae43-e29857ff0e04 div.sk-parallel-item {display: flex;flex-direction: column;position: relative;background-color: white;}#sk-5510b124-4797-4c51-ae43-e29857ff0e04 div.sk-parallel-item:first-child::after {align-self: flex-end;width: 50%;}#sk-5510b124-4797-4c51-ae43-e29857ff0e04 div.sk-parallel-item:last-child::after {align-self: flex-start;width: 50%;}#sk-5510b124-4797-4c51-ae43-e29857ff0e04 div.sk-parallel-item:only-child::after {width: 0;}#sk-5510b124-4797-4c51-ae43-e29857ff0e04 div.sk-dashed-wrapped {border: 1px dashed gray;margin: 0 0.4em 0.5em 0.4em;box-sizing: border-box;padding-bottom: 0.4em;background-color: white;position: relative;}#sk-5510b124-4797-4c51-ae43-e29857ff0e04 div.sk-label label {font-family: monospace;font-weight: bold;background-color: white;display: inline-block;line-height: 1.2em;}#sk-5510b124-4797-4c51-ae43-e29857ff0e04 div.sk-label-container {position: relative;z-index: 2;text-align: center;}#sk-5510b124-4797-4c51-ae43-e29857ff0e04 div.sk-container {/* jupyter's `normalize.less` sets `[hidden] { display: none; }` but bootstrap.min.css set `[hidden] { display: none !important; }` so we also need the `!important` here to be able to override the default hidden behavior on the sphinx rendered scikit-learn.org. See: https://github.com/scikit-learn/scikit-learn/issues/21755 */display: inline-block !important;position: relative;}#sk-5510b124-4797-4c51-ae43-e29857ff0e04 div.sk-text-repr-fallback {display: none;}</style><div id=\"sk-5510b124-4797-4c51-ae43-e29857ff0e04\" class=\"sk-top-container\"><div class=\"sk-text-repr-fallback\"><pre>Pipeline(steps=[(&#x27;simpleimputer&#x27;, SimpleImputer(strategy=&#x27;most_frequent&#x27;)),\n",
       "                (&#x27;onehotencoder&#x27;,\n",
       "                 OneHotEncoder(drop=&#x27;if_binary&#x27;, handle_unknown=&#x27;ignore&#x27;,\n",
       "                               sparse=False))])</pre><b>Please rerun this cell to show the HTML repr or trust the notebook.</b></div><div class=\"sk-container\" hidden><div class=\"sk-item sk-dashed-wrapped\"><div class=\"sk-label-container\"><div class=\"sk-label sk-toggleable\"><input class=\"sk-toggleable__control sk-hidden--visually\" id=\"091d5145-7955-4664-872c-766e77d32437\" type=\"checkbox\" ><label for=\"091d5145-7955-4664-872c-766e77d32437\" class=\"sk-toggleable__label sk-toggleable__label-arrow\">Pipeline</label><div class=\"sk-toggleable__content\"><pre>Pipeline(steps=[(&#x27;simpleimputer&#x27;, SimpleImputer(strategy=&#x27;most_frequent&#x27;)),\n",
       "                (&#x27;onehotencoder&#x27;,\n",
       "                 OneHotEncoder(drop=&#x27;if_binary&#x27;, handle_unknown=&#x27;ignore&#x27;,\n",
       "                               sparse=False))])</pre></div></div></div><div class=\"sk-serial\"><div class=\"sk-item\"><div class=\"sk-estimator sk-toggleable\"><input class=\"sk-toggleable__control sk-hidden--visually\" id=\"bcd42683-91ce-4a75-9c97-2ff0a54b6abd\" type=\"checkbox\" ><label for=\"bcd42683-91ce-4a75-9c97-2ff0a54b6abd\" class=\"sk-toggleable__label sk-toggleable__label-arrow\">SimpleImputer</label><div class=\"sk-toggleable__content\"><pre>SimpleImputer(strategy=&#x27;most_frequent&#x27;)</pre></div></div></div><div class=\"sk-item\"><div class=\"sk-estimator sk-toggleable\"><input class=\"sk-toggleable__control sk-hidden--visually\" id=\"41938ac3-7652-434c-ae72-0c611830b14a\" type=\"checkbox\" ><label for=\"41938ac3-7652-434c-ae72-0c611830b14a\" class=\"sk-toggleable__label sk-toggleable__label-arrow\">OneHotEncoder</label><div class=\"sk-toggleable__content\"><pre>OneHotEncoder(drop=&#x27;if_binary&#x27;, handle_unknown=&#x27;ignore&#x27;, sparse=False)</pre></div></div></div></div></div></div></div>"
      ],
      "text/plain": [
       "Pipeline(steps=[('simpleimputer', SimpleImputer(strategy='most_frequent')),\n",
       "                ('onehotencoder',\n",
       "                 OneHotEncoder(drop='if_binary', handle_unknown='ignore',\n",
       "                               sparse=False))])"
      ]
     },
     "execution_count": 19,
     "metadata": {},
     "output_type": "execute_result"
    }
   ],
   "source": [
    "cat_transformer = make_pipeline(\n",
    "                    SimpleImputer(strategy = \"most_frequent\"),\n",
    "                    OneHotEncoder(sparse = False, handle_unknown = \"ignore\", drop='if_binary')\n",
    "                )\n",
    "\n",
    "cat_transformer"
   ]
  },
  {
   "cell_type": "code",
   "execution_count": 20,
   "metadata": {},
   "outputs": [
    {
     "data": {
      "text/html": [
       "<div>\n",
       "<style scoped>\n",
       "    .dataframe tbody tr th:only-of-type {\n",
       "        vertical-align: middle;\n",
       "    }\n",
       "\n",
       "    .dataframe tbody tr th {\n",
       "        vertical-align: top;\n",
       "    }\n",
       "\n",
       "    .dataframe thead th {\n",
       "        text-align: right;\n",
       "    }\n",
       "</style>\n",
       "<table border=\"1\" class=\"dataframe\">\n",
       "  <thead>\n",
       "    <tr style=\"text-align: right;\">\n",
       "      <th></th>\n",
       "      <th>0</th>\n",
       "      <th>1</th>\n",
       "      <th>2</th>\n",
       "      <th>3</th>\n",
       "      <th>4</th>\n",
       "      <th>5</th>\n",
       "      <th>6</th>\n",
       "      <th>7</th>\n",
       "      <th>8</th>\n",
       "      <th>9</th>\n",
       "      <th>10</th>\n",
       "      <th>11</th>\n",
       "      <th>12</th>\n",
       "      <th>13</th>\n",
       "      <th>14</th>\n",
       "      <th>15</th>\n",
       "      <th>16</th>\n",
       "      <th>17</th>\n",
       "      <th>18</th>\n",
       "      <th>19</th>\n",
       "      <th>20</th>\n",
       "      <th>21</th>\n",
       "      <th>22</th>\n",
       "      <th>23</th>\n",
       "      <th>24</th>\n",
       "      <th>25</th>\n",
       "      <th>26</th>\n",
       "    </tr>\n",
       "  </thead>\n",
       "  <tbody>\n",
       "    <tr>\n",
       "      <th>0</th>\n",
       "      <td>1.0</td>\n",
       "      <td>0.0</td>\n",
       "      <td>1.0</td>\n",
       "      <td>1.0</td>\n",
       "      <td>0.0</td>\n",
       "      <td>0.0</td>\n",
       "      <td>0.0</td>\n",
       "      <td>0.0</td>\n",
       "      <td>0.0</td>\n",
       "      <td>0.0</td>\n",
       "      <td>1.0</td>\n",
       "      <td>0.0</td>\n",
       "      <td>1.0</td>\n",
       "      <td>0.0</td>\n",
       "      <td>0.0</td>\n",
       "      <td>0.0</td>\n",
       "      <td>0.0</td>\n",
       "      <td>0.0</td>\n",
       "      <td>0.0</td>\n",
       "      <td>0.0</td>\n",
       "      <td>0.0</td>\n",
       "      <td>0.0</td>\n",
       "      <td>0.0</td>\n",
       "      <td>0.0</td>\n",
       "      <td>1.0</td>\n",
       "      <td>0.0</td>\n",
       "      <td>0.0</td>\n",
       "    </tr>\n",
       "    <tr>\n",
       "      <th>1</th>\n",
       "      <td>1.0</td>\n",
       "      <td>0.0</td>\n",
       "      <td>1.0</td>\n",
       "      <td>1.0</td>\n",
       "      <td>0.0</td>\n",
       "      <td>0.0</td>\n",
       "      <td>0.0</td>\n",
       "      <td>0.0</td>\n",
       "      <td>0.0</td>\n",
       "      <td>0.0</td>\n",
       "      <td>1.0</td>\n",
       "      <td>0.0</td>\n",
       "      <td>1.0</td>\n",
       "      <td>0.0</td>\n",
       "      <td>0.0</td>\n",
       "      <td>0.0</td>\n",
       "      <td>0.0</td>\n",
       "      <td>0.0</td>\n",
       "      <td>0.0</td>\n",
       "      <td>0.0</td>\n",
       "      <td>0.0</td>\n",
       "      <td>0.0</td>\n",
       "      <td>0.0</td>\n",
       "      <td>0.0</td>\n",
       "      <td>1.0</td>\n",
       "      <td>0.0</td>\n",
       "      <td>0.0</td>\n",
       "    </tr>\n",
       "    <tr>\n",
       "      <th>2</th>\n",
       "      <td>1.0</td>\n",
       "      <td>0.0</td>\n",
       "      <td>1.0</td>\n",
       "      <td>0.0</td>\n",
       "      <td>0.0</td>\n",
       "      <td>1.0</td>\n",
       "      <td>0.0</td>\n",
       "      <td>0.0</td>\n",
       "      <td>0.0</td>\n",
       "      <td>0.0</td>\n",
       "      <td>1.0</td>\n",
       "      <td>0.0</td>\n",
       "      <td>0.0</td>\n",
       "      <td>0.0</td>\n",
       "      <td>0.0</td>\n",
       "      <td>0.0</td>\n",
       "      <td>0.0</td>\n",
       "      <td>1.0</td>\n",
       "      <td>0.0</td>\n",
       "      <td>0.0</td>\n",
       "      <td>0.0</td>\n",
       "      <td>0.0</td>\n",
       "      <td>0.0</td>\n",
       "      <td>0.0</td>\n",
       "      <td>1.0</td>\n",
       "      <td>0.0</td>\n",
       "      <td>0.0</td>\n",
       "    </tr>\n",
       "    <tr>\n",
       "      <th>3</th>\n",
       "      <td>1.0</td>\n",
       "      <td>0.0</td>\n",
       "      <td>0.0</td>\n",
       "      <td>0.0</td>\n",
       "      <td>0.0</td>\n",
       "      <td>0.0</td>\n",
       "      <td>1.0</td>\n",
       "      <td>0.0</td>\n",
       "      <td>0.0</td>\n",
       "      <td>1.0</td>\n",
       "      <td>0.0</td>\n",
       "      <td>0.0</td>\n",
       "      <td>0.0</td>\n",
       "      <td>0.0</td>\n",
       "      <td>0.0</td>\n",
       "      <td>1.0</td>\n",
       "      <td>0.0</td>\n",
       "      <td>0.0</td>\n",
       "      <td>0.0</td>\n",
       "      <td>0.0</td>\n",
       "      <td>0.0</td>\n",
       "      <td>0.0</td>\n",
       "      <td>0.0</td>\n",
       "      <td>0.0</td>\n",
       "      <td>1.0</td>\n",
       "      <td>0.0</td>\n",
       "      <td>0.0</td>\n",
       "    </tr>\n",
       "    <tr>\n",
       "      <th>4</th>\n",
       "      <td>1.0</td>\n",
       "      <td>0.0</td>\n",
       "      <td>0.0</td>\n",
       "      <td>0.0</td>\n",
       "      <td>0.0</td>\n",
       "      <td>0.0</td>\n",
       "      <td>1.0</td>\n",
       "      <td>0.0</td>\n",
       "      <td>1.0</td>\n",
       "      <td>0.0</td>\n",
       "      <td>0.0</td>\n",
       "      <td>0.0</td>\n",
       "      <td>0.0</td>\n",
       "      <td>0.0</td>\n",
       "      <td>0.0</td>\n",
       "      <td>1.0</td>\n",
       "      <td>0.0</td>\n",
       "      <td>0.0</td>\n",
       "      <td>0.0</td>\n",
       "      <td>0.0</td>\n",
       "      <td>0.0</td>\n",
       "      <td>0.0</td>\n",
       "      <td>0.0</td>\n",
       "      <td>0.0</td>\n",
       "      <td>1.0</td>\n",
       "      <td>0.0</td>\n",
       "      <td>0.0</td>\n",
       "    </tr>\n",
       "    <tr>\n",
       "      <th>...</th>\n",
       "      <td>...</td>\n",
       "      <td>...</td>\n",
       "      <td>...</td>\n",
       "      <td>...</td>\n",
       "      <td>...</td>\n",
       "      <td>...</td>\n",
       "      <td>...</td>\n",
       "      <td>...</td>\n",
       "      <td>...</td>\n",
       "      <td>...</td>\n",
       "      <td>...</td>\n",
       "      <td>...</td>\n",
       "      <td>...</td>\n",
       "      <td>...</td>\n",
       "      <td>...</td>\n",
       "      <td>...</td>\n",
       "      <td>...</td>\n",
       "      <td>...</td>\n",
       "      <td>...</td>\n",
       "      <td>...</td>\n",
       "      <td>...</td>\n",
       "      <td>...</td>\n",
       "      <td>...</td>\n",
       "      <td>...</td>\n",
       "      <td>...</td>\n",
       "      <td>...</td>\n",
       "      <td>...</td>\n",
       "    </tr>\n",
       "    <tr>\n",
       "      <th>200</th>\n",
       "      <td>1.0</td>\n",
       "      <td>0.0</td>\n",
       "      <td>0.0</td>\n",
       "      <td>0.0</td>\n",
       "      <td>0.0</td>\n",
       "      <td>0.0</td>\n",
       "      <td>1.0</td>\n",
       "      <td>0.0</td>\n",
       "      <td>0.0</td>\n",
       "      <td>0.0</td>\n",
       "      <td>1.0</td>\n",
       "      <td>0.0</td>\n",
       "      <td>0.0</td>\n",
       "      <td>0.0</td>\n",
       "      <td>0.0</td>\n",
       "      <td>1.0</td>\n",
       "      <td>0.0</td>\n",
       "      <td>0.0</td>\n",
       "      <td>0.0</td>\n",
       "      <td>0.0</td>\n",
       "      <td>0.0</td>\n",
       "      <td>0.0</td>\n",
       "      <td>0.0</td>\n",
       "      <td>0.0</td>\n",
       "      <td>1.0</td>\n",
       "      <td>0.0</td>\n",
       "      <td>0.0</td>\n",
       "    </tr>\n",
       "    <tr>\n",
       "      <th>201</th>\n",
       "      <td>1.0</td>\n",
       "      <td>1.0</td>\n",
       "      <td>0.0</td>\n",
       "      <td>0.0</td>\n",
       "      <td>0.0</td>\n",
       "      <td>0.0</td>\n",
       "      <td>1.0</td>\n",
       "      <td>0.0</td>\n",
       "      <td>0.0</td>\n",
       "      <td>0.0</td>\n",
       "      <td>1.0</td>\n",
       "      <td>0.0</td>\n",
       "      <td>0.0</td>\n",
       "      <td>0.0</td>\n",
       "      <td>0.0</td>\n",
       "      <td>1.0</td>\n",
       "      <td>0.0</td>\n",
       "      <td>0.0</td>\n",
       "      <td>0.0</td>\n",
       "      <td>0.0</td>\n",
       "      <td>0.0</td>\n",
       "      <td>0.0</td>\n",
       "      <td>0.0</td>\n",
       "      <td>0.0</td>\n",
       "      <td>1.0</td>\n",
       "      <td>0.0</td>\n",
       "      <td>0.0</td>\n",
       "    </tr>\n",
       "    <tr>\n",
       "      <th>202</th>\n",
       "      <td>1.0</td>\n",
       "      <td>0.0</td>\n",
       "      <td>0.0</td>\n",
       "      <td>0.0</td>\n",
       "      <td>0.0</td>\n",
       "      <td>0.0</td>\n",
       "      <td>1.0</td>\n",
       "      <td>0.0</td>\n",
       "      <td>0.0</td>\n",
       "      <td>0.0</td>\n",
       "      <td>1.0</td>\n",
       "      <td>0.0</td>\n",
       "      <td>0.0</td>\n",
       "      <td>0.0</td>\n",
       "      <td>0.0</td>\n",
       "      <td>0.0</td>\n",
       "      <td>0.0</td>\n",
       "      <td>1.0</td>\n",
       "      <td>0.0</td>\n",
       "      <td>0.0</td>\n",
       "      <td>0.0</td>\n",
       "      <td>0.0</td>\n",
       "      <td>0.0</td>\n",
       "      <td>0.0</td>\n",
       "      <td>1.0</td>\n",
       "      <td>0.0</td>\n",
       "      <td>0.0</td>\n",
       "    </tr>\n",
       "    <tr>\n",
       "      <th>203</th>\n",
       "      <td>0.0</td>\n",
       "      <td>1.0</td>\n",
       "      <td>0.0</td>\n",
       "      <td>0.0</td>\n",
       "      <td>0.0</td>\n",
       "      <td>0.0</td>\n",
       "      <td>1.0</td>\n",
       "      <td>0.0</td>\n",
       "      <td>0.0</td>\n",
       "      <td>0.0</td>\n",
       "      <td>1.0</td>\n",
       "      <td>0.0</td>\n",
       "      <td>0.0</td>\n",
       "      <td>0.0</td>\n",
       "      <td>0.0</td>\n",
       "      <td>1.0</td>\n",
       "      <td>0.0</td>\n",
       "      <td>0.0</td>\n",
       "      <td>0.0</td>\n",
       "      <td>0.0</td>\n",
       "      <td>0.0</td>\n",
       "      <td>0.0</td>\n",
       "      <td>1.0</td>\n",
       "      <td>0.0</td>\n",
       "      <td>0.0</td>\n",
       "      <td>0.0</td>\n",
       "      <td>0.0</td>\n",
       "    </tr>\n",
       "    <tr>\n",
       "      <th>204</th>\n",
       "      <td>1.0</td>\n",
       "      <td>1.0</td>\n",
       "      <td>0.0</td>\n",
       "      <td>0.0</td>\n",
       "      <td>0.0</td>\n",
       "      <td>0.0</td>\n",
       "      <td>1.0</td>\n",
       "      <td>0.0</td>\n",
       "      <td>0.0</td>\n",
       "      <td>0.0</td>\n",
       "      <td>1.0</td>\n",
       "      <td>0.0</td>\n",
       "      <td>0.0</td>\n",
       "      <td>0.0</td>\n",
       "      <td>0.0</td>\n",
       "      <td>1.0</td>\n",
       "      <td>0.0</td>\n",
       "      <td>0.0</td>\n",
       "      <td>0.0</td>\n",
       "      <td>0.0</td>\n",
       "      <td>0.0</td>\n",
       "      <td>0.0</td>\n",
       "      <td>0.0</td>\n",
       "      <td>0.0</td>\n",
       "      <td>1.0</td>\n",
       "      <td>0.0</td>\n",
       "      <td>0.0</td>\n",
       "    </tr>\n",
       "  </tbody>\n",
       "</table>\n",
       "<p>205 rows × 27 columns</p>\n",
       "</div>"
      ],
      "text/plain": [
       "      0    1    2    3    4    5    6    7    8    9    10   11   12   13  \\\n",
       "0    1.0  0.0  1.0  1.0  0.0  0.0  0.0  0.0  0.0  0.0  1.0  0.0  1.0  0.0   \n",
       "1    1.0  0.0  1.0  1.0  0.0  0.0  0.0  0.0  0.0  0.0  1.0  0.0  1.0  0.0   \n",
       "2    1.0  0.0  1.0  0.0  0.0  1.0  0.0  0.0  0.0  0.0  1.0  0.0  0.0  0.0   \n",
       "3    1.0  0.0  0.0  0.0  0.0  0.0  1.0  0.0  0.0  1.0  0.0  0.0  0.0  0.0   \n",
       "4    1.0  0.0  0.0  0.0  0.0  0.0  1.0  0.0  1.0  0.0  0.0  0.0  0.0  0.0   \n",
       "..   ...  ...  ...  ...  ...  ...  ...  ...  ...  ...  ...  ...  ...  ...   \n",
       "200  1.0  0.0  0.0  0.0  0.0  0.0  1.0  0.0  0.0  0.0  1.0  0.0  0.0  0.0   \n",
       "201  1.0  1.0  0.0  0.0  0.0  0.0  1.0  0.0  0.0  0.0  1.0  0.0  0.0  0.0   \n",
       "202  1.0  0.0  0.0  0.0  0.0  0.0  1.0  0.0  0.0  0.0  1.0  0.0  0.0  0.0   \n",
       "203  0.0  1.0  0.0  0.0  0.0  0.0  1.0  0.0  0.0  0.0  1.0  0.0  0.0  0.0   \n",
       "204  1.0  1.0  0.0  0.0  0.0  0.0  1.0  0.0  0.0  0.0  1.0  0.0  0.0  0.0   \n",
       "\n",
       "      14   15   16   17   18   19   20   21   22   23   24   25   26  \n",
       "0    0.0  0.0  0.0  0.0  0.0  0.0  0.0  0.0  0.0  0.0  1.0  0.0  0.0  \n",
       "1    0.0  0.0  0.0  0.0  0.0  0.0  0.0  0.0  0.0  0.0  1.0  0.0  0.0  \n",
       "2    0.0  0.0  0.0  1.0  0.0  0.0  0.0  0.0  0.0  0.0  1.0  0.0  0.0  \n",
       "3    0.0  1.0  0.0  0.0  0.0  0.0  0.0  0.0  0.0  0.0  1.0  0.0  0.0  \n",
       "4    0.0  1.0  0.0  0.0  0.0  0.0  0.0  0.0  0.0  0.0  1.0  0.0  0.0  \n",
       "..   ...  ...  ...  ...  ...  ...  ...  ...  ...  ...  ...  ...  ...  \n",
       "200  0.0  1.0  0.0  0.0  0.0  0.0  0.0  0.0  0.0  0.0  1.0  0.0  0.0  \n",
       "201  0.0  1.0  0.0  0.0  0.0  0.0  0.0  0.0  0.0  0.0  1.0  0.0  0.0  \n",
       "202  0.0  0.0  0.0  1.0  0.0  0.0  0.0  0.0  0.0  0.0  1.0  0.0  0.0  \n",
       "203  0.0  1.0  0.0  0.0  0.0  0.0  0.0  0.0  1.0  0.0  0.0  0.0  0.0  \n",
       "204  0.0  1.0  0.0  0.0  0.0  0.0  0.0  0.0  0.0  0.0  1.0  0.0  0.0  \n",
       "\n",
       "[205 rows x 27 columns]"
      ]
     },
     "execution_count": 20,
     "metadata": {},
     "output_type": "execute_result"
    }
   ],
   "source": [
    "X_cat_encoded = pd.DataFrame(cat_transformer.fit_transform(X_cat))\n",
    "X_cat_encoded"
   ]
  },
  {
   "cell_type": "markdown",
   "metadata": {
    "tags": []
   },
   "source": [
    "### (2.3) Full Preprocessor"
   ]
  },
  {
   "cell_type": "markdown",
   "metadata": {},
   "source": [
    "❓ Create the `preprocessor` which combines the `num_transformer` and the `cat_transformer`  ❓"
   ]
  },
  {
   "cell_type": "code",
   "execution_count": 23,
   "metadata": {
    "tags": [
     "challengify"
    ]
   },
   "outputs": [
    {
     "data": {
      "text/html": [
       "<style>#sk-5686b91a-7181-45d1-a0f1-501997bbee8f {color: black;background-color: white;}#sk-5686b91a-7181-45d1-a0f1-501997bbee8f pre{padding: 0;}#sk-5686b91a-7181-45d1-a0f1-501997bbee8f div.sk-toggleable {background-color: white;}#sk-5686b91a-7181-45d1-a0f1-501997bbee8f label.sk-toggleable__label {cursor: pointer;display: block;width: 100%;margin-bottom: 0;padding: 0.3em;box-sizing: border-box;text-align: center;}#sk-5686b91a-7181-45d1-a0f1-501997bbee8f label.sk-toggleable__label-arrow:before {content: \"▸\";float: left;margin-right: 0.25em;color: #696969;}#sk-5686b91a-7181-45d1-a0f1-501997bbee8f label.sk-toggleable__label-arrow:hover:before {color: black;}#sk-5686b91a-7181-45d1-a0f1-501997bbee8f div.sk-estimator:hover label.sk-toggleable__label-arrow:before {color: black;}#sk-5686b91a-7181-45d1-a0f1-501997bbee8f div.sk-toggleable__content {max-height: 0;max-width: 0;overflow: hidden;text-align: left;background-color: #f0f8ff;}#sk-5686b91a-7181-45d1-a0f1-501997bbee8f div.sk-toggleable__content pre {margin: 0.2em;color: black;border-radius: 0.25em;background-color: #f0f8ff;}#sk-5686b91a-7181-45d1-a0f1-501997bbee8f input.sk-toggleable__control:checked~div.sk-toggleable__content {max-height: 200px;max-width: 100%;overflow: auto;}#sk-5686b91a-7181-45d1-a0f1-501997bbee8f input.sk-toggleable__control:checked~label.sk-toggleable__label-arrow:before {content: \"▾\";}#sk-5686b91a-7181-45d1-a0f1-501997bbee8f div.sk-estimator input.sk-toggleable__control:checked~label.sk-toggleable__label {background-color: #d4ebff;}#sk-5686b91a-7181-45d1-a0f1-501997bbee8f div.sk-label input.sk-toggleable__control:checked~label.sk-toggleable__label {background-color: #d4ebff;}#sk-5686b91a-7181-45d1-a0f1-501997bbee8f input.sk-hidden--visually {border: 0;clip: rect(1px 1px 1px 1px);clip: rect(1px, 1px, 1px, 1px);height: 1px;margin: -1px;overflow: hidden;padding: 0;position: absolute;width: 1px;}#sk-5686b91a-7181-45d1-a0f1-501997bbee8f div.sk-estimator {font-family: monospace;background-color: #f0f8ff;border: 1px dotted black;border-radius: 0.25em;box-sizing: border-box;margin-bottom: 0.5em;}#sk-5686b91a-7181-45d1-a0f1-501997bbee8f div.sk-estimator:hover {background-color: #d4ebff;}#sk-5686b91a-7181-45d1-a0f1-501997bbee8f div.sk-parallel-item::after {content: \"\";width: 100%;border-bottom: 1px solid gray;flex-grow: 1;}#sk-5686b91a-7181-45d1-a0f1-501997bbee8f div.sk-label:hover label.sk-toggleable__label {background-color: #d4ebff;}#sk-5686b91a-7181-45d1-a0f1-501997bbee8f div.sk-serial::before {content: \"\";position: absolute;border-left: 1px solid gray;box-sizing: border-box;top: 2em;bottom: 0;left: 50%;}#sk-5686b91a-7181-45d1-a0f1-501997bbee8f div.sk-serial {display: flex;flex-direction: column;align-items: center;background-color: white;padding-right: 0.2em;padding-left: 0.2em;}#sk-5686b91a-7181-45d1-a0f1-501997bbee8f div.sk-item {z-index: 1;}#sk-5686b91a-7181-45d1-a0f1-501997bbee8f div.sk-parallel {display: flex;align-items: stretch;justify-content: center;background-color: white;}#sk-5686b91a-7181-45d1-a0f1-501997bbee8f div.sk-parallel::before {content: \"\";position: absolute;border-left: 1px solid gray;box-sizing: border-box;top: 2em;bottom: 0;left: 50%;}#sk-5686b91a-7181-45d1-a0f1-501997bbee8f div.sk-parallel-item {display: flex;flex-direction: column;position: relative;background-color: white;}#sk-5686b91a-7181-45d1-a0f1-501997bbee8f div.sk-parallel-item:first-child::after {align-self: flex-end;width: 50%;}#sk-5686b91a-7181-45d1-a0f1-501997bbee8f div.sk-parallel-item:last-child::after {align-self: flex-start;width: 50%;}#sk-5686b91a-7181-45d1-a0f1-501997bbee8f div.sk-parallel-item:only-child::after {width: 0;}#sk-5686b91a-7181-45d1-a0f1-501997bbee8f div.sk-dashed-wrapped {border: 1px dashed gray;margin: 0 0.4em 0.5em 0.4em;box-sizing: border-box;padding-bottom: 0.4em;background-color: white;position: relative;}#sk-5686b91a-7181-45d1-a0f1-501997bbee8f div.sk-label label {font-family: monospace;font-weight: bold;background-color: white;display: inline-block;line-height: 1.2em;}#sk-5686b91a-7181-45d1-a0f1-501997bbee8f div.sk-label-container {position: relative;z-index: 2;text-align: center;}#sk-5686b91a-7181-45d1-a0f1-501997bbee8f div.sk-container {/* jupyter's `normalize.less` sets `[hidden] { display: none; }` but bootstrap.min.css set `[hidden] { display: none !important; }` so we also need the `!important` here to be able to override the default hidden behavior on the sphinx rendered scikit-learn.org. See: https://github.com/scikit-learn/scikit-learn/issues/21755 */display: inline-block !important;position: relative;}#sk-5686b91a-7181-45d1-a0f1-501997bbee8f div.sk-text-repr-fallback {display: none;}</style><div id=\"sk-5686b91a-7181-45d1-a0f1-501997bbee8f\" class=\"sk-top-container\"><div class=\"sk-text-repr-fallback\"><pre>Pipeline(steps=[(&#x27;columntransformer&#x27;,\n",
       "                 ColumnTransformer(transformers=[(&#x27;num_transformer&#x27;,\n",
       "                                                  Pipeline(steps=[(&#x27;simpleimputer&#x27;,\n",
       "                                                                   SimpleImputer(strategy=&#x27;median&#x27;)),\n",
       "                                                                  (&#x27;robustscaler&#x27;,\n",
       "                                                                   RobustScaler())]),\n",
       "                                                  &lt;sklearn.compose._column_transformer.make_column_selector object at 0x7f8c8ed08970&gt;),\n",
       "                                                 (&#x27;cat_transformer&#x27;,\n",
       "                                                  Pipeline(steps=[(&#x27;simpleimputer&#x27;,\n",
       "                                                                   SimpleImputer(strategy=&#x27;most_frequent&#x27;)),\n",
       "                                                                  (&#x27;onehotencoder&#x27;,\n",
       "                                                                   OneHotEncoder(drop=&#x27;if_binary&#x27;,\n",
       "                                                                                 handle_unknown=&#x27;ignore&#x27;,\n",
       "                                                                                 sparse=False))]),\n",
       "                                                  &lt;sklearn.compose._column_transformer.make_column_selector object at 0x7f8c8ed089d0&gt;)]))])</pre><b>Please rerun this cell to show the HTML repr or trust the notebook.</b></div><div class=\"sk-container\" hidden><div class=\"sk-item sk-dashed-wrapped\"><div class=\"sk-label-container\"><div class=\"sk-label sk-toggleable\"><input class=\"sk-toggleable__control sk-hidden--visually\" id=\"f015cf48-00dd-42b1-91ed-6b0a2949a069\" type=\"checkbox\" ><label for=\"f015cf48-00dd-42b1-91ed-6b0a2949a069\" class=\"sk-toggleable__label sk-toggleable__label-arrow\">Pipeline</label><div class=\"sk-toggleable__content\"><pre>Pipeline(steps=[(&#x27;columntransformer&#x27;,\n",
       "                 ColumnTransformer(transformers=[(&#x27;num_transformer&#x27;,\n",
       "                                                  Pipeline(steps=[(&#x27;simpleimputer&#x27;,\n",
       "                                                                   SimpleImputer(strategy=&#x27;median&#x27;)),\n",
       "                                                                  (&#x27;robustscaler&#x27;,\n",
       "                                                                   RobustScaler())]),\n",
       "                                                  &lt;sklearn.compose._column_transformer.make_column_selector object at 0x7f8c8ed08970&gt;),\n",
       "                                                 (&#x27;cat_transformer&#x27;,\n",
       "                                                  Pipeline(steps=[(&#x27;simpleimputer&#x27;,\n",
       "                                                                   SimpleImputer(strategy=&#x27;most_frequent&#x27;)),\n",
       "                                                                  (&#x27;onehotencoder&#x27;,\n",
       "                                                                   OneHotEncoder(drop=&#x27;if_binary&#x27;,\n",
       "                                                                                 handle_unknown=&#x27;ignore&#x27;,\n",
       "                                                                                 sparse=False))]),\n",
       "                                                  &lt;sklearn.compose._column_transformer.make_column_selector object at 0x7f8c8ed089d0&gt;)]))])</pre></div></div></div><div class=\"sk-serial\"><div class=\"sk-item sk-dashed-wrapped\"><div class=\"sk-label-container\"><div class=\"sk-label sk-toggleable\"><input class=\"sk-toggleable__control sk-hidden--visually\" id=\"7b0071be-e6cf-481b-a8b0-e7b5b8b85fdf\" type=\"checkbox\" ><label for=\"7b0071be-e6cf-481b-a8b0-e7b5b8b85fdf\" class=\"sk-toggleable__label sk-toggleable__label-arrow\">columntransformer: ColumnTransformer</label><div class=\"sk-toggleable__content\"><pre>ColumnTransformer(transformers=[(&#x27;num_transformer&#x27;,\n",
       "                                 Pipeline(steps=[(&#x27;simpleimputer&#x27;,\n",
       "                                                  SimpleImputer(strategy=&#x27;median&#x27;)),\n",
       "                                                 (&#x27;robustscaler&#x27;,\n",
       "                                                  RobustScaler())]),\n",
       "                                 &lt;sklearn.compose._column_transformer.make_column_selector object at 0x7f8c8ed08970&gt;),\n",
       "                                (&#x27;cat_transformer&#x27;,\n",
       "                                 Pipeline(steps=[(&#x27;simpleimputer&#x27;,\n",
       "                                                  SimpleImputer(strategy=&#x27;most_frequent&#x27;)),\n",
       "                                                 (&#x27;onehotencoder&#x27;,\n",
       "                                                  OneHotEncoder(drop=&#x27;if_binary&#x27;,\n",
       "                                                                handle_unknown=&#x27;ignore&#x27;,\n",
       "                                                                sparse=False))]),\n",
       "                                 &lt;sklearn.compose._column_transformer.make_column_selector object at 0x7f8c8ed089d0&gt;)])</pre></div></div></div><div class=\"sk-parallel\"><div class=\"sk-parallel-item\"><div class=\"sk-item\"><div class=\"sk-label-container\"><div class=\"sk-label sk-toggleable\"><input class=\"sk-toggleable__control sk-hidden--visually\" id=\"3678eef3-3dc7-441b-afd2-f3a56e92b2f8\" type=\"checkbox\" ><label for=\"3678eef3-3dc7-441b-afd2-f3a56e92b2f8\" class=\"sk-toggleable__label sk-toggleable__label-arrow\">num_transformer</label><div class=\"sk-toggleable__content\"><pre>&lt;sklearn.compose._column_transformer.make_column_selector object at 0x7f8c8ed08970&gt;</pre></div></div></div><div class=\"sk-serial\"><div class=\"sk-item\"><div class=\"sk-serial\"><div class=\"sk-item\"><div class=\"sk-estimator sk-toggleable\"><input class=\"sk-toggleable__control sk-hidden--visually\" id=\"01ad38a7-c459-4a65-825b-b85593ae5eb5\" type=\"checkbox\" ><label for=\"01ad38a7-c459-4a65-825b-b85593ae5eb5\" class=\"sk-toggleable__label sk-toggleable__label-arrow\">SimpleImputer</label><div class=\"sk-toggleable__content\"><pre>SimpleImputer(strategy=&#x27;median&#x27;)</pre></div></div></div><div class=\"sk-item\"><div class=\"sk-estimator sk-toggleable\"><input class=\"sk-toggleable__control sk-hidden--visually\" id=\"0f50f68b-634d-4ad4-bc22-27d6b0185ba0\" type=\"checkbox\" ><label for=\"0f50f68b-634d-4ad4-bc22-27d6b0185ba0\" class=\"sk-toggleable__label sk-toggleable__label-arrow\">RobustScaler</label><div class=\"sk-toggleable__content\"><pre>RobustScaler()</pre></div></div></div></div></div></div></div></div><div class=\"sk-parallel-item\"><div class=\"sk-item\"><div class=\"sk-label-container\"><div class=\"sk-label sk-toggleable\"><input class=\"sk-toggleable__control sk-hidden--visually\" id=\"c237d2bd-625b-4450-ae57-175683feb6b5\" type=\"checkbox\" ><label for=\"c237d2bd-625b-4450-ae57-175683feb6b5\" class=\"sk-toggleable__label sk-toggleable__label-arrow\">cat_transformer</label><div class=\"sk-toggleable__content\"><pre>&lt;sklearn.compose._column_transformer.make_column_selector object at 0x7f8c8ed089d0&gt;</pre></div></div></div><div class=\"sk-serial\"><div class=\"sk-item\"><div class=\"sk-serial\"><div class=\"sk-item\"><div class=\"sk-estimator sk-toggleable\"><input class=\"sk-toggleable__control sk-hidden--visually\" id=\"17fd313c-318c-40a2-8e2e-7433fb44b8f8\" type=\"checkbox\" ><label for=\"17fd313c-318c-40a2-8e2e-7433fb44b8f8\" class=\"sk-toggleable__label sk-toggleable__label-arrow\">SimpleImputer</label><div class=\"sk-toggleable__content\"><pre>SimpleImputer(strategy=&#x27;most_frequent&#x27;)</pre></div></div></div><div class=\"sk-item\"><div class=\"sk-estimator sk-toggleable\"><input class=\"sk-toggleable__control sk-hidden--visually\" id=\"52367979-8000-4bb7-83e7-5e5fd9ab08ba\" type=\"checkbox\" ><label for=\"52367979-8000-4bb7-83e7-5e5fd9ab08ba\" class=\"sk-toggleable__label sk-toggleable__label-arrow\">OneHotEncoder</label><div class=\"sk-toggleable__content\"><pre>OneHotEncoder(drop=&#x27;if_binary&#x27;, handle_unknown=&#x27;ignore&#x27;, sparse=False)</pre></div></div></div></div></div></div></div></div></div></div></div></div></div></div>"
      ],
      "text/plain": [
       "Pipeline(steps=[('columntransformer',\n",
       "                 ColumnTransformer(transformers=[('num_transformer',\n",
       "                                                  Pipeline(steps=[('simpleimputer',\n",
       "                                                                   SimpleImputer(strategy='median')),\n",
       "                                                                  ('robustscaler',\n",
       "                                                                   RobustScaler())]),\n",
       "                                                  <sklearn.compose._column_transformer.make_column_selector object at 0x7f8c8ed08970>),\n",
       "                                                 ('cat_transformer',\n",
       "                                                  Pipeline(steps=[('simpleimputer',\n",
       "                                                                   SimpleImputer(strategy='most_frequent')),\n",
       "                                                                  ('onehotencoder',\n",
       "                                                                   OneHotEncoder(drop='if_binary',\n",
       "                                                                                 handle_unknown='ignore',\n",
       "                                                                                 sparse=False))]),\n",
       "                                                  <sklearn.compose._column_transformer.make_column_selector object at 0x7f8c8ed089d0>)]))])"
      ]
     },
     "execution_count": 23,
     "metadata": {},
     "output_type": "execute_result"
    }
   ],
   "source": [
    "preprocessor = make_pipeline(\n",
    "                ColumnTransformer([\n",
    "                    (\"num_transformer\", num_transformer_simplified, make_column_selector(dtype_include = [\"float64\",\"int64\"])),\n",
    "                    (\"cat_transformer\", cat_transformer, make_column_selector(dtype_include = \"object\"))\n",
    "                    ])\n",
    "                )\n",
    "\n",
    "preprocessor"
   ]
  },
  {
   "cell_type": "markdown",
   "metadata": {},
   "source": [
    "## (3) Full pipeline with a Regression Model"
   ]
  },
  {
   "cell_type": "markdown",
   "metadata": {},
   "source": [
    "🚀 We can now try different regression model pipelined with the preprocessor 🚀"
   ]
  },
  {
   "cell_type": "markdown",
   "metadata": {},
   "source": [
    "❓ Create a function that will create a Pipeline with the `preprocessor` and a regression model ❓"
   ]
  },
  {
   "cell_type": "code",
   "execution_count": 24,
   "metadata": {
    "tags": [
     "challengify"
    ]
   },
   "outputs": [],
   "source": [
    "def cars_regression_models(regression_model):\n",
    "    piped_regressor = make_pipeline(preprocessor, regression_model)\n",
    "    return piped_regressor"
   ]
  },
  {
   "cell_type": "markdown",
   "metadata": {},
   "source": [
    "❓ Testing different pipelined regression models ❓\n",
    "\n",
    "\n",
    "🤓 Do not forget to refer to [Scikit-Learn - Choosing the right estimator](https://scikit-learn.org/stable/tutorial/machine_learning_map/index.html)."
   ]
  },
  {
   "cell_type": "code",
   "execution_count": 25,
   "metadata": {
    "tags": [
     "challengify"
    ]
   },
   "outputs": [],
   "source": [
    "# LINEAR MODELS\n",
    "from sklearn.linear_model import LinearRegression, Ridge, Lasso, ElasticNet, SGDRegressor\n",
    "\n",
    "# NEIGHBORS\n",
    "from sklearn.neighbors import KNeighborsRegressor\n",
    "\n",
    "# SVM\n",
    "from sklearn.svm import SVR\n",
    "\n",
    "# TREES AND ENSEMBLE METHODS\n",
    "from sklearn.tree import DecisionTreeRegressor\n",
    "from sklearn.ensemble import RandomForestRegressor, AdaBoostRegressor, GradientBoostingRegressor"
   ]
  },
  {
   "cell_type": "code",
   "execution_count": 26,
   "metadata": {},
   "outputs": [],
   "source": [
    "models = [LinearRegression(),\n",
    "          Ridge(),\n",
    "          Lasso(),\n",
    "          ElasticNet(),\n",
    "          SGDRegressor(),\n",
    "          KNeighborsRegressor(),\n",
    "          SVR(kernel = \"linear\"),\n",
    "          SVR(kernel = \"poly\", degree = 2),\n",
    "          SVR(kernel = \"poly\", degree = 3),          \n",
    "          SVR(kernel = \"rbf\"),\n",
    "          DecisionTreeRegressor(),\n",
    "          RandomForestRegressor(),\n",
    "          AdaBoostRegressor(),\n",
    "          GradientBoostingRegressor()\n",
    "]"
   ]
  },
  {
   "cell_type": "code",
   "execution_count": 29,
   "metadata": {},
   "outputs": [],
   "source": [
    "models_names = [\"linear_regression\",\n",
    "                \"ridge\",\n",
    "                \"lasso\",\n",
    "                \"elastic_net\",\n",
    "                \"sgd_regressor\",\n",
    "                \"kneighbors_regressor\",\n",
    "                \"SVR_linear\",\n",
    "                \"SVR_poly_two\",\n",
    "                \"SVR_poly_three\",\n",
    "                \"SVR_rbf\",                \n",
    "                \"decision_tree_regressor\",\n",
    "                \"random_forest_regressor\",\n",
    "                \"ada_boost_regressor\",\n",
    "                \"gradient_boosting_regressor\"\n",
    "]"
   ]
  },
  {
   "cell_type": "markdown",
   "metadata": {},
   "source": [
    "❓ Evaluating the pipelined models: which pipelined regressor performed the best ❓"
   ]
  },
  {
   "cell_type": "code",
   "execution_count": 27,
   "metadata": {
    "tags": [
     "challengify"
    ]
   },
   "outputs": [],
   "source": [
    "from sklearn.model_selection import train_test_split"
   ]
  },
  {
   "cell_type": "code",
   "execution_count": 30,
   "metadata": {},
   "outputs": [
    {
     "name": "stderr",
     "output_type": "stream",
     "text": [
      "/home/matheus/.pyenv/versions/3.8.12/envs/lewagon/lib/python3.8/site-packages/sklearn/preprocessing/_encoders.py:170: UserWarning: Found unknown categories in columns [7] during transform. These unknown categories will be encoded as all zeros\n",
      "  warnings.warn(\n",
      "/home/matheus/.pyenv/versions/3.8.12/envs/lewagon/lib/python3.8/site-packages/sklearn/preprocessing/_encoders.py:170: UserWarning: Found unknown categories in columns [7] during transform. These unknown categories will be encoded as all zeros\n",
      "  warnings.warn(\n",
      "/home/matheus/.pyenv/versions/3.8.12/envs/lewagon/lib/python3.8/site-packages/sklearn/linear_model/_coordinate_descent.py:647: ConvergenceWarning: Objective did not converge. You might want to increase the number of iterations, check the scale of the features or consider increasing regularisation. Duality gap: 9.318e+05, tolerance: 8.627e+05\n",
      "  model = cd_fast.enet_coordinate_descent(\n",
      "/home/matheus/.pyenv/versions/3.8.12/envs/lewagon/lib/python3.8/site-packages/sklearn/preprocessing/_encoders.py:170: UserWarning: Found unknown categories in columns [7] during transform. These unknown categories will be encoded as all zeros\n",
      "  warnings.warn(\n",
      "/home/matheus/.pyenv/versions/3.8.12/envs/lewagon/lib/python3.8/site-packages/sklearn/preprocessing/_encoders.py:170: UserWarning: Found unknown categories in columns [7] during transform. These unknown categories will be encoded as all zeros\n",
      "  warnings.warn(\n",
      "/home/matheus/.pyenv/versions/3.8.12/envs/lewagon/lib/python3.8/site-packages/sklearn/preprocessing/_encoders.py:170: UserWarning: Found unknown categories in columns [7] during transform. These unknown categories will be encoded as all zeros\n",
      "  warnings.warn(\n",
      "/home/matheus/.pyenv/versions/3.8.12/envs/lewagon/lib/python3.8/site-packages/sklearn/preprocessing/_encoders.py:170: UserWarning: Found unknown categories in columns [7] during transform. These unknown categories will be encoded as all zeros\n",
      "  warnings.warn(\n",
      "/home/matheus/.pyenv/versions/3.8.12/envs/lewagon/lib/python3.8/site-packages/sklearn/preprocessing/_encoders.py:170: UserWarning: Found unknown categories in columns [7] during transform. These unknown categories will be encoded as all zeros\n",
      "  warnings.warn(\n",
      "/home/matheus/.pyenv/versions/3.8.12/envs/lewagon/lib/python3.8/site-packages/sklearn/preprocessing/_encoders.py:170: UserWarning: Found unknown categories in columns [7] during transform. These unknown categories will be encoded as all zeros\n",
      "  warnings.warn(\n",
      "/home/matheus/.pyenv/versions/3.8.12/envs/lewagon/lib/python3.8/site-packages/sklearn/preprocessing/_encoders.py:170: UserWarning: Found unknown categories in columns [7] during transform. These unknown categories will be encoded as all zeros\n",
      "  warnings.warn(\n",
      "/home/matheus/.pyenv/versions/3.8.12/envs/lewagon/lib/python3.8/site-packages/sklearn/preprocessing/_encoders.py:170: UserWarning: Found unknown categories in columns [7] during transform. These unknown categories will be encoded as all zeros\n",
      "  warnings.warn(\n",
      "/home/matheus/.pyenv/versions/3.8.12/envs/lewagon/lib/python3.8/site-packages/sklearn/preprocessing/_encoders.py:170: UserWarning: Found unknown categories in columns [7] during transform. These unknown categories will be encoded as all zeros\n",
      "  warnings.warn(\n",
      "/home/matheus/.pyenv/versions/3.8.12/envs/lewagon/lib/python3.8/site-packages/sklearn/preprocessing/_encoders.py:170: UserWarning: Found unknown categories in columns [7] during transform. These unknown categories will be encoded as all zeros\n",
      "  warnings.warn(\n"
     ]
    },
    {
     "name": "stdout",
     "output_type": "stream",
     "text": [
      "CPU times: user 1.42 s, sys: 351 ms, total: 1.77 s\n",
      "Wall time: 1.32 s\n"
     ]
    },
    {
     "name": "stderr",
     "output_type": "stream",
     "text": [
      "/home/matheus/.pyenv/versions/3.8.12/envs/lewagon/lib/python3.8/site-packages/sklearn/preprocessing/_encoders.py:170: UserWarning: Found unknown categories in columns [7] during transform. These unknown categories will be encoded as all zeros\n",
      "  warnings.warn(\n",
      "/home/matheus/.pyenv/versions/3.8.12/envs/lewagon/lib/python3.8/site-packages/sklearn/preprocessing/_encoders.py:170: UserWarning: Found unknown categories in columns [7] during transform. These unknown categories will be encoded as all zeros\n",
      "  warnings.warn(\n"
     ]
    },
    {
     "data": {
      "text/html": [
       "<div>\n",
       "<style scoped>\n",
       "    .dataframe tbody tr th:only-of-type {\n",
       "        vertical-align: middle;\n",
       "    }\n",
       "\n",
       "    .dataframe tbody tr th {\n",
       "        vertical-align: top;\n",
       "    }\n",
       "\n",
       "    .dataframe thead th {\n",
       "        text-align: right;\n",
       "    }\n",
       "</style>\n",
       "<table border=\"1\" class=\"dataframe\">\n",
       "  <thead>\n",
       "    <tr style=\"text-align: right;\">\n",
       "      <th></th>\n",
       "      <th>model_name</th>\n",
       "      <th>test_score</th>\n",
       "    </tr>\n",
       "  </thead>\n",
       "  <tbody>\n",
       "    <tr>\n",
       "      <th>11</th>\n",
       "      <td>random_forest_regressor</td>\n",
       "      <td>0.93</td>\n",
       "    </tr>\n",
       "    <tr>\n",
       "      <th>13</th>\n",
       "      <td>gradient_boosting_regressor</td>\n",
       "      <td>0.92</td>\n",
       "    </tr>\n",
       "    <tr>\n",
       "      <th>1</th>\n",
       "      <td>ridge</td>\n",
       "      <td>0.91</td>\n",
       "    </tr>\n",
       "    <tr>\n",
       "      <th>12</th>\n",
       "      <td>ada_boost_regressor</td>\n",
       "      <td>0.91</td>\n",
       "    </tr>\n",
       "    <tr>\n",
       "      <th>2</th>\n",
       "      <td>lasso</td>\n",
       "      <td>0.91</td>\n",
       "    </tr>\n",
       "    <tr>\n",
       "      <th>0</th>\n",
       "      <td>linear_regression</td>\n",
       "      <td>0.91</td>\n",
       "    </tr>\n",
       "    <tr>\n",
       "      <th>4</th>\n",
       "      <td>sgd_regressor</td>\n",
       "      <td>0.87</td>\n",
       "    </tr>\n",
       "    <tr>\n",
       "      <th>10</th>\n",
       "      <td>decision_tree_regressor</td>\n",
       "      <td>0.81</td>\n",
       "    </tr>\n",
       "    <tr>\n",
       "      <th>5</th>\n",
       "      <td>kneighbors_regressor</td>\n",
       "      <td>0.81</td>\n",
       "    </tr>\n",
       "    <tr>\n",
       "      <th>3</th>\n",
       "      <td>elastic_net</td>\n",
       "      <td>0.79</td>\n",
       "    </tr>\n",
       "    <tr>\n",
       "      <th>6</th>\n",
       "      <td>SVR_linear</td>\n",
       "      <td>-0.08</td>\n",
       "    </tr>\n",
       "    <tr>\n",
       "      <th>8</th>\n",
       "      <td>SVR_poly_three</td>\n",
       "      <td>-0.19</td>\n",
       "    </tr>\n",
       "    <tr>\n",
       "      <th>7</th>\n",
       "      <td>SVR_poly_two</td>\n",
       "      <td>-0.20</td>\n",
       "    </tr>\n",
       "    <tr>\n",
       "      <th>9</th>\n",
       "      <td>SVR_rbf</td>\n",
       "      <td>-0.21</td>\n",
       "    </tr>\n",
       "  </tbody>\n",
       "</table>\n",
       "</div>"
      ],
      "text/plain": [
       "                     model_name  test_score\n",
       "11      random_forest_regressor        0.93\n",
       "13  gradient_boosting_regressor        0.92\n",
       "1                         ridge        0.91\n",
       "12          ada_boost_regressor        0.91\n",
       "2                         lasso        0.91\n",
       "0             linear_regression        0.91\n",
       "4                 sgd_regressor        0.87\n",
       "10      decision_tree_regressor        0.81\n",
       "5          kneighbors_regressor        0.81\n",
       "3                   elastic_net        0.79\n",
       "6                    SVR_linear       -0.08\n",
       "8                SVR_poly_three       -0.19\n",
       "7                  SVR_poly_two       -0.20\n",
       "9                       SVR_rbf       -0.21"
      ]
     },
     "execution_count": 30,
     "metadata": {},
     "output_type": "execute_result"
    }
   ],
   "source": [
    "%%time\n",
    "\n",
    "X_train, X_test, y_train, y_test = train_test_split(X, y)\n",
    "different_test_scores = []\n",
    "\n",
    "for model_name, model in zip(models_names, models):\n",
    "\n",
    "    temp_piped_regressor = cars_regression_models(model)\n",
    "    temp_piped_regressor.fit(X_train, y_train)\n",
    "    different_test_scores.append(temp_piped_regressor.score(X_test, y_test))\n",
    "    \n",
    "\n",
    "comparing_regression_models_cars = pd.DataFrame(list(zip(models_names, different_test_scores)),\n",
    "                                                columns =['model_name', 'test_score'])\n",
    "\n",
    "round(comparing_regression_models_cars.sort_values(by = \"test_score\", ascending = False),2)"
   ]
  },
  {
   "cell_type": "markdown",
   "metadata": {},
   "source": [
    "🏁 Congratulations!\n",
    "\n",
    "💾 Don't forget to git add/commit/push your notebook...\n",
    "\n",
    "🚀 You are now a master at `Pipeline` and `ColumnTransformer` !"
   ]
  }
 ],
 "metadata": {
  "kernelspec": {
   "display_name": "Python 3 (ipykernel)",
   "language": "python",
   "name": "python3"
  },
  "language_info": {
   "codemirror_mode": {
    "name": "ipython",
    "version": 3
   },
   "file_extension": ".py",
   "mimetype": "text/x-python",
   "name": "python",
   "nbconvert_exporter": "python",
   "pygments_lexer": "ipython3",
   "version": "3.8.12"
  },
  "toc": {
   "base_numbering": 1,
   "nav_menu": {},
   "number_sections": true,
   "sideBar": true,
   "skip_h1_title": false,
   "title_cell": "Table of Contents",
   "title_sidebar": "Contents",
   "toc_cell": false,
   "toc_position": {},
   "toc_section_display": true,
   "toc_window_display": false
  }
 },
 "nbformat": 4,
 "nbformat_minor": 4
}
