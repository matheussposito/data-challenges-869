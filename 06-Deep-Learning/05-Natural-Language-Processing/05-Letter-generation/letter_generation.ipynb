{
 "cells": [
  {
   "cell_type": "markdown",
   "metadata": {},
   "source": [
    "# Letter generation\n",
    "\n",
    "### Exercise objective\n",
    "- Get autonomous with Natural Language Processing\n",
    "- Generate Letters\n",
    "\n",
    "<hr>\n",
    "<hr>\n",
    "\n",
    "In this exercise, we will try to generate some text. The underlying idea is, given a input sequence predict what the next letter is going to be. To do that, we will first create a dataset for this task, and then run a RNN to do the prediction.\n",
    "\n",
    "# The data\n",
    "\n",
    "❓ Question ❓ First, let's load the data. Here, it is the IMDB reviews again, but we are only interested in the sentences, not the positiveness or negativeness of the review. \n",
    "\n",
    "⚠️ **Warning** ⚠️ The `load_data` function has a `percentage_of_sentences` argument. Depending on your computer, there are chances that too many sentences will make your compute slow down, or even freeze - your RAM can overflow. For that reason, **you should start with 10% of the sentences** and see if your computer handles it. Otherwise, rerun with a lower number. \n",
    "\n",
    "**At the end of the notebook, to improve the model, you would maybe need to increase the number of loaded sentences**"
   ]
  },
  {
   "cell_type": "code",
   "execution_count": 1,
   "metadata": {},
   "outputs": [
    {
     "name": "stderr",
     "output_type": "stream",
     "text": [
      "2022-05-19 14:31:47.966767: W tensorflow/stream_executor/platform/default/dso_loader.cc:64] Could not load dynamic library 'libcudart.so.11.0'; dlerror: libcudart.so.11.0: cannot open shared object file: No such file or directory\n",
      "2022-05-19 14:31:47.966841: I tensorflow/stream_executor/cuda/cudart_stub.cc:29] Ignore above cudart dlerror if you do not have a GPU set up on your machine.\n"
     ]
    }
   ],
   "source": [
    "from tensorflow.keras.datasets import imdb\n",
    "\n",
    "def load_data(percentage_of_sentences=None):\n",
    "    # Load the data\n",
    "    (sentences_train, y_train), (sentences_test, y_test) = imdb.load_data()\n",
    "    \n",
    "    # Take only a given percentage of the entire data\n",
    "    if percentage_of_sentences is not None:\n",
    "        assert(percentage_of_sentences> 0 and percentage_of_sentences<=100)\n",
    "        \n",
    "        len_train = int(percentage_of_sentences/100*len(sentences_train))\n",
    "        sentences_train = sentences_train[:len_train]\n",
    "        y_train = y_train[:len_train]\n",
    "        \n",
    "        len_test = int(percentage_of_sentences/100*len(sentences_test))\n",
    "        sentences_test = sentences_test[:len_test]\n",
    "        y_test = y_test[:len_test]\n",
    "            \n",
    "    # Load the {interger: word} representation\n",
    "    word_to_id = imdb.get_word_index()\n",
    "    word_to_id = {k:(v+3) for k,v in word_to_id.items()}\n",
    "    for i, w in enumerate(['<PAD>', '<START>', '<UNK>', '<UNUSED>']):\n",
    "        word_to_id[w] = i\n",
    "\n",
    "    id_to_word = {v:k for k, v in word_to_id.items()}\n",
    "\n",
    "    # Convert the list of integers to list of words (str)\n",
    "    X_train = [' '.join([id_to_word[_] for _ in sentence[1:]]) for sentence in sentences_train]\n",
    "    \n",
    "    return X_train\n",
    "\n",
    "\n",
    "### Just run this cell to load the data\n",
    "X = load_data(percentage_of_sentences=20)"
   ]
  },
  {
   "cell_type": "markdown",
   "metadata": {},
   "source": [
    "❓ **Question** ❓ Write a function that, given a string (list of letters), returns\n",
    "- a string (list of letters) that corresponds to part of the sentence - this string should be of size 300\n",
    "- the letter that follow the previous string\n",
    "\n",
    "❗ **Remark** ❗ There is no reason your first strings to start at the beginning of the input string.\n",
    "\n",
    "Example:\n",
    "- Input : 'This is a good movie\"\n",
    "- Output: ('a good m', 'o') [Except the first part should be of size 300 instead of 8]\n",
    "\n",
    "❗ **Remark** ❗ If the input is shorter than 300 letters, return None"
   ]
  },
  {
   "cell_type": "code",
   "execution_count": 2,
   "metadata": {},
   "outputs": [],
   "source": [
    "import numpy as np"
   ]
  },
  {
   "cell_type": "code",
   "execution_count": 3,
   "metadata": {
    "tags": [
     "challengify"
    ]
   },
   "outputs": [],
   "source": [
    "def get_X_y(string, length=300):\n",
    "    if len(string) <= length:\n",
    "        return None\n",
    "    \n",
    "    seed = np.random.randint(0,len(string)-length)\n",
    "    \n",
    "    return string[seed:seed+length], string[seed+length]"
   ]
  },
  {
   "cell_type": "markdown",
   "metadata": {},
   "source": [
    "❓ **Question** ❓ Check that the function is working on some strings from the loaded data"
   ]
  },
  {
   "cell_type": "code",
   "execution_count": 4,
   "metadata": {},
   "outputs": [],
   "source": [
    "a, b = get_X_y(X[1])"
   ]
  },
  {
   "cell_type": "code",
   "execution_count": 5,
   "metadata": {},
   "outputs": [
    {
     "data": {
      "text/plain": [
       "\" paper thin and ridiculous the acting is an abomination the script is completely laughable the best is the end showdown with the cop and how he worked out who the killer is it's just so damn terribly written the clothes are sickening and funny in equal measures the hair is big lots of boobs bounce m\""
      ]
     },
     "execution_count": 5,
     "metadata": {},
     "output_type": "execute_result"
    }
   ],
   "source": [
    "a"
   ]
  },
  {
   "cell_type": "code",
   "execution_count": 6,
   "metadata": {},
   "outputs": [
    {
     "data": {
      "text/plain": [
       "'e'"
      ]
     },
     "execution_count": 6,
     "metadata": {},
     "output_type": "execute_result"
    }
   ],
   "source": [
    "b"
   ]
  },
  {
   "cell_type": "markdown",
   "metadata": {},
   "source": [
    "❓ **Question** ❓ Write a function, that, based on the previous function and the loaded sentences, generate a dataset X and y:\n",
    "- each sample of X is a string\n",
    "- the corresponding y is the letter that comes just after in the input string\n",
    "\n",
    "❗ **Remark** ❗ This question is not much guided as it is similar to what you have done in the previous exercises."
   ]
  },
  {
   "cell_type": "code",
   "execution_count": 26,
   "metadata": {},
   "outputs": [],
   "source": [
    "def create_dataset2(sentences, n_samples=20000):\n",
    "    '''\n",
    "    This function create n_samples observations of feature/target\n",
    "    '''\n",
    "    X = []\n",
    "    y = []\n",
    "    while True:\n",
    "        for sentence in sentences:\n",
    "            result = get_X_y(sentence)\n",
    "            if result:\n",
    "                X.append(result[0])\n",
    "                y.append(result[1])\n",
    "            if len(X) == n_samples:\n",
    "                break\n",
    "        if len(X) == n_samples:\n",
    "            break\n",
    "    \n",
    "    return X, y"
   ]
  },
  {
   "cell_type": "code",
   "execution_count": 27,
   "metadata": {},
   "outputs": [
    {
     "data": {
      "text/plain": [
       "20000"
      ]
     },
     "execution_count": 27,
     "metadata": {},
     "output_type": "execute_result"
    }
   ],
   "source": [
    "my_X2, y2 = create_dataset2(X)\n",
    "len(my_X2)"
   ]
  },
  {
   "cell_type": "code",
   "execution_count": 24,
   "metadata": {},
   "outputs": [
    {
     "data": {
      "text/plain": [
       "4829"
      ]
     },
     "execution_count": 24,
     "metadata": {},
     "output_type": "execute_result"
    }
   ],
   "source": [
    "len(my_X)"
   ]
  },
  {
   "cell_type": "code",
   "execution_count": 7,
   "metadata": {
    "tags": [
     "challengify"
    ]
   },
   "outputs": [],
   "source": [
    "def create_dataset(sentences):\n",
    "    '''\n",
    "    This function create one observation of feature / target for each observation on the dataset\n",
    "    '''\n",
    "    X = []\n",
    "    y = []\n",
    "    \n",
    "    for sentence in sentences:\n",
    "        result = get_X_y(sentence)\n",
    "        if result:\n",
    "            X.append(result[0])\n",
    "            y.append(result[1])\n",
    "    \n",
    "    return X, y"
   ]
  },
  {
   "cell_type": "code",
   "execution_count": 8,
   "metadata": {},
   "outputs": [],
   "source": [
    "my_X, y = create_dataset(X)"
   ]
  },
  {
   "cell_type": "markdown",
   "metadata": {},
   "source": [
    "❓ **Question** ❓ Split X and y in train and test data. Store it in `string_train`, `string_test`, `y_train` and `y_test`"
   ]
  },
  {
   "cell_type": "code",
   "execution_count": 9,
   "metadata": {
    "tags": [
     "challengify"
    ]
   },
   "outputs": [],
   "source": [
    "split = int(len(my_X) * 0.7)\n",
    "\n",
    "string_train = my_X[:split]\n",
    "string_test = my_X[split:]\n",
    "\n",
    "y_train = y[:split]\n",
    "y_test = y[split:]"
   ]
  },
  {
   "cell_type": "markdown",
   "metadata": {},
   "source": [
    "❓ **Question** ❓ Create a dictionary which stores a unique token for each letter: the key is the letter while the value is the corresponding token. You have to build you dictionary based on the letters that are in `string_train` and `y_train` only, as you are not supposed to know the test set (and the new letters that might appear, which is unlikely, but still possible).\n",
    "\n",
    "❗ **Remark** ❗ To account for the fact that there might be letters in the test set that are not in the train set, add a particular token for that, whose corresponding key can be `UNKNOWN`.\n",
    "\n",
    "❗ **Remark** ❗ By letter, we actually mean any character. As there happen to be numbers (`1`, `2`, ...) or `?`, `!`, `@`, ... in texts."
   ]
  },
  {
   "cell_type": "code",
   "execution_count": 10,
   "metadata": {
    "tags": [
     "challengify"
    ]
   },
   "outputs": [],
   "source": [
    "token_dict = {'UNKNOWN': 0}\n",
    "\n",
    "tk = 1\n",
    "\n",
    "for string in string_train:\n",
    "    for char in string:\n",
    "        if char in token_dict:\n",
    "            continue\n",
    "        token_dict[char] = tk\n",
    "        tk += 1\n",
    "        \n",
    "for string in y_train:\n",
    "    for char in string:\n",
    "        if char in token_dict:\n",
    "            continue\n",
    "        token_dict[char] = tk\n",
    "        tk += 1"
   ]
  },
  {
   "cell_type": "code",
   "execution_count": 11,
   "metadata": {},
   "outputs": [
    {
     "data": {
      "text/plain": [
       "{'UNKNOWN': 0,\n",
       " ' ': 1,\n",
       " 'r': 2,\n",
       " 'e': 3,\n",
       " 'm': 4,\n",
       " 'a': 5,\n",
       " 'k': 6,\n",
       " 's': 7,\n",
       " 't': 8,\n",
       " 'h': 9,\n",
       " 'o': 10,\n",
       " 'u': 11,\n",
       " 'g': 12,\n",
       " 'f': 13,\n",
       " 'i': 14,\n",
       " 'l': 15,\n",
       " 'w': 16,\n",
       " 'j': 17,\n",
       " 'b': 18,\n",
       " 'n': 19,\n",
       " 'c': 20,\n",
       " 'd': 21,\n",
       " 'v': 22,\n",
       " 'y': 23,\n",
       " 'z': 24,\n",
       " 'q': 25,\n",
       " 'p': 26,\n",
       " 'x': 27,\n",
       " \"'\": 28,\n",
       " 'é': 29,\n",
       " '0': 30,\n",
       " '1': 31,\n",
       " '9': 32,\n",
       " '7': 33,\n",
       " '5': 34,\n",
       " '4': 35,\n",
       " '\\x96': 36,\n",
       " '2': 37,\n",
       " '3': 38,\n",
       " '6': 39,\n",
       " '8': 40,\n",
       " '\\x85': 41,\n",
       " '´': 42,\n",
       " 'è': 43,\n",
       " 'ä': 44,\n",
       " '\\xa0': 45,\n",
       " 'à': 46,\n",
       " 'í': 47,\n",
       " '–': 48,\n",
       " '’': 49,\n",
       " '“': 50,\n",
       " '”': 51,\n",
       " 'â': 52,\n",
       " 'ü': 53,\n",
       " '\\x91': 54,\n",
       " 'ç': 55,\n",
       " '\\x97': 56,\n",
       " 'ã': 57,\n",
       " 'ï': 58,\n",
       " '¨': 59,\n",
       " '¦': 60,\n",
       " 'ö': 61}"
      ]
     },
     "execution_count": 11,
     "metadata": {},
     "output_type": "execute_result"
    }
   ],
   "source": [
    "token_dict"
   ]
  },
  {
   "cell_type": "markdown",
   "metadata": {},
   "source": [
    "❓ **Question** ❓ Based on the previous dictionary, tokenize the strings and store them in `X_train` and `X_tests`.\n",
    "\n",
    "❗ **Remark** ❗ Convert your lists to NumPy arrays"
   ]
  },
  {
   "cell_type": "code",
   "execution_count": 12,
   "metadata": {
    "scrolled": true,
    "tags": [
     "challengify"
    ]
   },
   "outputs": [],
   "source": [
    "X_train = []\n",
    "for sentence in string_train:\n",
    "    x_list = []\n",
    "    for char in sentence:\n",
    "        x_list.append(token_dict[char])\n",
    "    X_train.append(x_list)\n",
    "    \n",
    "X_train = np.array(X_train)"
   ]
  },
  {
   "cell_type": "code",
   "execution_count": 13,
   "metadata": {},
   "outputs": [
    {
     "data": {
      "text/plain": [
       "(3380, 300)"
      ]
     },
     "execution_count": 13,
     "metadata": {},
     "output_type": "execute_result"
    }
   ],
   "source": [
    "X_train.shape"
   ]
  },
  {
   "cell_type": "code",
   "execution_count": 14,
   "metadata": {},
   "outputs": [],
   "source": [
    "X_test = []\n",
    "for sentence in string_test:\n",
    "    x_list = []\n",
    "    for char in sentence:\n",
    "        if char in token_dict:\n",
    "            x_list.append(token_dict[char])\n",
    "        else:\n",
    "            x_list.append(token_dict['UNKNOWN'])\n",
    "    X_test.append(x_list)\n",
    "\n",
    "X_test = np.array(X_test)"
   ]
  },
  {
   "cell_type": "code",
   "execution_count": 15,
   "metadata": {},
   "outputs": [
    {
     "data": {
      "text/plain": [
       "(1449, 300)"
      ]
     },
     "execution_count": 15,
     "metadata": {},
     "output_type": "execute_result"
    }
   ],
   "source": [
    "X_test.shape"
   ]
  },
  {
   "cell_type": "markdown",
   "metadata": {},
   "source": [
    "❓ **Question** ❓ The outputs are currently letters. We first need to tokenize them, thanks to the previous dictionary.\n",
    "\n",
    "❗ **Remark** ❗ Remember that some values in `y_test` are maybe unknown."
   ]
  },
  {
   "cell_type": "code",
   "execution_count": 30,
   "metadata": {},
   "outputs": [],
   "source": [
    "for i in range(len(y_train)):\n",
    "    y_train[i] = token_dict[y_train[i]]\n",
    "y_train = np.array(y_train)"
   ]
  },
  {
   "cell_type": "code",
   "execution_count": 32,
   "metadata": {},
   "outputs": [],
   "source": [
    "for i in range(len(y_test)):\n",
    "    if y_test[i] in token_dict:\n",
    "        y_test[i] = token_dict[y_test[i]]\n",
    "    else:\n",
    "        y_test[i] = token_dict['UNKNOWN']\n",
    "y_test = np.array(y_test)"
   ]
  },
  {
   "cell_type": "markdown",
   "metadata": {},
   "source": [
    "❓ **Question** ❓ Now, let's convert the tokenized outputs to one-hot encoded categories! There should be as many categories as different letters in the previous dictionary! So be careful that your outputs are of the right shape, especially as many one-hot encoded categories in both."
   ]
  },
  {
   "cell_type": "code",
   "execution_count": 33,
   "metadata": {
    "tags": [
     "challengify"
    ]
   },
   "outputs": [],
   "source": [
    "from tensorflow.keras.utils import to_categorical"
   ]
  },
  {
   "cell_type": "code",
   "execution_count": 38,
   "metadata": {},
   "outputs": [],
   "source": [
    "y_train_cat = to_categorical(y_train, num_classes=len(token_dict))\n",
    "y_test_cat = to_categorical(y_test, num_classes=len(token_dict))"
   ]
  },
  {
   "cell_type": "code",
   "execution_count": 39,
   "metadata": {},
   "outputs": [
    {
     "data": {
      "text/plain": [
       "(3380, 62)"
      ]
     },
     "execution_count": 39,
     "metadata": {},
     "output_type": "execute_result"
    }
   ],
   "source": [
    "y_train_cat.shape"
   ]
  },
  {
   "cell_type": "markdown",
   "metadata": {},
   "source": [
    "# Baseline model\n",
    "\n",
    "❓ **Question** ❓ What is the baseline accuracy?"
   ]
  },
  {
   "cell_type": "code",
   "execution_count": 56,
   "metadata": {
    "tags": [
     "challengify"
    ]
   },
   "outputs": [],
   "source": [
    "unique, counts = np.unique(y_train, return_counts=True)\n",
    "counts = dict(zip(unique, counts))"
   ]
  },
  {
   "cell_type": "code",
   "execution_count": 57,
   "metadata": {},
   "outputs": [
    {
     "data": {
      "text/plain": [
       "628"
      ]
     },
     "execution_count": 57,
     "metadata": {},
     "output_type": "execute_result"
    }
   ],
   "source": [
    "max(counts.values()) # -> most present category is 1 with 628 counts"
   ]
  },
  {
   "cell_type": "code",
   "execution_count": 58,
   "metadata": {
    "collapsed": true
   },
   "outputs": [
    {
     "data": {
      "text/plain": [
       "{1: 628,\n",
       " 2: 148,\n",
       " 3: 323,\n",
       " 4: 65,\n",
       " 5: 215,\n",
       " 6: 27,\n",
       " 7: 182,\n",
       " 8: 263,\n",
       " 9: 152,\n",
       " 10: 219,\n",
       " 11: 84,\n",
       " 12: 69,\n",
       " 13: 40,\n",
       " 14: 220,\n",
       " 15: 132,\n",
       " 16: 63,\n",
       " 17: 12,\n",
       " 18: 42,\n",
       " 19: 148,\n",
       " 20: 78,\n",
       " 21: 104,\n",
       " 22: 38,\n",
       " 23: 67,\n",
       " 25: 2,\n",
       " 26: 32,\n",
       " 27: 3,\n",
       " 28: 11,\n",
       " 30: 3,\n",
       " 31: 5,\n",
       " 32: 2,\n",
       " 34: 1,\n",
       " 38: 2}"
      ]
     },
     "execution_count": 58,
     "metadata": {},
     "output_type": "execute_result"
    }
   ],
   "source": [
    "counts"
   ]
  },
  {
   "cell_type": "code",
   "execution_count": 61,
   "metadata": {},
   "outputs": [],
   "source": [
    "y_pred = []\n",
    "for i in range(len(y_test)):\n",
    "    y_pred.append(1)\n",
    "y_pred = np.array(y_pred)"
   ]
  },
  {
   "cell_type": "code",
   "execution_count": 62,
   "metadata": {},
   "outputs": [
    {
     "data": {
      "text/plain": [
       "(1449, 1449)"
      ]
     },
     "execution_count": 62,
     "metadata": {},
     "output_type": "execute_result"
    }
   ],
   "source": [
    "len(y_test), len(y_pred)"
   ]
  },
  {
   "cell_type": "code",
   "execution_count": 63,
   "metadata": {},
   "outputs": [],
   "source": [
    "from sklearn.metrics import accuracy_score"
   ]
  },
  {
   "cell_type": "code",
   "execution_count": 64,
   "metadata": {},
   "outputs": [
    {
     "data": {
      "text/plain": [
       "0.1849551414768806"
      ]
     },
     "execution_count": 64,
     "metadata": {},
     "output_type": "execute_result"
    }
   ],
   "source": [
    "accuracy_score(y_test, y_pred)"
   ]
  },
  {
   "cell_type": "markdown",
   "metadata": {},
   "source": [
    "# The model\n",
    "\n",
    "❓ **Question** ❓ Write a RNN with all the appropriate layers, and compile it."
   ]
  },
  {
   "cell_type": "code",
   "execution_count": 65,
   "metadata": {
    "tags": [
     "challengify"
    ]
   },
   "outputs": [],
   "source": [
    "from tensorflow.keras import Sequential, layers"
   ]
  },
  {
   "cell_type": "code",
   "execution_count": 67,
   "metadata": {},
   "outputs": [
    {
     "name": "stderr",
     "output_type": "stream",
     "text": [
      "2022-05-19 15:00:40.288670: W tensorflow/stream_executor/platform/default/dso_loader.cc:64] Could not load dynamic library 'libcuda.so.1'; dlerror: libcuda.so.1: cannot open shared object file: No such file or directory\n",
      "2022-05-19 15:00:40.288734: W tensorflow/stream_executor/cuda/cuda_driver.cc:269] failed call to cuInit: UNKNOWN ERROR (303)\n",
      "2022-05-19 15:00:40.288763: I tensorflow/stream_executor/cuda/cuda_diagnostics.cc:156] kernel driver does not appear to be running on this host (LAPTOP-O26C6N05): /proc/driver/nvidia/version does not exist\n",
      "2022-05-19 15:00:40.289197: I tensorflow/core/platform/cpu_feature_guard.cc:151] This TensorFlow binary is optimized with oneAPI Deep Neural Network Library (oneDNN) to use the following CPU instructions in performance-critical operations:  AVX2 FMA\n",
      "To enable them in other operations, rebuild TensorFlow with the appropriate compiler flags.\n"
     ]
    },
    {
     "name": "stdout",
     "output_type": "stream",
     "text": [
      "Model: \"sequential\"\n",
      "_________________________________________________________________\n",
      " Layer (type)                Output Shape              Param #   \n",
      "=================================================================\n",
      " embedding (Embedding)       (None, None, 30)          1860      \n",
      "                                                                 \n",
      " gru (GRU)                   (None, 30)                5580      \n",
      "                                                                 \n",
      " dense (Dense)               (None, 30)                930       \n",
      "                                                                 \n",
      " dense_1 (Dense)             (None, 62)                1922      \n",
      "                                                                 \n",
      "=================================================================\n",
      "Total params: 10,292\n",
      "Trainable params: 10,292\n",
      "Non-trainable params: 0\n",
      "_________________________________________________________________\n"
     ]
    }
   ],
   "source": [
    "def init_model(vocab_size):\n",
    "    model = Sequential()\n",
    "    model.add(layers.Embedding(input_dim=vocab_size, output_dim=30))\n",
    "    model.add(layers.GRU(30, activation='tanh'))\n",
    "    model.add(layers.Dense(30, activation='relu'))\n",
    "    model.add(layers.Dense(vocab_size, activation='softmax'))\n",
    "    \n",
    "    \n",
    "    model.compile(loss='categorical_crossentropy',\n",
    "                  optimizer='rmsprop',\n",
    "                  metrics=['accuracy'])\n",
    "    \n",
    "    return model\n",
    "\n",
    "model = init_model(len(token_dict))\n",
    "model.summary()"
   ]
  },
  {
   "cell_type": "markdown",
   "metadata": {},
   "source": [
    "❓ **Question** ❓ Fit the model - you can use a large batch size to accelerate the convergence. The model will probably hit the baseline performance at some point, and hopefully keep decreasing from here. \n",
    "\n",
    "You should get an accuracy better than 35% "
   ]
  },
  {
   "cell_type": "code",
   "execution_count": 68,
   "metadata": {},
   "outputs": [],
   "source": [
    "from tensorflow.keras.callbacks import EarlyStopping\n",
    "\n",
    "es = EarlyStopping(patience=5, monitor='val_loss')"
   ]
  },
  {
   "cell_type": "code",
   "execution_count": 69,
   "metadata": {
    "collapsed": true,
    "tags": [
     "challengify"
    ]
   },
   "outputs": [
    {
     "name": "stdout",
     "output_type": "stream",
     "text": [
      "Epoch 1/400\n",
      "37/37 [==============================] - 15s 324ms/step - loss: 3.6430 - accuracy: 0.1082 - val_loss: 3.1142 - val_accuracy: 0.1815\n",
      "Epoch 2/400\n",
      "37/37 [==============================] - 11s 295ms/step - loss: 3.0312 - accuracy: 0.1877 - val_loss: 2.9531 - val_accuracy: 0.1815\n",
      "Epoch 3/400\n",
      "37/37 [==============================] - 11s 304ms/step - loss: 2.9240 - accuracy: 0.1877 - val_loss: 2.8929 - val_accuracy: 0.1815\n",
      "Epoch 4/400\n",
      "37/37 [==============================] - 11s 298ms/step - loss: 2.8782 - accuracy: 0.1877 - val_loss: 2.8669 - val_accuracy: 0.1815\n",
      "Epoch 5/400\n",
      "37/37 [==============================] - 11s 297ms/step - loss: 2.8386 - accuracy: 0.1881 - val_loss: 2.8316 - val_accuracy: 0.2120\n",
      "Epoch 6/400\n",
      "37/37 [==============================] - 11s 299ms/step - loss: 2.7962 - accuracy: 0.2037 - val_loss: 2.7724 - val_accuracy: 0.2110\n",
      "Epoch 7/400\n",
      "37/37 [==============================] - 11s 305ms/step - loss: 2.7438 - accuracy: 0.2316 - val_loss: 2.7233 - val_accuracy: 0.2396\n",
      "Epoch 8/400\n",
      "37/37 [==============================] - 11s 302ms/step - loss: 2.6888 - accuracy: 0.2434 - val_loss: 2.6851 - val_accuracy: 0.2377\n",
      "Epoch 9/400\n",
      "37/37 [==============================] - 11s 303ms/step - loss: 2.6376 - accuracy: 0.2447 - val_loss: 2.6364 - val_accuracy: 0.2396\n",
      "Epoch 10/400\n",
      "37/37 [==============================] - 11s 301ms/step - loss: 2.5874 - accuracy: 0.2413 - val_loss: 2.5946 - val_accuracy: 0.2406\n",
      "Epoch 11/400\n",
      "37/37 [==============================] - 11s 296ms/step - loss: 2.5424 - accuracy: 0.2561 - val_loss: 2.5534 - val_accuracy: 0.2535\n",
      "Epoch 12/400\n",
      "37/37 [==============================] - 11s 294ms/step - loss: 2.5029 - accuracy: 0.2705 - val_loss: 2.5242 - val_accuracy: 0.2584\n",
      "Epoch 13/400\n",
      "37/37 [==============================] - 11s 296ms/step - loss: 2.4693 - accuracy: 0.2806 - val_loss: 2.5068 - val_accuracy: 0.2702\n",
      "Epoch 14/400\n",
      "37/37 [==============================] - 11s 300ms/step - loss: 2.4418 - accuracy: 0.2861 - val_loss: 2.4910 - val_accuracy: 0.2712\n",
      "Epoch 15/400\n",
      "37/37 [==============================] - 11s 299ms/step - loss: 2.4185 - accuracy: 0.2954 - val_loss: 2.4759 - val_accuracy: 0.2811\n",
      "Epoch 16/400\n",
      "37/37 [==============================] - 11s 295ms/step - loss: 2.3990 - accuracy: 0.3039 - val_loss: 2.4723 - val_accuracy: 0.2830\n",
      "Epoch 17/400\n",
      "37/37 [==============================] - 11s 297ms/step - loss: 2.3793 - accuracy: 0.3039 - val_loss: 2.4597 - val_accuracy: 0.2890\n",
      "Epoch 18/400\n",
      "37/37 [==============================] - 12s 321ms/step - loss: 2.3637 - accuracy: 0.3081 - val_loss: 2.4527 - val_accuracy: 0.2860\n",
      "Epoch 19/400\n",
      "37/37 [==============================] - 12s 329ms/step - loss: 2.3478 - accuracy: 0.3081 - val_loss: 2.4466 - val_accuracy: 0.2860\n",
      "Epoch 20/400\n",
      "37/37 [==============================] - 11s 310ms/step - loss: 2.3341 - accuracy: 0.3090 - val_loss: 2.4377 - val_accuracy: 0.2899\n",
      "Epoch 21/400\n",
      "37/37 [==============================] - 11s 294ms/step - loss: 2.3210 - accuracy: 0.3098 - val_loss: 2.4351 - val_accuracy: 0.2929\n",
      "Epoch 22/400\n",
      "37/37 [==============================] - 11s 298ms/step - loss: 2.3060 - accuracy: 0.3098 - val_loss: 2.4321 - val_accuracy: 0.2850\n",
      "Epoch 23/400\n",
      "37/37 [==============================] - 11s 310ms/step - loss: 2.2959 - accuracy: 0.3119 - val_loss: 2.4271 - val_accuracy: 0.2890\n",
      "Epoch 24/400\n",
      "37/37 [==============================] - 11s 308ms/step - loss: 2.2838 - accuracy: 0.3183 - val_loss: 2.4272 - val_accuracy: 0.2939\n",
      "Epoch 25/400\n",
      "37/37 [==============================] - 11s 297ms/step - loss: 2.2725 - accuracy: 0.3174 - val_loss: 2.4226 - val_accuracy: 0.2899\n",
      "Epoch 26/400\n",
      "37/37 [==============================] - 11s 303ms/step - loss: 2.2633 - accuracy: 0.3187 - val_loss: 2.4117 - val_accuracy: 0.2909\n",
      "Epoch 27/400\n",
      "37/37 [==============================] - 11s 310ms/step - loss: 2.2514 - accuracy: 0.3242 - val_loss: 2.4210 - val_accuracy: 0.2870\n",
      "Epoch 28/400\n",
      "37/37 [==============================] - 11s 298ms/step - loss: 2.2409 - accuracy: 0.3233 - val_loss: 2.4187 - val_accuracy: 0.2821\n",
      "Epoch 29/400\n",
      "37/37 [==============================] - 11s 300ms/step - loss: 2.2316 - accuracy: 0.3280 - val_loss: 2.4055 - val_accuracy: 0.2899\n",
      "Epoch 30/400\n",
      "37/37 [==============================] - 11s 300ms/step - loss: 2.2211 - accuracy: 0.3280 - val_loss: 2.4049 - val_accuracy: 0.2909\n",
      "Epoch 31/400\n",
      "37/37 [==============================] - 11s 301ms/step - loss: 2.2092 - accuracy: 0.3364 - val_loss: 2.4012 - val_accuracy: 0.2949\n",
      "Epoch 32/400\n",
      "37/37 [==============================] - 12s 319ms/step - loss: 2.1999 - accuracy: 0.3318 - val_loss: 2.3933 - val_accuracy: 0.3018\n",
      "Epoch 33/400\n",
      "37/37 [==============================] - 11s 306ms/step - loss: 2.1874 - accuracy: 0.3411 - val_loss: 2.3921 - val_accuracy: 0.3018\n",
      "Epoch 34/400\n",
      "37/37 [==============================] - 12s 312ms/step - loss: 2.1778 - accuracy: 0.3445 - val_loss: 2.3961 - val_accuracy: 0.2998\n",
      "Epoch 35/400\n",
      "37/37 [==============================] - 11s 310ms/step - loss: 2.1683 - accuracy: 0.3432 - val_loss: 2.3937 - val_accuracy: 0.3037\n",
      "Epoch 36/400\n",
      "37/37 [==============================] - 11s 292ms/step - loss: 2.1565 - accuracy: 0.3453 - val_loss: 2.3903 - val_accuracy: 0.2998\n",
      "Epoch 37/400\n",
      "37/37 [==============================] - 11s 287ms/step - loss: 2.1469 - accuracy: 0.3491 - val_loss: 2.3865 - val_accuracy: 0.3087\n",
      "Epoch 38/400\n",
      "37/37 [==============================] - 11s 305ms/step - loss: 2.1339 - accuracy: 0.3563 - val_loss: 2.3943 - val_accuracy: 0.3057\n",
      "Epoch 39/400\n",
      "37/37 [==============================] - 11s 297ms/step - loss: 2.1254 - accuracy: 0.3559 - val_loss: 2.3887 - val_accuracy: 0.3107\n",
      "Epoch 40/400\n",
      "37/37 [==============================] - 11s 304ms/step - loss: 2.1151 - accuracy: 0.3559 - val_loss: 2.3814 - val_accuracy: 0.3097\n",
      "Epoch 41/400\n",
      "37/37 [==============================] - 12s 310ms/step - loss: 2.1028 - accuracy: 0.3614 - val_loss: 2.3863 - val_accuracy: 0.3077\n",
      "Epoch 42/400\n",
      "37/37 [==============================] - 11s 298ms/step - loss: 2.0931 - accuracy: 0.3635 - val_loss: 2.3776 - val_accuracy: 0.3116\n",
      "Epoch 43/400\n",
      "37/37 [==============================] - 11s 300ms/step - loss: 2.0820 - accuracy: 0.3622 - val_loss: 2.3786 - val_accuracy: 0.3067\n",
      "Epoch 44/400\n",
      "37/37 [==============================] - 11s 310ms/step - loss: 2.0718 - accuracy: 0.3686 - val_loss: 2.3760 - val_accuracy: 0.3126\n",
      "Epoch 45/400\n",
      "37/37 [==============================] - 11s 298ms/step - loss: 2.0615 - accuracy: 0.3728 - val_loss: 2.3753 - val_accuracy: 0.3067\n",
      "Epoch 46/400\n",
      "37/37 [==============================] - 11s 302ms/step - loss: 2.0508 - accuracy: 0.3724 - val_loss: 2.3732 - val_accuracy: 0.3185\n",
      "Epoch 47/400\n",
      "37/37 [==============================] - 11s 303ms/step - loss: 2.0399 - accuracy: 0.3846 - val_loss: 2.3809 - val_accuracy: 0.3225\n",
      "Epoch 48/400\n",
      "37/37 [==============================] - 11s 300ms/step - loss: 2.0308 - accuracy: 0.3884 - val_loss: 2.3743 - val_accuracy: 0.3146\n",
      "Epoch 49/400\n",
      "37/37 [==============================] - 11s 310ms/step - loss: 2.0198 - accuracy: 0.3833 - val_loss: 2.3747 - val_accuracy: 0.3245\n",
      "Epoch 50/400\n",
      "37/37 [==============================] - 12s 328ms/step - loss: 2.0111 - accuracy: 0.3888 - val_loss: 2.3778 - val_accuracy: 0.3264\n",
      "Epoch 51/400\n",
      "37/37 [==============================] - 11s 296ms/step - loss: 2.0012 - accuracy: 0.3973 - val_loss: 2.3798 - val_accuracy: 0.3146\n"
     ]
    },
    {
     "data": {
      "text/plain": [
       "<keras.callbacks.History at 0x7fe34e8d7940>"
      ]
     },
     "execution_count": 69,
     "metadata": {},
     "output_type": "execute_result"
    }
   ],
   "source": [
    "model.fit(X_train, y_train_cat,\n",
    "          epochs=400, \n",
    "          batch_size=64,\n",
    "          callbacks=[es],\n",
    "          validation_split=0.3)"
   ]
  },
  {
   "cell_type": "markdown",
   "metadata": {},
   "source": [
    "❓ **Question** ❓ Evaluate your model on the test set"
   ]
  },
  {
   "cell_type": "code",
   "execution_count": 70,
   "metadata": {
    "tags": [
     "challengify"
    ]
   },
   "outputs": [
    {
     "name": "stdout",
     "output_type": "stream",
     "text": [
      "46/46 [==============================] - 2s 49ms/step - loss: 2.3670 - accuracy: 0.3423\n"
     ]
    },
    {
     "data": {
      "text/plain": [
       "[2.3669826984405518, 0.3423050343990326]"
      ]
     },
     "execution_count": 70,
     "metadata": {},
     "output_type": "execute_result"
    }
   ],
   "source": [
    "model.evaluate(X_test, y_test_cat)"
   ]
  },
  {
   "cell_type": "markdown",
   "metadata": {},
   "source": [
    "❓ **Question** ❓ Even though the model is not perfect, you can look at its prediction with a string of your choice. Don't forget to decode the predicted token to know which letter it corresponds to.\n",
    "\n",
    "You will have to convert your input string to a list of tokens, get the most probable output class, and then convert it back to a letter.\n",
    "\n",
    "You should do it in a function."
   ]
  },
  {
   "cell_type": "code",
   "execution_count": 77,
   "metadata": {},
   "outputs": [],
   "source": [
    "pred = model.predict(X_test[0:2])[0]"
   ]
  },
  {
   "cell_type": "code",
   "execution_count": 78,
   "metadata": {
    "collapsed": true
   },
   "outputs": [
    {
     "data": {
      "text/plain": [
       "array([5.8480385e-26, 4.8996079e-01, 1.6873985e-03, 3.3678928e-01,\n",
       "       5.1778108e-05, 2.5185687e-02, 2.2246847e-06, 4.6388176e-03,\n",
       "       1.9635952e-03, 1.6343289e-04, 2.1757662e-02, 2.3498859e-03,\n",
       "       3.5988633e-06, 4.6942660e-07, 8.2453422e-02, 7.1309372e-03,\n",
       "       1.4389652e-08, 3.2183944e-08, 1.6914278e-06, 3.4907087e-05,\n",
       "       5.1947043e-04, 3.2597812e-04, 8.6860127e-06, 2.4644576e-02,\n",
       "       2.0154539e-26, 1.9432684e-20, 3.2236046e-04, 3.6243613e-08,\n",
       "       3.1994243e-06, 1.7262526e-25, 4.0561123e-23, 3.1201175e-20,\n",
       "       2.5465328e-23, 2.4579215e-25, 5.0128684e-25, 1.2403083e-25,\n",
       "       3.5164476e-25, 2.1742609e-25, 9.3789202e-19, 5.1044286e-26,\n",
       "       5.3654177e-26, 7.1849313e-25, 1.3596370e-25, 1.5790488e-25,\n",
       "       3.7456528e-25, 3.9807807e-26, 6.2281771e-25, 5.3101358e-26,\n",
       "       1.6444958e-25, 3.9689218e-27, 2.1908122e-25, 1.7611866e-25,\n",
       "       1.0687435e-25, 5.6921891e-25, 1.0421597e-25, 5.9420584e-26,\n",
       "       1.4191265e-25, 2.5299617e-26, 2.4095796e-26, 1.1113259e-25,\n",
       "       7.1933748e-26, 7.0822570e-26], dtype=float32)"
      ]
     },
     "execution_count": 78,
     "metadata": {},
     "output_type": "execute_result"
    }
   ],
   "source": [
    "pred"
   ]
  },
  {
   "cell_type": "code",
   "execution_count": 79,
   "metadata": {},
   "outputs": [
    {
     "data": {
      "text/plain": [
       "1"
      ]
     },
     "execution_count": 79,
     "metadata": {},
     "output_type": "execute_result"
    }
   ],
   "source": [
    "np.argmax(pred)"
   ]
  },
  {
   "cell_type": "code",
   "execution_count": 72,
   "metadata": {
    "collapsed": true,
    "tags": [
     "challengify"
    ]
   },
   "outputs": [
    {
     "data": {
      "text/plain": [
       "{0: 'UNKNOWN',\n",
       " 1: ' ',\n",
       " 2: 'r',\n",
       " 3: 'e',\n",
       " 4: 'm',\n",
       " 5: 'a',\n",
       " 6: 'k',\n",
       " 7: 's',\n",
       " 8: 't',\n",
       " 9: 'h',\n",
       " 10: 'o',\n",
       " 11: 'u',\n",
       " 12: 'g',\n",
       " 13: 'f',\n",
       " 14: 'i',\n",
       " 15: 'l',\n",
       " 16: 'w',\n",
       " 17: 'j',\n",
       " 18: 'b',\n",
       " 19: 'n',\n",
       " 20: 'c',\n",
       " 21: 'd',\n",
       " 22: 'v',\n",
       " 23: 'y',\n",
       " 24: 'z',\n",
       " 25: 'q',\n",
       " 26: 'p',\n",
       " 27: 'x',\n",
       " 28: \"'\",\n",
       " 29: 'é',\n",
       " 30: '0',\n",
       " 31: '1',\n",
       " 32: '9',\n",
       " 33: '7',\n",
       " 34: '5',\n",
       " 35: '4',\n",
       " 36: '\\x96',\n",
       " 37: '2',\n",
       " 38: '3',\n",
       " 39: '6',\n",
       " 40: '8',\n",
       " 41: '\\x85',\n",
       " 42: '´',\n",
       " 43: 'è',\n",
       " 44: 'ä',\n",
       " 45: '\\xa0',\n",
       " 46: 'à',\n",
       " 47: 'í',\n",
       " 48: '–',\n",
       " 49: '’',\n",
       " 50: '“',\n",
       " 51: '”',\n",
       " 52: 'â',\n",
       " 53: 'ü',\n",
       " 54: '\\x91',\n",
       " 55: 'ç',\n",
       " 56: '\\x97',\n",
       " 57: 'ã',\n",
       " 58: 'ï',\n",
       " 59: '¨',\n",
       " 60: '¦',\n",
       " 61: 'ö'}"
      ]
     },
     "execution_count": 72,
     "metadata": {},
     "output_type": "execute_result"
    }
   ],
   "source": [
    "token_to_char = {v: k for k, v in token_dict.items()}\n",
    "token_to_char"
   ]
  },
  {
   "cell_type": "code",
   "execution_count": 81,
   "metadata": {},
   "outputs": [
    {
     "data": {
      "text/plain": [
       "' '"
      ]
     },
     "execution_count": 81,
     "metadata": {},
     "output_type": "execute_result"
    }
   ],
   "source": [
    "def get_predicted_letter(string):\n",
    "    string_convert = [token_dict[char] for char in string]\n",
    "\n",
    "    pred = model.predict([string_convert])\n",
    "    pred_class = np.argmax(pred[0])\n",
    "    pred_letter = token_to_char[pred_class]\n",
    "    \n",
    "    return pred_letter\n",
    "\n",
    "string = 'this is a good'\n",
    "\n",
    "get_predicted_letter(string)"
   ]
  },
  {
   "cell_type": "markdown",
   "metadata": {},
   "source": [
    "❓ **Question** ❓ Now, write a function that takes a string as an input, predicts the next letter, appends the letter to the initial string, then redoes the prediction, etc etc.\n",
    "\n",
    "For instance : \n",
    "- 'this is a good' => ' '\n",
    "- 'this is a good ' => 'm'\n",
    "- 'this is a good m' => 'o'\n",
    "...\n",
    "\n",
    "The function should also take the number of times you repeat the operation as an input.\n",
    "\n",
    "You can have some fun trying different input sequences here."
   ]
  },
  {
   "cell_type": "code",
   "execution_count": 85,
   "metadata": {
    "tags": [
     "challengify"
    ]
   },
   "outputs": [],
   "source": [
    "def get_predictions(string, n_repetitions=50):\n",
    "    for i in range(n_repetitions):\n",
    "        string = string + get_predicted_letter(string)\n",
    "    return string"
   ]
  },
  {
   "cell_type": "code",
   "execution_count": 89,
   "metadata": {},
   "outputs": [
    {
     "data": {
      "text/plain": [
       "'what i like is the and the and the '"
      ]
     },
     "execution_count": 89,
     "metadata": {},
     "output_type": "execute_result"
    }
   ],
   "source": [
    "get_predictions('what i like is ', 20)"
   ]
  },
  {
   "cell_type": "markdown",
   "metadata": {},
   "source": [
    "❓ **Question** ❓ Try to optimize your architecture to improve your performance. You can also try to load more data in the first function."
   ]
  },
  {
   "cell_type": "code",
   "execution_count": null,
   "metadata": {},
   "outputs": [],
   "source": []
  }
 ],
 "metadata": {
  "kernelspec": {
   "display_name": "Python 3 (ipykernel)",
   "language": "python",
   "name": "python3"
  },
  "language_info": {
   "codemirror_mode": {
    "name": "ipython",
    "version": 3
   },
   "file_extension": ".py",
   "mimetype": "text/x-python",
   "name": "python",
   "nbconvert_exporter": "python",
   "pygments_lexer": "ipython3",
   "version": "3.8.12"
  },
  "toc": {
   "base_numbering": 1,
   "nav_menu": {},
   "number_sections": true,
   "sideBar": true,
   "skip_h1_title": false,
   "title_cell": "Table of Contents",
   "title_sidebar": "Contents",
   "toc_cell": false,
   "toc_position": {},
   "toc_section_display": true,
   "toc_window_display": false
  }
 },
 "nbformat": 4,
 "nbformat_minor": 4
}
