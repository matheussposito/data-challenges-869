{
 "cells": [
  {
   "cell_type": "markdown",
   "metadata": {},
   "source": [
    "# Understand embeddings with Word2Vec\n",
    "\n",
    "### Exercise objectives:\n",
    "- Convert words to vector representations thanks to embeddings\n",
    "- Discover the powerful Word2Vec algorithm\n",
    "\n",
    "<hr>\n",
    "<hr>\n",
    "\n",
    "_Embeddings_ are representation of words thanks to vectors. These embeddings can be learnt within a Neural Network. But it can take time to converge. Another option is to learn them as a first step. Then, use them directly to feed the word representation into an RNN. \n",
    "\n",
    "\n",
    "\n",
    "# The data\n",
    "\n",
    "Keras provides many datasets, among which the ÌMDB dataset: it corresponds to sentences that are movie reviews. Each of them is related to a score given by the review writer.\n",
    "\n",
    "❓ **Question** ❓ Let's first load the data. You don't have to understand what is going on in the function, it does not matter here.\n",
    "\n",
    "⚠️ **Warning** ⚠️ The `load_data` function has a `percentage_of_sentences` argument. Depending on your computer, there are chances that a too large number of sentences will make your compute slow down, or even freeze - your RAM can even overflow. For that reason, **you should start with 10% of the sentences** and see if your computer handles it. Otherwise, rerun with a lower number. \n",
    "\n",
    "⚠️ **DISCLAIMER** ⚠️ **No need to play _who has the biggest_ (RAM) !** The idea is to get to run your models quickly to prototype. Even in real life, it is recommended that you start with a subset of your data to loop and debug quickly. So increase the number only if you are into getting the best accuracy. "
   ]
  },
  {
   "cell_type": "code",
   "execution_count": 1,
   "metadata": {},
   "outputs": [
    {
     "name": "stderr",
     "output_type": "stream",
     "text": [
      "2022-05-17 22:24:46.622428: W tensorflow/stream_executor/platform/default/dso_loader.cc:64] Could not load dynamic library 'libcudart.so.11.0'; dlerror: libcudart.so.11.0: cannot open shared object file: No such file or directory\n",
      "2022-05-17 22:24:46.622579: I tensorflow/stream_executor/cuda/cudart_stub.cc:29] Ignore above cudart dlerror if you do not have a GPU set up on your machine.\n",
      "2022-05-17 22:24:49.718635: W tensorflow/stream_executor/platform/default/dso_loader.cc:64] Could not load dynamic library 'libcuda.so.1'; dlerror: libcuda.so.1: cannot open shared object file: No such file or directory\n",
      "2022-05-17 22:24:49.718717: W tensorflow/stream_executor/cuda/cuda_driver.cc:269] failed call to cuInit: UNKNOWN ERROR (303)\n",
      "2022-05-17 22:24:49.718746: I tensorflow/stream_executor/cuda/cuda_diagnostics.cc:156] kernel driver does not appear to be running on this host (LAPTOP-O26C6N05): /proc/driver/nvidia/version does not exist\n",
      "2022-05-17 22:24:49.719371: I tensorflow/core/platform/cpu_feature_guard.cc:151] This TensorFlow binary is optimized with oneAPI Deep Neural Network Library (oneDNN) to use the following CPU instructions in performance-critical operations:  AVX2 FMA\n",
      "To enable them in other operations, rebuild TensorFlow with the appropriate compiler flags.\n"
     ]
    },
    {
     "name": "stdout",
     "output_type": "stream",
     "text": [
      "WARNING:tensorflow:From /home/matheus/.pyenv/versions/3.8.12/envs/lewagon/lib/python3.8/site-packages/tensorflow_datasets/core/dataset_builder.py:622: get_single_element (from tensorflow.python.data.experimental.ops.get_single_element) is deprecated and will be removed in a future version.\n",
      "Instructions for updating:\n",
      "Use `tf.data.Dataset.get_single_element()`.\n"
     ]
    },
    {
     "name": "stderr",
     "output_type": "stream",
     "text": [
      "WARNING:tensorflow:From /home/matheus/.pyenv/versions/3.8.12/envs/lewagon/lib/python3.8/site-packages/tensorflow_datasets/core/dataset_builder.py:622: get_single_element (from tensorflow.python.data.experimental.ops.get_single_element) is deprecated and will be removed in a future version.\n",
      "Instructions for updating:\n",
      "Use `tf.data.Dataset.get_single_element()`.\n"
     ]
    }
   ],
   "source": [
    "###########################################\n",
    "### Just run this cell to load the data ###\n",
    "###########################################\n",
    "\n",
    "import tensorflow_datasets as tfds\n",
    "from tensorflow.keras.preprocessing.text import text_to_word_sequence\n",
    "\n",
    "def load_data(percentage_of_sentences=None):\n",
    "    train_data, test_data = tfds.load(name=\"imdb_reviews\", split=[\"train\", \"test\"], batch_size=-1, as_supervised=True)\n",
    "\n",
    "    train_sentences, y_train = tfds.as_numpy(train_data)\n",
    "    test_sentences, y_test = tfds.as_numpy(test_data)\n",
    "    \n",
    "    # Take only a given percentage of the entire data\n",
    "    if percentage_of_sentences is not None:\n",
    "        assert(percentage_of_sentences> 0 and percentage_of_sentences<=100)\n",
    "        \n",
    "        len_train = int(percentage_of_sentences/100*len(train_sentences))\n",
    "        train_sentences, y_train = train_sentences[:len_train], y_train[:len_train]\n",
    "  \n",
    "        len_test = int(percentage_of_sentences/100*len(test_sentences))\n",
    "        test_sentences, y_test = test_sentences[:len_test], y_test[:len_test]\n",
    "    \n",
    "    X_train = [text_to_word_sequence(_.decode(\"utf-8\")) for _ in train_sentences]\n",
    "    X_test = [text_to_word_sequence(_.decode(\"utf-8\")) for _ in test_sentences]\n",
    "    \n",
    "    return X_train, y_train, X_test, y_test\n",
    "\n",
    "X_train, y_train, X_test, y_test = load_data(percentage_of_sentences=25)"
   ]
  },
  {
   "cell_type": "markdown",
   "metadata": {},
   "source": [
    "In the previous exercise, we jointly learnt a representation for the words, and feed this representation to a RNN, as shown here : \n",
    "\n",
    "<img src=\"layers_embedding.png\" width=\"400px\" />\n",
    "\n",
    "However, this increases the number of parameters to learn, which can slow the convergence, and make it harder!\n",
    "\n",
    "For that reason, we will separate the steps of learning the word representation and feeding it to a RNN. As shown here : \n",
    "\n",
    "<img src=\"word2vec_representation.png\" width=\"400px\" />\n",
    "\n",
    "We will learn the embedding with the word2vec.\n",
    "\n",
    "The drawback is indeed that the learnt embedding is not _specifically_ designed for our task. However, learning it independently of the task at hand (sentiment analysis) has some advantages : \n",
    "- it is very fast to do in general (with word2vec)\n",
    "- the representation learnt by word2vec is still meaningful \n",
    "- the convergence of the RNN alone will be easier and faster\n",
    "\n",
    "So let's learn an embedding with word2vec and see how meaningful it is!\n",
    "\n",
    "\n",
    "# Embedding with Word2Vec\n",
    "\n",
    "Let's use Word2Vec to embed the words of our sentences. Word2Vec will be able to convert each word to a fixed-size vectorial representation.\n",
    "\n",
    "For instance, we will have:\n",
    "- 'dog' --> [0.1, -0.3, 0.8]\n",
    "- 'cat' --> [-1.1, 2.3, 0.7]\n",
    "- 'apple' --> [3.1, 0.9, -4.7]\n",
    "\n",
    "Here, your embedding space is of size 3.\n",
    "\n",
    "What you expect is to have representation such as words with close meanings are close in this embedding space. As on this example:\n",
    "\n",
    "![Embedding](word_embedding.png)\n",
    "\n",
    "❓ **Question** ❓ Let's run Word2Vec! The following code imports word2vec from [GENSIM](https://radimrehurek.com/gensim/), a great python package that makes the use of the word2vec algorithm easy, fast and accurate - which is not an easy task. The second line learns the embedding representation of the words thanks to the sentences in `X_train`."
   ]
  },
  {
   "cell_type": "code",
   "execution_count": 2,
   "metadata": {
    "collapsed": true
   },
   "outputs": [
    {
     "data": {
      "text/plain": [
       "['this',\n",
       " 'was',\n",
       " 'an',\n",
       " 'absolutely',\n",
       " 'terrible',\n",
       " 'movie',\n",
       " \"don't\",\n",
       " 'be',\n",
       " 'lured',\n",
       " 'in',\n",
       " 'by',\n",
       " 'christopher',\n",
       " 'walken',\n",
       " 'or',\n",
       " 'michael',\n",
       " 'ironside',\n",
       " 'both',\n",
       " 'are',\n",
       " 'great',\n",
       " 'actors',\n",
       " 'but',\n",
       " 'this',\n",
       " 'must',\n",
       " 'simply',\n",
       " 'be',\n",
       " 'their',\n",
       " 'worst',\n",
       " 'role',\n",
       " 'in',\n",
       " 'history',\n",
       " 'even',\n",
       " 'their',\n",
       " 'great',\n",
       " 'acting',\n",
       " 'could',\n",
       " 'not',\n",
       " 'redeem',\n",
       " 'this',\n",
       " \"movie's\",\n",
       " 'ridiculous',\n",
       " 'storyline',\n",
       " 'this',\n",
       " 'movie',\n",
       " 'is',\n",
       " 'an',\n",
       " 'early',\n",
       " 'nineties',\n",
       " 'us',\n",
       " 'propaganda',\n",
       " 'piece',\n",
       " 'the',\n",
       " 'most',\n",
       " 'pathetic',\n",
       " 'scenes',\n",
       " 'were',\n",
       " 'those',\n",
       " 'when',\n",
       " 'the',\n",
       " 'columbian',\n",
       " 'rebels',\n",
       " 'were',\n",
       " 'making',\n",
       " 'their',\n",
       " 'cases',\n",
       " 'for',\n",
       " 'revolutions',\n",
       " 'maria',\n",
       " 'conchita',\n",
       " 'alonso',\n",
       " 'appeared',\n",
       " 'phony',\n",
       " 'and',\n",
       " 'her',\n",
       " 'pseudo',\n",
       " 'love',\n",
       " 'affair',\n",
       " 'with',\n",
       " 'walken',\n",
       " 'was',\n",
       " 'nothing',\n",
       " 'but',\n",
       " 'a',\n",
       " 'pathetic',\n",
       " 'emotional',\n",
       " 'plug',\n",
       " 'in',\n",
       " 'a',\n",
       " 'movie',\n",
       " 'that',\n",
       " 'was',\n",
       " 'devoid',\n",
       " 'of',\n",
       " 'any',\n",
       " 'real',\n",
       " 'meaning',\n",
       " 'i',\n",
       " 'am',\n",
       " 'disappointed',\n",
       " 'that',\n",
       " 'there',\n",
       " 'are',\n",
       " 'movies',\n",
       " 'like',\n",
       " 'this',\n",
       " 'ruining',\n",
       " \"actor's\",\n",
       " 'like',\n",
       " 'christopher',\n",
       " \"walken's\",\n",
       " 'good',\n",
       " 'name',\n",
       " 'i',\n",
       " 'could',\n",
       " 'barely',\n",
       " 'sit',\n",
       " 'through',\n",
       " 'it']"
      ]
     },
     "execution_count": 2,
     "metadata": {},
     "output_type": "execute_result"
    }
   ],
   "source": [
    "X_train[0]"
   ]
  },
  {
   "cell_type": "code",
   "execution_count": 3,
   "metadata": {},
   "outputs": [],
   "source": [
    "from gensim.models import Word2Vec\n",
    "\n",
    "word2vec = Word2Vec(sentences=X_train)"
   ]
  },
  {
   "cell_type": "markdown",
   "metadata": {},
   "source": [
    "Let's look at the embedded representation of some words.\n",
    "\n",
    "You can use `word2vec.wv` as a dictionary.\n",
    "For instance, `word2vec.wv['dog']` will return a representation of `dog` in the embedding space.\n",
    "\n",
    "❓ **Question** ❓ Try different words - especially, try non-existing words to see that they don't have any representation (which is perfectly normal as their representation were not learn). "
   ]
  },
  {
   "cell_type": "code",
   "execution_count": 4,
   "metadata": {
    "collapsed": true,
    "tags": [
     "challengify"
    ]
   },
   "outputs": [
    {
     "data": {
      "text/plain": [
       "array([-0.258369  ,  0.527599  ,  0.03604262,  0.3795117 , -0.38310987,\n",
       "       -0.61322343,  0.25070885,  0.53591174,  0.07278352,  0.08035191,\n",
       "       -0.12545843, -0.20492831,  0.14453278,  0.18144794, -0.13063766,\n",
       "       -0.00301276, -0.2760755 , -0.35323864, -0.3926505 , -0.27271563,\n",
       "        0.32195383,  0.27741188,  0.21443802, -0.28214633, -0.16205457,\n",
       "        0.1435409 , -0.1134486 , -0.04891549, -0.13883305,  0.34043097,\n",
       "        0.12210411,  0.20989661,  0.17003274, -0.18149996, -0.24811317,\n",
       "        0.44568616, -0.087736  ,  0.00832892, -0.03468119, -0.33354577,\n",
       "        0.28613514, -0.3701918 , -0.5286877 , -0.00218877,  0.18039724,\n",
       "        0.08696224,  0.01455728, -0.13345902,  0.01065398, -0.06056111,\n",
       "        0.12983453, -0.12504534, -0.22227743, -0.32725817, -0.10477861,\n",
       "        0.04189412,  0.05760623, -0.22473007, -0.17862347,  0.29292077,\n",
       "        0.05251765,  0.04747274, -0.35177213,  0.06025459,  0.01646016,\n",
       "        0.2975085 ,  0.05631257,  0.5031291 , -0.56373227,  0.29044104,\n",
       "       -0.21915407, -0.14032939,  0.01460125,  0.10071278,  0.16908361,\n",
       "        0.15048634,  0.12533323, -0.28685865, -0.22516459,  0.2087218 ,\n",
       "       -0.4094384 , -0.13928509, -0.04538475,  0.18920654,  0.14533325,\n",
       "       -0.28704378,  0.27129427,  0.3960916 ,  0.24813129, -0.25889358,\n",
       "        0.15450034,  0.04795206,  0.11686777, -0.2881928 ,  0.5890501 ,\n",
       "       -0.01503176, -0.16287665, -0.2564878 ,  0.04431617,  0.19752388],\n",
       "      dtype=float32)"
      ]
     },
     "execution_count": 4,
     "metadata": {},
     "output_type": "execute_result"
    }
   ],
   "source": [
    "word2vec.wv['dog']"
   ]
  },
  {
   "cell_type": "code",
   "execution_count": 5,
   "metadata": {
    "collapsed": true
   },
   "outputs": [
    {
     "data": {
      "text/plain": [
       "array([ 1.7574311 , -0.8559548 ,  0.6140554 , -0.50663245,  2.842134  ,\n",
       "       -0.59958386, -0.4835693 ,  0.68827957, -0.31597677, -0.141371  ,\n",
       "       -0.3970512 , -1.8233407 ,  0.5756624 ,  1.9833033 , -0.7898381 ,\n",
       "       -0.24651788, -0.7289643 ,  0.96204054, -1.2038152 , -0.5852995 ,\n",
       "        0.63902426,  0.5851941 ,  1.1576966 ,  0.7705997 ,  0.31601748,\n",
       "       -0.27763748, -1.8463669 , -0.37295735,  0.89515585, -1.4704354 ,\n",
       "        1.9848735 ,  0.02103379,  0.07201786, -1.2185012 ,  0.30194154,\n",
       "       -0.88175225,  1.117591  ,  0.6681689 , -0.22643574, -2.3323953 ,\n",
       "       -1.4324025 , -0.37185812,  0.08674255, -0.27101707, -1.4737467 ,\n",
       "        1.4404858 , -0.52350754, -0.22793233,  2.7982562 ,  0.16937312,\n",
       "       -0.57113785, -1.6889006 , -0.29799676, -0.54761326,  1.4799191 ,\n",
       "        0.30412775,  0.6871216 , -1.0445278 , -1.2593294 , -0.4368979 ,\n",
       "       -0.23842987,  1.0744798 ,  2.019303  ,  1.3888499 , -0.86033183,\n",
       "        1.4890307 , -0.2622349 ,  1.2819302 , -0.36478618,  0.58895075,\n",
       "        1.0894638 ,  0.59818673,  0.7082936 ,  1.3357186 ,  0.124777  ,\n",
       "       -1.5182674 , -1.4822967 , -0.08594263, -0.25768867, -1.5109532 ,\n",
       "       -0.17954825, -0.12336376, -0.42793798, -0.18040773, -0.6850797 ,\n",
       "        1.0301096 , -0.3638217 , -1.1172694 , -2.05538   , -0.01458531,\n",
       "        0.61014694,  0.5278733 , -0.4607821 ,  0.8062663 , -0.92251605,\n",
       "        0.8654829 , -2.6133559 ,  1.5776644 , -1.0590948 ,  0.613692  ],\n",
       "      dtype=float32)"
      ]
     },
     "execution_count": 5,
     "metadata": {},
     "output_type": "execute_result"
    }
   ],
   "source": [
    "word2vec.wv['film']"
   ]
  },
  {
   "cell_type": "code",
   "execution_count": 6,
   "metadata": {
    "collapsed": true
   },
   "outputs": [
    {
     "data": {
      "text/plain": [
       "array([-0.00796493,  0.21472812, -0.04704149,  0.02278395, -0.07922689,\n",
       "       -0.28558916,  0.03039944,  0.3157192 , -0.1195132 , -0.11033669,\n",
       "       -0.01934515, -0.0975147 ,  0.03337905,  0.11707298,  0.03488785,\n",
       "        0.01259572,  0.06469938, -0.05556417, -0.10432813, -0.2794854 ,\n",
       "        0.12279962, -0.04819744,  0.16643408, -0.12454268, -0.08090362,\n",
       "        0.09160627, -0.11060938,  0.0518852 , -0.26201212, -0.05854265,\n",
       "        0.17934753,  0.01836973,  0.00636388, -0.2920246 , -0.03550041,\n",
       "        0.0939504 ,  0.06457137, -0.17085439, -0.09433189, -0.16746028,\n",
       "       -0.06245759, -0.27105352, -0.06111815, -0.04091402,  0.22161232,\n",
       "       -0.00818355, -0.09773099, -0.14187656,  0.03796668,  0.06737788,\n",
       "        0.0011893 , -0.0518213 , -0.11166473, -0.0932867 ,  0.03517812,\n",
       "        0.1416269 ,  0.19138332,  0.02858501, -0.07090294,  0.04123184,\n",
       "        0.11352063, -0.10270803, -0.03833651,  0.02333856, -0.12478112,\n",
       "        0.26960298, -0.05925027,  0.167136  , -0.09972696,  0.22723946,\n",
       "       -0.0125426 ,  0.07325846,  0.10419355, -0.01111029,  0.21245475,\n",
       "        0.14361167, -0.01277395,  0.10444608, -0.04929429,  0.05531327,\n",
       "       -0.09791443, -0.1597703 , -0.1291374 ,  0.04267291,  0.04173244,\n",
       "       -0.08837191,  0.09520435,  0.22454491,  0.10971171, -0.09329502,\n",
       "        0.17646115,  0.02902039, -0.01491682, -0.07253738,  0.21454103,\n",
       "        0.09008002,  0.11360978, -0.07938905, -0.08916134,  0.01344709],\n",
       "      dtype=float32)"
      ]
     },
     "execution_count": 6,
     "metadata": {},
     "output_type": "execute_result"
    }
   ],
   "source": [
    "word2vec.wv['blob']"
   ]
  },
  {
   "cell_type": "markdown",
   "metadata": {},
   "source": [
    "❓ **Question** ❓ What is the size of each word representation, and therefore, what is the size of the embedding space?"
   ]
  },
  {
   "cell_type": "code",
   "execution_count": 7,
   "metadata": {
    "tags": [
     "challengify"
    ]
   },
   "outputs": [
    {
     "data": {
      "text/plain": [
       "100"
      ]
     },
     "execution_count": 7,
     "metadata": {},
     "output_type": "execute_result"
    }
   ],
   "source": [
    "len(word2vec.wv['dog'])"
   ]
  },
  {
   "cell_type": "markdown",
   "metadata": {},
   "source": [
    "How to know if this embedding make any sense? To do that, we will check that words with a close meaning have close representations. \n",
    "\n",
    "Let's use the `word2vec.most_similar(...)` method that, given an input word, display the \"closest\" words in the embedding space. If the embedding is well done, then words that have close meanings will have close representation in the embedding space.\n",
    "\n",
    "❓ **Question** ❓ Test the `most_similar` method on different words. \n",
    "\n",
    "❗ **Remark** ❗ Indeed, the quality of the closeness will depend on the quality of your embedding, and thus, depend on the number of sentences that you have loaded and from which you create your embedding."
   ]
  },
  {
   "cell_type": "code",
   "execution_count": 8,
   "metadata": {
    "tags": [
     "challengify"
    ]
   },
   "outputs": [
    {
     "data": {
      "text/plain": [
       "[('girl', 0.9314076900482178),\n",
       " ('man', 0.8920845985412598),\n",
       " ('lady', 0.8423522114753723),\n",
       " ('doctor', 0.8368729948997498),\n",
       " ('boy', 0.8137881755828857),\n",
       " ('cop', 0.8004390597343445),\n",
       " ('child', 0.7805746793746948),\n",
       " ('rich', 0.7709635496139526),\n",
       " ('guy', 0.7690020799636841),\n",
       " ('scientist', 0.7642442584037781)]"
      ]
     },
     "execution_count": 8,
     "metadata": {},
     "output_type": "execute_result"
    }
   ],
   "source": [
    "word2vec.wv.most_similar('woman')"
   ]
  },
  {
   "cell_type": "code",
   "execution_count": 9,
   "metadata": {},
   "outputs": [
    {
     "data": {
      "text/plain": [
       "[('writer', 0.7702202200889587),\n",
       " ('actor', 0.6687769889831543),\n",
       " ('filmmaker', 0.6362221240997314),\n",
       " ('screenplay', 0.6185498237609863),\n",
       " ('actress', 0.6116209626197815),\n",
       " ('attenborough', 0.604540228843689),\n",
       " ('producer', 0.603386640548706),\n",
       " ('role', 0.6033696532249451),\n",
       " ('casting', 0.6018241047859192),\n",
       " ('mckay', 0.5939505696296692)]"
      ]
     },
     "execution_count": 9,
     "metadata": {},
     "output_type": "execute_result"
    }
   ],
   "source": [
    "word2vec.wv.most_similar('director')"
   ]
  },
  {
   "cell_type": "code",
   "execution_count": 10,
   "metadata": {},
   "outputs": [
    {
     "data": {
      "text/plain": [
       "[('trilogy', 0.8223293423652649),\n",
       " ('columbo', 0.8029468059539795),\n",
       " ('classics', 0.8010308146476746),\n",
       " ('eighties', 0.8005201816558838),\n",
       " (\"'the\", 0.7913722991943359),\n",
       " ('scanners', 0.79061359167099),\n",
       " ('trek', 0.7855579853057861),\n",
       " ('1969', 0.7832911610603333),\n",
       " ('iii', 0.7802385091781616),\n",
       " ('cartoon', 0.7793601155281067)]"
      ]
     },
     "execution_count": 10,
     "metadata": {},
     "output_type": "execute_result"
    }
   ],
   "source": [
    "word2vec.wv.most_similar('batman')"
   ]
  },
  {
   "cell_type": "markdown",
   "metadata": {},
   "source": [
    "Similarly to `most_similar` used on words directly, we can use `similar_by_vector` on vectors to do the same thing :"
   ]
  },
  {
   "cell_type": "code",
   "execution_count": 11,
   "metadata": {
    "tags": [
     "challengify"
    ]
   },
   "outputs": [
    {
     "data": {
      "text/plain": [
       "[('cat', 0.9999999403953552),\n",
       " ('assistant', 0.9242337346076965),\n",
       " ('owner', 0.9219779968261719),\n",
       " ('apartment', 0.9207000136375427),\n",
       " ('sons', 0.9184197187423706),\n",
       " ('boss', 0.9087929725646973),\n",
       " ('chasing', 0.9055609107017517),\n",
       " ('uncle', 0.9033519625663757),\n",
       " ('knife', 0.9023448824882507),\n",
       " ('chief', 0.9013227224349976)]"
      ]
     },
     "execution_count": 11,
     "metadata": {},
     "output_type": "execute_result"
    }
   ],
   "source": [
    "word2vec.wv.similar_by_vector(word2vec.wv['cat'])"
   ]
  },
  {
   "cell_type": "markdown",
   "metadata": {},
   "source": [
    "# Arithmetic on words\n",
    "\n",
    "Now, let's do mathematical operations on words - meaning on their vector representations!\n",
    "\n",
    "As any word is represented as a vector, you can do basic arithmetic as:\n",
    "\n",
    "$$W2V(good) - W2V(bad)$$\n",
    "\n",
    "❓ **Question** ❓ Do this mathematical operation and print the result"
   ]
  },
  {
   "cell_type": "code",
   "execution_count": 12,
   "metadata": {
    "tags": [
     "challengify"
    ]
   },
   "outputs": [
    {
     "data": {
      "text/plain": [
       "array([-0.16043146, -0.02155775,  0.29767385,  0.29724646,  0.42517292,\n",
       "        0.05608812, -0.8561748 ,  0.12123728,  0.01042698, -0.04395425,\n",
       "        0.1470415 ,  1.5790956 ,  1.3118674 ,  0.6737417 ,  0.679517  ,\n",
       "        1.1118333 , -0.05650565,  0.8100716 ,  0.09739177, -0.39247513,\n",
       "       -0.5306072 ,  0.4731603 , -0.7037029 , -0.89233017, -0.44619775,\n",
       "        0.6150319 , -0.5991274 ,  1.3675001 , -1.2469273 ,  0.08916992,\n",
       "       -0.56459326,  0.26689553, -0.8212335 ,  1.2166818 , -0.80098397,\n",
       "       -1.7406461 , -0.31929773,  0.5206584 ,  0.06735379,  1.3525926 ,\n",
       "       -0.227873  , -1.1845406 , -0.37686276, -0.19984174,  0.20419121,\n",
       "        0.34527874,  1.2652855 ,  0.8067384 , -1.1874007 ,  0.93756866,\n",
       "        0.12166911, -0.14435321, -0.4908343 , -1.2964427 ,  0.33789712,\n",
       "       -0.01434094, -1.180672  ,  0.95501024, -0.60325456, -0.5214343 ,\n",
       "        1.0920053 ,  0.11604524,  0.05502705,  0.98324776,  0.45715237,\n",
       "        0.12535971,  0.13587785,  1.42179   ,  0.02111667, -0.04379523,\n",
       "        0.23977043, -0.79249966,  0.8316786 ,  0.80359334, -0.30701017,\n",
       "        0.6126845 , -0.28486001,  0.09087956, -0.888999  , -0.64701647,\n",
       "        0.7194528 ,  0.21583498, -0.51914406,  0.04797319, -0.09989715,\n",
       "       -0.62385845,  0.25345385, -0.2720543 , -0.22530419, -0.92965317,\n",
       "       -0.66551614,  0.9905559 , -0.9636401 ,  0.4565251 ,  1.5018699 ,\n",
       "       -0.14769769,  1.2441967 ,  0.19062248, -0.14953089, -0.4690967 ],\n",
       "      dtype=float32)"
      ]
     },
     "execution_count": 12,
     "metadata": {},
     "output_type": "execute_result"
    }
   ],
   "source": [
    "word2vec.wv['good'] - word2vec.wv['bad']"
   ]
  },
  {
   "cell_type": "markdown",
   "metadata": {},
   "source": [
    "Now, image for a second that, somehow, the following equality holds true - just for a second\n",
    "\n",
    "$$W2V(good) - W2V(bad) = W2V(nice) - W2V(stupid)$$\n",
    "\n",
    "which is equivalent to \n",
    "\n",
    "$$W2V(good) - W2V(bad) + W2V(stupid) = W2V(nice)$$\n",
    "\n",
    "❓ **Question** ❓ Let's, just for fun (as it would be foolish of us to think that this equality holds true ...), do the operation $W2V(good) - W2V(bad) + W2V(stupid)$ and store it in a `res` variable (which will be a vector of size 100 that you can print)."
   ]
  },
  {
   "cell_type": "code",
   "execution_count": 13,
   "metadata": {
    "tags": [
     "challengify"
    ]
   },
   "outputs": [],
   "source": [
    "res = word2vec.wv['good'] - word2vec.wv['bad'] + word2vec.wv['stupid']"
   ]
  },
  {
   "cell_type": "code",
   "execution_count": 14,
   "metadata": {},
   "outputs": [
    {
     "data": {
      "text/plain": [
       "array([-0.4843366 , -0.222885  ,  0.45190048, -0.15867293,  0.783609  ,\n",
       "        0.10416564, -1.5881343 , -0.5500685 , -0.3781805 , -0.13951948,\n",
       "        0.5683843 ,  0.9546979 ,  1.6554816 ,  0.70661825,  1.166911  ,\n",
       "        0.6465915 ,  0.61440873, -0.24012697,  0.64357114, -1.7967167 ,\n",
       "        0.49305212,  0.46612537, -0.44967556, -0.35886377, -0.50792056,\n",
       "       -0.17999375,  0.01190227,  0.3041495 , -1.2956668 , -0.10132815,\n",
       "        0.1328221 ,  0.7375649 , -1.034113  ,  0.14215648, -1.2526181 ,\n",
       "       -1.1318672 , -1.4059184 ,  0.9960068 , -0.21282125, -0.22467172,\n",
       "        0.0982669 , -0.9754416 , -0.6856043 , -0.18426338, -0.16865021,\n",
       "        0.8154522 ,  0.09041166,  0.50977904, -1.117307  ,  1.0927756 ,\n",
       "        1.2162352 , -0.4618031 , -0.26986742, -0.60478586,  0.33795345,\n",
       "       -0.19009534, -0.7435099 ,  1.2899994 , -1.4216609 , -0.688429  ,\n",
       "        0.7250619 , -0.07383861,  0.321989  ,  0.8444496 , -0.02270222,\n",
       "        0.65694445,  0.6740686 ,  1.3529897 , -0.29003105,  0.46422166,\n",
       "        0.4045775 ,  0.16960567,  0.59871036,  0.9783241 ,  0.671812  ,\n",
       "        1.2588978 , -0.1456041 ,  0.11410037, -1.2645438 , -0.7897142 ,\n",
       "        0.7249662 ,  0.07423255, -0.86788696,  0.19521111, -0.27549642,\n",
       "       -0.04084653,  0.69453806, -0.73873556, -0.27585265,  0.6998979 ,\n",
       "        0.09243035,  1.0834442 , -2.2070305 ,  0.8006742 ,  1.043021  ,\n",
       "        0.6262538 ,  0.2152245 , -0.00855619,  0.37889612, -0.25401664],\n",
       "      dtype=float32)"
      ]
     },
     "execution_count": 14,
     "metadata": {},
     "output_type": "execute_result"
    }
   ],
   "source": [
    "res"
   ]
  },
  {
   "cell_type": "markdown",
   "metadata": {},
   "source": [
    "We earlier said that, for any vector, it is possible to see the closest vectors in the embedding space.\n",
    "\n",
    "❓ **Question** ❓ Look at the closest vector (thanks to the `word2vec.wv.similar_by_vector` function) of `res`"
   ]
  },
  {
   "cell_type": "code",
   "execution_count": 15,
   "metadata": {
    "tags": [
     "challengify"
    ]
   },
   "outputs": [
    {
     "data": {
      "text/plain": [
       "[('good', 0.7284103035926819),\n",
       " ('nice', 0.7179179787635803),\n",
       " ('decent', 0.6599467396736145),\n",
       " ('fine', 0.6243587136268616),\n",
       " ('interesting', 0.5955530405044556),\n",
       " ('believable', 0.5952949523925781),\n",
       " ('great', 0.5915830135345459),\n",
       " ('cute', 0.5890123844146729),\n",
       " ('cool', 0.5870103240013123),\n",
       " ('funny', 0.5781408548355103)]"
      ]
     },
     "execution_count": 15,
     "metadata": {},
     "output_type": "execute_result"
    }
   ],
   "source": [
    "word2vec.wv.similar_by_vector(res)"
   ]
  },
  {
   "cell_type": "markdown",
   "metadata": {},
   "source": [
    "Incredible right! You can do arithmetic operations on words!\n",
    "\n",
    "❓ **Question** ❓ You can try on arithmetic such as \n",
    "\n",
    "$$W2V(Boy) - W2V(Girl) = W2V(Man) - W2V(Woman)$$\n",
    "\n",
    "or \n",
    "\n",
    "$$W2V(Queen) - W2V(King) = W2V(actress) - W2V(actor)$$\n",
    "\n",
    "❗ **Remark** ❗ You will probably see that the results are not perfect. But don't forget that you trained your model on a very small corpus."
   ]
  },
  {
   "cell_type": "code",
   "execution_count": 16,
   "metadata": {
    "tags": [
     "challengify"
    ]
   },
   "outputs": [
    {
     "data": {
      "text/plain": [
       "[('actor', 0.9722597599029541),\n",
       " ('actress', 0.9190306067466736),\n",
       " ('role', 0.8136066794395447),\n",
       " ('performance', 0.7571848630905151),\n",
       " ('villain', 0.7459296584129333),\n",
       " ('oscar', 0.7334705591201782),\n",
       " ('accent', 0.704143226146698),\n",
       " ('genius', 0.6983972787857056),\n",
       " ('job', 0.6914918422698975),\n",
       " ('acquaintance', 0.6859427690505981)]"
      ]
     },
     "execution_count": 16,
     "metadata": {},
     "output_type": "execute_result"
    }
   ],
   "source": [
    "res = word2vec.wv['queen'] - word2vec.wv['king'] + word2vec.wv['actor']\n",
    "word2vec.wv.similar_by_vector(res)"
   ]
  },
  {
   "cell_type": "markdown",
   "metadata": {},
   "source": [
    "You might wonder where does this magic comes from (at quite a low price, you just run a line of code on a very small corpus and it was trained within few minutes). The magic comes from the way Word2Vec is trained. The details are quite complex, but you can remember that Word2vec, in `word2vec = Word2Vec(sentences=X_train)` , actually trains a internal neural network (that you don't see).  \n",
    "\n",
    "In a nutshell, this internal NN predicts a word from the surroundings words in a sentences. So it chooses many splits in the different sentences, choose some words as inputs $X$  and a word as output $y$ which it tries to predict, in the embedding space.\n",
    "\n",
    "And as any neural network, Word2Vec has some hyperparameters. Let's check some. \n",
    "\n",
    "\n",
    "# Word2Vec hyperparameters\n",
    "\n",
    "\n",
    "❓ **Question** ❓ The first important hyperparameter is the `vector_size` argument. It corresponds to the size of the embedding space. Learn a new `word2vec_2` model, still trained on the `X_train`, but with a smaller or higher `vector_size`.\n",
    "\n",
    "Verify on some words that the corresponding embedding is of your selected size."
   ]
  },
  {
   "cell_type": "code",
   "execution_count": 17,
   "metadata": {
    "tags": [
     "challengify"
    ]
   },
   "outputs": [
    {
     "data": {
      "text/plain": [
       "50"
      ]
     },
     "execution_count": 17,
     "metadata": {},
     "output_type": "execute_result"
    }
   ],
   "source": [
    "word2vec_2 = Word2Vec(sentences=X_train, vector_size=50)\n",
    "len(word2vec_2.wv['movie'])"
   ]
  },
  {
   "cell_type": "markdown",
   "metadata": {},
   "source": [
    "❓ **Question** ❓ Use the `word2vec.wv.key_to_index` attribute to display the size of the learnt vocabulary. On the other hand, compare it to the number of different words in `X_train`."
   ]
  },
  {
   "cell_type": "code",
   "execution_count": 18,
   "metadata": {
    "tags": [
     "challengify"
    ]
   },
   "outputs": [
    {
     "data": {
      "text/plain": [
       "14416"
      ]
     },
     "execution_count": 18,
     "metadata": {},
     "output_type": "execute_result"
    }
   ],
   "source": [
    "len(word2vec_2.wv.key_to_index)"
   ]
  },
  {
   "cell_type": "code",
   "execution_count": 19,
   "metadata": {},
   "outputs": [],
   "source": [
    "# words = []\n",
    "# for inside_list in X_train:\n",
    "#     for word in inside_list:\n",
    "#         words.append(word)\n",
    "        \n",
    "# unique_words = set(words)\n",
    "\n",
    "# len(unique_words)"
   ]
  },
  {
   "cell_type": "code",
   "execution_count": 20,
   "metadata": {},
   "outputs": [
    {
     "data": {
      "text/plain": [
       "47215"
      ]
     },
     "execution_count": 20,
     "metadata": {},
     "output_type": "execute_result"
    }
   ],
   "source": [
    "len(set([word for inside_list in X_train for word in inside_list]))"
   ]
  },
  {
   "cell_type": "markdown",
   "metadata": {},
   "source": [
    "There is an important difference between the number of words in the train sentences and in the Word2Vec vocabulary, even though it has been train on the train sentence set. The reasons comes from the second important hyperparameter of Word2Vec :  `min_count`. \n",
    "\n",
    "`min_count` is a integer that tells you how many occurences a given word should have to be learn in the embedding space. For instance, let's say that the word \"movie\" appears 1000 times in the corpus and \"simba\" only 2 times. If `min_count=3`, the word \"simba\" will be skipped during the training.\n",
    "\n",
    "The intention is to have only words that are sufficiently present in the corpus to have a robust embedded representation\n",
    "\n",
    "❓ **Question** ❓ Learn a new `word2vec_3` model with a `min_count` higher than 5 (which is the default value) and a `word2vec_4` with a `min_count` smaller than 5, and then, compare the size of the vocabulary for all the different word2vec that you have trained (you can choose any `vector_size` you want)."
   ]
  },
  {
   "cell_type": "code",
   "execution_count": 21,
   "metadata": {
    "tags": [
     "challengify"
    ]
   },
   "outputs": [
    {
     "data": {
      "text/plain": [
       "8817"
      ]
     },
     "execution_count": 21,
     "metadata": {},
     "output_type": "execute_result"
    }
   ],
   "source": [
    "word2vec_3 = Word2Vec(sentences=X_train, vector_size=50, min_count=10)\n",
    "len(word2vec_3.wv.key_to_index)"
   ]
  },
  {
   "cell_type": "code",
   "execution_count": 22,
   "metadata": {},
   "outputs": [
    {
     "data": {
      "text/plain": [
       "20607"
      ]
     },
     "execution_count": 22,
     "metadata": {},
     "output_type": "execute_result"
    }
   ],
   "source": [
    "word2vec_4 = Word2Vec(sentences=X_train, vector_size=50, min_count=3)\n",
    "len(word2vec_4.wv.key_to_index)"
   ]
  },
  {
   "cell_type": "markdown",
   "metadata": {},
   "source": [
    "Remember that we say that word2vec has an internal neural network that it optimizes based on some predictions? These predictions actually correspond to predicting a word based on surrounding words. The surroundings words are in a `window` which corresponds to the number of words taken into account. And you can train the word2vec with different `window` sizes.\n",
    "\n",
    "❓ **Question** ❓ Learn a new `word2vec_5` model with a `window` different than previously (default is 5)."
   ]
  },
  {
   "cell_type": "code",
   "execution_count": 24,
   "metadata": {
    "tags": [
     "challengify"
    ]
   },
   "outputs": [],
   "source": [
    "word2vec_5 = Word2Vec(sentences=X_train, vector_size=50, min_count=10, window=10)"
   ]
  },
  {
   "cell_type": "markdown",
   "metadata": {},
   "source": [
    "The arguments you have seen (`vector_size`, `min_count` and `window`) are usually the one that you should start changing to get a better performance for your model.\n",
    "\n",
    "But you can also look at other arguments in the [documentation](https://radimrehurek.com/gensim/models/word2vec.html#gensim.models.word2vec.Text8Corpus)\n",
    "\n",
    "\n",
    "\n",
    "# Convert our train and test set to RNN ready data\n",
    "\n",
    "Remember that word2vec is the first step to the overall process of feeding such a representation into a RNN, as shown here :\n",
    "\n",
    "<img src=\"word2vec_representation.png\" width=\"400px\" />\n",
    "\n",
    "\n",
    "\n",
    "Now, let's work on Step 2 by converting the training and test data into their vector representation to be ready to be feed in RNNs.\n",
    "\n",
    "❓ **Question** ❓ Now, write a function that, given a sentence, returns a matrix that corresponds to the embedding of the full sentence, which means that you have to embed each word one after the other and concatenate the result to output a 2D matrix (be sure that your output is a NumPy array)\n",
    "\n",
    "❗ **Remark** ❗ You will probably notice that some words you are trying to convert throw errors as they are said not to belong to the dictionary:\n",
    "\n",
    "- for the test set, this is understandable: some words were not in the train set and thus their embedded representation is unknown\n",
    "- for the train set, due to `min_count` hyperparameter, not all the words have a vector representation\n",
    "\n",
    "In any case, just skip the missing words here."
   ]
  },
  {
   "cell_type": "code",
   "execution_count": 25,
   "metadata": {},
   "outputs": [],
   "source": [
    "import numpy as np\n",
    "\n",
    "example = ['this', 'movie', 'is', 'the', 'worst', 'action', 'movie', 'ever']\n",
    "example_missing_words = ['this', 'movie', 'is', 'laaaaaaaaaame']\n",
    "\n",
    "def embed_sentence(word2vec, sentence):\n",
    "    embedded_sentence = []\n",
    "    for word in sentence:\n",
    "        if word in word2vec.wv:\n",
    "            embedded_sentence.append(word2vec.wv[word])\n",
    "    return np.array(embedded_sentence)\n",
    "    \n",
    "### Checks\n",
    "embedded_sentence = embed_sentence(word2vec, example)\n",
    "assert(type(embedded_sentence) == np.ndarray)\n",
    "assert(embedded_sentence.shape == (8, 100))\n",
    "\n",
    "embedded_sentence_missing_words = embed_sentence(word2vec, example_missing_words)  \n",
    "assert(type(embedded_sentence_missing_words) == np.ndarray)\n",
    "assert(embedded_sentence_missing_words.shape == (3, 100))"
   ]
  },
  {
   "cell_type": "markdown",
   "metadata": {},
   "source": [
    "❓ **Question** ❓ Write a function that, given a list of sentence (each sentence being a list of words/strings), returns a list of embedded sentences (each sentence is a matrix). Apply this function to the train and test sentences\n",
    "\n",
    "Hint: Use the previous function `embed_sentence`"
   ]
  },
  {
   "cell_type": "code",
   "execution_count": 26,
   "metadata": {},
   "outputs": [],
   "source": [
    "def embedding(word2vec, sentences):\n",
    "    embedded_sentences = []\n",
    "    for sentence in sentences:\n",
    "        embedded_sentences.append(embed_sentence(word2vec, sentence))\n",
    "    return embedded_sentences\n",
    "    \n",
    "X_train = embedding(word2vec, X_train)\n",
    "X_test = embedding(word2vec, X_test)"
   ]
  },
  {
   "cell_type": "markdown",
   "metadata": {},
   "source": [
    "❓ **Question** ❓ In order to have ready-to-use data, do not forget to pad them in order to have tensors that can be divided in batch sizes during the optimization. Store the padedd values in `X_train_pad` and `X_test_pad`. Do not forget the important arguments of the padding ;)"
   ]
  },
  {
   "cell_type": "code",
   "execution_count": 27,
   "metadata": {},
   "outputs": [],
   "source": [
    "from tensorflow.keras.preprocessing.sequence import pad_sequences"
   ]
  },
  {
   "cell_type": "code",
   "execution_count": 28,
   "metadata": {},
   "outputs": [],
   "source": [
    "X_train_pad = pad_sequences(X_train, dtype='float32', padding='post')\n",
    "X_test_pad = pad_sequences(X_test, dtype='float32', padding='post')"
   ]
  },
  {
   "cell_type": "code",
   "execution_count": 29,
   "metadata": {},
   "outputs": [],
   "source": [
    "assert(len(X_train_pad.shape) == 3)\n",
    "assert(len(X_test_pad.shape) == 3)\n",
    "assert(X_train_pad.shape[2] == 100)\n",
    "assert(X_test_pad.shape[2] == 100)"
   ]
  }
 ],
 "metadata": {
  "kernelspec": {
   "display_name": "Python 3 (ipykernel)",
   "language": "python",
   "name": "python3"
  },
  "language_info": {
   "codemirror_mode": {
    "name": "ipython",
    "version": 3
   },
   "file_extension": ".py",
   "mimetype": "text/x-python",
   "name": "python",
   "nbconvert_exporter": "python",
   "pygments_lexer": "ipython3",
   "version": "3.8.12"
  },
  "toc": {
   "base_numbering": 1,
   "nav_menu": {},
   "number_sections": true,
   "sideBar": true,
   "skip_h1_title": false,
   "title_cell": "Table of Contents",
   "title_sidebar": "Contents",
   "toc_cell": false,
   "toc_position": {},
   "toc_section_display": true,
   "toc_window_display": false
  }
 },
 "nbformat": 4,
 "nbformat_minor": 2
}
