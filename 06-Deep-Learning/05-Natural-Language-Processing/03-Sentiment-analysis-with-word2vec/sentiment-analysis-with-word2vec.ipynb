{
 "cells": [
  {
   "cell_type": "markdown",
   "metadata": {},
   "source": [
    "# Sentiment analysis with Word2Vec\n",
    "\n",
    "### Exercise objectives:\n",
    "- Convert words to vectors with Word2Vec\n",
    "- Use the word representation given by Word2vec to feed a RNN\n",
    "\n",
    "<hr>\n",
    "<hr>\n",
    "\n",
    "\n",
    "# The data\n",
    "\n",
    "\n",
    "❓ **Question** ❓ Let's first load the data. You don't have to understand what is going on in the function, it does not matter here.\n",
    "\n",
    "⚠️ **Warning** ⚠️ The `load_data` function has a `percentage_of_sentences` argument. Depending on your computer, there are chances that too many sentences will make your compute slow down, or even freeze - your RAM can overflow. For that reason, **you should start with 10% of the sentences** and see if your computer handles it. Otherwise, rerun with a lower number. \n",
    "\n",
    "⚠️ **DISCLAIMER** ⚠️ **No need to play _who has the biggest_ (RAM) !** The idea is to get to run your models quickly to prototype. Even in real life, it is recommended that you start with a subset of your data to loop and debug quickly. So increase the number only if you are into getting the best accuracy."
   ]
  },
  {
   "cell_type": "code",
   "execution_count": 1,
   "metadata": {},
   "outputs": [
    {
     "name": "stderr",
     "output_type": "stream",
     "text": [
      "2022-05-18 10:44:30.255859: W tensorflow/stream_executor/platform/default/dso_loader.cc:64] Could not load dynamic library 'libcudart.so.11.0'; dlerror: libcudart.so.11.0: cannot open shared object file: No such file or directory\n",
      "2022-05-18 10:44:30.255959: I tensorflow/stream_executor/cuda/cudart_stub.cc:29] Ignore above cudart dlerror if you do not have a GPU set up on your machine.\n",
      "2022-05-18 10:44:38.669796: W tensorflow/stream_executor/platform/default/dso_loader.cc:64] Could not load dynamic library 'libcuda.so.1'; dlerror: libcuda.so.1: cannot open shared object file: No such file or directory\n",
      "2022-05-18 10:44:38.669847: W tensorflow/stream_executor/cuda/cuda_driver.cc:269] failed call to cuInit: UNKNOWN ERROR (303)\n",
      "2022-05-18 10:44:38.669871: I tensorflow/stream_executor/cuda/cuda_diagnostics.cc:156] kernel driver does not appear to be running on this host (LAPTOP-O26C6N05): /proc/driver/nvidia/version does not exist\n",
      "2022-05-18 10:44:38.671165: I tensorflow/core/platform/cpu_feature_guard.cc:151] This TensorFlow binary is optimized with oneAPI Deep Neural Network Library (oneDNN) to use the following CPU instructions in performance-critical operations:  AVX2 FMA\n",
      "To enable them in other operations, rebuild TensorFlow with the appropriate compiler flags.\n"
     ]
    },
    {
     "name": "stdout",
     "output_type": "stream",
     "text": [
      "WARNING:tensorflow:From /home/matheus/.pyenv/versions/3.8.12/envs/lewagon/lib/python3.8/site-packages/tensorflow_datasets/core/dataset_builder.py:622: get_single_element (from tensorflow.python.data.experimental.ops.get_single_element) is deprecated and will be removed in a future version.\n",
      "Instructions for updating:\n",
      "Use `tf.data.Dataset.get_single_element()`.\n"
     ]
    },
    {
     "name": "stderr",
     "output_type": "stream",
     "text": [
      "WARNING:tensorflow:From /home/matheus/.pyenv/versions/3.8.12/envs/lewagon/lib/python3.8/site-packages/tensorflow_datasets/core/dataset_builder.py:622: get_single_element (from tensorflow.python.data.experimental.ops.get_single_element) is deprecated and will be removed in a future version.\n",
      "Instructions for updating:\n",
      "Use `tf.data.Dataset.get_single_element()`.\n"
     ]
    }
   ],
   "source": [
    "###########################################\n",
    "### Just run this cell to load the data ###\n",
    "###########################################\n",
    "\n",
    "import tensorflow_datasets as tfds\n",
    "from tensorflow.keras.preprocessing.text import text_to_word_sequence\n",
    "\n",
    "def load_data(percentage_of_sentences=None):\n",
    "    train_data, test_data = tfds.load(name=\"imdb_reviews\", split=[\"train\", \"test\"], batch_size=-1, as_supervised=True)\n",
    "\n",
    "    train_sentences, y_train = tfds.as_numpy(train_data)\n",
    "    test_sentences, y_test = tfds.as_numpy(test_data)\n",
    "    \n",
    "    # Take only a given percentage of the entire data\n",
    "    if percentage_of_sentences is not None:\n",
    "        assert(percentage_of_sentences> 0 and percentage_of_sentences<=100)\n",
    "        \n",
    "        len_train = int(percentage_of_sentences/100*len(train_sentences))\n",
    "        train_sentences, y_train = train_sentences[:len_train], y_train[:len_train]\n",
    "  \n",
    "        len_test = int(percentage_of_sentences/100*len(test_sentences))\n",
    "        test_sentences, y_test = test_sentences[:len_test], y_test[:len_test]\n",
    "    \n",
    "    X_train = [text_to_word_sequence(_.decode(\"utf-8\")) for _ in train_sentences]\n",
    "    X_test = [text_to_word_sequence(_.decode(\"utf-8\")) for _ in test_sentences]\n",
    "    \n",
    "    return X_train, y_train, X_test, y_test\n",
    "\n",
    "X_train, y_train, X_test, y_test = load_data(percentage_of_sentences=25)"
   ]
  },
  {
   "cell_type": "markdown",
   "metadata": {},
   "source": [
    "In the previous exercise, you trained a Word2vec representation and converted all your training sentences in order to feed them into a RNN, as shown in the first step of this Figure: \n",
    "\n",
    "<img src=\"word2vec_representation.png\" width=\"400px\" />\n",
    "\n",
    "\n",
    "\n",
    "❓ **Question** ❓ Here, let's re-do exactly what you have done in the previous exercise. First, train a word2vec model (with the arguments that you want) on your training sentence. Store it into the `word2vec` variable."
   ]
  },
  {
   "cell_type": "code",
   "execution_count": 2,
   "metadata": {
    "tags": [
     "challengify"
    ]
   },
   "outputs": [],
   "source": [
    "from gensim.models import Word2Vec\n",
    "\n",
    "word2vec = Word2Vec(sentences=X_train, vector_size=60, min_count=10, window=10)"
   ]
  },
  {
   "cell_type": "markdown",
   "metadata": {},
   "source": [
    "Let's reuse the functions of the previous exercise to convert your training and test data into something you can feed into a RNN.\n",
    "\n",
    "❓ **Question** ❓ Read the following function to be sure you understand what is going on, and run it."
   ]
  },
  {
   "cell_type": "code",
   "execution_count": 3,
   "metadata": {},
   "outputs": [],
   "source": [
    "from tensorflow.keras.preprocessing.sequence import pad_sequences\n",
    "import numpy as np\n",
    "\n",
    "# Function to convert a sentence (list of words) into a matrix representing the words in the embedding space\n",
    "def embed_sentence(word2vec, sentence):\n",
    "    embedded_sentence = []\n",
    "    for word in sentence:\n",
    "        if word in word2vec.wv:\n",
    "            embedded_sentence.append(word2vec.wv[word])\n",
    "        \n",
    "    return np.array(embedded_sentence)\n",
    "\n",
    "\n",
    "# Function that converts a list of sentences into a list of matrices\n",
    "def embedding(word2vec, sentences):\n",
    "    embed = []\n",
    "    \n",
    "    for sentence in sentences:\n",
    "        embedded_sentence = embed_sentence(word2vec, sentence)\n",
    "        embed.append(embedded_sentence)\n",
    "        \n",
    "    return embed\n",
    "\n",
    "# Embed the training and test sentences\n",
    "X_train_embed = embedding(word2vec, X_train)\n",
    "X_test_embed = embedding(word2vec, X_test)\n",
    "\n",
    "\n",
    "# Pad the training and test embedded sentences\n",
    "X_train_pad = pad_sequences(X_train_embed, dtype='float32', padding='post', maxlen=200)\n",
    "X_test_pad = pad_sequences(X_test_embed, dtype='float32', padding='post', maxlen=200)"
   ]
  },
  {
   "cell_type": "markdown",
   "metadata": {},
   "source": [
    "☝️ To be sure that it worked, let's check the following for `X_train_pad` and `X_test_pad`:\n",
    "- they are numpy arrays\n",
    "- they are 3-dimensional\n",
    "- the last dimension is of the size of your word2vec embedding space (you can get it with `word2vec.wv.vector_size`\n",
    "- the first dimension is of the size of your `X_train` and `X_test`\n",
    "\n",
    "✅ **Good Practice** ✅ Such tests are quite important! Not only in this exercise, but in real-life applications. It prevents from finding errors too late and from letting them propagate through the entire notebook."
   ]
  },
  {
   "cell_type": "code",
   "execution_count": 4,
   "metadata": {},
   "outputs": [],
   "source": [
    "# TEST ME\n",
    "for X in [X_train_pad, X_test_pad]:\n",
    "    assert type(X) == np.ndarray\n",
    "    assert X.shape[-1] == word2vec.wv.vector_size\n",
    "\n",
    "\n",
    "assert X_train_pad.shape[0] == len(X_train)\n",
    "assert X_test_pad.shape[0] == len(X_test)"
   ]
  },
  {
   "cell_type": "code",
   "execution_count": 7,
   "metadata": {},
   "outputs": [
    {
     "data": {
      "text/plain": [
       "(6250, 200, 60)"
      ]
     },
     "execution_count": 7,
     "metadata": {},
     "output_type": "execute_result"
    }
   ],
   "source": [
    "X_train_pad.shape"
   ]
  },
  {
   "cell_type": "code",
   "execution_count": 5,
   "metadata": {},
   "outputs": [
    {
     "data": {
      "text/plain": [
       "60"
      ]
     },
     "execution_count": 5,
     "metadata": {},
     "output_type": "execute_result"
    }
   ],
   "source": [
    "word2vec.wv.vector_size"
   ]
  },
  {
   "cell_type": "markdown",
   "metadata": {},
   "source": [
    "# Baseline model\n",
    "\n",
    "It is always good to have a very simple model to test your own model against - to be sure you are doing something better than a very simple algorithm.\n",
    "\n",
    "❓ **Question** ❓ What is your baseline accuracy? In this case, your baseline can be to predict the label that is the most present in `y_train` (of course, if the dataset is balanced, the baseline accuracy is 1/n where n is the number of classes - 2 here)."
   ]
  },
  {
   "cell_type": "code",
   "execution_count": 11,
   "metadata": {
    "tags": [
     "challengify"
    ]
   },
   "outputs": [],
   "source": [
    "import seaborn as sns"
   ]
  },
  {
   "cell_type": "code",
   "execution_count": 16,
   "metadata": {},
   "outputs": [
    {
     "data": {
      "text/plain": [
       "(array([0, 1]), array([3118, 3132]))"
      ]
     },
     "execution_count": 16,
     "metadata": {},
     "output_type": "execute_result"
    }
   ],
   "source": [
    "np.unique(y_train, return_counts=True)"
   ]
  },
  {
   "cell_type": "code",
   "execution_count": 12,
   "metadata": {
    "scrolled": false
   },
   "outputs": [
    {
     "data": {
      "text/plain": [
       "<AxesSubplot:ylabel='Count'>"
      ]
     },
     "execution_count": 12,
     "metadata": {},
     "output_type": "execute_result"
    },
    {
     "data": {
      "image/png": "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\n",
      "text/plain": [
       "<Figure size 432x288 with 1 Axes>"
      ]
     },
     "metadata": {
      "needs_background": "light"
     },
     "output_type": "display_data"
    }
   ],
   "source": [
    "sns.histplot(y_train)"
   ]
  },
  {
   "cell_type": "code",
   "execution_count": 22,
   "metadata": {},
   "outputs": [
    {
     "data": {
      "text/plain": [
       "0.50112"
      ]
     },
     "execution_count": 22,
     "metadata": {},
     "output_type": "execute_result"
    }
   ],
   "source": [
    "baseline_accuracy = 3132 / (3132+3118)\n",
    "baseline_accuracy"
   ]
  },
  {
   "cell_type": "code",
   "execution_count": 21,
   "metadata": {},
   "outputs": [
    {
     "data": {
      "text/plain": [
       "6250"
      ]
     },
     "execution_count": 21,
     "metadata": {},
     "output_type": "execute_result"
    }
   ],
   "source": [
    "len(y_test)"
   ]
  },
  {
   "cell_type": "code",
   "execution_count": 20,
   "metadata": {},
   "outputs": [
    {
     "name": "stdout",
     "output_type": "stream",
     "text": [
      "Number of labels in train set {0: 3118, 1: 3132}\n",
      "Baseline accuracy:  0.49504\n"
     ]
    }
   ],
   "source": [
    "from sklearn.metrics import accuracy_score\n",
    "\n",
    "unique, counts = np.unique(y_train, return_counts=True)\n",
    "counts = dict(zip(unique, counts))\n",
    "print('Number of labels in train set', counts)\n",
    "\n",
    "y_pred = 0 if counts[0] > counts[1] else 1\n",
    "\n",
    "print('Baseline accuracy: ', accuracy_score(y_test, [y_pred]*len(y_test)))"
   ]
  },
  {
   "cell_type": "markdown",
   "metadata": {},
   "source": [
    "# The model\n",
    "\n",
    "❓ **Question** ❓ Write a RNN with the following layers:\n",
    "- a `Masking` layer\n",
    "- a `LSTM` with 20 units and `tanh` activation function\n",
    "- a `Dense` with 10 units\n",
    "- an output layer that depends on your task\n",
    "\n",
    "Then, compile your model (we advise you to use the `rmsprop` as the optimizer - at least to begin with)"
   ]
  },
  {
   "cell_type": "code",
   "execution_count": 19,
   "metadata": {
    "tags": [
     "challengify"
    ]
   },
   "outputs": [],
   "source": [
    "from tensorflow.keras import Sequential, layers"
   ]
  },
  {
   "cell_type": "code",
   "execution_count": 25,
   "metadata": {},
   "outputs": [],
   "source": [
    "model = Sequential()\n",
    "\n",
    "model.add(layers.Masking(mask_value=0, input_shape=(200,60)))\n",
    "model.add(layers.LSTM(20))\n",
    "model.add(layers.Dense(10, activation='relu'))\n",
    "model.add(layers.Dense(1, activation='sigmoid'))\n",
    "\n",
    "model.compile(loss='binary_crossentropy', optimizer='rmsprop', metrics='accuracy')"
   ]
  },
  {
   "cell_type": "markdown",
   "metadata": {},
   "source": [
    "❓ **Question** ❓ Fit the model on your embedded and padded data - do not forget the early stopping criterion.\n",
    "\n",
<<<<<<< HEAD
    "❗ **Remark** ❗ Your accuracy will greatly depend on your training test corpus. Here just make sure that your performance is above the baseline model (which should be the case even if you loaded only 20% of the initial IMDB data)."
=======
    "❗ **Remark** ❗ Your accuracy will greatly depend on your training corpus. Here just make sure that your performance is above the baseline model (which should be the case even if you loaded only 20% of the initial IMDB data)."
>>>>>>> 77d07ee189797805a85fcfa6d8f31717a78e59fc
   ]
  },
  {
   "cell_type": "code",
   "execution_count": 26,
   "metadata": {
    "tags": [
     "challengify"
    ]
   },
   "outputs": [],
   "source": [
    "from tensorflow.keras.callbacks import EarlyStopping"
   ]
  },
  {
   "cell_type": "code",
   "execution_count": 27,
   "metadata": {},
   "outputs": [],
   "source": [
    "es = EarlyStopping(patience=5, restore_best_weights=True)"
   ]
  },
  {
   "cell_type": "code",
   "execution_count": 29,
   "metadata": {},
   "outputs": [
    {
     "name": "stdout",
     "output_type": "stream",
     "text": [
      "Epoch 1/100\n",
      "137/137 [==============================] - 37s 271ms/step - loss: 0.6803 - accuracy: 0.5522 - val_loss: 0.6688 - val_accuracy: 0.5909\n",
      "Epoch 2/100\n",
      "137/137 [==============================] - 33s 243ms/step - loss: 0.6312 - accuracy: 0.6405 - val_loss: 0.6221 - val_accuracy: 0.6523\n",
      "Epoch 3/100\n",
      "137/137 [==============================] - 34s 251ms/step - loss: 0.5771 - accuracy: 0.6974 - val_loss: 0.5844 - val_accuracy: 0.7035\n",
      "Epoch 4/100\n",
      "137/137 [==============================] - 33s 242ms/step - loss: 0.5309 - accuracy: 0.7353 - val_loss: 0.5356 - val_accuracy: 0.7381\n",
      "Epoch 5/100\n",
      "137/137 [==============================] - 34s 247ms/step - loss: 0.4976 - accuracy: 0.7573 - val_loss: 0.5341 - val_accuracy: 0.7419\n",
      "Epoch 6/100\n",
      "137/137 [==============================] - 36s 261ms/step - loss: 0.4719 - accuracy: 0.7765 - val_loss: 0.5318 - val_accuracy: 0.7451\n",
      "Epoch 7/100\n",
      "137/137 [==============================] - 36s 264ms/step - loss: 0.4574 - accuracy: 0.7931 - val_loss: 0.4989 - val_accuracy: 0.7696\n",
      "Epoch 8/100\n",
      "137/137 [==============================] - 35s 259ms/step - loss: 0.4370 - accuracy: 0.8030 - val_loss: 0.4839 - val_accuracy: 0.7776\n",
      "Epoch 9/100\n",
      "137/137 [==============================] - 33s 244ms/step - loss: 0.4171 - accuracy: 0.8153 - val_loss: 0.4815 - val_accuracy: 0.7840\n",
      "Epoch 10/100\n",
      "137/137 [==============================] - 34s 248ms/step - loss: 0.4034 - accuracy: 0.8185 - val_loss: 0.4851 - val_accuracy: 0.7792\n",
      "Epoch 11/100\n",
      "137/137 [==============================] - 33s 242ms/step - loss: 0.3898 - accuracy: 0.8295 - val_loss: 0.6063 - val_accuracy: 0.7328\n",
      "Epoch 12/100\n",
      "137/137 [==============================] - 34s 246ms/step - loss: 0.3764 - accuracy: 0.8400 - val_loss: 0.4755 - val_accuracy: 0.7925\n",
      "Epoch 13/100\n",
      "137/137 [==============================] - 33s 243ms/step - loss: 0.3680 - accuracy: 0.8437 - val_loss: 0.4792 - val_accuracy: 0.7925\n",
      "Epoch 14/100\n",
      "137/137 [==============================] - 34s 248ms/step - loss: 0.3545 - accuracy: 0.8576 - val_loss: 0.4859 - val_accuracy: 0.7872\n",
      "Epoch 15/100\n",
      "137/137 [==============================] - 34s 247ms/step - loss: 0.3408 - accuracy: 0.8578 - val_loss: 0.4937 - val_accuracy: 0.7915\n",
      "Epoch 16/100\n",
      "137/137 [==============================] - 35s 258ms/step - loss: 0.3350 - accuracy: 0.8635 - val_loss: 0.4897 - val_accuracy: 0.7835\n",
      "Epoch 17/100\n",
      "137/137 [==============================] - 35s 255ms/step - loss: 0.3217 - accuracy: 0.8697 - val_loss: 0.4945 - val_accuracy: 0.7867\n"
     ]
    },
    {
     "data": {
      "text/plain": [
       "<keras.callbacks.History at 0x7fd2c00fee20>"
      ]
     },
     "execution_count": 29,
     "metadata": {},
     "output_type": "execute_result"
    }
   ],
   "source": [
    "model.fit(X_train_pad, y_train, epochs=100, validation_split=0.3, batch_size=32, callbacks=[es])"
   ]
  },
  {
   "cell_type": "markdown",
   "metadata": {},
   "source": [
    "❓ **Question** ❓ Evaluate your model on the test set"
   ]
  },
  {
   "cell_type": "code",
   "execution_count": 30,
   "metadata": {
    "tags": [
     "challengify"
    ]
   },
   "outputs": [
    {
     "name": "stdout",
     "output_type": "stream",
     "text": [
      "196/196 [==============================] - 10s 49ms/step - loss: 0.4748 - accuracy: 0.7928\n"
     ]
    },
    {
     "data": {
      "text/plain": [
       "[0.4747997522354126, 0.7928000092506409]"
      ]
     },
     "execution_count": 30,
     "metadata": {},
     "output_type": "execute_result"
    }
   ],
   "source": [
    "model.evaluate(X_test_pad, y_test)"
   ]
  },
  {
   "cell_type": "markdown",
   "metadata": {},
   "source": [
    "# Trained Word2Vec - Transfer Learning\n",
    "\n",
    "Your accuracy, while above the baseline model, might be quite low. There are multiple options to improve it, as data cleaning and improving the quality of the embedding.\n",
    "\n",
    "We won't dig into data cleaning strategies here. Let's try to improve the quality of our embedding. But instead of just loading a larger corpus, why not benefiting from the embedding that others have learned? Because, the quality of an embedding, i.e. the proximity of the words, can be derived from different tasks. This is exactly what transfer learning is.\n",
    "\n",
    "\n",
    "\n",
    "❓ **Question** ❓ List all the different models available in the word2vec thanks to this: "
   ]
  },
  {
   "cell_type": "code",
   "execution_count": 31,
   "metadata": {},
   "outputs": [
    {
     "name": "stdout",
     "output_type": "stream",
     "text": [
      "['fasttext-wiki-news-subwords-300', 'conceptnet-numberbatch-17-06-300', 'word2vec-ruscorpora-300', 'word2vec-google-news-300', 'glove-wiki-gigaword-50', 'glove-wiki-gigaword-100', 'glove-wiki-gigaword-200', 'glove-wiki-gigaword-300', 'glove-twitter-25', 'glove-twitter-50', 'glove-twitter-100', 'glove-twitter-200', '__testing_word2vec-matrix-synopsis']\n"
     ]
    }
   ],
   "source": [
    "import gensim.downloader as api\n",
    "print(list(api.info()['models'].keys()))"
   ]
  },
  {
   "cell_type": "markdown",
   "metadata": {},
   "source": [
    "ℹ️ You can also find the list of the models and their size on the [`gensim-data` repository](https://github.com/RaRe-Technologies/gensim-data#models)."
   ]
  },
  {
   "cell_type": "markdown",
   "metadata": {},
   "source": [
    "❓ **Question** ❓ Load one of the pre-trained word2vec embedding spaces. \n",
    "\n",
    "You can do that with `api.load(the-model-of-your-choice)`, and store it in `word2vec_transfer`\n",
    "\n",
    "<details>\n",
    "    <summary>💡 Hint</summary>\n",
    "    \n",
    "The `glove-wiki-gigaword-50` model is a good candidate to start with as it is smaller (65 MB).\n",
    "\n",
    "</details>"
   ]
  },
  {
   "cell_type": "code",
   "execution_count": 32,
   "metadata": {
    "tags": [
     "challengify"
    ]
   },
   "outputs": [
    {
     "name": "stdout",
     "output_type": "stream",
     "text": [
      "[==================================================] 100.0% 66.0/66.0MB downloaded\n"
     ]
    }
   ],
   "source": [
    "word2vec_transfer = api.load(\"glove-wiki-gigaword-50\")"
   ]
  },
  {
   "cell_type": "markdown",
   "metadata": {},
   "source": [
    "❓ **Question** ❓ Check the size of the vocabulary, but also the size of the embedding space."
   ]
  },
  {
   "cell_type": "code",
   "execution_count": 33,
   "metadata": {
    "tags": [
     "challengify"
    ]
   },
   "outputs": [
    {
     "data": {
      "text/plain": [
       "400000"
      ]
     },
     "execution_count": 33,
     "metadata": {},
     "output_type": "execute_result"
    }
   ],
   "source": [
    "len(word2vec_transfer.key_to_index)"
   ]
  },
  {
   "cell_type": "code",
   "execution_count": 35,
   "metadata": {},
   "outputs": [
    {
     "data": {
      "text/plain": [
       "50"
      ]
     },
     "execution_count": 35,
     "metadata": {},
     "output_type": "execute_result"
    }
   ],
   "source": [
    "len(word2vec_transfer['director'])"
   ]
  },
  {
   "cell_type": "markdown",
   "metadata": {},
   "source": [
<<<<<<< HEAD
    "❓ **Question** ❓ Let's embedd `X_train` and `X_test`, as in the first question where we provided the functions to so ! (There is a slight difference in the `embed_sentence_with_TF` function that we will not dig into)"
=======
    "❓ **Question** ❓ Let's embed `X_train` and `X_test`, as in the first question where we provided the functions to so! (There is a slight different in the `embed_sentence_with_TF` function that we will not dig into)"
>>>>>>> 77d07ee189797805a85fcfa6d8f31717a78e59fc
   ]
  },
  {
   "cell_type": "code",
   "execution_count": 36,
   "metadata": {},
   "outputs": [],
   "source": [
    "from tensorflow.keras.preprocessing.sequence import pad_sequences\n",
    "import numpy as np\n",
    "\n",
    "# Function to convert a sentence (list of words) into a matrix representing the words in the embedding space\n",
    "def embed_sentence_with_TF(word2vec, sentence):\n",
    "    embedded_sentence = []\n",
    "    for word in sentence:\n",
    "        if word in word2vec:\n",
    "            embedded_sentence.append(word2vec[word])\n",
    "        \n",
    "    return np.array(embedded_sentence)\n",
    "\n",
    "# Function that converts a list of sentences into a list of matrices\n",
    "def embedding(word2vec, sentences):\n",
    "    embed = []\n",
    "    \n",
    "    for sentence in sentences:\n",
    "        embedded_sentence = embed_sentence_with_TF(word2vec, sentence)\n",
    "        embed.append(embedded_sentence)\n",
    "        \n",
    "    return embed\n",
    "\n",
    "# Embed the training and test sentences\n",
    "X_train_embed_2 = embedding(word2vec_transfer, X_train)\n",
    "X_test_embed_2 = embedding(word2vec_transfer, X_test)"
   ]
  },
  {
   "cell_type": "markdown",
   "metadata": {},
   "source": [
    "❓ **Question** ❓  Do not forget to pad your results and store it in `X_train_pad_2` and `X_test_pad_2`."
   ]
  },
  {
   "cell_type": "code",
   "execution_count": 37,
   "metadata": {
    "tags": [
     "challengify"
    ]
   },
   "outputs": [],
   "source": [
    "X_train_pad_2 = pad_sequences(X_train_embed_2, dtype='float32', padding='post', maxlen=200)\n",
    "X_test_pad_2 = pad_sequences(X_test_embed_2, dtype='float32', padding='post', maxlen=200)"
   ]
  },
  {
   "cell_type": "markdown",
   "metadata": {},
   "source": [
    "❓ **Question** ❓ Reinitialize a model and fit it on your new embedded (and padded) data!  Evaluate it on your test set and compare it to your previous accuracy.\n",
    "\n",
    "❗ **Remark** ❗ The training here could take some time. You can just compute 10 epochs (this is **not** a good practice, it is just not to wait too long) and go to the next exercise while it trains - or take a break, you probably deserve it ;)"
   ]
  },
  {
   "cell_type": "code",
   "execution_count": 40,
   "metadata": {},
   "outputs": [
    {
     "data": {
      "text/plain": [
       "(6250, 200, 50)"
      ]
     },
     "execution_count": 40,
     "metadata": {},
     "output_type": "execute_result"
    }
   ],
   "source": [
    "X_train_pad_2.shape"
   ]
  },
  {
   "cell_type": "code",
   "execution_count": 43,
   "metadata": {},
   "outputs": [
    {
     "data": {
      "text/plain": [
       "(6250,)"
      ]
     },
     "execution_count": 43,
     "metadata": {},
     "output_type": "execute_result"
    }
   ],
   "source": [
    "y_train.shape"
   ]
  },
  {
   "cell_type": "code",
   "execution_count": 41,
   "metadata": {
    "tags": [
     "challengify"
    ]
   },
   "outputs": [],
   "source": [
    "model2 = Sequential()\n",
    "\n",
    "model2.add(layers.Masking(mask_value=0, input_shape=(200,50)))\n",
    "model2.add(layers.LSTM(20))\n",
    "model2.add(layers.Dense(10, activation='relu'))\n",
    "model2.add(layers.Dense(1, activation='sigmoid'))\n",
    "\n",
    "model2.compile(loss='binary_crossentropy', optimizer='rmsprop', metrics='accuracy')"
   ]
  },
  {
   "cell_type": "code",
   "execution_count": 45,
   "metadata": {},
   "outputs": [
    {
     "name": "stdout",
     "output_type": "stream",
     "text": [
      "Epoch 1/50\n",
      "137/137 [==============================] - 40s 294ms/step - loss: 0.6558 - accuracy: 0.6062 - val_loss: 0.5986 - val_accuracy: 0.6757\n",
      "Epoch 2/50\n",
      "137/137 [==============================] - 41s 303ms/step - loss: 0.6018 - accuracy: 0.6843 - val_loss: 0.5670 - val_accuracy: 0.7141\n",
      "Epoch 3/50\n",
      "137/137 [==============================] - 38s 277ms/step - loss: 0.5769 - accuracy: 0.7090 - val_loss: 0.5564 - val_accuracy: 0.7291\n",
      "Epoch 4/50\n",
      "137/137 [==============================] - 36s 266ms/step - loss: 0.5557 - accuracy: 0.7269 - val_loss: 0.5186 - val_accuracy: 0.7621\n",
      "Epoch 5/50\n",
      "137/137 [==============================] - 35s 255ms/step - loss: 0.5538 - accuracy: 0.7301 - val_loss: 0.5144 - val_accuracy: 0.7568\n",
      "Epoch 6/50\n",
      "137/137 [==============================] - 34s 252ms/step - loss: 0.5304 - accuracy: 0.7479 - val_loss: 0.5083 - val_accuracy: 0.7691\n",
      "Epoch 7/50\n",
      "137/137 [==============================] - 35s 255ms/step - loss: 0.5174 - accuracy: 0.7579 - val_loss: 0.5021 - val_accuracy: 0.7621\n",
      "Epoch 8/50\n",
      "137/137 [==============================] - 34s 251ms/step - loss: 0.5098 - accuracy: 0.7577 - val_loss: 0.5161 - val_accuracy: 0.7531\n",
      "Epoch 9/50\n",
      "137/137 [==============================] - 35s 254ms/step - loss: 0.4984 - accuracy: 0.7625 - val_loss: 0.4917 - val_accuracy: 0.7755\n",
      "Epoch 10/50\n",
      "137/137 [==============================] - 34s 252ms/step - loss: 0.4795 - accuracy: 0.7758 - val_loss: 0.5054 - val_accuracy: 0.7675\n",
      "Epoch 11/50\n",
      "137/137 [==============================] - 36s 259ms/step - loss: 0.4675 - accuracy: 0.7833 - val_loss: 0.4913 - val_accuracy: 0.7701\n",
      "Epoch 12/50\n",
      "137/137 [==============================] - 36s 263ms/step - loss: 0.4616 - accuracy: 0.7883 - val_loss: 0.5313 - val_accuracy: 0.7515\n",
      "Epoch 13/50\n",
      "137/137 [==============================] - 35s 256ms/step - loss: 0.4512 - accuracy: 0.7941 - val_loss: 0.5023 - val_accuracy: 0.7712\n",
      "Epoch 14/50\n",
      "137/137 [==============================] - 35s 252ms/step - loss: 0.4318 - accuracy: 0.8005 - val_loss: 0.5089 - val_accuracy: 0.7568\n",
      "Epoch 15/50\n",
      "137/137 [==============================] - 35s 254ms/step - loss: 0.4274 - accuracy: 0.8105 - val_loss: 0.4404 - val_accuracy: 0.8032\n",
      "Epoch 16/50\n",
      "137/137 [==============================] - 35s 252ms/step - loss: 0.4159 - accuracy: 0.8103 - val_loss: 0.5476 - val_accuracy: 0.7755\n",
      "Epoch 17/50\n",
      "137/137 [==============================] - 35s 256ms/step - loss: 0.4172 - accuracy: 0.8126 - val_loss: 0.4346 - val_accuracy: 0.8096\n",
      "Epoch 18/50\n",
      "137/137 [==============================] - 34s 251ms/step - loss: 0.4010 - accuracy: 0.8249 - val_loss: 0.4532 - val_accuracy: 0.7925\n",
      "Epoch 19/50\n",
      "137/137 [==============================] - 36s 265ms/step - loss: 0.3929 - accuracy: 0.8245 - val_loss: 0.5685 - val_accuracy: 0.7243\n",
      "Epoch 20/50\n",
      "137/137 [==============================] - 36s 261ms/step - loss: 0.3805 - accuracy: 0.8363 - val_loss: 0.4359 - val_accuracy: 0.8048\n",
      "Epoch 21/50\n",
      "137/137 [==============================] - 34s 249ms/step - loss: 0.3730 - accuracy: 0.8395 - val_loss: 0.4317 - val_accuracy: 0.8128\n",
      "Epoch 22/50\n",
      "137/137 [==============================] - 35s 252ms/step - loss: 0.3632 - accuracy: 0.8473 - val_loss: 0.4444 - val_accuracy: 0.8133\n",
      "Epoch 23/50\n",
      "137/137 [==============================] - 34s 246ms/step - loss: 0.3591 - accuracy: 0.8437 - val_loss: 0.4515 - val_accuracy: 0.7979\n",
      "Epoch 24/50\n",
      "137/137 [==============================] - 34s 248ms/step - loss: 0.3466 - accuracy: 0.8510 - val_loss: 0.4242 - val_accuracy: 0.8171\n",
      "Epoch 25/50\n",
      "137/137 [==============================] - 33s 245ms/step - loss: 0.3396 - accuracy: 0.8587 - val_loss: 0.4254 - val_accuracy: 0.8133\n",
      "Epoch 26/50\n",
      "137/137 [==============================] - 34s 248ms/step - loss: 0.3323 - accuracy: 0.8555 - val_loss: 0.4337 - val_accuracy: 0.8011\n",
      "Epoch 27/50\n",
      "137/137 [==============================] - 34s 246ms/step - loss: 0.3302 - accuracy: 0.8592 - val_loss: 0.4488 - val_accuracy: 0.8112\n",
      "Epoch 28/50\n",
      "137/137 [==============================] - 35s 253ms/step - loss: 0.3194 - accuracy: 0.8651 - val_loss: 0.4246 - val_accuracy: 0.8096\n",
      "Epoch 29/50\n",
      "137/137 [==============================] - 34s 249ms/step - loss: 0.3203 - accuracy: 0.8661 - val_loss: 0.4483 - val_accuracy: 0.8091\n"
     ]
    },
    {
     "data": {
      "text/plain": [
       "<keras.callbacks.History at 0x7fd2604325b0>"
      ]
     },
     "execution_count": 45,
     "metadata": {},
     "output_type": "execute_result"
    }
   ],
   "source": [
    "model2.fit(X_train_pad_2, y_train, epochs=50, validation_split=0.3, batch_size=32, callbacks=[es])"
   ]
  },
  {
   "cell_type": "code",
   "execution_count": 46,
   "metadata": {},
   "outputs": [
    {
     "name": "stdout",
     "output_type": "stream",
     "text": [
      "The accuracy evaluated on the test set is of 80.416%\n"
     ]
    }
   ],
   "source": [
    "res = model2.evaluate(X_test_pad_2, y_test, verbose=0)\n",
    "\n",
    "print(f'The accuracy evaluated on the test set is of {res[1]*100:.3f}%')"
   ]
  },
  {
   "cell_type": "markdown",
   "metadata": {},
   "source": [
    "Because your new word2vec has been trained on a large corpus, it has a representation for many many words! Way more than with your small dataset, especially as you discarded words that were not present more than a given number of times in the train set. For that reason, you have way more embedded words in your train and test set, which makes each iteration longer than previously"
   ]
  },
  {
   "cell_type": "code",
   "execution_count": null,
   "metadata": {},
   "outputs": [],
   "source": []
  }
 ],
 "metadata": {
  "kernelspec": {
   "display_name": "Python 3 (ipykernel)",
   "language": "python",
   "name": "python3"
  },
  "language_info": {
   "codemirror_mode": {
    "name": "ipython",
    "version": 3
   },
   "file_extension": ".py",
   "mimetype": "text/x-python",
   "name": "python",
   "nbconvert_exporter": "python",
   "pygments_lexer": "ipython3",
   "version": "3.8.12"
  },
  "toc": {
   "base_numbering": 1,
   "nav_menu": {},
   "number_sections": true,
   "sideBar": true,
   "skip_h1_title": false,
   "title_cell": "Table of Contents",
   "title_sidebar": "Contents",
   "toc_cell": false,
   "toc_position": {},
   "toc_section_display": true,
   "toc_window_display": false
  }
 },
 "nbformat": 4,
 "nbformat_minor": 4
}
