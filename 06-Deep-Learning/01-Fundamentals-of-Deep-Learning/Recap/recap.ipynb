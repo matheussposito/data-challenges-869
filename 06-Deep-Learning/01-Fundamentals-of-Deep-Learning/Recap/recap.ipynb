{
 "cells": [
  {
   "cell_type": "markdown",
   "metadata": {},
   "source": [
    "# Recap about the fundamentals of Deep Learning"
   ]
  },
  {
   "cell_type": "markdown",
   "metadata": {},
   "source": [
    "📆 What's on the agenda for this recap?\n",
    "\n",
    "- ***Intro***: How to read the docs\n",
    "- ***Part 1***: Tensorflow de-mystified (👨🏻‍🏫 Teacher-led)\n",
    "- ***Part 2***: Boston Housing Challenge (👩‍🎓 Student-led)"
   ]
  },
  {
   "cell_type": "markdown",
   "metadata": {
    "heading_collapsed": true
   },
   "source": [
    "## Intro: How to read the docs?"
   ]
  },
  {
   "cell_type": "markdown",
   "metadata": {
    "hidden": true
   },
   "source": [
    "✅ [Tensorflow.org](https://www.tensorflow.org/overview) provides you with two main pages to refer to:\n",
    "- [Tutorial](https://www.tensorflow.org/tutorials)\n",
    "- [Guide](https://www.tensorflow.org/guide)\n",
    "- ***These should be your go-to pages***. You can even run `Colab-Notebooks` of these tutorials\n",
    "\n",
    "&nbsp;\n",
    "\n",
    "✅ TensorFlow [API docs](https://www.tensorflow.org/api_docs/python/tf/) contains only essential elements and advanced notions\n",
    "- It pops up in Google Search in priority\n",
    "- [Sometimes](https://www.tensorflow.org/api_docs/python/tf/keras/Sequential), it can give you references to related Tutorials or Guides\n",
    "- ***Use it as THE single source of truth***\n",
    "\n",
    "&nbsp;\n",
    "\n",
    "❌ [Keras.io](https://keras.io/about/) is somewhat redundant with the TensorFlow documentation\n",
    "- It contains nice tutorials and examples but...\n",
    "- ...use it only you don't find what you need on `Tensorflow.Keras`'s website\n",
    "- ***Don't use it for the docs***"
   ]
  },
  {
   "cell_type": "markdown",
   "metadata": {},
   "source": [
    "## Part I - Tensorflow demystified \n",
    "_(🧑🏻‍🏫 Teacher-led)_"
   ]
  },
  {
   "cell_type": "markdown",
   "metadata": {},
   "source": [
    "👉 Goal: Using Tensorflow, create a dummy dataset and fit a dummy model with it"
   ]
  },
  {
   "cell_type": "markdown",
   "metadata": {
    "heading_collapsed": true
   },
   "source": [
    "### (1) Tensors?"
   ]
  },
  {
   "cell_type": "markdown",
   "metadata": {
    "hidden": true
   },
   "source": [
    "📚 [Online Guide](https://www.tensorflow.org/guide/tensor)"
   ]
  },
  {
   "cell_type": "code",
   "execution_count": null,
   "metadata": {
    "hidden": true
   },
   "outputs": [],
   "source": [
    "# It's OK to import everything for notebook based experimentation!\n",
    "import tensorflow as tf\n",
    "from tensorflow import keras\n",
    "import numpy as np"
   ]
  },
  {
   "cell_type": "code",
   "execution_count": null,
   "metadata": {
    "hidden": true
   },
   "outputs": [],
   "source": [
    "# Tensors are wrappers around numpy objects\n",
    "\n",
    "X = tf.constant([[1., 1., 1.],\n",
    "                 [1., 1., 1.],\n",
    "                 [1., 1., 1.]])\n",
    "X"
   ]
  },
  {
   "cell_type": "code",
   "execution_count": null,
   "metadata": {
    "hidden": true
   },
   "outputs": [],
   "source": [
    "tf.ones((3,3))"
   ]
  },
  {
   "cell_type": "code",
   "execution_count": null,
   "metadata": {
    "hidden": true
   },
   "outputs": [],
   "source": [
    "x = X.numpy()\n",
    "x"
   ]
  },
  {
   "cell_type": "code",
   "execution_count": null,
   "metadata": {
    "hidden": true
   },
   "outputs": [],
   "source": [
    "# Tensors have a shape\n",
    "X.shape"
   ]
  },
  {
   "cell_type": "code",
   "execution_count": null,
   "metadata": {
    "hidden": true
   },
   "outputs": [],
   "source": [
    "# Tensors can be initialized from Numpy objects\n",
    "tf.constant(x)"
   ]
  },
  {
   "cell_type": "code",
   "execution_count": null,
   "metadata": {
    "hidden": true
   },
   "outputs": [],
   "source": [
    "# They can be manipulated with syntax that is similar to Numpy\n",
    "tf.add(X,X)"
   ]
  },
  {
   "cell_type": "code",
   "execution_count": null,
   "metadata": {
    "hidden": true
   },
   "outputs": [],
   "source": [
    "# Conversely, Numpy also accept Tensor elements!\n",
    "np.add(X,X)"
   ]
  },
  {
   "cell_type": "code",
   "execution_count": null,
   "metadata": {
    "hidden": true
   },
   "outputs": [],
   "source": [
    "# Example of a custom MSE loss function using Tensors\n",
    "\n",
    "def loss(y_true, y_pred):\n",
    "    err = y_true - y_pred\n",
    "    return tf.reduce_mean(tf.square(err))\n",
    "\n",
    "y_true = tf.ones((10,3))\n",
    "y_pred = tf.ones((10,3)) + 0.1 * tf.random.normal((10,3))\n",
    "\n",
    "loss(y_true, y_pred)"
   ]
  },
  {
   "cell_type": "markdown",
   "metadata": {
    "hidden": true
   },
   "source": [
    "#### Other Tensors?"
   ]
  },
  {
   "cell_type": "markdown",
   "metadata": {
    "hidden": true
   },
   "source": [
    "**Sparse Tensors**\n",
    "<img src=\"https://github.com/lewagon/data-images/blob/master/DL/sparse_tensors.png?raw=true\">"
   ]
  },
  {
   "cell_type": "code",
   "execution_count": null,
   "metadata": {
    "hidden": true
   },
   "outputs": [],
   "source": [
    "sparse_tensor = tf.sparse.SparseTensor(indices=[[0, 0], [1, 2]],\n",
    "                                       values=[1, 2],\n",
    "                                       dense_shape=[3, 4])\n",
    "sparse_tensor.shape"
   ]
  },
  {
   "cell_type": "markdown",
   "metadata": {
    "hidden": true
   },
   "source": [
    "**Ragged Tensors**\n",
    "<img src=\"https://raw.githubusercontent.com/lewagon/data-images/master/DL/ragged_tensors.png\">"
   ]
  },
  {
   "cell_type": "code",
   "execution_count": null,
   "metadata": {
    "hidden": true
   },
   "outputs": [],
   "source": [
    "ragged_list = [\n",
    "    [0, 1, 2, 3],\n",
    "    [4, 5],\n",
    "    [6, 7, 8],\n",
    "    [9]]\n",
    "\n",
    "ragged_tensor = tf.ragged.constant(ragged_list)\n",
    "ragged_tensor.shape"
   ]
  },
  {
   "cell_type": "markdown",
   "metadata": {
    "heading_collapsed": true
   },
   "source": [
    "### (2) Build a neural network with `Sequential API`"
   ]
  },
  {
   "cell_type": "markdown",
   "metadata": {
    "hidden": true
   },
   "source": [
    "👉 Let's generate 100 random observations `X` of 10 features each, and a unidimensional target `y` "
   ]
  },
  {
   "cell_type": "code",
   "execution_count": null,
   "metadata": {
    "hidden": true
   },
   "outputs": [],
   "source": [
    "# Let's generate 100 observations of with 10 features for each of them\n",
    "X = tf.random.uniform((100,10))"
   ]
  },
  {
   "cell_type": "code",
   "execution_count": null,
   "metadata": {
    "hidden": true
   },
   "outputs": [],
   "source": [
    "# And create our dummy target as simply the mean of each observation\n",
    "y = tf.reduce_mean(X, axis=1)\n",
    "y.shape"
   ]
  },
  {
   "cell_type": "markdown",
   "metadata": {
    "hidden": true
   },
   "source": [
    "👉 Let's build a simple dense model that \"works\""
   ]
  },
  {
   "cell_type": "code",
   "execution_count": null,
   "metadata": {
    "hidden": true
   },
   "outputs": [],
   "source": [
    "from tensorflow.keras import Sequential, layers"
   ]
  },
  {
   "cell_type": "code",
   "execution_count": null,
   "metadata": {
    "hidden": true
   },
   "outputs": [],
   "source": [
    "# Usual syntax\n",
    "\n",
    "model = Sequential()\n",
    "model.add(layers.Dense(30, input_dim=10, activation='relu'))\n",
    "#model.add(layers.Dense(30, input_shape=(10,), activation='relu'))\n",
    "model.add(layers.Dense(1))\n",
    "model.summary()"
   ]
  },
  {
   "cell_type": "code",
   "execution_count": null,
   "metadata": {
    "hidden": true
   },
   "outputs": [],
   "source": [
    "# Equivalent\n",
    "model = Sequential([\n",
    "    layers.Dense(30, input_shape=(10, ), activation='relu'),\n",
    "    layers.Dense(1),\n",
    "])\n",
    "model.summary()"
   ]
  },
  {
   "cell_type": "code",
   "execution_count": null,
   "metadata": {
    "hidden": true
   },
   "outputs": [],
   "source": [
    "# What if we don't specify input_dim?\n",
    "model = Sequential()\n",
    "model.add(layers.Dense(30, activation='relu'))\n",
    "model.add(layers.Dense(1))"
   ]
  },
  {
   "cell_type": "code",
   "execution_count": null,
   "metadata": {
    "hidden": true
   },
   "outputs": [],
   "source": [
    "model.summary()"
   ]
  },
  {
   "cell_type": "code",
   "execution_count": null,
   "metadata": {
    "hidden": true
   },
   "outputs": [],
   "source": [
    "try:\n",
    "    model.summary()\n",
    "    \n",
    "except ValueError as e:\n",
    "    print(e)"
   ]
  },
  {
   "cell_type": "code",
   "execution_count": null,
   "metadata": {
    "hidden": true
   },
   "outputs": [],
   "source": [
    "# One can still access all the layers individually\n",
    "model.layers"
   ]
  },
  {
   "cell_type": "code",
   "execution_count": null,
   "metadata": {
    "hidden": true
   },
   "outputs": [],
   "source": [
    "# And call the layer with a \"tensor\" as input\n",
    "x1 = model.layers[0](X)\n",
    "\n",
    "# x1 is our activation from layer 1, with random (initial) weights\n",
    "x1.shape"
   ]
  },
  {
   "cell_type": "code",
   "execution_count": null,
   "metadata": {
    "hidden": true
   },
   "outputs": [],
   "source": [
    "# x2 is our output\n",
    "x2 = model.layers[1](x1)\n",
    "x2.shape"
   ]
  },
  {
   "cell_type": "markdown",
   "metadata": {
    "heading_collapsed": true
   },
   "source": [
    "### (3) Keras Input layer"
   ]
  },
  {
   "cell_type": "markdown",
   "metadata": {
    "hidden": true
   },
   "source": [
    "You will often encounter this in the docs:\n",
    "```python\n",
    "keras.Input(shape=(10,))\n",
    "```\n",
    "Instead of passing 100 **real** observations to your layers, simply pass a `keras.Input` of `None` observations of similar shape (10,).  \n",
    "\n",
    "It is used for computation optimization purposes (memory pre-allocation and network graphs for parallelization) "
   ]
  },
  {
   "cell_type": "code",
   "execution_count": null,
   "metadata": {
    "hidden": true
   },
   "outputs": [],
   "source": [
    "inputs = keras.Input(shape=(10,))\n",
    "inputs"
   ]
  },
  {
   "cell_type": "code",
   "execution_count": null,
   "metadata": {
    "hidden": true
   },
   "outputs": [],
   "source": [
    "model.layers[0](inputs)"
   ]
  },
  {
   "cell_type": "code",
   "execution_count": null,
   "metadata": {
    "hidden": true
   },
   "outputs": [],
   "source": [
    "x = model.layers[0](inputs) # Input layer\n",
    "x = layers.Dense(30, activation='relu')(inputs) # First layer output\n",
    "x = layers.Dense(20, activation='relu')(x) # Second layer output\n",
    "x = layers.Dense(10, activation='relu')(x) # Third layer output\n",
    "outputs = layers.Dense(1)(x)               # Final layer output\n",
    "\n",
    "outputs.shape"
   ]
  },
  {
   "cell_type": "code",
   "execution_count": null,
   "metadata": {
    "hidden": true
   },
   "outputs": [],
   "source": [
    "# Keras allows you to build a model from an input and output layer\n",
    "model = keras.Model(inputs, outputs)\n",
    "model.summary()"
   ]
  },
  {
   "cell_type": "markdown",
   "metadata": {
    "hidden": true
   },
   "source": [
    "☝️ This way of building models is called Keras [Functional API](https://www.tensorflow.org/guide/keras/functional)\n",
    "- as opposed to [Sequential API](https://www.tensorflow.org/api_docs/python/tf/keras/Sequential): `model.add(...)`\n",
    "- It is mandatory for complex (non-sequential) architecture...\n",
    "- Used everywhere in the docs"
   ]
  },
  {
   "cell_type": "markdown",
   "metadata": {},
   "source": [
    "## Part II - Boston Housing Challenge \n",
    "(👩‍🎓Student-led)"
   ]
  },
  {
   "cell_type": "markdown",
   "metadata": {},
   "source": [
    "### (1) Data\n",
    "\n",
    "`Tensorflow.Keras` provides `Toy Datasets` that can be found <a href=\"https://www.tensorflow.org/api_docs/python/tf/keras/datasets\">here</a>\n",
    "\n",
    "Let's load the **`Boston Housing`** dataset."
   ]
  },
  {
   "cell_type": "code",
   "execution_count": 1,
   "metadata": {},
   "outputs": [
    {
     "name": "stderr",
     "output_type": "stream",
     "text": [
      "2022-05-16 17:30:18.931666: W tensorflow/stream_executor/platform/default/dso_loader.cc:64] Could not load dynamic library 'libcudart.so.11.0'; dlerror: libcudart.so.11.0: cannot open shared object file: No such file or directory\n",
      "2022-05-16 17:30:18.931758: I tensorflow/stream_executor/cuda/cudart_stub.cc:29] Ignore above cudart dlerror if you do not have a GPU set up on your machine.\n"
     ]
    },
    {
     "data": {
      "text/plain": [
       "(404, 13)"
      ]
     },
     "execution_count": 1,
     "metadata": {},
     "output_type": "execute_result"
    }
   ],
   "source": [
    "from tensorflow.keras import datasets\n",
    "\n",
    "(X_train, y_train), (X_test, y_test) = datasets.boston_housing.load_data()\n",
    "\n",
    "X_train.shape"
   ]
  },
  {
   "cell_type": "code",
   "execution_count": 2,
   "metadata": {
    "collapsed": true
   },
   "outputs": [
    {
     "data": {
      "text/plain": [
       "array([15.2, 42.3, 50. , 21.1, 17.7, 18.5, 11.3, 15.6, 15.6, 14.4, 12.1,\n",
       "       17.9, 23.1, 19.9, 15.7,  8.8, 50. , 22.5, 24.1, 27.5, 10.9, 30.8,\n",
       "       32.9, 24. , 18.5, 13.3, 22.9, 34.7, 16.6, 17.5, 22.3, 16.1, 14.9,\n",
       "       23.1, 34.9, 25. , 13.9, 13.1, 20.4, 20. , 15.2, 24.7, 22.2, 16.7,\n",
       "       12.7, 15.6, 18.4, 21. , 30.1, 15.1, 18.7,  9.6, 31.5, 24.8, 19.1,\n",
       "       22. , 14.5, 11. , 32. , 29.4, 20.3, 24.4, 14.6, 19.5, 14.1, 14.3,\n",
       "       15.6, 10.5,  6.3, 19.3, 19.3, 13.4, 36.4, 17.8, 13.5, 16.5,  8.3,\n",
       "       14.3, 16. , 13.4, 28.6, 43.5, 20.2, 22. , 23. , 20.7, 12.5, 48.5,\n",
       "       14.6, 13.4, 23.7, 50. , 21.7, 39.8, 38.7, 22.2, 34.9, 22.5, 31.1,\n",
       "       28.7, 46. , 41.7, 21. , 26.6, 15. , 24.4, 13.3, 21.2, 11.7, 21.7,\n",
       "       19.4, 50. , 22.8, 19.7, 24.7, 36.2, 14.2, 18.9, 18.3, 20.6, 24.6,\n",
       "       18.2,  8.7, 44. , 10.4, 13.2, 21.2, 37. , 30.7, 22.9, 20. , 19.3,\n",
       "       31.7, 32. , 23.1, 18.8, 10.9, 50. , 19.6,  5. , 14.4, 19.8, 13.8,\n",
       "       19.6, 23.9, 24.5, 25. , 19.9, 17.2, 24.6, 13.5, 26.6, 21.4, 11.9,\n",
       "       22.6, 19.6,  8.5, 23.7, 23.1, 22.4, 20.5, 23.6, 18.4, 35.2, 23.1,\n",
       "       27.9, 20.6, 23.7, 28. , 13.6, 27.1, 23.6, 20.6, 18.2, 21.7, 17.1,\n",
       "        8.4, 25.3, 13.8, 22.2, 18.4, 20.7, 31.6, 30.5, 20.3,  8.8, 19.2,\n",
       "       19.4, 23.1, 23. , 14.8, 48.8, 22.6, 33.4, 21.1, 13.6, 32.2, 13.1,\n",
       "       23.4, 18.9, 23.9, 11.8, 23.3, 22.8, 19.6, 16.7, 13.4, 22.2, 20.4,\n",
       "       21.8, 26.4, 14.9, 24.1, 23.8, 12.3, 29.1, 21. , 19.5, 23.3, 23.8,\n",
       "       17.8, 11.5, 21.7, 19.9, 25. , 33.4, 28.5, 21.4, 24.3, 27.5, 33.1,\n",
       "       16.2, 23.3, 48.3, 22.9, 22.8, 13.1, 12.7, 22.6, 15. , 15.3, 10.5,\n",
       "       24. , 18.5, 21.7, 19.5, 33.2, 23.2,  5. , 19.1, 12.7, 22.3, 10.2,\n",
       "       13.9, 16.3, 17. , 20.1, 29.9, 17.2, 37.3, 45.4, 17.8, 23.2, 29. ,\n",
       "       22. , 18. , 17.4, 34.6, 20.1, 25. , 15.6, 24.8, 28.2, 21.2, 21.4,\n",
       "       23.8, 31. , 26.2, 17.4, 37.9, 17.5, 20. ,  8.3, 23.9,  8.4, 13.8,\n",
       "        7.2, 11.7, 17.1, 21.6, 50. , 16.1, 20.4, 20.6, 21.4, 20.6, 36.5,\n",
       "        8.5, 24.8, 10.8, 21.9, 17.3, 18.9, 36.2, 14.9, 18.2, 33.3, 21.8,\n",
       "       19.7, 31.6, 24.8, 19.4, 22.8,  7.5, 44.8, 16.8, 18.7, 50. , 50. ,\n",
       "       19.5, 20.1, 50. , 17.2, 20.8, 19.3, 41.3, 20.4, 20.5, 13.8, 16.5,\n",
       "       23.9, 20.6, 31.5, 23.3, 16.8, 14. , 33.8, 36.1, 12.8, 18.3, 18.7,\n",
       "       19.1, 29. , 30.1, 50. , 50. , 22. , 11.9, 37.6, 50. , 22.7, 20.8,\n",
       "       23.5, 27.9, 50. , 19.3, 23.9, 22.6, 15.2, 21.7, 19.2, 43.8, 20.3,\n",
       "       33.2, 19.9, 22.5, 32.7, 22. , 17.1, 19. , 15. , 16.1, 25.1, 23.7,\n",
       "       28.7, 37.2, 22.6, 16.4, 25. , 29.8, 22.1, 17.4, 18.1, 30.3, 17.5,\n",
       "       24.7, 12.6, 26.5, 28.7, 13.3, 10.4, 24.4, 23. , 20. , 17.8,  7. ,\n",
       "       11.8, 24.4, 13.8, 19.4, 25.2, 19.4, 19.4, 29.1])"
      ]
     },
     "execution_count": 2,
     "metadata": {},
     "output_type": "execute_result"
    }
   ],
   "source": [
    "y_train"
   ]
  },
  {
   "cell_type": "code",
   "execution_count": 3,
   "metadata": {},
   "outputs": [
    {
     "data": {
      "text/plain": [
       "(404,)"
      ]
     },
     "execution_count": 3,
     "metadata": {},
     "output_type": "execute_result"
    }
   ],
   "source": [
    "y_train.shape"
   ]
  },
  {
   "cell_type": "markdown",
   "metadata": {},
   "source": [
    "❓ Normalize your data (by the mean of the train set for instance)"
   ]
  },
  {
   "cell_type": "code",
   "execution_count": 4,
   "metadata": {
    "tags": [
     "challengify"
    ]
   },
   "outputs": [],
   "source": [
    "X_train_norm = X_train/X_train.mean(axis=0)\n",
    "X_test_norm = X_test/X_train.mean(axis=0)"
   ]
  },
  {
   "cell_type": "markdown",
   "metadata": {},
   "source": [
    "### (2) Declare the general architecture of your model\n",
    "\n"
   ]
  },
  {
   "cell_type": "markdown",
   "metadata": {},
   "source": [
    "❓ Import Keras and declare a Sequential model"
   ]
  },
  {
   "cell_type": "code",
   "execution_count": 5,
   "metadata": {
    "tags": [
     "challengify"
    ]
   },
   "outputs": [],
   "source": [
    "from tensorflow.keras import Sequential, layers\n",
    "# from tensorflow.keras.layers import Dense"
   ]
  },
  {
   "cell_type": "code",
   "execution_count": 32,
   "metadata": {},
   "outputs": [],
   "source": [
    "model = Sequential()"
   ]
  },
  {
   "cell_type": "markdown",
   "metadata": {},
   "source": [
    "❓ Add a Dense layer with 50 neurons and the `relu` activation function. Do not forget to specify your `input_dim` for the first layer."
   ]
  },
  {
   "cell_type": "code",
   "execution_count": 33,
   "metadata": {},
   "outputs": [
    {
     "data": {
      "text/plain": [
       "13"
      ]
     },
     "execution_count": 33,
     "metadata": {},
     "output_type": "execute_result"
    }
   ],
   "source": [
    "X_train.shape[1]"
   ]
  },
  {
   "cell_type": "code",
   "execution_count": 34,
   "metadata": {
    "tags": [
     "challengify"
    ]
   },
   "outputs": [],
   "source": [
    "model.add(layers.Dense(50, activation='relu', input_dim=X_train.shape[1]))"
   ]
  },
  {
   "cell_type": "markdown",
   "metadata": {},
   "source": [
    "❓ Add a second fully connected layer, with 20 neurons and the `relu` activation function."
   ]
  },
  {
   "cell_type": "code",
   "execution_count": 35,
   "metadata": {
    "tags": [
     "challengify"
    ]
   },
   "outputs": [],
   "source": [
    "model.add(layers.Dense(20, activation='relu'))"
   ]
  },
  {
   "cell_type": "markdown",
   "metadata": {},
   "source": [
    "❓ Add a last layer that suits your regression task"
   ]
  },
  {
   "cell_type": "code",
   "execution_count": 36,
   "metadata": {
    "tags": [
     "challengify"
    ]
   },
   "outputs": [],
   "source": [
    "model.add(layers.Dense(1, activation='linear'))"
   ]
  },
  {
   "cell_type": "markdown",
   "metadata": {},
   "source": [
    "❓ Check the number of parameters of your model.\n",
    "\n",
    "Re-count them manually to make sure you understood the numbers of parameters involved in each layer of your Dense Neural Network"
   ]
  },
  {
   "cell_type": "code",
   "execution_count": 37,
   "metadata": {
    "tags": [
     "challengify"
    ]
   },
   "outputs": [
    {
     "data": {
      "text/plain": [
       "1741"
      ]
     },
     "execution_count": 37,
     "metadata": {},
     "output_type": "execute_result"
    }
   ],
   "source": [
    "(13*50+50) + (20*50+20) + (20+1)"
   ]
  },
  {
   "cell_type": "code",
   "execution_count": 38,
   "metadata": {},
   "outputs": [
    {
     "name": "stdout",
     "output_type": "stream",
     "text": [
      "Model: \"sequential_2\"\n",
      "_________________________________________________________________\n",
      " Layer (type)                Output Shape              Param #   \n",
      "=================================================================\n",
      " dense_6 (Dense)             (None, 50)                700       \n",
      "                                                                 \n",
      " dense_7 (Dense)             (None, 20)                1020      \n",
      "                                                                 \n",
      " dense_8 (Dense)             (None, 1)                 21        \n",
      "                                                                 \n",
      "=================================================================\n",
      "Total params: 1,741\n",
      "Trainable params: 1,741\n",
      "Non-trainable params: 0\n",
      "_________________________________________________________________\n"
     ]
    }
   ],
   "source": [
    "model.summary()"
   ]
  },
  {
   "cell_type": "markdown",
   "metadata": {},
   "source": [
    "### (3) Define how your model is trained\n",
    " \n"
   ]
  },
  {
   "cell_type": "markdown",
   "metadata": {},
   "source": [
    "❓ Compile the model with the `adam` `optimizer` and the `mse` `loss`"
   ]
  },
  {
   "cell_type": "code",
   "execution_count": 39,
   "metadata": {
    "tags": [
     "challengify"
    ]
   },
   "outputs": [],
   "source": [
    "model.compile(loss='mse', optimizer='adam')"
   ]
  },
  {
   "cell_type": "markdown",
   "metadata": {},
   "source": [
    "❓Run the model on this random data; don't forget to select a number of `epochs` and a `batch_size`. Store the returned result in `history`."
   ]
  },
  {
   "cell_type": "code",
   "execution_count": 40,
   "metadata": {
    "collapsed": true,
    "tags": [
     "challengify"
    ]
   },
   "outputs": [
    {
     "name": "stdout",
     "output_type": "stream",
     "text": [
      "Epoch 1/40\n",
      "51/51 [==============================] - 1s 3ms/step - loss: 470.3212\n",
      "Epoch 2/40\n",
      "51/51 [==============================] - 0s 3ms/step - loss: 221.8295\n",
      "Epoch 3/40\n",
      "51/51 [==============================] - 0s 3ms/step - loss: 113.2287\n",
      "Epoch 4/40\n",
      "51/51 [==============================] - 0s 3ms/step - loss: 81.6034\n",
      "Epoch 5/40\n",
      "51/51 [==============================] - 0s 3ms/step - loss: 69.4693\n",
      "Epoch 6/40\n",
      "51/51 [==============================] - 0s 3ms/step - loss: 64.1016\n",
      "Epoch 7/40\n",
      "51/51 [==============================] - 0s 3ms/step - loss: 61.1076\n",
      "Epoch 8/40\n",
      "51/51 [==============================] - 0s 3ms/step - loss: 57.7913\n",
      "Epoch 9/40\n",
      "51/51 [==============================] - 0s 3ms/step - loss: 54.0002\n",
      "Epoch 10/40\n",
      "51/51 [==============================] - 0s 3ms/step - loss: 52.0212\n",
      "Epoch 11/40\n",
      "51/51 [==============================] - 0s 3ms/step - loss: 50.0321\n",
      "Epoch 12/40\n",
      "51/51 [==============================] - 0s 3ms/step - loss: 47.2947\n",
      "Epoch 13/40\n",
      "51/51 [==============================] - 0s 3ms/step - loss: 44.1039\n",
      "Epoch 14/40\n",
      "51/51 [==============================] - 0s 3ms/step - loss: 41.5588\n",
      "Epoch 15/40\n",
      "51/51 [==============================] - 0s 4ms/step - loss: 39.6190\n",
      "Epoch 16/40\n",
      "51/51 [==============================] - 0s 4ms/step - loss: 37.5498\n",
      "Epoch 17/40\n",
      "51/51 [==============================] - 0s 3ms/step - loss: 35.0725\n",
      "Epoch 18/40\n",
      "51/51 [==============================] - 0s 3ms/step - loss: 34.1228\n",
      "Epoch 19/40\n",
      "51/51 [==============================] - 0s 4ms/step - loss: 32.1838\n",
      "Epoch 20/40\n",
      "51/51 [==============================] - 0s 3ms/step - loss: 30.5399\n",
      "Epoch 21/40\n",
      "51/51 [==============================] - 0s 3ms/step - loss: 29.9737\n",
      "Epoch 22/40\n",
      "51/51 [==============================] - 0s 4ms/step - loss: 29.3294\n",
      "Epoch 23/40\n",
      "51/51 [==============================] - 0s 3ms/step - loss: 28.4794\n",
      "Epoch 24/40\n",
      "51/51 [==============================] - 0s 4ms/step - loss: 27.0964\n",
      "Epoch 25/40\n",
      "51/51 [==============================] - 0s 4ms/step - loss: 26.8551\n",
      "Epoch 26/40\n",
      "51/51 [==============================] - 0s 3ms/step - loss: 26.6090\n",
      "Epoch 27/40\n",
      "51/51 [==============================] - 0s 3ms/step - loss: 24.6935\n",
      "Epoch 28/40\n",
      "51/51 [==============================] - 0s 3ms/step - loss: 25.3004\n",
      "Epoch 29/40\n",
      "51/51 [==============================] - 0s 3ms/step - loss: 23.8054\n",
      "Epoch 30/40\n",
      "51/51 [==============================] - 0s 3ms/step - loss: 23.3538\n",
      "Epoch 31/40\n",
      "51/51 [==============================] - 0s 3ms/step - loss: 23.2859\n",
      "Epoch 32/40\n",
      "51/51 [==============================] - 0s 3ms/step - loss: 22.6050\n",
      "Epoch 33/40\n",
      "51/51 [==============================] - 0s 3ms/step - loss: 21.5652\n",
      "Epoch 34/40\n",
      "51/51 [==============================] - 0s 3ms/step - loss: 21.6065\n",
      "Epoch 35/40\n",
      "51/51 [==============================] - 0s 3ms/step - loss: 20.8710\n",
      "Epoch 36/40\n",
      "51/51 [==============================] - 0s 3ms/step - loss: 21.0771\n",
      "Epoch 37/40\n",
      "51/51 [==============================] - 0s 3ms/step - loss: 20.1386\n",
      "Epoch 38/40\n",
      "51/51 [==============================] - 0s 3ms/step - loss: 20.2264\n",
      "Epoch 39/40\n",
      "51/51 [==============================] - 0s 3ms/step - loss: 19.2973\n",
      "Epoch 40/40\n",
      "51/51 [==============================] - 0s 3ms/step - loss: 19.1627\n"
     ]
    }
   ],
   "source": [
    "history = model.fit(X_train_norm, y_train, batch_size=8, epochs=40)"
   ]
  },
  {
   "cell_type": "markdown",
   "metadata": {},
   "source": [
    "❓ Plot the model convergence"
   ]
  },
  {
   "cell_type": "code",
   "execution_count": 21,
   "metadata": {
    "tags": [
     "challengify"
    ]
   },
   "outputs": [],
   "source": [
    "import matplotlib.pyplot as plt"
   ]
  },
  {
   "cell_type": "code",
   "execution_count": 41,
   "metadata": {},
   "outputs": [
    {
     "data": {
      "text/plain": [
       "[<matplotlib.lines.Line2D at 0x7f3d8f17dc40>]"
      ]
     },
     "execution_count": 41,
     "metadata": {},
     "output_type": "execute_result"
    },
    {
     "data": {
      "image/png": "[encoded data removed]",
      "text/plain": [
       "<Figure size 432x288 with 1 Axes>"
      ]
     },
     "metadata": {
      "needs_background": "light"
     },
     "output_type": "display_data"
    }
   ],
   "source": [
    "plt.plot(history.history['loss'])"
   ]
  },
  {
   "cell_type": "code",
   "execution_count": 42,
   "metadata": {},
   "outputs": [
    {
     "name": "stdout",
     "output_type": "stream",
     "text": [
      "4/4 [==============================] - 0s 4ms/step - loss: 32.6837\n"
     ]
    },
    {
     "data": {
      "text/plain": [
       "32.683738708496094"
      ]
     },
     "execution_count": 42,
     "metadata": {},
     "output_type": "execute_result"
    }
   ],
   "source": [
    "model.evaluate(X_test_norm, y_test)"
   ]
  },
  {
   "cell_type": "markdown",
   "metadata": {},
   "source": [
    "❓ Write an entire model with its compilation within an `init_model` function"
   ]
  },
  {
   "cell_type": "code",
   "execution_count": null,
   "metadata": {},
   "outputs": [],
   "source": [
    "rmsle"
   ]
  },
  {
   "cell_type": "code",
   "execution_count": 60,
   "metadata": {
    "tags": [
     "challengify"
    ]
   },
   "outputs": [],
   "source": [
    "def init_model(X):\n",
    "    model = Sequential()\n",
    "    \n",
    "    model.add(layers.Dense(80, activation='relu', input_dim=X.shape[-1]))\n",
    "    model.add(layers.Dense(50, activation='relu'))\n",
    "    model.add(layers.Dense(20, activation='relu'))\n",
    "    model.add(layers.Dense(20, activation='relu'))\n",
    "    model.add(layers.Dense(1, activation='linear'))\n",
    "    \n",
    "    model.compile(loss='mse', optimizer='adam')\n",
    "    \n",
    "    return model"
   ]
  },
  {
   "cell_type": "code",
   "execution_count": 61,
   "metadata": {
    "collapsed": true
   },
   "outputs": [
    {
     "name": "stdout",
     "output_type": "stream",
     "text": [
      "Epoch 1/120\n",
      "41/41 [==============================] - 1s 10ms/step - loss: 459.4930 - val_loss: 286.5315\n",
      "Epoch 2/120\n",
      "41/41 [==============================] - 0s 5ms/step - loss: 119.9770 - val_loss: 105.4724\n",
      "Epoch 3/120\n",
      "41/41 [==============================] - 0s 5ms/step - loss: 74.2213 - val_loss: 76.4009\n",
      "Epoch 4/120\n",
      "41/41 [==============================] - 0s 5ms/step - loss: 62.3145 - val_loss: 67.3871\n",
      "Epoch 5/120\n",
      "41/41 [==============================] - 0s 5ms/step - loss: 58.0955 - val_loss: 62.3071\n",
      "Epoch 6/120\n",
      "41/41 [==============================] - 0s 5ms/step - loss: 52.7184 - val_loss: 57.3487\n",
      "Epoch 7/120\n",
      "41/41 [==============================] - 0s 5ms/step - loss: 48.1136 - val_loss: 54.2376\n",
      "Epoch 8/120\n",
      "41/41 [==============================] - 0s 5ms/step - loss: 44.1998 - val_loss: 49.2815\n",
      "Epoch 9/120\n",
      "41/41 [==============================] - 0s 5ms/step - loss: 41.1264 - val_loss: 46.1760\n",
      "Epoch 10/120\n",
      "41/41 [==============================] - 0s 5ms/step - loss: 36.3435 - val_loss: 43.7536\n",
      "Epoch 11/120\n",
      "41/41 [==============================] - 0s 5ms/step - loss: 34.5443 - val_loss: 44.1035\n",
      "Epoch 12/120\n",
      "41/41 [==============================] - 0s 6ms/step - loss: 34.0070 - val_loss: 41.1180\n",
      "Epoch 13/120\n",
      "41/41 [==============================] - 0s 5ms/step - loss: 31.3400 - val_loss: 41.7779\n",
      "Epoch 14/120\n",
      "41/41 [==============================] - 0s 5ms/step - loss: 29.2629 - val_loss: 38.4967\n",
      "Epoch 15/120\n",
      "41/41 [==============================] - 0s 5ms/step - loss: 27.9316 - val_loss: 37.4739\n",
      "Epoch 16/120\n",
      "41/41 [==============================] - 0s 6ms/step - loss: 27.7575 - val_loss: 38.3384\n",
      "Epoch 17/120\n",
      "41/41 [==============================] - 0s 5ms/step - loss: 27.7859 - val_loss: 36.2105\n",
      "Epoch 18/120\n",
      "41/41 [==============================] - 0s 5ms/step - loss: 26.1873 - val_loss: 39.9536\n",
      "Epoch 19/120\n",
      "41/41 [==============================] - 0s 6ms/step - loss: 24.2262 - val_loss: 35.7285\n",
      "Epoch 20/120\n",
      "41/41 [==============================] - 0s 5ms/step - loss: 23.1539 - val_loss: 39.6204\n",
      "Epoch 21/120\n",
      "41/41 [==============================] - 0s 5ms/step - loss: 25.2397 - val_loss: 36.1089\n",
      "Epoch 22/120\n",
      "41/41 [==============================] - 0s 5ms/step - loss: 22.6269 - val_loss: 36.2787\n",
      "Epoch 23/120\n",
      "41/41 [==============================] - 0s 5ms/step - loss: 22.1189 - val_loss: 33.8868\n",
      "Epoch 24/120\n",
      "41/41 [==============================] - 0s 5ms/step - loss: 20.9512 - val_loss: 36.6331\n",
      "Epoch 25/120\n",
      "41/41 [==============================] - 0s 5ms/step - loss: 21.6263 - val_loss: 34.7866\n",
      "Epoch 26/120\n",
      "41/41 [==============================] - 0s 5ms/step - loss: 19.8995 - val_loss: 32.9606\n",
      "Epoch 27/120\n",
      "41/41 [==============================] - 0s 5ms/step - loss: 19.2114 - val_loss: 35.8393\n",
      "Epoch 28/120\n",
      "41/41 [==============================] - 0s 5ms/step - loss: 21.3620 - val_loss: 33.4515\n",
      "Epoch 29/120\n",
      "41/41 [==============================] - 0s 5ms/step - loss: 18.5593 - val_loss: 34.4514\n",
      "Epoch 30/120\n",
      "41/41 [==============================] - 0s 5ms/step - loss: 19.6157 - val_loss: 33.3555\n",
      "Epoch 31/120\n",
      "41/41 [==============================] - 0s 5ms/step - loss: 17.1878 - val_loss: 36.6783\n",
      "Epoch 32/120\n",
      "41/41 [==============================] - 0s 5ms/step - loss: 17.0534 - val_loss: 37.5125\n",
      "Epoch 33/120\n",
      "41/41 [==============================] - 0s 5ms/step - loss: 18.4303 - val_loss: 35.1827\n",
      "Epoch 34/120\n",
      "41/41 [==============================] - 0s 5ms/step - loss: 16.7065 - val_loss: 31.7254\n",
      "Epoch 35/120\n",
      "41/41 [==============================] - 0s 6ms/step - loss: 15.6206 - val_loss: 34.3412\n",
      "Epoch 36/120\n",
      "41/41 [==============================] - 0s 5ms/step - loss: 15.0796 - val_loss: 33.1868\n",
      "Epoch 37/120\n",
      "41/41 [==============================] - 0s 5ms/step - loss: 14.9660 - val_loss: 35.1739\n",
      "Epoch 38/120\n",
      "41/41 [==============================] - 0s 6ms/step - loss: 14.8857 - val_loss: 31.2764\n",
      "Epoch 39/120\n",
      "41/41 [==============================] - 0s 6ms/step - loss: 13.9384 - val_loss: 29.9932\n",
      "Epoch 40/120\n",
      "41/41 [==============================] - 0s 6ms/step - loss: 13.5129 - val_loss: 32.0558\n",
      "Epoch 41/120\n",
      "41/41 [==============================] - 0s 5ms/step - loss: 14.3996 - val_loss: 31.6053\n",
      "Epoch 42/120\n",
      "41/41 [==============================] - 0s 5ms/step - loss: 13.4060 - val_loss: 35.2308\n",
      "Epoch 43/120\n",
      "41/41 [==============================] - 0s 5ms/step - loss: 14.2254 - val_loss: 33.0716\n",
      "Epoch 44/120\n",
      "41/41 [==============================] - 0s 5ms/step - loss: 14.9298 - val_loss: 33.6192\n",
      "Epoch 45/120\n",
      "41/41 [==============================] - 0s 6ms/step - loss: 12.8056 - val_loss: 38.0891\n",
      "Epoch 46/120\n",
      "41/41 [==============================] - 0s 5ms/step - loss: 15.9626 - val_loss: 35.7870\n",
      "Epoch 47/120\n",
      "41/41 [==============================] - 0s 5ms/step - loss: 13.5694 - val_loss: 39.3949\n",
      "Epoch 48/120\n",
      "41/41 [==============================] - 0s 5ms/step - loss: 13.5466 - val_loss: 32.1979\n",
      "Epoch 49/120\n",
      "41/41 [==============================] - 0s 5ms/step - loss: 13.5140 - val_loss: 31.5183\n",
      "Epoch 50/120\n",
      "41/41 [==============================] - 0s 5ms/step - loss: 13.5970 - val_loss: 29.3644\n",
      "Epoch 51/120\n",
      "41/41 [==============================] - 0s 5ms/step - loss: 12.0857 - val_loss: 29.7607\n",
      "Epoch 52/120\n",
      "41/41 [==============================] - 0s 6ms/step - loss: 12.4358 - val_loss: 31.2412\n",
      "Epoch 53/120\n",
      "41/41 [==============================] - 0s 6ms/step - loss: 12.3919 - val_loss: 29.4801\n",
      "Epoch 54/120\n",
      "41/41 [==============================] - 0s 5ms/step - loss: 11.7181 - val_loss: 31.6068\n",
      "Epoch 55/120\n",
      "41/41 [==============================] - 0s 5ms/step - loss: 13.7002 - val_loss: 30.6425\n",
      "Epoch 56/120\n",
      "41/41 [==============================] - 0s 6ms/step - loss: 12.9334 - val_loss: 28.5056\n",
      "Epoch 57/120\n",
      "41/41 [==============================] - 0s 5ms/step - loss: 13.3501 - val_loss: 28.7387\n",
      "Epoch 58/120\n",
      "41/41 [==============================] - 0s 5ms/step - loss: 12.0542 - val_loss: 29.3746\n",
      "Epoch 59/120\n",
      "41/41 [==============================] - 0s 5ms/step - loss: 11.5150 - val_loss: 26.7460\n",
      "Epoch 60/120\n",
      "41/41 [==============================] - 0s 5ms/step - loss: 11.5805 - val_loss: 28.2457\n",
      "Epoch 61/120\n",
      "41/41 [==============================] - 0s 5ms/step - loss: 11.1330 - val_loss: 29.4288\n",
      "Epoch 62/120\n",
      "41/41 [==============================] - 0s 5ms/step - loss: 13.5418 - val_loss: 28.0352\n",
      "Epoch 63/120\n",
      "41/41 [==============================] - 0s 5ms/step - loss: 12.4970 - val_loss: 30.8622\n",
      "Epoch 64/120\n",
      "41/41 [==============================] - 0s 5ms/step - loss: 12.8770 - val_loss: 34.0630\n",
      "Epoch 65/120\n",
      "41/41 [==============================] - 0s 5ms/step - loss: 12.6799 - val_loss: 25.0712\n",
      "Epoch 66/120\n",
      "41/41 [==============================] - 0s 5ms/step - loss: 10.4047 - val_loss: 27.4079\n",
      "Epoch 67/120\n",
      "41/41 [==============================] - 0s 5ms/step - loss: 12.0342 - val_loss: 30.7829\n",
      "Epoch 68/120\n",
      "41/41 [==============================] - 0s 5ms/step - loss: 10.7740 - val_loss: 28.1020\n",
      "Epoch 69/120\n",
      "41/41 [==============================] - 0s 5ms/step - loss: 10.9091 - val_loss: 29.8703\n",
      "Epoch 70/120\n",
      "41/41 [==============================] - 0s 5ms/step - loss: 10.3086 - val_loss: 27.0675\n",
      "Epoch 71/120\n",
      "41/41 [==============================] - 0s 5ms/step - loss: 10.2690 - val_loss: 30.5441\n",
      "Epoch 72/120\n",
      "41/41 [==============================] - 0s 5ms/step - loss: 10.4284 - val_loss: 28.2738\n",
      "Epoch 73/120\n",
      "41/41 [==============================] - 0s 5ms/step - loss: 10.4062 - val_loss: 27.7477\n",
      "Epoch 74/120\n",
      "41/41 [==============================] - 0s 5ms/step - loss: 11.2348 - val_loss: 35.9692\n",
      "Epoch 75/120\n",
      "41/41 [==============================] - 0s 6ms/step - loss: 11.7773 - val_loss: 25.9640\n",
      "Epoch 76/120\n",
      "41/41 [==============================] - 0s 6ms/step - loss: 11.2076 - val_loss: 27.1272\n",
      "Epoch 77/120\n",
      "41/41 [==============================] - 0s 5ms/step - loss: 9.8926 - val_loss: 28.8147\n",
      "Epoch 78/120\n",
      "41/41 [==============================] - 0s 5ms/step - loss: 10.0995 - val_loss: 28.0800\n",
      "Epoch 79/120\n",
      "41/41 [==============================] - 0s 5ms/step - loss: 9.3519 - val_loss: 27.1677\n",
      "Epoch 80/120\n",
      "41/41 [==============================] - 0s 5ms/step - loss: 9.2709 - val_loss: 30.5326\n",
      "Epoch 81/120\n"
     ]
    },
    {
     "name": "stdout",
     "output_type": "stream",
     "text": [
      "41/41 [==============================] - 0s 5ms/step - loss: 10.1360 - val_loss: 25.3703\n",
      "Epoch 82/120\n",
      "41/41 [==============================] - 0s 5ms/step - loss: 9.8261 - val_loss: 27.0865\n",
      "Epoch 83/120\n",
      "41/41 [==============================] - 0s 6ms/step - loss: 9.1188 - val_loss: 26.7760\n",
      "Epoch 84/120\n",
      "41/41 [==============================] - 0s 6ms/step - loss: 9.6982 - val_loss: 27.7797\n",
      "Epoch 85/120\n",
      "41/41 [==============================] - 0s 5ms/step - loss: 9.3005 - val_loss: 26.2241\n",
      "Epoch 86/120\n",
      "41/41 [==============================] - 0s 5ms/step - loss: 8.4585 - val_loss: 31.0484\n",
      "Epoch 87/120\n",
      "41/41 [==============================] - 0s 5ms/step - loss: 8.9878 - val_loss: 28.8780\n",
      "Epoch 88/120\n",
      "41/41 [==============================] - 0s 5ms/step - loss: 9.5170 - val_loss: 28.6218\n",
      "Epoch 89/120\n",
      "41/41 [==============================] - 0s 5ms/step - loss: 8.6228 - val_loss: 34.9455\n",
      "Epoch 90/120\n",
      "41/41 [==============================] - 0s 5ms/step - loss: 8.6411 - val_loss: 26.6457\n",
      "Epoch 91/120\n",
      "41/41 [==============================] - 0s 6ms/step - loss: 8.9314 - val_loss: 27.5748\n",
      "Epoch 92/120\n",
      "41/41 [==============================] - 0s 5ms/step - loss: 9.6754 - val_loss: 27.9136\n",
      "Epoch 93/120\n",
      "41/41 [==============================] - 0s 5ms/step - loss: 8.3515 - val_loss: 26.4517\n",
      "Epoch 94/120\n",
      "41/41 [==============================] - 0s 6ms/step - loss: 8.6201 - val_loss: 28.1648\n",
      "Epoch 95/120\n",
      "41/41 [==============================] - 0s 6ms/step - loss: 8.9111 - val_loss: 26.8242\n",
      "Epoch 96/120\n",
      "41/41 [==============================] - 0s 6ms/step - loss: 9.1612 - val_loss: 27.0657\n",
      "Epoch 97/120\n",
      "41/41 [==============================] - 0s 5ms/step - loss: 8.3980 - val_loss: 28.3776\n",
      "Epoch 98/120\n",
      "41/41 [==============================] - 0s 5ms/step - loss: 8.4924 - val_loss: 29.3725\n",
      "Epoch 99/120\n",
      "41/41 [==============================] - 0s 5ms/step - loss: 8.0500 - val_loss: 29.6438\n",
      "Epoch 100/120\n",
      "41/41 [==============================] - 0s 6ms/step - loss: 7.7757 - val_loss: 30.1522\n",
      "Epoch 101/120\n",
      "41/41 [==============================] - 0s 5ms/step - loss: 7.7825 - val_loss: 30.2086\n",
      "Epoch 102/120\n",
      "41/41 [==============================] - 0s 5ms/step - loss: 7.6323 - val_loss: 26.7924\n",
      "Epoch 103/120\n",
      "41/41 [==============================] - 0s 6ms/step - loss: 8.4763 - val_loss: 37.1260\n",
      "Epoch 104/120\n",
      "41/41 [==============================] - 0s 5ms/step - loss: 8.7002 - val_loss: 32.2056\n",
      "Epoch 105/120\n",
      "41/41 [==============================] - 0s 5ms/step - loss: 7.6120 - val_loss: 29.2005\n",
      "Epoch 106/120\n",
      "41/41 [==============================] - 0s 5ms/step - loss: 8.4321 - val_loss: 27.5376\n",
      "Epoch 107/120\n",
      "41/41 [==============================] - 0s 5ms/step - loss: 8.2814 - val_loss: 24.3550\n",
      "Epoch 108/120\n",
      "41/41 [==============================] - 0s 5ms/step - loss: 7.6396 - val_loss: 29.2340\n",
      "Epoch 109/120\n",
      "41/41 [==============================] - 0s 5ms/step - loss: 8.7704 - val_loss: 26.7753\n",
      "Epoch 110/120\n",
      "41/41 [==============================] - 0s 5ms/step - loss: 7.3549 - val_loss: 29.3452\n",
      "Epoch 111/120\n",
      "41/41 [==============================] - 0s 5ms/step - loss: 8.9128 - val_loss: 26.1297\n",
      "Epoch 112/120\n",
      "41/41 [==============================] - 0s 5ms/step - loss: 8.0594 - val_loss: 26.4475\n",
      "Epoch 113/120\n",
      "41/41 [==============================] - 0s 5ms/step - loss: 7.6390 - val_loss: 25.2058\n",
      "Epoch 114/120\n",
      "41/41 [==============================] - 0s 5ms/step - loss: 6.8419 - val_loss: 28.0454\n",
      "Epoch 115/120\n",
      "41/41 [==============================] - 0s 5ms/step - loss: 7.7647 - val_loss: 33.2704\n",
      "Epoch 116/120\n",
      "41/41 [==============================] - 0s 5ms/step - loss: 7.5568 - val_loss: 27.6050\n",
      "Epoch 117/120\n",
      "41/41 [==============================] - 0s 5ms/step - loss: 7.0211 - val_loss: 28.2641\n",
      "Epoch 118/120\n",
      "41/41 [==============================] - 0s 5ms/step - loss: 6.5666 - val_loss: 27.7566\n",
      "Epoch 119/120\n",
      "41/41 [==============================] - 0s 5ms/step - loss: 6.7830 - val_loss: 26.4600\n",
      "Epoch 120/120\n",
      "41/41 [==============================] - 0s 5ms/step - loss: 7.3919 - val_loss: 30.0259\n"
     ]
    }
   ],
   "source": [
    "model = init_model(X_train_norm)\n",
    "history = model.fit(X_train_norm, y_train, validation_split=0.2, batch_size=8, epochs=120)"
   ]
  },
  {
   "cell_type": "code",
   "execution_count": 63,
   "metadata": {},
   "outputs": [
    {
     "data": {
      "text/plain": [
       "<matplotlib.legend.Legend at 0x7f3d8eeb0790>"
      ]
     },
     "execution_count": 63,
     "metadata": {},
     "output_type": "execute_result"
    },
    {
     "data": {
      "image/png": "[encoded data removed]",
      "text/plain": [
       "<Figure size 864x576 with 1 Axes>"
      ]
     },
     "metadata": {
      "needs_background": "light"
     },
     "output_type": "display_data"
    }
   ],
   "source": [
    "plt.figure(figsize=(12,8))\n",
    "plt.plot(history.history['loss'], label='Train')\n",
    "plt.plot(history.history['val_loss'], label='Val')\n",
    "plt.legend()"
   ]
  },
  {
   "cell_type": "markdown",
   "metadata": {},
   "source": [
    "You are advised to systematically rebuild a model (with an init function) before fitting some data in order to re-initialize the model's parameters.\n",
    "\n",
    "The model you just wrote is suited for regression tasks.\n",
    "\n",
    "What if we want to perform a binary classification task?\n",
    "\n",
    "❓ Write another `init_model_2` function in which you will change:\n",
    "* the last layer of the architecture \n",
    "* and the compilation method\n",
    "\n",
    "used in a binary class classification problem."
   ]
  },
  {
   "cell_type": "code",
   "execution_count": 45,
   "metadata": {
    "tags": [
     "challengify"
    ]
   },
   "outputs": [],
   "source": [
    "def init_model2(X):\n",
    "    model = Sequential()\n",
    "    \n",
    "    model.add(layers.Dense(50, activation='relu', input_dim=X.shape[-1]))\n",
    "    model.add(layers.Dense(20, activation='relu'))\n",
    "    model.add(layers.Dense(1, activation='sigmoid'))\n",
    "    \n",
    "    model.compile(loss='binary_crossentropy', optimizer='adam')\n",
    "    \n",
    "    return model"
   ]
  },
  {
   "cell_type": "markdown",
   "metadata": {},
   "source": [
    "❓ Write a last function to define a model for a classification problem with 10 classes."
   ]
  },
  {
   "cell_type": "code",
   "execution_count": 46,
   "metadata": {
    "tags": [
     "challengify"
    ]
   },
   "outputs": [],
   "source": [
    "def init_model3(X):\n",
    "    model = Sequential()\n",
    "    \n",
    "    model.add(layers.Dense(50, activation='relu', input_dim=X.shape[-1]))\n",
    "    model.add(layers.Dense(20, activation='relu'))\n",
    "    model.add(layers.Dense(10, activation='softmax'))\n",
    "    \n",
    "    model.compile(loss='categorical_crossentropy', optimizer='adam')\n",
    "    \n",
    "    return model"
   ]
  },
  {
   "cell_type": "code",
   "execution_count": null,
   "metadata": {},
   "outputs": [],
   "source": []
  }
 ],
 "metadata": {
  "kernelspec": {
   "display_name": "Python 3 (ipykernel)",
   "language": "python",
   "name": "python3"
  },
  "language_info": {
   "codemirror_mode": {
    "name": "ipython",
    "version": 3
   },
   "file_extension": ".py",
   "mimetype": "text/x-python",
   "name": "python",
   "nbconvert_exporter": "python",
   "pygments_lexer": "ipython3",
   "version": "3.8.12"
  },
  "toc": {
   "base_numbering": 1,
   "nav_menu": {},
   "number_sections": true,
   "sideBar": true,
   "skip_h1_title": false,
   "title_cell": "Table of Contents",
   "title_sidebar": "Contents",
   "toc_cell": false,
   "toc_position": {},
   "toc_section_display": true,
   "toc_window_display": false
  }
 },
 "nbformat": 4,
 "nbformat_minor": 4
}
