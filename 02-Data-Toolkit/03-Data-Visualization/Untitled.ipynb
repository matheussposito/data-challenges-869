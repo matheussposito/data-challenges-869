{
 "cells": [
  {
   "cell_type": "markdown",
   "id": "c3dbfd71",
   "metadata": {},
   "source": [
    "**Digamos que a gente tem a seguinte função**\n",
    "\n",
    "$y = x^2$"
   ]
  },
  {
   "cell_type": "code",
   "execution_count": 4,
   "id": "005c7583",
   "metadata": {},
   "outputs": [],
   "source": [
    "import matplotlib.pyplot as plt\n",
    "import numpy as np"
   ]
  },
  {
   "cell_type": "code",
   "execution_count": 11,
   "id": "bf9613a9",
   "metadata": {},
   "outputs": [],
   "source": [
    "x = np.arange(-10, 11)"
   ]
  },
  {
   "cell_type": "code",
   "execution_count": 12,
   "id": "604d89ff",
   "metadata": {},
   "outputs": [],
   "source": [
    "y = x**2"
   ]
  },
  {
   "cell_type": "code",
   "execution_count": 13,
   "id": "fc911b01",
   "metadata": {},
   "outputs": [
    {
     "data": {
      "text/plain": [
       "array([-10,  -9,  -8,  -7,  -6,  -5,  -4,  -3,  -2,  -1,   0,   1,   2,\n",
       "         3,   4,   5,   6,   7,   8,   9,  10])"
      ]
     },
     "execution_count": 13,
     "metadata": {},
     "output_type": "execute_result"
    }
   ],
   "source": [
    "x"
   ]
  },
  {
   "cell_type": "code",
   "execution_count": 14,
   "id": "2c0fbb60",
   "metadata": {},
   "outputs": [
    {
     "data": {
      "text/plain": [
       "array([100,  81,  64,  49,  36,  25,  16,   9,   4,   1,   0,   1,   4,\n",
       "         9,  16,  25,  36,  49,  64,  81, 100])"
      ]
     },
     "execution_count": 14,
     "metadata": {},
     "output_type": "execute_result"
    }
   ],
   "source": [
    "y"
   ]
  },
  {
   "cell_type": "markdown",
   "id": "21475e1b",
   "metadata": {},
   "source": [
    "**Veja que o aspecto do gráfico é uma curva com a boca para cima. Ela tem um ponto de mínimo**\n",
    "\n",
    "**Aqui não existe um ponto de `máximo`, porque a função pode crescer ao infinito**\n",
    "\n",
    "Agora imagina que esta função representa nosso erro. Para termos o menor erro possível tentamos pegar o menor valor, ou seja, o `mínimo`"
   ]
  },
  {
   "cell_type": "code",
   "execution_count": 15,
   "id": "850ea4dc",
   "metadata": {},
   "outputs": [
    {
     "data": {
      "image/png": "[encoded data removed]",
      "text/plain": [
       "<Figure size 432x288 with 1 Axes>"
      ]
     },
     "metadata": {
      "needs_background": "light"
     },
     "output_type": "display_data"
    }
   ],
   "source": [
    "plt.plot(x, y);"
   ]
  },
  {
   "cell_type": "markdown",
   "id": "2cdfa612",
   "metadata": {},
   "source": [
    "**Mas, se tivéssemos uma função diferente, como a abaixo:**\n",
    "\n",
    "$y2 = -x^2$"
   ]
  },
  {
   "cell_type": "code",
   "execution_count": 16,
   "id": "04e9bfc5",
   "metadata": {},
   "outputs": [],
   "source": [
    "y2 = - x**2"
   ]
  },
  {
   "cell_type": "code",
   "execution_count": 17,
   "id": "d468b723",
   "metadata": {},
   "outputs": [
    {
     "data": {
      "text/plain": [
       "array([-100,  -81,  -64,  -49,  -36,  -25,  -16,   -9,   -4,   -1,    0,\n",
       "         -1,   -4,   -9,  -16,  -25,  -36,  -49,  -64,  -81, -100])"
      ]
     },
     "execution_count": 17,
     "metadata": {},
     "output_type": "execute_result"
    }
   ],
   "source": [
    "y2"
   ]
  },
  {
   "cell_type": "markdown",
   "id": "fa0e09ee",
   "metadata": {},
   "source": [
    "**Essa função tem um ponto de máximo, porque a boca dela é virada para baixo**\n",
    "\n",
    "**Nesse caso não existe um ponto de `mínimo` porque ela pode ir infinitamente para o negativo**\n",
    "\n",
    "Novamente, se pensarmos que esta função representa nosso erro num caso diferente, não adianta tentarmos minimizar a função, porque ela vai infinitamente para números negativos, a gente quer algo próximo de zero para o erro, então a gente busca encontrar o ponto de `máximo` desta função. "
   ]
  },
  {
   "cell_type": "code",
   "execution_count": 18,
   "id": "a498629a",
   "metadata": {},
   "outputs": [
    {
     "data": {
      "image/png": "[encoded data removed]",
      "text/plain": [
       "<Figure size 432x288 with 1 Axes>"
      ]
     },
     "metadata": {
      "needs_background": "light"
     },
     "output_type": "display_data"
    }
   ],
   "source": [
    "plt.plot(x, y2);"
   ]
  }
 ],
 "metadata": {
  "kernelspec": {
   "display_name": "Python 3 (ipykernel)",
   "language": "python",
   "name": "python3"
  },
  "language_info": {
   "codemirror_mode": {
    "name": "ipython",
    "version": 3
   },
   "file_extension": ".py",
   "mimetype": "text/x-python",
   "name": "python",
   "nbconvert_exporter": "python",
   "pygments_lexer": "ipython3",
   "version": "3.8.12"
  },
  "toc": {
   "base_numbering": 1,
   "nav_menu": {},
   "number_sections": true,
   "sideBar": true,
   "skip_h1_title": false,
   "title_cell": "Table of Contents",
   "title_sidebar": "Contents",
   "toc_cell": false,
   "toc_position": {},
   "toc_section_display": true,
   "toc_window_display": false
  }
 },
 "nbformat": 4,
 "nbformat_minor": 5
}
