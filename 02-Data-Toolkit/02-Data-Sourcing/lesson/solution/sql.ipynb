{
 "cells": [
  {
   "cell_type": "markdown",
   "id": "553be7d7-37bc-45d0-8c17-8cc1605501f8",
   "metadata": {},
   "source": [
    "# SQL"
   ]
  },
  {
   "cell_type": "code",
   "execution_count": 1,
   "id": "c101a736-09e5-4c1b-809e-b8c642a8512c",
   "metadata": {},
   "outputs": [],
   "source": [
    "import pandas as pd\n",
    "import sqlite3\n",
    "conn = sqlite3.connect(\"data/soccer.sqlite\")"
   ]
  },
  {
   "cell_type": "code",
   "execution_count": 8,
   "id": "97e9721f-55fb-4261-9633-1e939a2e495c",
   "metadata": {},
   "outputs": [
    {
     "data": {
      "text/html": [
       "<div>\n",
       "<style scoped>\n",
       "    .dataframe tbody tr th:only-of-type {\n",
       "        vertical-align: middle;\n",
       "    }\n",
       "\n",
       "    .dataframe tbody tr th {\n",
       "        vertical-align: top;\n",
       "    }\n",
       "\n",
       "    .dataframe thead th {\n",
       "        text-align: right;\n",
       "    }\n",
       "</style>\n",
       "<table border=\"1\" class=\"dataframe\">\n",
       "  <thead>\n",
       "    <tr style=\"text-align: right;\">\n",
       "      <th></th>\n",
       "      <th>id</th>\n",
       "      <th>name</th>\n",
       "      <th>country_name</th>\n",
       "    </tr>\n",
       "  </thead>\n",
       "  <tbody>\n",
       "    <tr>\n",
       "      <th>0</th>\n",
       "      <td>1</td>\n",
       "      <td>Belgium Jupiler League</td>\n",
       "      <td>Belgium</td>\n",
       "    </tr>\n",
       "    <tr>\n",
       "      <th>1</th>\n",
       "      <td>1729</td>\n",
       "      <td>England Premier League</td>\n",
       "      <td>England</td>\n",
       "    </tr>\n",
       "    <tr>\n",
       "      <th>2</th>\n",
       "      <td>4769</td>\n",
       "      <td>France Ligue 1</td>\n",
       "      <td>France</td>\n",
       "    </tr>\n",
       "    <tr>\n",
       "      <th>3</th>\n",
       "      <td>7809</td>\n",
       "      <td>Germany 1. Bundesliga</td>\n",
       "      <td>Germany</td>\n",
       "    </tr>\n",
       "    <tr>\n",
       "      <th>4</th>\n",
       "      <td>10257</td>\n",
       "      <td>Italy Serie A</td>\n",
       "      <td>Italy</td>\n",
       "    </tr>\n",
       "    <tr>\n",
       "      <th>5</th>\n",
       "      <td>13274</td>\n",
       "      <td>Netherlands Eredivisie</td>\n",
       "      <td>Netherlands</td>\n",
       "    </tr>\n",
       "    <tr>\n",
       "      <th>6</th>\n",
       "      <td>15722</td>\n",
       "      <td>Poland Ekstraklasa</td>\n",
       "      <td>Poland</td>\n",
       "    </tr>\n",
       "    <tr>\n",
       "      <th>7</th>\n",
       "      <td>17642</td>\n",
       "      <td>Portugal Liga ZON Sagres</td>\n",
       "      <td>Portugal</td>\n",
       "    </tr>\n",
       "    <tr>\n",
       "      <th>8</th>\n",
       "      <td>19694</td>\n",
       "      <td>Scotland Premier League</td>\n",
       "      <td>Scotland</td>\n",
       "    </tr>\n",
       "    <tr>\n",
       "      <th>9</th>\n",
       "      <td>21518</td>\n",
       "      <td>Spain LIGA BBVA</td>\n",
       "      <td>Spain</td>\n",
       "    </tr>\n",
       "    <tr>\n",
       "      <th>10</th>\n",
       "      <td>24558</td>\n",
       "      <td>Switzerland Super League</td>\n",
       "      <td>Switzerland</td>\n",
       "    </tr>\n",
       "  </tbody>\n",
       "</table>\n",
       "</div>"
      ],
      "text/plain": [
       "       id                      name country_name\n",
       "0       1    Belgium Jupiler League      Belgium\n",
       "1    1729    England Premier League      England\n",
       "2    4769            France Ligue 1       France\n",
       "3    7809     Germany 1. Bundesliga      Germany\n",
       "4   10257             Italy Serie A        Italy\n",
       "5   13274    Netherlands Eredivisie  Netherlands\n",
       "6   15722        Poland Ekstraklasa       Poland\n",
       "7   17642  Portugal Liga ZON Sagres     Portugal\n",
       "8   19694   Scotland Premier League     Scotland\n",
       "9   21518           Spain LIGA BBVA        Spain\n",
       "10  24558  Switzerland Super League  Switzerland"
      ]
     },
     "execution_count": 8,
     "metadata": {},
     "output_type": "execute_result"
    }
   ],
   "source": [
    "league_df = pd.read_sql(\n",
    "    '''\n",
    "    SELECT l.id, l.name, c.name as country_name\n",
    "    FROM League l\n",
    "    JOIN Country c ON c.id = l.country_id\n",
    "    ''', conn)\n",
    "league_df"
   ]
  },
  {
   "cell_type": "code",
   "execution_count": 6,
   "id": "ae93a1fa-8d6e-46a3-b446-23c23135b359",
   "metadata": {},
   "outputs": [],
   "source": [
    "league_df = pd.read_sql(\n",
    "    '''\n",
    "    SELECT l.id, l.name, c.name as country_name\n",
    "    FROM League l\n",
    "    JOIN Country c ON c.id = l.country_id\n",
    "    WHERE country_name = ?\n",
    "    ''', conn, params=('Belgium',))"
   ]
  },
  {
   "cell_type": "code",
   "execution_count": 7,
   "id": "44ca56ac-cc3a-4247-aa2c-ff723b76a023",
   "metadata": {},
   "outputs": [
    {
     "data": {
      "text/html": [
       "<div>\n",
       "<style scoped>\n",
       "    .dataframe tbody tr th:only-of-type {\n",
       "        vertical-align: middle;\n",
       "    }\n",
       "\n",
       "    .dataframe tbody tr th {\n",
       "        vertical-align: top;\n",
       "    }\n",
       "\n",
       "    .dataframe thead th {\n",
       "        text-align: right;\n",
       "    }\n",
       "</style>\n",
       "<table border=\"1\" class=\"dataframe\">\n",
       "  <thead>\n",
       "    <tr style=\"text-align: right;\">\n",
       "      <th></th>\n",
       "      <th>id</th>\n",
       "      <th>name</th>\n",
       "      <th>country_name</th>\n",
       "    </tr>\n",
       "  </thead>\n",
       "  <tbody>\n",
       "    <tr>\n",
       "      <th>0</th>\n",
       "      <td>1</td>\n",
       "      <td>Belgium Jupiler League</td>\n",
       "      <td>Belgium</td>\n",
       "    </tr>\n",
       "  </tbody>\n",
       "</table>\n",
       "</div>"
      ],
      "text/plain": [
       "   id                    name country_name\n",
       "0   1  Belgium Jupiler League      Belgium"
      ]
     },
     "execution_count": 7,
     "metadata": {},
     "output_type": "execute_result"
    }
   ],
   "source": [
    "league_df"
   ]
  },
  {
   "cell_type": "markdown",
   "id": "a69cf8c6-0b81-4949-9777-dbb224125e7f",
   "metadata": {},
   "source": [
    "# Google Big Query"
   ]
  },
  {
   "cell_type": "code",
   "execution_count": 9,
   "id": "0166db6a-b279-4e06-8e2b-7b9f0ee8f4c0",
   "metadata": {},
   "outputs": [],
   "source": [
    "import pandas_gbq"
   ]
  },
  {
   "cell_type": "code",
   "execution_count": 11,
   "id": "58f32bcf-54c1-4047-b246-f48368dbe016",
   "metadata": {},
   "outputs": [
    {
     "name": "stderr",
     "output_type": "stream",
     "text": [
      "Downloading: 100%|██████████████████████████████████████████████████████████████| 5368/5368 [00:01<00:00, 3988.07rows/s]\n"
     ]
    }
   ],
   "source": [
    "project_id = 'le-wagon-bootcamp-328017' # TODO: replace with your own!\n",
    "\n",
    "sql = \"\"\"\n",
    "SELECT faa_identifier, name, longitude, latitude, airport_type, service_city, country\n",
    "FROM `bigquery-public-data.faa.us_airports`\n",
    "WHERE airport_use = 'Public'\n",
    "\"\"\"\n",
    "airports_df = pandas_gbq.read_gbq(sql, project_id=project_id)"
   ]
  },
  {
   "cell_type": "code",
   "execution_count": 12,
   "id": "06e92b88-1dcb-4d74-a734-0e1bf9433189",
   "metadata": {},
   "outputs": [
    {
     "data": {
      "text/html": [
       "<div>\n",
       "<style scoped>\n",
       "    .dataframe tbody tr th:only-of-type {\n",
       "        vertical-align: middle;\n",
       "    }\n",
       "\n",
       "    .dataframe tbody tr th {\n",
       "        vertical-align: top;\n",
       "    }\n",
       "\n",
       "    .dataframe thead th {\n",
       "        text-align: right;\n",
       "    }\n",
       "</style>\n",
       "<table border=\"1\" class=\"dataframe\">\n",
       "  <thead>\n",
       "    <tr style=\"text-align: right;\">\n",
       "      <th></th>\n",
       "      <th>faa_identifier</th>\n",
       "      <th>name</th>\n",
       "      <th>longitude</th>\n",
       "      <th>latitude</th>\n",
       "      <th>airport_type</th>\n",
       "      <th>service_city</th>\n",
       "      <th>country</th>\n",
       "    </tr>\n",
       "  </thead>\n",
       "  <tbody>\n",
       "    <tr>\n",
       "      <th>0</th>\n",
       "      <td>X01</td>\n",
       "      <td>Everglades Arpk</td>\n",
       "      <td>-81.390281</td>\n",
       "      <td>25.848866</td>\n",
       "      <td>Aerodome</td>\n",
       "      <td>Everglades</td>\n",
       "      <td>United States</td>\n",
       "    </tr>\n",
       "    <tr>\n",
       "      <th>1</th>\n",
       "      <td>0C8</td>\n",
       "      <td>Cushing Fld Ltd</td>\n",
       "      <td>-88.605635</td>\n",
       "      <td>41.519483</td>\n",
       "      <td>Aerodome</td>\n",
       "      <td>Newark</td>\n",
       "      <td>United States</td>\n",
       "    </tr>\n",
       "    <tr>\n",
       "      <th>2</th>\n",
       "      <td>7L8</td>\n",
       "      <td>Post-Air</td>\n",
       "      <td>-86.013876</td>\n",
       "      <td>39.750050</td>\n",
       "      <td>Aerodome</td>\n",
       "      <td>Indianapolis</td>\n",
       "      <td>United States</td>\n",
       "    </tr>\n",
       "    <tr>\n",
       "      <th>3</th>\n",
       "      <td>71K</td>\n",
       "      <td>Westport</td>\n",
       "      <td>-97.383702</td>\n",
       "      <td>37.647701</td>\n",
       "      <td>Aerodome</td>\n",
       "      <td>Wichita</td>\n",
       "      <td>United States</td>\n",
       "    </tr>\n",
       "    <tr>\n",
       "      <th>4</th>\n",
       "      <td>2M7</td>\n",
       "      <td>Hoffman's Black Mountain Aerodrome</td>\n",
       "      <td>-84.308061</td>\n",
       "      <td>45.531953</td>\n",
       "      <td>Aerodome</td>\n",
       "      <td>Cheboygan</td>\n",
       "      <td>United States</td>\n",
       "    </tr>\n",
       "    <tr>\n",
       "      <th>5</th>\n",
       "      <td>95D</td>\n",
       "      <td>Beulah</td>\n",
       "      <td>-101.815054</td>\n",
       "      <td>47.251222</td>\n",
       "      <td>Aerodome</td>\n",
       "      <td>Beulah</td>\n",
       "      <td>United States</td>\n",
       "    </tr>\n",
       "    <tr>\n",
       "      <th>6</th>\n",
       "      <td>1I5</td>\n",
       "      <td>Freehold</td>\n",
       "      <td>-74.065029</td>\n",
       "      <td>42.364009</td>\n",
       "      <td>Aerodome</td>\n",
       "      <td>Freehold</td>\n",
       "      <td>United States</td>\n",
       "    </tr>\n",
       "    <tr>\n",
       "      <th>7</th>\n",
       "      <td>6S2</td>\n",
       "      <td>Florence Muni</td>\n",
       "      <td>-124.111383</td>\n",
       "      <td>43.982822</td>\n",
       "      <td>Aerodome</td>\n",
       "      <td>Florence</td>\n",
       "      <td>United States</td>\n",
       "    </tr>\n",
       "    <tr>\n",
       "      <th>8</th>\n",
       "      <td>E95</td>\n",
       "      <td>Benson Muni</td>\n",
       "      <td>-110.357983</td>\n",
       "      <td>31.999449</td>\n",
       "      <td>Aerodome</td>\n",
       "      <td>Benson</td>\n",
       "      <td>United States</td>\n",
       "    </tr>\n",
       "    <tr>\n",
       "      <th>9</th>\n",
       "      <td>0Y6</td>\n",
       "      <td>Lake Mills Muni</td>\n",
       "      <td>-93.511758</td>\n",
       "      <td>43.413674</td>\n",
       "      <td>Aerodome</td>\n",
       "      <td>Lake Mills</td>\n",
       "      <td>United States</td>\n",
       "    </tr>\n",
       "  </tbody>\n",
       "</table>\n",
       "</div>"
      ],
      "text/plain": [
       "  faa_identifier                                name   longitude   latitude  \\\n",
       "0            X01                     Everglades Arpk  -81.390281  25.848866   \n",
       "1            0C8                     Cushing Fld Ltd  -88.605635  41.519483   \n",
       "2            7L8                            Post-Air  -86.013876  39.750050   \n",
       "3            71K                            Westport  -97.383702  37.647701   \n",
       "4            2M7  Hoffman's Black Mountain Aerodrome  -84.308061  45.531953   \n",
       "5            95D                              Beulah -101.815054  47.251222   \n",
       "6            1I5                            Freehold  -74.065029  42.364009   \n",
       "7            6S2                       Florence Muni -124.111383  43.982822   \n",
       "8            E95                         Benson Muni -110.357983  31.999449   \n",
       "9            0Y6                     Lake Mills Muni  -93.511758  43.413674   \n",
       "\n",
       "  airport_type  service_city        country  \n",
       "0     Aerodome    Everglades  United States  \n",
       "1     Aerodome        Newark  United States  \n",
       "2     Aerodome  Indianapolis  United States  \n",
       "3     Aerodome       Wichita  United States  \n",
       "4     Aerodome     Cheboygan  United States  \n",
       "5     Aerodome        Beulah  United States  \n",
       "6     Aerodome      Freehold  United States  \n",
       "7     Aerodome      Florence  United States  \n",
       "8     Aerodome        Benson  United States  \n",
       "9     Aerodome    Lake Mills  United States  "
      ]
     },
     "execution_count": 12,
     "metadata": {},
     "output_type": "execute_result"
    }
   ],
   "source": [
    "airports_df.head(10)"
   ]
  },
  {
   "cell_type": "code",
   "execution_count": 14,
   "id": "3d421830-327e-4d6d-b601-ad23f5caace3",
   "metadata": {},
   "outputs": [
    {
     "data": {
      "text/plain": [
       "(5368, 7)"
      ]
     },
     "execution_count": 14,
     "metadata": {},
     "output_type": "execute_result"
    }
   ],
   "source": [
    "airports_df.shape"
   ]
  },
  {
   "cell_type": "code",
   "execution_count": null,
   "id": "7af1cc2c-693f-47a1-9a45-3009c947f9c1",
   "metadata": {},
   "outputs": [],
   "source": []
  }
 ],
 "metadata": {
  "kernelspec": {
   "display_name": "Python 3 (ipykernel)",
   "language": "python",
   "name": "python3"
  },
  "language_info": {
   "codemirror_mode": {
    "name": "ipython",
    "version": 3
   },
   "file_extension": ".py",
   "mimetype": "text/x-python",
   "name": "python",
   "nbconvert_exporter": "python",
   "pygments_lexer": "ipython3",
   "version": "3.8.12"
  }
 },
 "nbformat": 4,
 "nbformat_minor": 5
}
