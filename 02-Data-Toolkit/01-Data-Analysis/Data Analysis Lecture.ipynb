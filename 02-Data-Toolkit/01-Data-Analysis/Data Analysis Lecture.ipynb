{
 "cells": [
  {
   "cell_type": "markdown",
   "id": "5d3d4b53",
   "metadata": {},
   "source": [
    "**This is a markdown cell**\n",
    "\n",
    "![image](lewagon.png)"
   ]
  },
  {
   "cell_type": "code",
   "execution_count": null,
   "id": "72236ec9",
   "metadata": {},
   "outputs": [],
   "source": [
    "!ls"
   ]
  },
  {
   "cell_type": "markdown",
   "id": "9d78be9f",
   "metadata": {},
   "source": [
    "# Data Analytics Lecture"
   ]
  },
  {
   "cell_type": "markdown",
   "id": "d03b1103",
   "metadata": {},
   "source": [
    "## Jupyter Notebooks 101"
   ]
  },
  {
   "cell_type": "markdown",
   "id": "24fb7b38",
   "metadata": {},
   "source": [
    "## Markdown\n",
    "### Sub-subtitle\n",
    "\n",
    "This is a plain text\n",
    "**bold**\n",
    "*italic*\n",
    "- a\n",
    "- b\n",
    "- c"
   ]
  },
  {
   "cell_type": "markdown",
   "id": "d8170cda",
   "metadata": {},
   "source": [
    "<button> Test </button>"
   ]
  },
  {
   "cell_type": "markdown",
   "id": "20567c93",
   "metadata": {},
   "source": [
    "## Code"
   ]
  },
  {
   "cell_type": "code",
   "execution_count": null,
   "id": "0b4eb03d",
   "metadata": {},
   "outputs": [],
   "source": [
    "2 + 2"
   ]
  },
  {
   "cell_type": "code",
   "execution_count": null,
   "id": "1ec102de",
   "metadata": {},
   "outputs": [],
   "source": [
    "print('Hello World')"
   ]
  },
  {
   "cell_type": "code",
   "execution_count": null,
   "id": "8d3f80a2",
   "metadata": {},
   "outputs": [],
   "source": [
    "a = 123"
   ]
  },
  {
   "cell_type": "markdown",
   "id": "60c0b619",
   "metadata": {},
   "source": [
    "## Numpy"
   ]
  },
  {
   "cell_type": "code",
   "execution_count": null,
   "id": "2648950d",
   "metadata": {},
   "outputs": [],
   "source": [
    "import numpy as np # Canonical import"
   ]
  },
  {
   "cell_type": "code",
   "execution_count": null,
   "id": "d84b8564",
   "metadata": {},
   "outputs": [],
   "source": [
    "l = [[1,2,3], [4,5,6]]\n",
    "print(type(l))\n",
    "l # list of list"
   ]
  },
  {
   "cell_type": "code",
   "execution_count": null,
   "id": "f2e9b3b5",
   "metadata": {},
   "outputs": [],
   "source": [
    "A = np.array(l) \n",
    "print(type(A))\n",
    "A # ndarray"
   ]
  },
  {
   "cell_type": "markdown",
   "id": "b14c0f1f",
   "metadata": {},
   "source": [
    "### Array Attributes"
   ]
  },
  {
   "cell_type": "code",
   "execution_count": null,
   "id": "6d40df3f",
   "metadata": {},
   "outputs": [],
   "source": [
    "A.shape"
   ]
  },
  {
   "cell_type": "code",
   "execution_count": null,
   "id": "9750c7cb",
   "metadata": {},
   "outputs": [],
   "source": [
    "A.dtype"
   ]
  },
  {
   "cell_type": "code",
   "execution_count": null,
   "id": "286196b5",
   "metadata": {},
   "outputs": [],
   "source": [
    "A.ndim"
   ]
  },
  {
   "cell_type": "code",
   "execution_count": null,
   "id": "a8b14f34",
   "metadata": {},
   "outputs": [],
   "source": [
    "A.size"
   ]
  },
  {
   "cell_type": "markdown",
   "id": "fe12df30",
   "metadata": {},
   "source": [
    "### Data selection 😎"
   ]
  },
  {
   "cell_type": "code",
   "execution_count": null,
   "id": "b510eec2",
   "metadata": {},
   "outputs": [],
   "source": [
    "# lets build a 2D array from a list of list\n",
    "data_list = [\n",
    "    [ 0,  1,  2,  3,  4],\n",
    "    [10, 11, 12, 13, 14],\n",
    "    [20, 21, 22, 23, 24],\n",
    "    [30, 31, 32, 33, 34],\n",
    "    [40, 41, 42, 43, 44],\n",
    "]\n",
    "\n",
    "data_np = np.array(data_list)\n",
    "data_np"
   ]
  },
  {
   "cell_type": "code",
   "execution_count": null,
   "id": "ce3515a5",
   "metadata": {},
   "outputs": [],
   "source": [
    "# Pure python\n",
    "data_list[2][1:4]"
   ]
  },
  {
   "cell_type": "code",
   "execution_count": null,
   "id": "3a5f77a6",
   "metadata": {},
   "outputs": [],
   "source": [
    "# NumPy\n",
    "data_np[2, 1:4] # data_np[row(s), column(s)]"
   ]
  },
  {
   "cell_type": "code",
   "execution_count": null,
   "id": "be3d6754",
   "metadata": {},
   "outputs": [],
   "source": [
    "# Pure python\n",
    "selection = []\n",
    "for index, row in enumerate(data_list):\n",
    "    if index > 0:\n",
    "        selection.append(row[4])\n",
    "selection # We could also have used a list comprehension for less lines"
   ]
  },
  {
   "cell_type": "code",
   "execution_count": null,
   "id": "b7e459d7",
   "metadata": {},
   "outputs": [],
   "source": [
    "# NumPy\n",
    "data_np[1:, 4] # `1:` means from line 1 until the end."
   ]
  },
  {
   "cell_type": "code",
   "execution_count": null,
   "id": "b774c8b7",
   "metadata": {},
   "outputs": [],
   "source": [
    "A = np.arange(0, 10)\n",
    "A"
   ]
  },
  {
   "cell_type": "code",
   "execution_count": null,
   "id": "47e53f81",
   "metadata": {},
   "outputs": [],
   "source": [
    "A[1:7:2]"
   ]
  },
  {
   "cell_type": "markdown",
   "id": "13062357",
   "metadata": {},
   "source": [
    "### Vectorized operations ⚡️"
   ]
  },
  {
   "cell_type": "code",
   "execution_count": null,
   "id": "4ca0c9d5",
   "metadata": {},
   "outputs": [],
   "source": [
    "my_list = [\n",
    "    [6, 5],\n",
    "    [1, 3],\n",
    "    [5, 6],\n",
    "    [1, 4],\n",
    "    [3, 7],\n",
    "    [5, 8],\n",
    "    [3, 5],\n",
    "    [8, 4],\n",
    "]"
   ]
  },
  {
   "cell_type": "code",
   "execution_count": null,
   "id": "d0820768",
   "metadata": {},
   "outputs": [],
   "source": [
    "# Python way\n",
    "sums = []\n",
    "for row in my_list:\n",
    "    sums.append(row[0] + row[1]) # standard integer \"+\" operator\n",
    "sums"
   ]
  },
  {
   "cell_type": "code",
   "execution_count": null,
   "id": "6e9a5afc",
   "metadata": {},
   "outputs": [],
   "source": [
    "A = np.array(my_list)\n",
    "my_sum = A[:,0] + A[:,1] # Vectorial \"+\" operator\n",
    "my_sum"
   ]
  },
  {
   "cell_type": "code",
   "execution_count": null,
   "id": "e3a34a66",
   "metadata": {},
   "outputs": [],
   "source": [
    "np.sum(A, axis=0)  # eq. to A[0,:] + A[1,:] + A[2,:] + ..."
   ]
  },
  {
   "cell_type": "code",
   "execution_count": null,
   "id": "10c4ec65",
   "metadata": {},
   "outputs": [],
   "source": [
    "np.sum(A, axis=1)  # eq. to A[:,0] + A[:,1] + A[:,2] + ..."
   ]
  },
  {
   "cell_type": "markdown",
   "id": "c0274a56",
   "metadata": {},
   "source": [
    "### How much faster is NumPy? ⚡️"
   ]
  },
  {
   "cell_type": "code",
   "execution_count": null,
   "id": "0f611915",
   "metadata": {},
   "outputs": [],
   "source": [
    "# 2D ndarray of shape (10000, 10000) with random float in [0, 1] interval. That's 100M numbers!\n",
    "A = np.random.rand(10000, 10000)\n",
    "a = A.tolist()"
   ]
  },
  {
   "cell_type": "code",
   "execution_count": null,
   "id": "11f12b21",
   "metadata": {},
   "outputs": [],
   "source": [
    "%%time\n",
    "total = 0\n",
    "for row in a:\n",
    "    for n in row:\n",
    "        total += n\n",
    "round(total, 2)"
   ]
  },
  {
   "cell_type": "code",
   "execution_count": null,
   "id": "439382c9",
   "metadata": {},
   "outputs": [],
   "source": [
    "%%time\n",
    "round(np.sum(A), 2)"
   ]
  },
  {
   "cell_type": "markdown",
   "id": "c4c60891",
   "metadata": {},
   "source": [
    "### Boolean Indexing  🔥"
   ]
  },
  {
   "cell_type": "code",
   "execution_count": null,
   "id": "9089abbe",
   "metadata": {},
   "outputs": [],
   "source": [
    "A = np.array(my_list)\n",
    "A"
   ]
  },
  {
   "cell_type": "code",
   "execution_count": null,
   "id": "5262474f",
   "metadata": {},
   "outputs": [],
   "source": [
    "A > 4"
   ]
  },
  {
   "cell_type": "code",
   "execution_count": null,
   "id": "04a71db0",
   "metadata": {},
   "outputs": [],
   "source": [
    "A[A > 4]"
   ]
  },
  {
   "cell_type": "code",
   "execution_count": null,
   "id": "98d67a42",
   "metadata": {},
   "outputs": [],
   "source": [
    "A[A > 4] = 100"
   ]
  },
  {
   "cell_type": "code",
   "execution_count": null,
   "id": "5daae38f",
   "metadata": {},
   "outputs": [],
   "source": [
    "A"
   ]
  },
  {
   "cell_type": "markdown",
   "id": "816993a3",
   "metadata": {},
   "source": [
    "## Pandas"
   ]
  },
  {
   "cell_type": "code",
   "execution_count": null,
   "id": "49ffeff5",
   "metadata": {},
   "outputs": [],
   "source": [
    "import pandas as pd # canonical import"
   ]
  },
  {
   "cell_type": "markdown",
   "id": "73a6467d",
   "metadata": {},
   "source": [
    "### Pandas Series"
   ]
  },
  {
   "cell_type": "code",
   "execution_count": null,
   "id": "e39f97be",
   "metadata": {},
   "outputs": [],
   "source": [
    "#s = pd.Series(data=[1,2,'three'], index=['id1', 'id2', 'id3']) # one way to create a Pandas Series\n",
    "s = pd.Series({'id1': 1, 'id2': 2, 'id3': 'three'}) # another way to create the same series\n",
    "s"
   ]
  },
  {
   "cell_type": "markdown",
   "id": "86f74977",
   "metadata": {},
   "source": [
    "### Pandas DataFrames"
   ]
  },
  {
   "cell_type": "code",
   "execution_count": null,
   "id": "ca134b39",
   "metadata": {},
   "outputs": [],
   "source": [
    "df = pd.DataFrame(\n",
    "    [[4, 7, 10],\n",
    "     [5, 8, 11],\n",
    "     [6, 9, 12]],\n",
    "    index=['row_1', 'row_2', 'row_3'],\n",
    "    columns=[\"col_a\", \"col_b\", \"col_c\"]\n",
    ")\n",
    "df"
   ]
  },
  {
   "cell_type": "code",
   "execution_count": null,
   "id": "e70bc4fe",
   "metadata": {},
   "outputs": [],
   "source": [
    "apples  = pd.Series(data=[1, 2, 3], index=[\"id1\", \"id2\", \"id3\"])\n",
    "oranges = pd.Series(data=[4, 5, 6], index=[\"id1\", \"id2\", \"id3\"])\n",
    "d = {\n",
    "    \"apples\": apples,\n",
    "    \"oranges\": oranges,\n",
    "}"
   ]
  },
  {
   "cell_type": "code",
   "execution_count": null,
   "id": "5f2cb786",
   "metadata": {},
   "outputs": [],
   "source": [
    "apples"
   ]
  },
  {
   "cell_type": "code",
   "execution_count": null,
   "id": "41c60264",
   "metadata": {},
   "outputs": [],
   "source": [
    "oranges"
   ]
  },
  {
   "cell_type": "code",
   "execution_count": null,
   "id": "5a129f2e",
   "metadata": {},
   "outputs": [],
   "source": [
    "pd.DataFrame(d)"
   ]
  },
  {
   "cell_type": "markdown",
   "id": "483c545d",
   "metadata": {},
   "source": [
    "### Reading (loading) the Data"
   ]
  },
  {
   "cell_type": "code",
   "execution_count": null,
   "id": "ec7d425b",
   "metadata": {},
   "outputs": [],
   "source": [
    "countries_df = pd.read_csv('countries.csv', decimal=',')"
   ]
  },
  {
   "cell_type": "markdown",
   "id": "97f29228",
   "metadata": {},
   "source": [
    "### Exploring the Data"
   ]
  },
  {
   "cell_type": "code",
   "execution_count": null,
   "id": "826377af",
   "metadata": {},
   "outputs": [],
   "source": [
    "countries_df"
   ]
  },
  {
   "cell_type": "code",
   "execution_count": null,
   "id": "d03296dc",
   "metadata": {},
   "outputs": [],
   "source": [
    "countries_df.shape"
   ]
  },
  {
   "cell_type": "code",
   "execution_count": null,
   "id": "df05ff87",
   "metadata": {},
   "outputs": [],
   "source": [
    "countries_df.dtypes"
   ]
  },
  {
   "cell_type": "code",
   "execution_count": null,
   "id": "440293b3",
   "metadata": {},
   "outputs": [],
   "source": [
    "countries_df.info()"
   ]
  },
  {
   "cell_type": "code",
   "execution_count": null,
   "id": "71e9993a",
   "metadata": {},
   "outputs": [],
   "source": [
    "countries_df.describe()"
   ]
  },
  {
   "cell_type": "code",
   "execution_count": null,
   "id": "78be12f8",
   "metadata": {},
   "outputs": [],
   "source": [
    "countries_df.isnull().sum()"
   ]
  },
  {
   "cell_type": "code",
   "execution_count": null,
   "id": "b1e01e1e",
   "metadata": {},
   "outputs": [],
   "source": [
    "countries_df.head()"
   ]
  },
  {
   "cell_type": "code",
   "execution_count": null,
   "id": "88b98350",
   "metadata": {},
   "outputs": [],
   "source": [
    "countries_df.tail(3)"
   ]
  },
  {
   "cell_type": "code",
   "execution_count": null,
   "id": "dfdceebc",
   "metadata": {},
   "outputs": [],
   "source": [
    "countries_df['Country']"
   ]
  },
  {
   "cell_type": "code",
   "execution_count": null,
   "id": "30429264",
   "metadata": {},
   "outputs": [],
   "source": [
    "type(countries_df['Country'])"
   ]
  },
  {
   "cell_type": "code",
   "execution_count": null,
   "id": "25b9e75d",
   "metadata": {},
   "outputs": [],
   "source": [
    "countries_df[['Country']]"
   ]
  },
  {
   "cell_type": "code",
   "execution_count": null,
   "id": "b1eb6062",
   "metadata": {},
   "outputs": [],
   "source": [
    "type(countries_df[['Country']])"
   ]
  },
  {
   "cell_type": "code",
   "execution_count": null,
   "id": "38e7ce38",
   "metadata": {},
   "outputs": [],
   "source": [
    "countries_df[['Country', 'Population']]"
   ]
  },
  {
   "cell_type": "code",
   "execution_count": null,
   "id": "24be8dbf",
   "metadata": {},
   "outputs": [],
   "source": [
    "countries_df.loc[0:3, [\"Country\", \"Region\"]] # From row index 0 to 5 (included)"
   ]
  },
  {
   "cell_type": "markdown",
   "id": "054431e3",
   "metadata": {},
   "source": [
    "### Boolean Indexing"
   ]
  },
  {
   "cell_type": "markdown",
   "id": "1e4afc73",
   "metadata": {},
   "source": [
    "🤔 What are the countries with more than one billion inhabitants?"
   ]
  },
  {
   "cell_type": "code",
   "execution_count": null,
   "id": "1d2c2247",
   "metadata": {},
   "outputs": [],
   "source": [
    "big_countries = []\n",
    "for index, country in countries_df.iterrows():\n",
    "    if country['Population'] >= 1_000_000_000:\n",
    "        big_countries.append(country)\n",
    "pd.DataFrame(big_countries)"
   ]
  },
  {
   "cell_type": "code",
   "execution_count": null,
   "id": "f92e888c",
   "metadata": {},
   "outputs": [],
   "source": [
    "countries_df[(countries_df[\"Population\"] >= 1_000_000_000) & (countries_df['Climate'] > 2)]"
   ]
  },
  {
   "cell_type": "markdown",
   "id": "0f3b7398",
   "metadata": {},
   "source": [
    "🤔 What are the countries of the American continent?"
   ]
  },
  {
   "cell_type": "code",
   "execution_count": null,
   "id": "6dd09f69",
   "metadata": {},
   "outputs": [],
   "source": [
    "american = countries_df['Region'].str.contains('AMER')\n",
    "countries_df[american]"
   ]
  },
  {
   "cell_type": "markdown",
   "id": "df2edcea",
   "metadata": {},
   "source": [
    "🤔 What are the countries of Europe?"
   ]
  },
  {
   "cell_type": "code",
   "execution_count": null,
   "id": "81f7374c",
   "metadata": {},
   "outputs": [],
   "source": [
    "countries_df[countries_df[\"Region\"].isin([\"WESTERN EUROPE\", \"EASTERN EUROPE\"])]"
   ]
  },
  {
   "cell_type": "code",
   "execution_count": null,
   "id": "3f93d310",
   "metadata": {},
   "outputs": [],
   "source": [
    "countries_df[\"Region\"].unique()"
   ]
  },
  {
   "cell_type": "code",
   "execution_count": null,
   "id": "6d2c816b",
   "metadata": {},
   "outputs": [],
   "source": [
    "countries_df[\"Region\"] = countries_df[\"Region\"].str.strip()"
   ]
  },
  {
   "cell_type": "code",
   "execution_count": null,
   "id": "a9ee1fc0",
   "metadata": {},
   "outputs": [],
   "source": [
    "countries_df[\"Region\"].unique()"
   ]
  },
  {
   "cell_type": "code",
   "execution_count": null,
   "id": "b63be5eb",
   "metadata": {},
   "outputs": [],
   "source": [
    "countries_df[countries_df[\"Region\"].isin([\"WESTERN EUROPE\", \"EASTERN EUROPE\"])]"
   ]
  },
  {
   "cell_type": "markdown",
   "id": "baac338d",
   "metadata": {},
   "source": [
    "**NOT** operator: *~*"
   ]
  },
  {
   "cell_type": "code",
   "execution_count": null,
   "id": "cdbad5e0",
   "metadata": {
    "scrolled": true
   },
   "outputs": [],
   "source": [
    "countries_df[~countries_df[\"Region\"].isin([\"WESTERN EUROPE\", \"EASTERN EUROPE\"])]"
   ]
  },
  {
   "cell_type": "markdown",
   "id": "9855a89b",
   "metadata": {},
   "source": [
    "## Pandas - Re-indexing"
   ]
  },
  {
   "cell_type": "code",
   "execution_count": null,
   "id": "e05292ce",
   "metadata": {},
   "outputs": [],
   "source": [
    "countries_df['Country'] = countries_df['Country'].map(str.strip)\n",
    "countries_df.set_index('Country', inplace=True)"
   ]
  },
  {
   "cell_type": "code",
   "execution_count": null,
   "id": "8a785746",
   "metadata": {},
   "outputs": [],
   "source": [
    "countries_df.head()"
   ]
  },
  {
   "cell_type": "code",
   "execution_count": null,
   "id": "befd29cd",
   "metadata": {},
   "outputs": [],
   "source": [
    "countries_df.loc['France':'Germany', ['Region', 'Population']]"
   ]
  },
  {
   "cell_type": "markdown",
   "id": "bba94d52",
   "metadata": {},
   "source": [
    "### Sorting"
   ]
  },
  {
   "cell_type": "code",
   "execution_count": null,
   "id": "862da478",
   "metadata": {},
   "outputs": [],
   "source": [
    "countries_df.sort_index(ascending=False)"
   ]
  },
  {
   "cell_type": "code",
   "execution_count": null,
   "id": "17242b98",
   "metadata": {},
   "outputs": [],
   "source": [
    "countries_df.sort_values(by='Population', ascending=False)"
   ]
  },
  {
   "cell_type": "code",
   "execution_count": null,
   "id": "1198ce91",
   "metadata": {},
   "outputs": [],
   "source": [
    "countries_df.sort_values(by='GDP ($ per capita)', na_position='first')"
   ]
  },
  {
   "cell_type": "markdown",
   "id": "ff761dbb",
   "metadata": {},
   "source": [
    "### Pandas - Grouping"
   ]
  },
  {
   "cell_type": "markdown",
   "id": "c6dafa01",
   "metadata": {},
   "source": [
    "🤔 Which region of the world is the most populated?"
   ]
  },
  {
   "cell_type": "code",
   "execution_count": null,
   "id": "6b7fd7f6",
   "metadata": {},
   "outputs": [],
   "source": [
    "regions = countries_df.groupby('Region')\n",
    "regions"
   ]
  },
  {
   "cell_type": "code",
   "execution_count": null,
   "id": "beb3393b",
   "metadata": {},
   "outputs": [],
   "source": [
    "regions.sum()"
   ]
  },
  {
   "cell_type": "code",
   "execution_count": null,
   "id": "f5b030f9",
   "metadata": {},
   "outputs": [],
   "source": [
    "regions[['Population', 'Area (sq. mi.)']].sum().sort_values('Population', ascending=False)"
   ]
  },
  {
   "cell_type": "markdown",
   "id": "4d5395f6",
   "metadata": {},
   "source": [
    "### Plotting some graphs"
   ]
  },
  {
   "cell_type": "code",
   "execution_count": null,
   "id": "965524a5",
   "metadata": {},
   "outputs": [],
   "source": [
    "gdp = 'GDP ($ per capita)'\n",
    "top_ten_countries_df = countries_df[[gdp]] \\\n",
    "    .sort_values(gdp, ascending=False) \\\n",
    "    .head(10)\n",
    "\n",
    "top_ten_countries_df"
   ]
  },
  {
   "cell_type": "code",
   "execution_count": null,
   "id": "5f971952",
   "metadata": {},
   "outputs": [],
   "source": [
    "top_ten_countries_df.plot(kind='bar')"
   ]
  },
  {
   "cell_type": "code",
   "execution_count": null,
   "id": "0d07e2d0",
   "metadata": {},
   "outputs": [],
   "source": []
  }
 ],
 "metadata": {
  "kernelspec": {
   "display_name": "Python 3 (ipykernel)",
   "language": "python",
   "name": "python3"
  },
  "language_info": {
   "codemirror_mode": {
    "name": "ipython",
    "version": 3
   },
   "file_extension": ".py",
   "mimetype": "text/x-python",
   "name": "python",
   "nbconvert_exporter": "python",
   "pygments_lexer": "ipython3",
   "version": "3.8.12"
  },
  "toc": {
   "base_numbering": 1,
   "nav_menu": {},
   "number_sections": true,
   "sideBar": true,
   "skip_h1_title": false,
   "title_cell": "Table of Contents",
   "title_sidebar": "Contents",
   "toc_cell": false,
   "toc_position": {},
   "toc_section_display": true,
   "toc_window_display": false
  }
 },
 "nbformat": 4,
 "nbformat_minor": 5
}
