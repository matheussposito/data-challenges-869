{
 "cells": [
  {
   "cell_type": "markdown",
   "id": "c528edce",
   "metadata": {},
   "source": [
    "# Batch 869 Rio"
   ]
  },
  {
   "cell_type": "markdown",
   "id": "e5277317",
   "metadata": {},
   "source": [
    "## Feedback 18 Apr 2022"
   ]
  },
  {
   "cell_type": "markdown",
   "id": "916b117c",
   "metadata": {},
   "source": [
    "### Wagner\n",
    "He has programming experience so the quiz and the first week were smooth for him. He is enjoying the course and the content. He thinks that some specific topics could have been covered more thoroughly, maybe on longer classes for example (SQL Advanced, specially the window functions). As an overall he is happy and excited to dive into data science topics! :D"
   ]
  },
  {
   "cell_type": "markdown",
   "id": "1df73283",
   "metadata": {},
   "source": [
    "### Farah\n",
    "She had a lot of trouble with the setup, she missed most of the week challenges trying to fix and set her new notebook (she didn't take the quiz). She is concerned about the pace of the bootcamp, specially after losing so much time on the first week. She even considers stopping for now and taking the course some other time.\n",
    "\n",
    "She is a little bit frustrated that the course is mostly online, at first she thought that the teachers would be onsite and have regular classes. She said that doing it remotely is harder for her to keep up but she's getting used to it."
   ]
  },
  {
   "cell_type": "markdown",
   "id": "581bb7dd",
   "metadata": {},
   "source": [
    "### Pedro\n",
    "His quiz answers were great.\n",
    "No major complaints, he just said that it's a lot of content. But he is keeping up with everything."
   ]
  },
  {
   "cell_type": "markdown",
   "id": "ec4a8f38",
   "metadata": {},
   "source": [
    "### Jonathan\n",
    "Quiz is ok. No major concerns. He said the classes were good but it was a lot of content. But he is keeping up. He had most trouble during the web scraping lecture and challenges."
   ]
  },
  {
   "cell_type": "markdown",
   "id": "97405e7d",
   "metadata": {},
   "source": [
    "### Bulend\n",
    "Quiz is ok. No major concerns. He has Python and SQL background so the first week was really smooth for him. He knew how to do some web scrapping as well but he said that this class specifically wasn't really good, it wasn't a problem for him since he already knew how to do it, but it just wasn't a really clear class."
   ]
  },
  {
   "cell_type": "markdown",
   "id": "737081b5",
   "metadata": {},
   "source": [
    "### Rafael\n",
    "Quis is ok. No major concerns, he was able to keep up with the content so far. He only pointed out that the SQL Advanced class was a little bit fast, but he got everything clear thourgh tickets."
   ]
  },
  {
   "cell_type": "markdown",
   "id": "f12bced4",
   "metadata": {},
   "source": [
    "### Luiza\n",
    "Quis is ok. She said she has a hard time to focus for long periods, which make it difficult for her to dive the whole day into the lecture and challenges. She also mentioned that it's a lot of content. But she is managing to work around with it and is getting used to it.\n",
    "She also mentioned that web scrapping was a hard day."
   ]
  },
  {
   "cell_type": "markdown",
   "id": "acba2a99",
   "metadata": {},
   "source": [
    "### Marcio\n",
    "Quiz answers ok (some minor misconceptions but things are clearer now). He is also concerned about the amount of content and that he is not having as much time as he would like to study. I told him this is normal and that he should focus on each day's content and not worry too much about completing all challenges. He is also glad that he has some other students onsite to work on the challenges together.\n",
    "\n",
    "One point that he said that isn't very clear for him is about APIs and Web Scrapping."
   ]
  },
  {
   "cell_type": "markdown",
   "id": "d109b90e",
   "metadata": {},
   "source": [
    "### João Victor\n",
    "Quiz answers were good. No major complaints. He said it makes a big difference for him to be able to go to Le Wagon office and share the experience and challenges with other students. I asked about the teachers not being onsite for most of the time and he said that it doesn't make a lot of difference since the class is happening mainly through Zoom platform. \n",
    "\n",
    "He also thinks the course is intense, and that if he had the holidays it would be better for him and give him more time to digest the content and work through some challenges he couldn't complete during the week.\n",
    "\n",
    "He mentioned that APIs and Web scrapping is something a little blurry for him, he believes he needs more time to digest it. And that the SQL Avanced class was a little bit fast, but he managed to understand and clear any questions through tickets."
   ]
  },
  {
   "cell_type": "markdown",
   "id": "eebbfda5",
   "metadata": {},
   "source": [
    "### Victor\n",
    "His quiz answers were good. No major complains. He mentioned that he had some troubles with some personal matters but he managed to go through the first week. He was concerned about the pace of the course and the prep work suggested, but now he got the pace of it and feels good with it and about Kitt (he said that it's really organized and it helps him study better)."
   ]
  }
 ],
 "metadata": {
  "kernelspec": {
   "display_name": "Python 3 (ipykernel)",
   "language": "python",
   "name": "python3"
  },
  "language_info": {
   "codemirror_mode": {
    "name": "ipython",
    "version": 3
   },
   "file_extension": ".py",
   "mimetype": "text/x-python",
   "name": "python",
   "nbconvert_exporter": "python",
   "pygments_lexer": "ipython3",
   "version": "3.8.12"
  },
  "toc": {
   "base_numbering": 1,
   "nav_menu": {},
   "number_sections": true,
   "sideBar": true,
   "skip_h1_title": false,
   "title_cell": "Table of Contents",
   "title_sidebar": "Contents",
   "toc_cell": false,
   "toc_position": {},
   "toc_section_display": true,
   "toc_window_display": false
  }
 },
 "nbformat": 4,
 "nbformat_minor": 5
}
