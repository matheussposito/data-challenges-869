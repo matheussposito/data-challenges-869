{
 "cells": [
  {
   "cell_type": "markdown",
   "id": "a2316207",
   "metadata": {
    "slideshow": {
     "slide_type": "slide"
    }
   },
   "source": [
    "# Communicate"
   ]
  },
  {
   "cell_type": "code",
   "execution_count": 4,
   "id": "3e64b3d4",
   "metadata": {
    "slideshow": {
     "slide_type": "skip"
    }
   },
   "outputs": [],
   "source": [
    "import numpy as np\n",
    "import pandas as pd\n",
    "import matplotlib.pyplot as plt"
   ]
  },
  {
   "cell_type": "markdown",
   "id": "76688f6d",
   "metadata": {
    "slideshow": {
     "slide_type": "slide"
    }
   },
   "source": [
    "## Trade-offs"
   ]
  },
  {
   "cell_type": "markdown",
   "id": "487a4d80",
   "metadata": {
    "slideshow": {
     "slide_type": "fragment"
    }
   },
   "source": [
    "Step 1️⃣ - Model benefits\n",
    "\n",
    "We estimate the potential lifts between +1% and +4%\n"
   ]
  },
  {
   "cell_type": "code",
   "execution_count": 2,
   "id": "af98c462",
   "metadata": {
    "slideshow": {
     "slide_type": "fragment"
    }
   },
   "outputs": [
    {
     "data": {
      "text/html": [
       "<div>\n",
       "<style scoped>\n",
       "    .dataframe tbody tr th:only-of-type {\n",
       "        vertical-align: middle;\n",
       "    }\n",
       "\n",
       "    .dataframe tbody tr th {\n",
       "        vertical-align: top;\n",
       "    }\n",
       "\n",
       "    .dataframe thead th {\n",
       "        text-align: right;\n",
       "    }\n",
       "</style>\n",
       "<table border=\"1\" class=\"dataframe\">\n",
       "  <thead>\n",
       "    <tr style=\"text-align: right;\">\n",
       "      <th></th>\n",
       "      <th>lift</th>\n",
       "      <th>benefit</th>\n",
       "    </tr>\n",
       "  </thead>\n",
       "  <tbody>\n",
       "    <tr>\n",
       "      <th>0</th>\n",
       "      <td>0.01</td>\n",
       "      <td>20000.0</td>\n",
       "    </tr>\n",
       "    <tr>\n",
       "      <th>1</th>\n",
       "      <td>0.02</td>\n",
       "      <td>40000.0</td>\n",
       "    </tr>\n",
       "    <tr>\n",
       "      <th>2</th>\n",
       "      <td>0.03</td>\n",
       "      <td>60000.0</td>\n",
       "    </tr>\n",
       "    <tr>\n",
       "      <th>3</th>\n",
       "      <td>0.04</td>\n",
       "      <td>80000.0</td>\n",
       "    </tr>\n",
       "  </tbody>\n",
       "</table>\n",
       "</div>"
      ],
      "text/plain": [
       "   lift  benefit\n",
       "0  0.01  20000.0\n",
       "1  0.02  40000.0\n",
       "2  0.03  60000.0\n",
       "3  0.04  80000.0"
      ]
     },
     "execution_count": 2,
     "metadata": {},
     "output_type": "execute_result"
    }
   ],
   "source": [
    "lift = np.arange(0.01, 0.05, 0.01)\n",
    "benefits = pd.DataFrame({'lift': lift, \n",
    "                        'benefit': 100000*20*lift})\n",
    "benefits"
   ]
  },
  {
   "cell_type": "markdown",
   "id": "c4c6b59d",
   "metadata": {
    "slideshow": {
     "slide_type": "subslide"
    }
   },
   "source": [
    "Step 2️⃣ - Model costs\n",
    "\n",
    "- ***f***(number of days of engineering team)\n",
    "- Estimated between a 20 and 50 days"
   ]
  },
  {
   "cell_type": "code",
   "execution_count": 3,
   "id": "fc41dad6",
   "metadata": {
    "slideshow": {
     "slide_type": "fragment"
    }
   },
   "outputs": [
    {
     "data": {
      "text/html": [
       "<div>\n",
       "<style scoped>\n",
       "    .dataframe tbody tr th:only-of-type {\n",
       "        vertical-align: middle;\n",
       "    }\n",
       "\n",
       "    .dataframe tbody tr th {\n",
       "        vertical-align: top;\n",
       "    }\n",
       "\n",
       "    .dataframe thead th {\n",
       "        text-align: right;\n",
       "    }\n",
       "</style>\n",
       "<table border=\"1\" class=\"dataframe\">\n",
       "  <thead>\n",
       "    <tr style=\"text-align: right;\">\n",
       "      <th></th>\n",
       "      <th>mandays</th>\n",
       "      <th>cost</th>\n",
       "    </tr>\n",
       "  </thead>\n",
       "  <tbody>\n",
       "    <tr>\n",
       "      <th>0</th>\n",
       "      <td>20</td>\n",
       "      <td>30000</td>\n",
       "    </tr>\n",
       "    <tr>\n",
       "      <th>1</th>\n",
       "      <td>30</td>\n",
       "      <td>45000</td>\n",
       "    </tr>\n",
       "    <tr>\n",
       "      <th>2</th>\n",
       "      <td>40</td>\n",
       "      <td>60000</td>\n",
       "    </tr>\n",
       "    <tr>\n",
       "      <th>3</th>\n",
       "      <td>50</td>\n",
       "      <td>75000</td>\n",
       "    </tr>\n",
       "  </tbody>\n",
       "</table>\n",
       "</div>"
      ],
      "text/plain": [
       "   mandays   cost\n",
       "0       20  30000\n",
       "1       30  45000\n",
       "2       40  60000\n",
       "3       50  75000"
      ]
     },
     "execution_count": 3,
     "metadata": {},
     "output_type": "execute_result"
    }
   ],
   "source": [
    "mandays = np.arange(20, 60, 10)\n",
    "\n",
    "costs = pd.DataFrame({'mandays':mandays, \n",
    "                     'cost': mandays*500*3})\n",
    "costs"
   ]
  },
  {
   "cell_type": "code",
   "execution_count": 4,
   "id": "e3d736b1",
   "metadata": {
    "slideshow": {
     "slide_type": "subslide"
    }
   },
   "outputs": [
    {
     "data": {
      "text/html": [
       "<div>\n",
       "<style scoped>\n",
       "    .dataframe tbody tr th:only-of-type {\n",
       "        vertical-align: middle;\n",
       "    }\n",
       "\n",
       "    .dataframe tbody tr th {\n",
       "        vertical-align: top;\n",
       "    }\n",
       "\n",
       "    .dataframe thead th {\n",
       "        text-align: right;\n",
       "    }\n",
       "</style>\n",
       "<table border=\"1\" class=\"dataframe\">\n",
       "  <thead>\n",
       "    <tr style=\"text-align: right;\">\n",
       "      <th></th>\n",
       "      <th>lift</th>\n",
       "      <th>benefit</th>\n",
       "      <th>ones</th>\n",
       "    </tr>\n",
       "  </thead>\n",
       "  <tbody>\n",
       "    <tr>\n",
       "      <th>0</th>\n",
       "      <td>0.01</td>\n",
       "      <td>20000.0</td>\n",
       "      <td>1</td>\n",
       "    </tr>\n",
       "    <tr>\n",
       "      <th>1</th>\n",
       "      <td>0.02</td>\n",
       "      <td>40000.0</td>\n",
       "      <td>1</td>\n",
       "    </tr>\n",
       "    <tr>\n",
       "      <th>2</th>\n",
       "      <td>0.03</td>\n",
       "      <td>60000.0</td>\n",
       "      <td>1</td>\n",
       "    </tr>\n",
       "    <tr>\n",
       "      <th>3</th>\n",
       "      <td>0.04</td>\n",
       "      <td>80000.0</td>\n",
       "      <td>1</td>\n",
       "    </tr>\n",
       "  </tbody>\n",
       "</table>\n",
       "</div>"
      ],
      "text/plain": [
       "   lift  benefit  ones\n",
       "0  0.01  20000.0     1\n",
       "1  0.02  40000.0     1\n",
       "2  0.03  60000.0     1\n",
       "3  0.04  80000.0     1"
      ]
     },
     "execution_count": 4,
     "metadata": {},
     "output_type": "execute_result"
    }
   ],
   "source": [
    "benefits['ones'] = 1\n",
    "benefits"
   ]
  },
  {
   "cell_type": "code",
   "execution_count": 5,
   "id": "7c383823",
   "metadata": {
    "slideshow": {
     "slide_type": "-"
    }
   },
   "outputs": [
    {
     "data": {
      "text/html": [
       "<div>\n",
       "<style scoped>\n",
       "    .dataframe tbody tr th:only-of-type {\n",
       "        vertical-align: middle;\n",
       "    }\n",
       "\n",
       "    .dataframe tbody tr th {\n",
       "        vertical-align: top;\n",
       "    }\n",
       "\n",
       "    .dataframe thead th {\n",
       "        text-align: right;\n",
       "    }\n",
       "</style>\n",
       "<table border=\"1\" class=\"dataframe\">\n",
       "  <thead>\n",
       "    <tr style=\"text-align: right;\">\n",
       "      <th></th>\n",
       "      <th>mandays</th>\n",
       "      <th>cost</th>\n",
       "      <th>ones</th>\n",
       "    </tr>\n",
       "  </thead>\n",
       "  <tbody>\n",
       "    <tr>\n",
       "      <th>0</th>\n",
       "      <td>20</td>\n",
       "      <td>30000</td>\n",
       "      <td>1</td>\n",
       "    </tr>\n",
       "    <tr>\n",
       "      <th>1</th>\n",
       "      <td>30</td>\n",
       "      <td>45000</td>\n",
       "      <td>1</td>\n",
       "    </tr>\n",
       "    <tr>\n",
       "      <th>2</th>\n",
       "      <td>40</td>\n",
       "      <td>60000</td>\n",
       "      <td>1</td>\n",
       "    </tr>\n",
       "    <tr>\n",
       "      <th>3</th>\n",
       "      <td>50</td>\n",
       "      <td>75000</td>\n",
       "      <td>1</td>\n",
       "    </tr>\n",
       "  </tbody>\n",
       "</table>\n",
       "</div>"
      ],
      "text/plain": [
       "   mandays   cost  ones\n",
       "0       20  30000     1\n",
       "1       30  45000     1\n",
       "2       40  60000     1\n",
       "3       50  75000     1"
      ]
     },
     "execution_count": 5,
     "metadata": {},
     "output_type": "execute_result"
    }
   ],
   "source": [
    "costs['ones'] = 1\n",
    "costs"
   ]
  },
  {
   "cell_type": "code",
   "execution_count": 6,
   "id": "fb68f675",
   "metadata": {},
   "outputs": [
    {
     "data": {
      "text/html": [
       "<div>\n",
       "<style scoped>\n",
       "    .dataframe tbody tr th:only-of-type {\n",
       "        vertical-align: middle;\n",
       "    }\n",
       "\n",
       "    .dataframe tbody tr th {\n",
       "        vertical-align: top;\n",
       "    }\n",
       "\n",
       "    .dataframe thead th {\n",
       "        text-align: right;\n",
       "    }\n",
       "</style>\n",
       "<table border=\"1\" class=\"dataframe\">\n",
       "  <thead>\n",
       "    <tr style=\"text-align: right;\">\n",
       "      <th></th>\n",
       "      <th>mandays</th>\n",
       "      <th>cost</th>\n",
       "      <th>lift</th>\n",
       "      <th>benefit</th>\n",
       "    </tr>\n",
       "  </thead>\n",
       "  <tbody>\n",
       "    <tr>\n",
       "      <th>0</th>\n",
       "      <td>20</td>\n",
       "      <td>30000</td>\n",
       "      <td>0.01</td>\n",
       "      <td>20000.0</td>\n",
       "    </tr>\n",
       "    <tr>\n",
       "      <th>1</th>\n",
       "      <td>20</td>\n",
       "      <td>30000</td>\n",
       "      <td>0.02</td>\n",
       "      <td>40000.0</td>\n",
       "    </tr>\n",
       "    <tr>\n",
       "      <th>2</th>\n",
       "      <td>20</td>\n",
       "      <td>30000</td>\n",
       "      <td>0.03</td>\n",
       "      <td>60000.0</td>\n",
       "    </tr>\n",
       "    <tr>\n",
       "      <th>3</th>\n",
       "      <td>20</td>\n",
       "      <td>30000</td>\n",
       "      <td>0.04</td>\n",
       "      <td>80000.0</td>\n",
       "    </tr>\n",
       "    <tr>\n",
       "      <th>4</th>\n",
       "      <td>30</td>\n",
       "      <td>45000</td>\n",
       "      <td>0.01</td>\n",
       "      <td>20000.0</td>\n",
       "    </tr>\n",
       "    <tr>\n",
       "      <th>5</th>\n",
       "      <td>30</td>\n",
       "      <td>45000</td>\n",
       "      <td>0.02</td>\n",
       "      <td>40000.0</td>\n",
       "    </tr>\n",
       "    <tr>\n",
       "      <th>6</th>\n",
       "      <td>30</td>\n",
       "      <td>45000</td>\n",
       "      <td>0.03</td>\n",
       "      <td>60000.0</td>\n",
       "    </tr>\n",
       "    <tr>\n",
       "      <th>7</th>\n",
       "      <td>30</td>\n",
       "      <td>45000</td>\n",
       "      <td>0.04</td>\n",
       "      <td>80000.0</td>\n",
       "    </tr>\n",
       "    <tr>\n",
       "      <th>8</th>\n",
       "      <td>40</td>\n",
       "      <td>60000</td>\n",
       "      <td>0.01</td>\n",
       "      <td>20000.0</td>\n",
       "    </tr>\n",
       "    <tr>\n",
       "      <th>9</th>\n",
       "      <td>40</td>\n",
       "      <td>60000</td>\n",
       "      <td>0.02</td>\n",
       "      <td>40000.0</td>\n",
       "    </tr>\n",
       "    <tr>\n",
       "      <th>10</th>\n",
       "      <td>40</td>\n",
       "      <td>60000</td>\n",
       "      <td>0.03</td>\n",
       "      <td>60000.0</td>\n",
       "    </tr>\n",
       "    <tr>\n",
       "      <th>11</th>\n",
       "      <td>40</td>\n",
       "      <td>60000</td>\n",
       "      <td>0.04</td>\n",
       "      <td>80000.0</td>\n",
       "    </tr>\n",
       "    <tr>\n",
       "      <th>12</th>\n",
       "      <td>50</td>\n",
       "      <td>75000</td>\n",
       "      <td>0.01</td>\n",
       "      <td>20000.0</td>\n",
       "    </tr>\n",
       "    <tr>\n",
       "      <th>13</th>\n",
       "      <td>50</td>\n",
       "      <td>75000</td>\n",
       "      <td>0.02</td>\n",
       "      <td>40000.0</td>\n",
       "    </tr>\n",
       "    <tr>\n",
       "      <th>14</th>\n",
       "      <td>50</td>\n",
       "      <td>75000</td>\n",
       "      <td>0.03</td>\n",
       "      <td>60000.0</td>\n",
       "    </tr>\n",
       "    <tr>\n",
       "      <th>15</th>\n",
       "      <td>50</td>\n",
       "      <td>75000</td>\n",
       "      <td>0.04</td>\n",
       "      <td>80000.0</td>\n",
       "    </tr>\n",
       "  </tbody>\n",
       "</table>\n",
       "</div>"
      ],
      "text/plain": [
       "    mandays   cost  lift  benefit\n",
       "0        20  30000  0.01  20000.0\n",
       "1        20  30000  0.02  40000.0\n",
       "2        20  30000  0.03  60000.0\n",
       "3        20  30000  0.04  80000.0\n",
       "4        30  45000  0.01  20000.0\n",
       "5        30  45000  0.02  40000.0\n",
       "6        30  45000  0.03  60000.0\n",
       "7        30  45000  0.04  80000.0\n",
       "8        40  60000  0.01  20000.0\n",
       "9        40  60000  0.02  40000.0\n",
       "10       40  60000  0.03  60000.0\n",
       "11       40  60000  0.04  80000.0\n",
       "12       50  75000  0.01  20000.0\n",
       "13       50  75000  0.02  40000.0\n",
       "14       50  75000  0.03  60000.0\n",
       "15       50  75000  0.04  80000.0"
      ]
     },
     "execution_count": 6,
     "metadata": {},
     "output_type": "execute_result"
    }
   ],
   "source": [
    "# Create the cartesian product of two dataframes\n",
    "sensitivity = pd.merge(costs, benefits, on='ones').drop('ones', axis=1)\n",
    "sensitivity"
   ]
  },
  {
   "cell_type": "code",
   "execution_count": 7,
   "id": "83848339",
   "metadata": {},
   "outputs": [
    {
     "data": {
      "text/html": [
       "<div>\n",
       "<style scoped>\n",
       "    .dataframe tbody tr th:only-of-type {\n",
       "        vertical-align: middle;\n",
       "    }\n",
       "\n",
       "    .dataframe tbody tr th {\n",
       "        vertical-align: top;\n",
       "    }\n",
       "\n",
       "    .dataframe thead th {\n",
       "        text-align: right;\n",
       "    }\n",
       "</style>\n",
       "<table border=\"1\" class=\"dataframe\">\n",
       "  <thead>\n",
       "    <tr style=\"text-align: right;\">\n",
       "      <th></th>\n",
       "      <th>mandays</th>\n",
       "      <th>cost</th>\n",
       "      <th>lift</th>\n",
       "      <th>benefit</th>\n",
       "      <th>net_profit</th>\n",
       "    </tr>\n",
       "  </thead>\n",
       "  <tbody>\n",
       "    <tr>\n",
       "      <th>0</th>\n",
       "      <td>20</td>\n",
       "      <td>30000</td>\n",
       "      <td>0.01</td>\n",
       "      <td>20000.0</td>\n",
       "      <td>-10000.0</td>\n",
       "    </tr>\n",
       "    <tr>\n",
       "      <th>1</th>\n",
       "      <td>20</td>\n",
       "      <td>30000</td>\n",
       "      <td>0.02</td>\n",
       "      <td>40000.0</td>\n",
       "      <td>10000.0</td>\n",
       "    </tr>\n",
       "    <tr>\n",
       "      <th>2</th>\n",
       "      <td>20</td>\n",
       "      <td>30000</td>\n",
       "      <td>0.03</td>\n",
       "      <td>60000.0</td>\n",
       "      <td>30000.0</td>\n",
       "    </tr>\n",
       "    <tr>\n",
       "      <th>3</th>\n",
       "      <td>20</td>\n",
       "      <td>30000</td>\n",
       "      <td>0.04</td>\n",
       "      <td>80000.0</td>\n",
       "      <td>50000.0</td>\n",
       "    </tr>\n",
       "    <tr>\n",
       "      <th>4</th>\n",
       "      <td>30</td>\n",
       "      <td>45000</td>\n",
       "      <td>0.01</td>\n",
       "      <td>20000.0</td>\n",
       "      <td>-25000.0</td>\n",
       "    </tr>\n",
       "    <tr>\n",
       "      <th>5</th>\n",
       "      <td>30</td>\n",
       "      <td>45000</td>\n",
       "      <td>0.02</td>\n",
       "      <td>40000.0</td>\n",
       "      <td>-5000.0</td>\n",
       "    </tr>\n",
       "    <tr>\n",
       "      <th>6</th>\n",
       "      <td>30</td>\n",
       "      <td>45000</td>\n",
       "      <td>0.03</td>\n",
       "      <td>60000.0</td>\n",
       "      <td>15000.0</td>\n",
       "    </tr>\n",
       "    <tr>\n",
       "      <th>7</th>\n",
       "      <td>30</td>\n",
       "      <td>45000</td>\n",
       "      <td>0.04</td>\n",
       "      <td>80000.0</td>\n",
       "      <td>35000.0</td>\n",
       "    </tr>\n",
       "    <tr>\n",
       "      <th>8</th>\n",
       "      <td>40</td>\n",
       "      <td>60000</td>\n",
       "      <td>0.01</td>\n",
       "      <td>20000.0</td>\n",
       "      <td>-40000.0</td>\n",
       "    </tr>\n",
       "    <tr>\n",
       "      <th>9</th>\n",
       "      <td>40</td>\n",
       "      <td>60000</td>\n",
       "      <td>0.02</td>\n",
       "      <td>40000.0</td>\n",
       "      <td>-20000.0</td>\n",
       "    </tr>\n",
       "    <tr>\n",
       "      <th>10</th>\n",
       "      <td>40</td>\n",
       "      <td>60000</td>\n",
       "      <td>0.03</td>\n",
       "      <td>60000.0</td>\n",
       "      <td>0.0</td>\n",
       "    </tr>\n",
       "    <tr>\n",
       "      <th>11</th>\n",
       "      <td>40</td>\n",
       "      <td>60000</td>\n",
       "      <td>0.04</td>\n",
       "      <td>80000.0</td>\n",
       "      <td>20000.0</td>\n",
       "    </tr>\n",
       "    <tr>\n",
       "      <th>12</th>\n",
       "      <td>50</td>\n",
       "      <td>75000</td>\n",
       "      <td>0.01</td>\n",
       "      <td>20000.0</td>\n",
       "      <td>-55000.0</td>\n",
       "    </tr>\n",
       "    <tr>\n",
       "      <th>13</th>\n",
       "      <td>50</td>\n",
       "      <td>75000</td>\n",
       "      <td>0.02</td>\n",
       "      <td>40000.0</td>\n",
       "      <td>-35000.0</td>\n",
       "    </tr>\n",
       "    <tr>\n",
       "      <th>14</th>\n",
       "      <td>50</td>\n",
       "      <td>75000</td>\n",
       "      <td>0.03</td>\n",
       "      <td>60000.0</td>\n",
       "      <td>-15000.0</td>\n",
       "    </tr>\n",
       "    <tr>\n",
       "      <th>15</th>\n",
       "      <td>50</td>\n",
       "      <td>75000</td>\n",
       "      <td>0.04</td>\n",
       "      <td>80000.0</td>\n",
       "      <td>5000.0</td>\n",
       "    </tr>\n",
       "  </tbody>\n",
       "</table>\n",
       "</div>"
      ],
      "text/plain": [
       "    mandays   cost  lift  benefit  net_profit\n",
       "0        20  30000  0.01  20000.0    -10000.0\n",
       "1        20  30000  0.02  40000.0     10000.0\n",
       "2        20  30000  0.03  60000.0     30000.0\n",
       "3        20  30000  0.04  80000.0     50000.0\n",
       "4        30  45000  0.01  20000.0    -25000.0\n",
       "5        30  45000  0.02  40000.0     -5000.0\n",
       "6        30  45000  0.03  60000.0     15000.0\n",
       "7        30  45000  0.04  80000.0     35000.0\n",
       "8        40  60000  0.01  20000.0    -40000.0\n",
       "9        40  60000  0.02  40000.0    -20000.0\n",
       "10       40  60000  0.03  60000.0         0.0\n",
       "11       40  60000  0.04  80000.0     20000.0\n",
       "12       50  75000  0.01  20000.0    -55000.0\n",
       "13       50  75000  0.02  40000.0    -35000.0\n",
       "14       50  75000  0.03  60000.0    -15000.0\n",
       "15       50  75000  0.04  80000.0      5000.0"
      ]
     },
     "execution_count": 7,
     "metadata": {},
     "output_type": "execute_result"
    }
   ],
   "source": [
    "sensitivity['net_profit'] = sensitivity['benefit'] - sensitivity['cost']\n",
    "sensitivity"
   ]
  },
  {
   "cell_type": "code",
   "execution_count": 9,
   "id": "9bb51309",
   "metadata": {},
   "outputs": [
    {
     "data": {
      "text/html": [
       "<div>\n",
       "<style scoped>\n",
       "    .dataframe tbody tr th:only-of-type {\n",
       "        vertical-align: middle;\n",
       "    }\n",
       "\n",
       "    .dataframe tbody tr th {\n",
       "        vertical-align: top;\n",
       "    }\n",
       "\n",
       "    .dataframe thead th {\n",
       "        text-align: right;\n",
       "    }\n",
       "</style>\n",
       "<table border=\"1\" class=\"dataframe\">\n",
       "  <thead>\n",
       "    <tr style=\"text-align: right;\">\n",
       "      <th></th>\n",
       "      <th>lift</th>\n",
       "      <th>mandays</th>\n",
       "      <th>net_profit</th>\n",
       "    </tr>\n",
       "  </thead>\n",
       "  <tbody>\n",
       "    <tr>\n",
       "      <th>0</th>\n",
       "      <td>0.01</td>\n",
       "      <td>20</td>\n",
       "      <td>-10000.0</td>\n",
       "    </tr>\n",
       "    <tr>\n",
       "      <th>1</th>\n",
       "      <td>0.02</td>\n",
       "      <td>20</td>\n",
       "      <td>10000.0</td>\n",
       "    </tr>\n",
       "    <tr>\n",
       "      <th>2</th>\n",
       "      <td>0.03</td>\n",
       "      <td>20</td>\n",
       "      <td>30000.0</td>\n",
       "    </tr>\n",
       "    <tr>\n",
       "      <th>3</th>\n",
       "      <td>0.04</td>\n",
       "      <td>20</td>\n",
       "      <td>50000.0</td>\n",
       "    </tr>\n",
       "    <tr>\n",
       "      <th>4</th>\n",
       "      <td>0.01</td>\n",
       "      <td>30</td>\n",
       "      <td>-25000.0</td>\n",
       "    </tr>\n",
       "    <tr>\n",
       "      <th>5</th>\n",
       "      <td>0.02</td>\n",
       "      <td>30</td>\n",
       "      <td>-5000.0</td>\n",
       "    </tr>\n",
       "    <tr>\n",
       "      <th>6</th>\n",
       "      <td>0.03</td>\n",
       "      <td>30</td>\n",
       "      <td>15000.0</td>\n",
       "    </tr>\n",
       "    <tr>\n",
       "      <th>7</th>\n",
       "      <td>0.04</td>\n",
       "      <td>30</td>\n",
       "      <td>35000.0</td>\n",
       "    </tr>\n",
       "    <tr>\n",
       "      <th>8</th>\n",
       "      <td>0.01</td>\n",
       "      <td>40</td>\n",
       "      <td>-40000.0</td>\n",
       "    </tr>\n",
       "    <tr>\n",
       "      <th>9</th>\n",
       "      <td>0.02</td>\n",
       "      <td>40</td>\n",
       "      <td>-20000.0</td>\n",
       "    </tr>\n",
       "    <tr>\n",
       "      <th>10</th>\n",
       "      <td>0.03</td>\n",
       "      <td>40</td>\n",
       "      <td>0.0</td>\n",
       "    </tr>\n",
       "    <tr>\n",
       "      <th>11</th>\n",
       "      <td>0.04</td>\n",
       "      <td>40</td>\n",
       "      <td>20000.0</td>\n",
       "    </tr>\n",
       "    <tr>\n",
       "      <th>12</th>\n",
       "      <td>0.01</td>\n",
       "      <td>50</td>\n",
       "      <td>-55000.0</td>\n",
       "    </tr>\n",
       "    <tr>\n",
       "      <th>13</th>\n",
       "      <td>0.02</td>\n",
       "      <td>50</td>\n",
       "      <td>-35000.0</td>\n",
       "    </tr>\n",
       "    <tr>\n",
       "      <th>14</th>\n",
       "      <td>0.03</td>\n",
       "      <td>50</td>\n",
       "      <td>-15000.0</td>\n",
       "    </tr>\n",
       "    <tr>\n",
       "      <th>15</th>\n",
       "      <td>0.04</td>\n",
       "      <td>50</td>\n",
       "      <td>5000.0</td>\n",
       "    </tr>\n",
       "  </tbody>\n",
       "</table>\n",
       "</div>"
      ],
      "text/plain": [
       "    lift  mandays  net_profit\n",
       "0   0.01       20    -10000.0\n",
       "1   0.02       20     10000.0\n",
       "2   0.03       20     30000.0\n",
       "3   0.04       20     50000.0\n",
       "4   0.01       30    -25000.0\n",
       "5   0.02       30     -5000.0\n",
       "6   0.03       30     15000.0\n",
       "7   0.04       30     35000.0\n",
       "8   0.01       40    -40000.0\n",
       "9   0.02       40    -20000.0\n",
       "10  0.03       40         0.0\n",
       "11  0.04       40     20000.0\n",
       "12  0.01       50    -55000.0\n",
       "13  0.02       50    -35000.0\n",
       "14  0.03       50    -15000.0\n",
       "15  0.04       50      5000.0"
      ]
     },
     "execution_count": 9,
     "metadata": {},
     "output_type": "execute_result"
    }
   ],
   "source": [
    "s = sensitivity[['lift', 'mandays', 'net_profit']]\n",
    "s"
   ]
  },
  {
   "cell_type": "code",
   "execution_count": 10,
   "id": "6a0798c9",
   "metadata": {},
   "outputs": [
    {
     "data": {
      "text/html": [
       "<div>\n",
       "<style scoped>\n",
       "    .dataframe tbody tr th:only-of-type {\n",
       "        vertical-align: middle;\n",
       "    }\n",
       "\n",
       "    .dataframe tbody tr th {\n",
       "        vertical-align: top;\n",
       "    }\n",
       "\n",
       "    .dataframe thead th {\n",
       "        text-align: right;\n",
       "    }\n",
       "</style>\n",
       "<table border=\"1\" class=\"dataframe\">\n",
       "  <thead>\n",
       "    <tr style=\"text-align: right;\">\n",
       "      <th>mandays</th>\n",
       "      <th>20</th>\n",
       "      <th>30</th>\n",
       "      <th>40</th>\n",
       "      <th>50</th>\n",
       "    </tr>\n",
       "    <tr>\n",
       "      <th>lift</th>\n",
       "      <th></th>\n",
       "      <th></th>\n",
       "      <th></th>\n",
       "      <th></th>\n",
       "    </tr>\n",
       "  </thead>\n",
       "  <tbody>\n",
       "    <tr>\n",
       "      <th>0.01</th>\n",
       "      <td>-10000.0</td>\n",
       "      <td>-25000.0</td>\n",
       "      <td>-40000.0</td>\n",
       "      <td>-55000.0</td>\n",
       "    </tr>\n",
       "    <tr>\n",
       "      <th>0.02</th>\n",
       "      <td>10000.0</td>\n",
       "      <td>-5000.0</td>\n",
       "      <td>-20000.0</td>\n",
       "      <td>-35000.0</td>\n",
       "    </tr>\n",
       "    <tr>\n",
       "      <th>0.03</th>\n",
       "      <td>30000.0</td>\n",
       "      <td>15000.0</td>\n",
       "      <td>0.0</td>\n",
       "      <td>-15000.0</td>\n",
       "    </tr>\n",
       "    <tr>\n",
       "      <th>0.04</th>\n",
       "      <td>50000.0</td>\n",
       "      <td>35000.0</td>\n",
       "      <td>20000.0</td>\n",
       "      <td>5000.0</td>\n",
       "    </tr>\n",
       "  </tbody>\n",
       "</table>\n",
       "</div>"
      ],
      "text/plain": [
       "mandays       20       30       40       50\n",
       "lift                                       \n",
       "0.01    -10000.0 -25000.0 -40000.0 -55000.0\n",
       "0.02     10000.0  -5000.0 -20000.0 -35000.0\n",
       "0.03     30000.0  15000.0      0.0 -15000.0\n",
       "0.04     50000.0  35000.0  20000.0   5000.0"
      ]
     },
     "execution_count": 10,
     "metadata": {},
     "output_type": "execute_result"
    }
   ],
   "source": [
    "s_pivot = s.pivot(index='lift', columns='mandays', values='net_profit')\n",
    "s_pivot"
   ]
  },
  {
   "cell_type": "code",
   "execution_count": 13,
   "id": "32d0f09d",
   "metadata": {},
   "outputs": [
    {
     "data": {
      "text/html": [
       "<div>\n",
       "<style scoped>\n",
       "    .dataframe tbody tr th:only-of-type {\n",
       "        vertical-align: middle;\n",
       "    }\n",
       "\n",
       "    .dataframe tbody tr th {\n",
       "        vertical-align: top;\n",
       "    }\n",
       "\n",
       "    .dataframe thead th {\n",
       "        text-align: right;\n",
       "    }\n",
       "</style>\n",
       "<table border=\"1\" class=\"dataframe\">\n",
       "  <thead>\n",
       "    <tr style=\"text-align: right;\">\n",
       "      <th></th>\n",
       "      <th></th>\n",
       "      <th>net_profit</th>\n",
       "    </tr>\n",
       "    <tr>\n",
       "      <th>lift</th>\n",
       "      <th>mandays</th>\n",
       "      <th></th>\n",
       "    </tr>\n",
       "  </thead>\n",
       "  <tbody>\n",
       "    <tr>\n",
       "      <th>0.01</th>\n",
       "      <th>20</th>\n",
       "      <td>-10000.0</td>\n",
       "    </tr>\n",
       "    <tr>\n",
       "      <th>0.02</th>\n",
       "      <th>20</th>\n",
       "      <td>10000.0</td>\n",
       "    </tr>\n",
       "    <tr>\n",
       "      <th>0.03</th>\n",
       "      <th>20</th>\n",
       "      <td>30000.0</td>\n",
       "    </tr>\n",
       "    <tr>\n",
       "      <th>0.04</th>\n",
       "      <th>20</th>\n",
       "      <td>50000.0</td>\n",
       "    </tr>\n",
       "    <tr>\n",
       "      <th>0.01</th>\n",
       "      <th>30</th>\n",
       "      <td>-25000.0</td>\n",
       "    </tr>\n",
       "    <tr>\n",
       "      <th>0.02</th>\n",
       "      <th>30</th>\n",
       "      <td>-5000.0</td>\n",
       "    </tr>\n",
       "    <tr>\n",
       "      <th>0.03</th>\n",
       "      <th>30</th>\n",
       "      <td>15000.0</td>\n",
       "    </tr>\n",
       "    <tr>\n",
       "      <th>0.04</th>\n",
       "      <th>30</th>\n",
       "      <td>35000.0</td>\n",
       "    </tr>\n",
       "    <tr>\n",
       "      <th>0.01</th>\n",
       "      <th>40</th>\n",
       "      <td>-40000.0</td>\n",
       "    </tr>\n",
       "    <tr>\n",
       "      <th>0.02</th>\n",
       "      <th>40</th>\n",
       "      <td>-20000.0</td>\n",
       "    </tr>\n",
       "    <tr>\n",
       "      <th>0.03</th>\n",
       "      <th>40</th>\n",
       "      <td>0.0</td>\n",
       "    </tr>\n",
       "    <tr>\n",
       "      <th>0.04</th>\n",
       "      <th>40</th>\n",
       "      <td>20000.0</td>\n",
       "    </tr>\n",
       "    <tr>\n",
       "      <th>0.01</th>\n",
       "      <th>50</th>\n",
       "      <td>-55000.0</td>\n",
       "    </tr>\n",
       "    <tr>\n",
       "      <th>0.02</th>\n",
       "      <th>50</th>\n",
       "      <td>-35000.0</td>\n",
       "    </tr>\n",
       "    <tr>\n",
       "      <th>0.03</th>\n",
       "      <th>50</th>\n",
       "      <td>-15000.0</td>\n",
       "    </tr>\n",
       "    <tr>\n",
       "      <th>0.04</th>\n",
       "      <th>50</th>\n",
       "      <td>5000.0</td>\n",
       "    </tr>\n",
       "  </tbody>\n",
       "</table>\n",
       "</div>"
      ],
      "text/plain": [
       "              net_profit\n",
       "lift mandays            \n",
       "0.01 20         -10000.0\n",
       "0.02 20          10000.0\n",
       "0.03 20          30000.0\n",
       "0.04 20          50000.0\n",
       "0.01 30         -25000.0\n",
       "0.02 30          -5000.0\n",
       "0.03 30          15000.0\n",
       "0.04 30          35000.0\n",
       "0.01 40         -40000.0\n",
       "0.02 40         -20000.0\n",
       "0.03 40              0.0\n",
       "0.04 40          20000.0\n",
       "0.01 50         -55000.0\n",
       "0.02 50         -35000.0\n",
       "0.03 50         -15000.0\n",
       "0.04 50           5000.0"
      ]
     },
     "execution_count": 13,
     "metadata": {},
     "output_type": "execute_result"
    }
   ],
   "source": [
    "s.set_index(['lift', 'mandays'])"
   ]
  },
  {
   "cell_type": "code",
   "execution_count": 14,
   "id": "c46f23fd",
   "metadata": {},
   "outputs": [
    {
     "data": {
      "text/html": [
       "<div>\n",
       "<style scoped>\n",
       "    .dataframe tbody tr th:only-of-type {\n",
       "        vertical-align: middle;\n",
       "    }\n",
       "\n",
       "    .dataframe tbody tr th {\n",
       "        vertical-align: top;\n",
       "    }\n",
       "\n",
       "    .dataframe thead tr th {\n",
       "        text-align: left;\n",
       "    }\n",
       "\n",
       "    .dataframe thead tr:last-of-type th {\n",
       "        text-align: right;\n",
       "    }\n",
       "</style>\n",
       "<table border=\"1\" class=\"dataframe\">\n",
       "  <thead>\n",
       "    <tr>\n",
       "      <th></th>\n",
       "      <th colspan=\"4\" halign=\"left\">net_profit</th>\n",
       "    </tr>\n",
       "    <tr>\n",
       "      <th>mandays</th>\n",
       "      <th>20</th>\n",
       "      <th>30</th>\n",
       "      <th>40</th>\n",
       "      <th>50</th>\n",
       "    </tr>\n",
       "    <tr>\n",
       "      <th>lift</th>\n",
       "      <th></th>\n",
       "      <th></th>\n",
       "      <th></th>\n",
       "      <th></th>\n",
       "    </tr>\n",
       "  </thead>\n",
       "  <tbody>\n",
       "    <tr>\n",
       "      <th>0.01</th>\n",
       "      <td>-10000.0</td>\n",
       "      <td>-25000.0</td>\n",
       "      <td>-40000.0</td>\n",
       "      <td>-55000.0</td>\n",
       "    </tr>\n",
       "    <tr>\n",
       "      <th>0.02</th>\n",
       "      <td>10000.0</td>\n",
       "      <td>-5000.0</td>\n",
       "      <td>-20000.0</td>\n",
       "      <td>-35000.0</td>\n",
       "    </tr>\n",
       "    <tr>\n",
       "      <th>0.03</th>\n",
       "      <td>30000.0</td>\n",
       "      <td>15000.0</td>\n",
       "      <td>0.0</td>\n",
       "      <td>-15000.0</td>\n",
       "    </tr>\n",
       "    <tr>\n",
       "      <th>0.04</th>\n",
       "      <td>50000.0</td>\n",
       "      <td>35000.0</td>\n",
       "      <td>20000.0</td>\n",
       "      <td>5000.0</td>\n",
       "    </tr>\n",
       "  </tbody>\n",
       "</table>\n",
       "</div>"
      ],
      "text/plain": [
       "        net_profit                           \n",
       "mandays         20       30       40       50\n",
       "lift                                         \n",
       "0.01      -10000.0 -25000.0 -40000.0 -55000.0\n",
       "0.02       10000.0  -5000.0 -20000.0 -35000.0\n",
       "0.03       30000.0  15000.0      0.0 -15000.0\n",
       "0.04       50000.0  35000.0  20000.0   5000.0"
      ]
     },
     "execution_count": 14,
     "metadata": {},
     "output_type": "execute_result"
    }
   ],
   "source": [
    "s.set_index(['lift', 'mandays']).unstack()"
   ]
  },
  {
   "cell_type": "code",
   "execution_count": 15,
   "id": "f203c1a0",
   "metadata": {},
   "outputs": [
    {
     "data": {
      "text/html": [
       "<style type=\"text/css\">\n",
       "#T_37a12_row0_col0, #T_37a12_row0_col1, #T_37a12_row0_col2, #T_37a12_row0_col3, #T_37a12_row1_col1, #T_37a12_row1_col2, #T_37a12_row1_col3, #T_37a12_row2_col3 {\n",
       "  color: red;\n",
       "}\n",
       "#T_37a12_row1_col0, #T_37a12_row2_col0, #T_37a12_row2_col1, #T_37a12_row2_col2, #T_37a12_row3_col0, #T_37a12_row3_col1, #T_37a12_row3_col2, #T_37a12_row3_col3 {\n",
       "  color: black;\n",
       "}\n",
       "</style>\n",
       "<table id=\"T_37a12_\">\n",
       "  <thead>\n",
       "    <tr>\n",
       "      <th class=\"index_name level0\" >mandays</th>\n",
       "      <th class=\"col_heading level0 col0\" >20</th>\n",
       "      <th class=\"col_heading level0 col1\" >30</th>\n",
       "      <th class=\"col_heading level0 col2\" >40</th>\n",
       "      <th class=\"col_heading level0 col3\" >50</th>\n",
       "    </tr>\n",
       "    <tr>\n",
       "      <th class=\"index_name level0\" >lift</th>\n",
       "      <th class=\"blank col0\" >&nbsp;</th>\n",
       "      <th class=\"blank col1\" >&nbsp;</th>\n",
       "      <th class=\"blank col2\" >&nbsp;</th>\n",
       "      <th class=\"blank col3\" >&nbsp;</th>\n",
       "    </tr>\n",
       "  </thead>\n",
       "  <tbody>\n",
       "    <tr>\n",
       "      <th id=\"T_37a12_level0_row0\" class=\"row_heading level0 row0\" >0.01</th>\n",
       "      <td id=\"T_37a12_row0_col0\" class=\"data row0 col0\" >-10000.000000</td>\n",
       "      <td id=\"T_37a12_row0_col1\" class=\"data row0 col1\" >-25000.000000</td>\n",
       "      <td id=\"T_37a12_row0_col2\" class=\"data row0 col2\" >-40000.000000</td>\n",
       "      <td id=\"T_37a12_row0_col3\" class=\"data row0 col3\" >-55000.000000</td>\n",
       "    </tr>\n",
       "    <tr>\n",
       "      <th id=\"T_37a12_level0_row1\" class=\"row_heading level0 row1\" >0.02</th>\n",
       "      <td id=\"T_37a12_row1_col0\" class=\"data row1 col0\" >10000.000000</td>\n",
       "      <td id=\"T_37a12_row1_col1\" class=\"data row1 col1\" >-5000.000000</td>\n",
       "      <td id=\"T_37a12_row1_col2\" class=\"data row1 col2\" >-20000.000000</td>\n",
       "      <td id=\"T_37a12_row1_col3\" class=\"data row1 col3\" >-35000.000000</td>\n",
       "    </tr>\n",
       "    <tr>\n",
       "      <th id=\"T_37a12_level0_row2\" class=\"row_heading level0 row2\" >0.03</th>\n",
       "      <td id=\"T_37a12_row2_col0\" class=\"data row2 col0\" >30000.000000</td>\n",
       "      <td id=\"T_37a12_row2_col1\" class=\"data row2 col1\" >15000.000000</td>\n",
       "      <td id=\"T_37a12_row2_col2\" class=\"data row2 col2\" >0.000000</td>\n",
       "      <td id=\"T_37a12_row2_col3\" class=\"data row2 col3\" >-15000.000000</td>\n",
       "    </tr>\n",
       "    <tr>\n",
       "      <th id=\"T_37a12_level0_row3\" class=\"row_heading level0 row3\" >0.04</th>\n",
       "      <td id=\"T_37a12_row3_col0\" class=\"data row3 col0\" >50000.000000</td>\n",
       "      <td id=\"T_37a12_row3_col1\" class=\"data row3 col1\" >35000.000000</td>\n",
       "      <td id=\"T_37a12_row3_col2\" class=\"data row3 col2\" >20000.000000</td>\n",
       "      <td id=\"T_37a12_row3_col3\" class=\"data row3 col3\" >5000.000000</td>\n",
       "    </tr>\n",
       "  </tbody>\n",
       "</table>\n"
      ],
      "text/plain": [
       "<pandas.io.formats.style.Styler at 0x7fd2015694c0>"
      ]
     },
     "execution_count": 15,
     "metadata": {},
     "output_type": "execute_result"
    }
   ],
   "source": [
    "s_pivot.style.applymap(lambda x : 'color: red' if x < 0 else 'color: black')"
   ]
  },
  {
   "cell_type": "markdown",
   "id": "50292552",
   "metadata": {},
   "source": [
    "## `args` and `kwargs`"
   ]
  },
  {
   "cell_type": "code",
   "execution_count": 43,
   "id": "d75a27c7",
   "metadata": {},
   "outputs": [],
   "source": [
    "import pandas as pd"
   ]
  },
  {
   "cell_type": "code",
   "execution_count": 48,
   "id": "1eca4266",
   "metadata": {},
   "outputs": [
    {
     "data": {
      "text/html": [
       "<div>\n",
       "<style scoped>\n",
       "    .dataframe tbody tr th:only-of-type {\n",
       "        vertical-align: middle;\n",
       "    }\n",
       "\n",
       "    .dataframe tbody tr th {\n",
       "        vertical-align: top;\n",
       "    }\n",
       "\n",
       "    .dataframe thead th {\n",
       "        text-align: right;\n",
       "    }\n",
       "</style>\n",
       "<table border=\"1\" class=\"dataframe\">\n",
       "  <thead>\n",
       "    <tr style=\"text-align: right;\">\n",
       "      <th></th>\n",
       "      <th>a</th>\n",
       "      <th>b</th>\n",
       "    </tr>\n",
       "  </thead>\n",
       "  <tbody>\n",
       "    <tr>\n",
       "      <th>0</th>\n",
       "      <td>1</td>\n",
       "      <td>2</td>\n",
       "    </tr>\n",
       "  </tbody>\n",
       "</table>\n",
       "</div>"
      ],
      "text/plain": [
       "   a  b\n",
       "0  1  2"
      ]
     },
     "execution_count": 48,
     "metadata": {},
     "output_type": "execute_result"
    }
   ],
   "source": [
    "pd.DataFrame.from_dict({'a': [1], 'b': [2]})"
   ]
  },
  {
   "cell_type": "code",
   "execution_count": 49,
   "id": "ff077835",
   "metadata": {
    "scrolled": true
   },
   "outputs": [
    {
     "ename": "TypeError",
     "evalue": "from_dict() got an unexpected keyword argument 'bar'",
     "output_type": "error",
     "traceback": [
      "\u001b[0;31m---------------------------------------------------------------------------\u001b[0m",
      "\u001b[0;31mTypeError\u001b[0m                                 Traceback (most recent call last)",
      "\u001b[0;32m/tmp/ipykernel_397/2886893902.py\u001b[0m in \u001b[0;36m<module>\u001b[0;34m\u001b[0m\n\u001b[0;32m----> 1\u001b[0;31m \u001b[0mpd\u001b[0m\u001b[0;34m.\u001b[0m\u001b[0mDataFrame\u001b[0m\u001b[0;34m.\u001b[0m\u001b[0mfrom_dict\u001b[0m\u001b[0;34m(\u001b[0m\u001b[0;34m{\u001b[0m\u001b[0;34m'a'\u001b[0m\u001b[0;34m:\u001b[0m \u001b[0;34m[\u001b[0m\u001b[0;36m1\u001b[0m\u001b[0;34m]\u001b[0m\u001b[0;34m,\u001b[0m \u001b[0;34m'b'\u001b[0m\u001b[0;34m:\u001b[0m \u001b[0;34m[\u001b[0m\u001b[0;36m2\u001b[0m\u001b[0;34m]\u001b[0m\u001b[0;34m}\u001b[0m\u001b[0;34m,\u001b[0m \u001b[0mbar\u001b[0m\u001b[0;34m=\u001b[0m\u001b[0;36m5\u001b[0m\u001b[0;34m)\u001b[0m\u001b[0;34m\u001b[0m\u001b[0;34m\u001b[0m\u001b[0m\n\u001b[0m",
      "\u001b[0;31mTypeError\u001b[0m: from_dict() got an unexpected keyword argument 'bar'"
     ]
    }
   ],
   "source": [
    "pd.DataFrame.from_dict({'a': [1], 'b': [2]}, bar=5)"
   ]
  },
  {
   "cell_type": "code",
   "execution_count": 25,
   "id": "c8e94ccb",
   "metadata": {},
   "outputs": [],
   "source": [
    "def foo(required, *args, **kwargs):\n",
    "    \"\"\"This is the function docstring\"\"\"\n",
    "    print(required)\n",
    "    if args:\n",
    "        print(args)\n",
    "    if kwargs:\n",
    "        print(kwargs)"
   ]
  },
  {
   "cell_type": "code",
   "execution_count": 22,
   "id": "e4743188",
   "metadata": {
    "scrolled": true
   },
   "outputs": [
    {
     "name": "stdout",
     "output_type": "stream",
     "text": [
      "1\n"
     ]
    }
   ],
   "source": [
    "foo(1)"
   ]
  },
  {
   "cell_type": "code",
   "execution_count": 23,
   "id": "284add39",
   "metadata": {},
   "outputs": [
    {
     "name": "stdout",
     "output_type": "stream",
     "text": [
      "hello\n"
     ]
    }
   ],
   "source": [
    "foo('hello')"
   ]
  },
  {
   "cell_type": "code",
   "execution_count": 26,
   "id": "7fcc5f88",
   "metadata": {},
   "outputs": [
    {
     "name": "stdout",
     "output_type": "stream",
     "text": [
      "1\n",
      "(2,)\n"
     ]
    }
   ],
   "source": [
    "foo(1, 2)"
   ]
  },
  {
   "cell_type": "code",
   "execution_count": 27,
   "id": "68f209c4",
   "metadata": {},
   "outputs": [
    {
     "name": "stdout",
     "output_type": "stream",
     "text": [
      "1\n",
      "(2, 3)\n"
     ]
    }
   ],
   "source": [
    "foo(1,2,3)"
   ]
  },
  {
   "cell_type": "code",
   "execution_count": 28,
   "id": "05c382f8",
   "metadata": {},
   "outputs": [
    {
     "name": "stdout",
     "output_type": "stream",
     "text": [
      "1\n",
      "(2, 3, 'hello')\n"
     ]
    }
   ],
   "source": [
    "foo(1,2,3, 'hello')"
   ]
  },
  {
   "cell_type": "code",
   "execution_count": 51,
   "id": "90ef6816",
   "metadata": {},
   "outputs": [
    {
     "name": "stdout",
     "output_type": "stream",
     "text": [
      "1\n",
      "(2, 3)\n",
      "{'bar': 5}\n"
     ]
    }
   ],
   "source": [
    "foo(1, 2, 3, bar = 5)"
   ]
  },
  {
   "cell_type": "code",
   "execution_count": 30,
   "id": "8e164a96",
   "metadata": {},
   "outputs": [
    {
     "name": "stdout",
     "output_type": "stream",
     "text": [
      "1\n",
      "(2, 3)\n",
      "{'bar': 5, 'test': 'hi'}\n"
     ]
    }
   ],
   "source": [
    "foo(1, 2, 3, bar = 5, test='hi')"
   ]
  },
  {
   "cell_type": "code",
   "execution_count": 37,
   "id": "7844dece",
   "metadata": {},
   "outputs": [],
   "source": [
    "a_list = [1,2,3, {'a':0}]\n",
    "a_dict = {'bar': 5}"
   ]
  },
  {
   "cell_type": "code",
   "execution_count": 32,
   "id": "e469aa3a",
   "metadata": {},
   "outputs": [
    {
     "name": "stdout",
     "output_type": "stream",
     "text": [
      "[1, 2, 3]\n"
     ]
    }
   ],
   "source": [
    "foo(a_list)"
   ]
  },
  {
   "cell_type": "code",
   "execution_count": 38,
   "id": "18bd13cb",
   "metadata": {},
   "outputs": [
    {
     "name": "stdout",
     "output_type": "stream",
     "text": [
      "1\n",
      "(2, 3, {'a': 0})\n"
     ]
    }
   ],
   "source": [
    "foo(*a_list) # foo(1,2,3)"
   ]
  },
  {
   "cell_type": "code",
   "execution_count": 39,
   "id": "a918682f",
   "metadata": {},
   "outputs": [
    {
     "name": "stdout",
     "output_type": "stream",
     "text": [
      "{'bar': 5}\n"
     ]
    }
   ],
   "source": [
    "foo(a_dict)"
   ]
  },
  {
   "cell_type": "code",
   "execution_count": 40,
   "id": "46285819",
   "metadata": {},
   "outputs": [
    {
     "ename": "TypeError",
     "evalue": "foo() missing 1 required positional argument: 'required'",
     "output_type": "error",
     "traceback": [
      "\u001b[0;31m---------------------------------------------------------------------------\u001b[0m",
      "\u001b[0;31mTypeError\u001b[0m                                 Traceback (most recent call last)",
      "\u001b[0;32m/tmp/ipykernel_397/1805218331.py\u001b[0m in \u001b[0;36m<module>\u001b[0;34m\u001b[0m\n\u001b[0;32m----> 1\u001b[0;31m \u001b[0mfoo\u001b[0m\u001b[0;34m(\u001b[0m\u001b[0;34m**\u001b[0m\u001b[0ma_dict\u001b[0m\u001b[0;34m)\u001b[0m\u001b[0;34m\u001b[0m\u001b[0;34m\u001b[0m\u001b[0m\n\u001b[0m",
      "\u001b[0;31mTypeError\u001b[0m: foo() missing 1 required positional argument: 'required'"
     ]
    }
   ],
   "source": [
    "foo(**a_dict) # foo(bar = 5)"
   ]
  },
  {
   "cell_type": "code",
   "execution_count": 41,
   "id": "2a1514bf",
   "metadata": {},
   "outputs": [
    {
     "name": "stdout",
     "output_type": "stream",
     "text": [
      "1\n",
      "{'bar': 5}\n"
     ]
    }
   ],
   "source": [
    "foo(1, **a_dict)"
   ]
  },
  {
   "cell_type": "code",
   "execution_count": 42,
   "id": "b9d7395e",
   "metadata": {
    "scrolled": true
   },
   "outputs": [
    {
     "name": "stdout",
     "output_type": "stream",
     "text": [
      "1\n",
      "(2, 3, {'a': 0})\n",
      "{'bar': 5}\n"
     ]
    }
   ],
   "source": [
    "foo(*a_list, **a_dict)"
   ]
  },
  {
   "cell_type": "code",
   "execution_count": 52,
   "id": "59d65cc8",
   "metadata": {},
   "outputs": [],
   "source": [
    "class Student:\n",
    "    school = 'lewagon'\n",
    "    def __init__(self, name, age):\n",
    "        self.name = name\n",
    "        self.age = age"
   ]
  },
  {
   "cell_type": "code",
   "execution_count": 53,
   "id": "b58d1e10",
   "metadata": {},
   "outputs": [],
   "source": [
    "alice = Student('alice', 20)"
   ]
  },
  {
   "cell_type": "code",
   "execution_count": 54,
   "id": "6f9c4ed0",
   "metadata": {
    "scrolled": true
   },
   "outputs": [
    {
     "data": {
      "text/plain": [
       "{'name': 'alice', 'age': 20}"
      ]
     },
     "execution_count": 54,
     "metadata": {},
     "output_type": "execute_result"
    }
   ],
   "source": [
    "alice.__dict__"
   ]
  },
  {
   "cell_type": "code",
   "execution_count": 55,
   "id": "02da7ceb",
   "metadata": {},
   "outputs": [
    {
     "data": {
      "text/plain": [
       "'lewagon'"
      ]
     },
     "execution_count": 55,
     "metadata": {},
     "output_type": "execute_result"
    }
   ],
   "source": [
    "alice.school"
   ]
  },
  {
   "cell_type": "code",
   "execution_count": 57,
   "id": "e7c8fc74",
   "metadata": {},
   "outputs": [
    {
     "data": {
      "text/plain": [
       "{'a': 1, 'b': 2}"
      ]
     },
     "execution_count": 57,
     "metadata": {},
     "output_type": "execute_result"
    }
   ],
   "source": [
    "d = {'a':1, 'b':2}\n",
    "d"
   ]
  },
  {
   "cell_type": "code",
   "execution_count": 58,
   "id": "57870415",
   "metadata": {},
   "outputs": [
    {
     "data": {
      "text/plain": [
       "{'a': 1, 'b': 2, 'c': 3}"
      ]
     },
     "execution_count": 58,
     "metadata": {},
     "output_type": "execute_result"
    }
   ],
   "source": [
    "d.update(c=3)\n",
    "d"
   ]
  },
  {
   "cell_type": "code",
   "execution_count": 59,
   "id": "ce2776ec",
   "metadata": {},
   "outputs": [],
   "source": [
    "# Student class with allowed optional attributes\n",
    "class Student:\n",
    "    school = 'lewagon'\n",
    "\n",
    "    def __init__(self, name, age, **kwargs):\n",
    "        self.name = name\n",
    "        self.age = age\n",
    "        self.course = None        # new students have not chosen a course yet!\n",
    "\n",
    "        self.__dict__.update(**kwargs)"
   ]
  },
  {
   "cell_type": "code",
   "execution_count": 60,
   "id": "562bee62",
   "metadata": {},
   "outputs": [
    {
     "data": {
      "text/plain": [
       "'french'"
      ]
     },
     "execution_count": 60,
     "metadata": {},
     "output_type": "execute_result"
    }
   ],
   "source": [
    "alice = Student('alice', 20, nationality='french')\n",
    "alice.nationality"
   ]
  },
  {
   "cell_type": "code",
   "execution_count": 61,
   "id": "ab0e3da8",
   "metadata": {},
   "outputs": [
    {
     "data": {
      "text/plain": [
       "{'name': 'alice', 'age': 20, 'course': None, 'nationality': 'french'}"
      ]
     },
     "execution_count": 61,
     "metadata": {},
     "output_type": "execute_result"
    }
   ],
   "source": [
    "alice.__dict__"
   ]
  },
  {
   "cell_type": "code",
   "execution_count": 62,
   "id": "abe5058e",
   "metadata": {},
   "outputs": [
    {
     "data": {
      "text/plain": [
       "{'name': 'alice',\n",
       " 'age': 20,\n",
       " 'course': None,\n",
       " 'nationality': 'french',\n",
       " 'bar': 5,\n",
       " 'test': [1, 2, 3]}"
      ]
     },
     "execution_count": 62,
     "metadata": {},
     "output_type": "execute_result"
    }
   ],
   "source": [
    "alice = Student('alice', 20, nationality='french', bar = 5, test=[1,2,3])\n",
    "alice.__dict__"
   ]
  },
  {
   "cell_type": "markdown",
   "id": "0e33b952",
   "metadata": {},
   "source": [
    "## Typing Hints"
   ]
  },
  {
   "cell_type": "code",
   "execution_count": 70,
   "id": "051e2456",
   "metadata": {},
   "outputs": [
    {
     "data": {
      "text/plain": [
       "'alice says Hi!'"
      ]
     },
     "execution_count": 70,
     "metadata": {},
     "output_type": "execute_result"
    }
   ],
   "source": [
    "def say_hi(name: str) -> str:\n",
    "    '''The name will say hi'''\n",
    "    return name + ' says Hi!'\n",
    "\n",
    "say_hi('alice')"
   ]
  },
  {
   "cell_type": "markdown",
   "id": "676d5f0d",
   "metadata": {},
   "source": [
    "## Interactive Tools"
   ]
  },
  {
   "cell_type": "code",
   "execution_count": 71,
   "id": "d2338ca9",
   "metadata": {},
   "outputs": [
    {
     "data": {
      "text/html": [
       "\n",
       "        <iframe\n",
       "            width=\"560\"\n",
       "            height=\"315\"\n",
       "            src=\"http://www.youtube.com/embed/8QiPFmIMxFc?t=388\"\n",
       "            frameborder=\"0\"\n",
       "            allowfullscreen\n",
       "            \n",
       "        ></iframe>\n",
       "        "
      ],
      "text/plain": [
       "<IPython.lib.display.IFrame at 0x7fd20119fb80>"
      ]
     },
     "execution_count": 71,
     "metadata": {},
     "output_type": "execute_result"
    }
   ],
   "source": [
    "# start at 6min30, stops at 9min17\n",
    "from IPython.display import HTML, IFrame\n",
    "IFrame(\"http://www.youtube.com/embed/8QiPFmIMxFc?t=388\", width=\"560\", height=\"315\")"
   ]
  },
  {
   "cell_type": "markdown",
   "id": "2b7ace56",
   "metadata": {},
   "source": [
    "**ipywidgets**"
   ]
  },
  {
   "cell_type": "code",
   "execution_count": 72,
   "id": "b8c7634b",
   "metadata": {
    "scrolled": true
   },
   "outputs": [
    {
     "data": {
      "image/png": "[encoded data removed]",
      "text/plain": [
       "<Figure size 432x288 with 1 Axes>"
      ]
     },
     "metadata": {
      "needs_background": "light"
     },
     "output_type": "display_data"
    }
   ],
   "source": [
    "def plot_polynom(a=[0,1,2,3], b=2):\n",
    "    x = np.arange(-10, 10, 0.1)\n",
    "    y = a*x**3+ b*x**2    \n",
    "    plt.plot(x,y); plt.xlim(xmin=-10, xmax=10); plt.ylim(ymin=-100, ymax=100)\n",
    "    \n",
    "plot_polynom(a=2, b=3)"
   ]
  },
  {
   "cell_type": "code",
   "execution_count": 7,
   "id": "8e628628",
   "metadata": {},
   "outputs": [
    {
     "data": {
      "application/vnd.jupyter.widget-view+json": {
       "model_id": "7f8bf067ad7249a0baaa39a16dc11051",
       "version_major": 2,
       "version_minor": 0
      },
      "text/plain": [
       "interactive(children=(Dropdown(description='a', options=(0, 2, 4, 6, 8, 10), value=0), IntSlider(value=2, desc…"
      ]
     },
     "metadata": {},
     "output_type": "display_data"
    }
   ],
   "source": [
    "from ipywidgets import interact\n",
    "\n",
    "@interact\n",
    "def plot_polynom(a=[0,1,2,3], b=2, grid=False):\n",
    "    x = np.arange(-10, 10, 0.1)\n",
    "    y = a*x**3+ b*x**2    \n",
    "    plt.plot(x,y); plt.xlim(xmin=-10, xmax=10); plt.ylim(ymin=-100, ymax=100); \n",
    "    if grid:\n",
    "        plt.grid();"
   ]
  },
  {
   "cell_type": "markdown",
   "id": "9235eeda",
   "metadata": {},
   "source": [
    "🤔Python decorators @"
   ]
  },
  {
   "cell_type": "code",
   "execution_count": 78,
   "id": "517f7c6c",
   "metadata": {},
   "outputs": [
    {
     "name": "stdout",
     "output_type": "stream",
     "text": [
      "I'm before the method call\n",
      "hi!\n",
      "I'm after the method call\n"
     ]
    }
   ],
   "source": [
    "def my_decorator(func):\n",
    "    def wrapper():\n",
    "        print(\"I'm before the method call\")\n",
    "        func()\n",
    "        print(\"I'm after the method call\")\n",
    "    return wrapper\n",
    "\n",
    "def say():\n",
    "    print(\"hi!\")\n",
    "    \n",
    "say = my_decorator(say)\n",
    "\n",
    "say()"
   ]
  },
  {
   "cell_type": "code",
   "execution_count": 79,
   "id": "2361548c",
   "metadata": {},
   "outputs": [
    {
     "name": "stdout",
     "output_type": "stream",
     "text": [
      "I'm before the method call\n",
      "hi!\n",
      "I'm after the method call\n"
     ]
    }
   ],
   "source": [
    "@my_decorator\n",
    "def say():\n",
    "    print(\"hi!\")\n",
    "    \n",
    "say()"
   ]
  },
  {
   "cell_type": "markdown",
   "id": "3c206596",
   "metadata": {},
   "source": [
    "$f(x) = a*x$ 😁"
   ]
  }
 ],
 "metadata": {
  "celltoolbar": "Slideshow",
  "kernelspec": {
   "display_name": "Python 3 (ipykernel)",
   "language": "python",
   "name": "python3"
  },
  "language_info": {
   "codemirror_mode": {
    "name": "ipython",
    "version": 3
   },
   "file_extension": ".py",
   "mimetype": "text/x-python",
   "name": "python",
   "nbconvert_exporter": "python",
   "pygments_lexer": "ipython3",
   "version": "3.8.12"
  },
  "toc": {
   "base_numbering": 1,
   "nav_menu": {},
   "number_sections": true,
   "sideBar": true,
   "skip_h1_title": false,
   "title_cell": "Table of Contents",
   "title_sidebar": "Contents",
   "toc_cell": false,
   "toc_position": {},
   "toc_section_display": true,
   "toc_window_display": false
  }
 },
 "nbformat": 4,
 "nbformat_minor": 5
}
